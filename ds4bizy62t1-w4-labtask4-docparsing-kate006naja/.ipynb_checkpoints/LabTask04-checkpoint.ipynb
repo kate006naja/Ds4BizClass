{
 "cells": [
  {
   "cell_type": "markdown",
   "metadata": {},
   "source": [
    "## Lab Task 04: Data Visualization on book catalogue¶¶\n",
    "Term 1 2019 - Instructors: Teerapong Leelanupab\n",
    "\n",
    "Teaching Assistant: Suttida Satjasunsern"
   ]
  },
  {
   "cell_type": "markdown",
   "metadata": {},
   "source": [
    "Step 1. \n",
    "Load the book catalogue dataset *book-catalogue.csv* into a Pandas DataFrame, and set the row index of the DataFrame to be the title of the books."
   ]
  },
  {
   "cell_type": "code",
   "execution_count": 5,
   "metadata": {},
   "outputs": [
    {
     "data": {
      "text/html": [
       "<div>\n",
       "<style scoped>\n",
       "    .dataframe tbody tr th:only-of-type {\n",
       "        vertical-align: middle;\n",
       "    }\n",
       "\n",
       "    .dataframe tbody tr th {\n",
       "        vertical-align: top;\n",
       "    }\n",
       "\n",
       "    .dataframe thead th {\n",
       "        text-align: right;\n",
       "    }\n",
       "</style>\n",
       "<table border=\"1\" class=\"dataframe\">\n",
       "  <thead>\n",
       "    <tr style=\"text-align: right;\">\n",
       "      <th></th>\n",
       "      <th>title</th>\n",
       "      <th>author</th>\n",
       "      <th>author_gender</th>\n",
       "      <th>author_nationality</th>\n",
       "      <th>year</th>\n",
       "      <th>num_chapters</th>\n",
       "      <th>num_characters</th>\n",
       "      <th>num_words</th>\n",
       "    </tr>\n",
       "  </thead>\n",
       "  <tbody>\n",
       "    <tr>\n",
       "      <th>0</th>\n",
       "      <td>Belinda</td>\n",
       "      <td>Maria Edgeworth</td>\n",
       "      <td>Female</td>\n",
       "      <td>Irish</td>\n",
       "      <td>1800</td>\n",
       "      <td>31</td>\n",
       "      <td>182</td>\n",
       "      <td>173195</td>\n",
       "    </tr>\n",
       "    <tr>\n",
       "      <th>1</th>\n",
       "      <td>Castle Rackrent</td>\n",
       "      <td>Maria Edgeworth</td>\n",
       "      <td>Female</td>\n",
       "      <td>Irish</td>\n",
       "      <td>1800</td>\n",
       "      <td>9</td>\n",
       "      <td>78</td>\n",
       "      <td>27678</td>\n",
       "    </tr>\n",
       "    <tr>\n",
       "      <th>2</th>\n",
       "      <td>Ennui</td>\n",
       "      <td>Maria Edgeworth</td>\n",
       "      <td>Female</td>\n",
       "      <td>Irish</td>\n",
       "      <td>1809</td>\n",
       "      <td>22</td>\n",
       "      <td>289</td>\n",
       "      <td>74454</td>\n",
       "    </tr>\n",
       "    <tr>\n",
       "      <th>3</th>\n",
       "      <td>Sense and Sensibility</td>\n",
       "      <td>Jane Austen</td>\n",
       "      <td>Female</td>\n",
       "      <td>British</td>\n",
       "      <td>1811</td>\n",
       "      <td>50</td>\n",
       "      <td>158</td>\n",
       "      <td>123774</td>\n",
       "    </tr>\n",
       "    <tr>\n",
       "      <th>4</th>\n",
       "      <td>The Absentee</td>\n",
       "      <td>Maria Edgeworth</td>\n",
       "      <td>Female</td>\n",
       "      <td>Irish</td>\n",
       "      <td>1812</td>\n",
       "      <td>17</td>\n",
       "      <td>275</td>\n",
       "      <td>99608</td>\n",
       "    </tr>\n",
       "  </tbody>\n",
       "</table>\n",
       "</div>"
      ],
      "text/plain": [
       "                   title           author author_gender author_nationality  \\\n",
       "0                Belinda  Maria Edgeworth        Female              Irish   \n",
       "1        Castle Rackrent  Maria Edgeworth        Female              Irish   \n",
       "2                  Ennui  Maria Edgeworth        Female              Irish   \n",
       "3  Sense and Sensibility      Jane Austen        Female            British   \n",
       "4           The Absentee  Maria Edgeworth        Female              Irish   \n",
       "\n",
       "   year  num_chapters  num_characters  num_words  \n",
       "0  1800            31             182     173195  \n",
       "1  1800             9              78      27678  \n",
       "2  1809            22             289      74454  \n",
       "3  1811            50             158     123774  \n",
       "4  1812            17             275      99608  "
      ]
     },
     "execution_count": 5,
     "metadata": {},
     "output_type": "execute_result"
    }
   ],
   "source": [
    "import pandas as pd\n",
    "import matplotlib\n",
    "%matplotlib inline\n",
    "book = pd.read_csv(\"C:/Users/theka/OneDrive/desktop/DS4Biz/ds4bizy62t1-w4-labtask4-docparsing-kate006naja/labtask04-data/book-catalogue.csv\")\n",
    "book.head()"
   ]
  },
  {
   "cell_type": "markdown",
   "metadata": {},
   "source": [
    "Step 2. Plot (i) the number of chapters against the number of characters; (ii) the number of chapters against the number of words. \n",
    "\n",
    "Do the plots suggest a correlation in either case?"
   ]
  },
  {
   "cell_type": "code",
   "execution_count": 10,
   "metadata": {},
   "outputs": [
    {
     "data": {
      "text/plain": [
       "<matplotlib.axes._subplots.AxesSubplot at 0x204cb549470>"
      ]
     },
     "execution_count": 10,
     "metadata": {},
     "output_type": "execute_result"
    },
    {
     "data": {
      "image/png": "[encoded data removed]",
      "text/plain": [
       "<Figure size 432x288 with 1 Axes>"
      ]
     },
     "metadata": {
      "needs_background": "light"
     },
     "output_type": "display_data"
    },
    {
     "data": {
      "image/png": "[encoded data removed]",
      "text/plain": [
       "<Figure size 432x288 with 1 Axes>"
      ]
     },
     "metadata": {
      "needs_background": "light"
     },
     "output_type": "display_data"
    }
   ],
   "source": [
    "# (i)\n",
    "book.plot(kind=\"scatter\",title=\"chapters and characters\", x=\"num_chapters\", y=\"num_characters\")\n",
    "# (ii)\n",
    "book.plot(kind=\"scatter\",title=\"chapters and words\", x=\"num_chapters\", y=\"num_words\")"
   ]
  },
  {
   "cell_type": "markdown",
   "metadata": {},
   "source": [
    "Step 3. Plot (i) the proportion of male and female authors; (ii) the proportion of Irish and British authors."
   ]
  },
  {
   "cell_type": "code",
   "execution_count": 32,
   "metadata": {
    "scrolled": true
   },
   "outputs": [
    {
     "data": {
      "text/plain": [
       "<matplotlib.axes._subplots.AxesSubplot at 0x204d60d42e8>"
      ]
     },
     "execution_count": 32,
     "metadata": {},
     "output_type": "execute_result"
    },
    {
     "data": {
      "image/png": "[encoded data removed]",
      "text/plain": [
       "<Figure size 432x288 with 1 Axes>"
      ]
     },
     "metadata": {},
     "output_type": "display_data"
    }
   ],
   "source": [
    "# i\n",
    "gender_counts = book[\"author_gender\"].value_counts() # gender counts\n",
    "gender_counts.plot(kind=\"pie\", title=\"Propotion of Author Gender\", autopct=\"%.2f\")"
   ]
  },
  {
   "cell_type": "code",
   "execution_count": 31,
   "metadata": {},
   "outputs": [
    {
     "data": {
      "text/plain": [
       "<matplotlib.axes._subplots.AxesSubplot at 0x204d609a9e8>"
      ]
     },
     "execution_count": 31,
     "metadata": {},
     "output_type": "execute_result"
    },
    {
     "data": {
      "image/png": "[encoded data removed]",
      "text/plain": [
       "<Figure size 432x288 with 1 Axes>"
      ]
     },
     "metadata": {},
     "output_type": "display_data"
    }
   ],
   "source": [
    "# ii\n",
    "nation_counts = book[\"author_nationality\"].value_counts() # gender counts\n",
    "nation_counts.plot(kind=\"pie\", title=\"Proportion of Author Nationality\", autopct=\"%.2f\")"
   ]
  },
  {
   "cell_type": "markdown",
   "metadata": {},
   "source": [
    "Step 4. Plot the number of books per decade in the catalogue. Save this plot to a PNG file."
   ]
  },
  {
   "cell_type": "code",
   "execution_count": 67,
   "metadata": {
    "scrolled": true
   },
   "outputs": [],
   "source": [
    "new_book = book.groupby('year').count()\n",
    "new_book['decade'] = new_book.index//10\n",
    "new_book = new_book.groupby(\"decade\").sum()"
   ]
  },
  {
   "cell_type": "code",
   "execution_count": 77,
   "metadata": {},
   "outputs": [
    {
     "data": {
      "text/html": [
       "<div>\n",
       "<style scoped>\n",
       "    .dataframe tbody tr th:only-of-type {\n",
       "        vertical-align: middle;\n",
       "    }\n",
       "\n",
       "    .dataframe tbody tr th {\n",
       "        vertical-align: top;\n",
       "    }\n",
       "\n",
       "    .dataframe thead th {\n",
       "        text-align: right;\n",
       "    }\n",
       "</style>\n",
       "<table border=\"1\" class=\"dataframe\">\n",
       "  <thead>\n",
       "    <tr style=\"text-align: right;\">\n",
       "      <th></th>\n",
       "      <th>author</th>\n",
       "      <th>author_gender</th>\n",
       "      <th>author_nationality</th>\n",
       "      <th>num_chapters</th>\n",
       "      <th>num_characters</th>\n",
       "      <th>num_words</th>\n",
       "    </tr>\n",
       "    <tr>\n",
       "      <th>decade</th>\n",
       "      <th></th>\n",
       "      <th></th>\n",
       "      <th></th>\n",
       "      <th></th>\n",
       "      <th></th>\n",
       "      <th></th>\n",
       "    </tr>\n",
       "  </thead>\n",
       "  <tbody>\n",
       "    <tr>\n",
       "      <th>1800.0</th>\n",
       "      <td>3</td>\n",
       "      <td>3</td>\n",
       "      <td>3</td>\n",
       "      <td>3</td>\n",
       "      <td>3</td>\n",
       "      <td>3</td>\n",
       "    </tr>\n",
       "    <tr>\n",
       "      <th>1810.0</th>\n",
       "      <td>10</td>\n",
       "      <td>10</td>\n",
       "      <td>10</td>\n",
       "      <td>10</td>\n",
       "      <td>10</td>\n",
       "      <td>10</td>\n",
       "    </tr>\n",
       "    <tr>\n",
       "      <th>1820.0</th>\n",
       "      <td>1</td>\n",
       "      <td>1</td>\n",
       "      <td>1</td>\n",
       "      <td>1</td>\n",
       "      <td>1</td>\n",
       "      <td>1</td>\n",
       "    </tr>\n",
       "    <tr>\n",
       "      <th>1830.0</th>\n",
       "      <td>1</td>\n",
       "      <td>1</td>\n",
       "      <td>1</td>\n",
       "      <td>1</td>\n",
       "      <td>1</td>\n",
       "      <td>1</td>\n",
       "    </tr>\n",
       "    <tr>\n",
       "      <th>1840.0</th>\n",
       "      <td>4</td>\n",
       "      <td>4</td>\n",
       "      <td>4</td>\n",
       "      <td>4</td>\n",
       "      <td>4</td>\n",
       "      <td>4</td>\n",
       "    </tr>\n",
       "    <tr>\n",
       "      <th>1850.0</th>\n",
       "      <td>2</td>\n",
       "      <td>2</td>\n",
       "      <td>2</td>\n",
       "      <td>2</td>\n",
       "      <td>2</td>\n",
       "      <td>2</td>\n",
       "    </tr>\n",
       "    <tr>\n",
       "      <th>1860.0</th>\n",
       "      <td>6</td>\n",
       "      <td>6</td>\n",
       "      <td>6</td>\n",
       "      <td>6</td>\n",
       "      <td>6</td>\n",
       "      <td>6</td>\n",
       "    </tr>\n",
       "    <tr>\n",
       "      <th>1870.0</th>\n",
       "      <td>3</td>\n",
       "      <td>3</td>\n",
       "      <td>3</td>\n",
       "      <td>3</td>\n",
       "      <td>3</td>\n",
       "      <td>3</td>\n",
       "    </tr>\n",
       "    <tr>\n",
       "      <th>1880.0</th>\n",
       "      <td>4</td>\n",
       "      <td>4</td>\n",
       "      <td>4</td>\n",
       "      <td>4</td>\n",
       "      <td>4</td>\n",
       "      <td>4</td>\n",
       "    </tr>\n",
       "    <tr>\n",
       "      <th>1890.0</th>\n",
       "      <td>9</td>\n",
       "      <td>9</td>\n",
       "      <td>9</td>\n",
       "      <td>9</td>\n",
       "      <td>9</td>\n",
       "      <td>9</td>\n",
       "    </tr>\n",
       "    <tr>\n",
       "      <th>1900.0</th>\n",
       "      <td>2</td>\n",
       "      <td>2</td>\n",
       "      <td>2</td>\n",
       "      <td>2</td>\n",
       "      <td>2</td>\n",
       "      <td>2</td>\n",
       "    </tr>\n",
       "    <tr>\n",
       "      <th>1910.0</th>\n",
       "      <td>2</td>\n",
       "      <td>2</td>\n",
       "      <td>2</td>\n",
       "      <td>2</td>\n",
       "      <td>2</td>\n",
       "      <td>2</td>\n",
       "    </tr>\n",
       "    <tr>\n",
       "      <th>1920.0</th>\n",
       "      <td>1</td>\n",
       "      <td>1</td>\n",
       "      <td>1</td>\n",
       "      <td>1</td>\n",
       "      <td>1</td>\n",
       "      <td>1</td>\n",
       "    </tr>\n",
       "  </tbody>\n",
       "</table>\n",
       "</div>"
      ],
      "text/plain": [
       "        author  author_gender  author_nationality  num_chapters  \\\n",
       "decade                                                            \n",
       "1800.0       3              3                   3             3   \n",
       "1810.0      10             10                  10            10   \n",
       "1820.0       1              1                   1             1   \n",
       "1830.0       1              1                   1             1   \n",
       "1840.0       4              4                   4             4   \n",
       "1850.0       2              2                   2             2   \n",
       "1860.0       6              6                   6             6   \n",
       "1870.0       3              3                   3             3   \n",
       "1880.0       4              4                   4             4   \n",
       "1890.0       9              9                   9             9   \n",
       "1900.0       2              2                   2             2   \n",
       "1910.0       2              2                   2             2   \n",
       "1920.0       1              1                   1             1   \n",
       "\n",
       "        num_characters  num_words  \n",
       "decade                             \n",
       "1800.0               3          3  \n",
       "1810.0              10         10  \n",
       "1820.0               1          1  \n",
       "1830.0               1          1  \n",
       "1840.0               4          4  \n",
       "1850.0               2          2  \n",
       "1860.0               6          6  \n",
       "1870.0               3          3  \n",
       "1880.0               4          4  \n",
       "1890.0               9          9  \n",
       "1900.0               2          2  \n",
       "1910.0               2          2  \n",
       "1920.0               1          1  "
      ]
     },
     "execution_count": 77,
     "metadata": {},
     "output_type": "execute_result"
    }
   ],
   "source": [
    "new_book.index = new_book.index*10\n",
    "new_book"
   ]
  },
  {
   "cell_type": "code",
   "execution_count": 78,
   "metadata": {},
   "outputs": [
    {
     "data": {
      "image/png": "[encoded data removed]",
      "text/plain": [
       "<Figure size 432x288 with 1 Axes>"
      ]
     },
     "metadata": {
      "needs_background": "light"
     },
     "output_type": "display_data"
    }
   ],
   "source": [
    "myplot = new_book[\"author\"].plot(kind=\"bar\")\n",
    "fig = myplot.get_figure()\n",
    "fig.savefig(\"decade.png\")"
   ]
  },
  {
   "cell_type": "code",
   "execution_count": null,
   "metadata": {},
   "outputs": [],
   "source": []
  }
 ],
 "metadata": {
  "kernelspec": {
   "display_name": "Python 3",
   "language": "python",
   "name": "python3"
  },
  "language_info": {
   "codemirror_mode": {
    "name": "ipython",
    "version": 3
   },
   "file_extension": ".py",
   "mimetype": "text/x-python",
   "name": "python",
   "nbconvert_exporter": "python",
   "pygments_lexer": "ipython3",
   "version": "3.7.3"
  }
 },
 "nbformat": 4,
 "nbformat_minor": 1
}
