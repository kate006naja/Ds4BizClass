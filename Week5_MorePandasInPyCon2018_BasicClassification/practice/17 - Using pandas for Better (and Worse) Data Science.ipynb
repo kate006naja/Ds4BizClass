{
 "cells": [
  {
   "cell_type": "markdown",
   "metadata": {},
   "source": [
    "# PyCon 2018: Using pandas for Better (and Worse) Data Science\n",
    "\n",
    "### GitHub repository: https://github.com/justmarkham/pycon-2018-tutorial\n",
    "\n",
    "### Instructor: Kevin Markham\n",
    "\n",
    "- GitHub: https://github.com/justmarkham\n",
    "- Twitter: https://twitter.com/justmarkham\n",
    "- YouTube: https://www.youtube.com/dataschool\n",
    "- Website: http://www.dataschool.io"
   ]
  },
  {
   "cell_type": "code",
   "execution_count": 3,
   "metadata": {},
   "outputs": [
    {
     "data": {
      "text/plain": [
       "'0.24.2'"
      ]
     },
     "execution_count": 3,
     "metadata": {},
     "output_type": "execute_result"
    }
   ],
   "source": [
    "import pandas as pd\n",
    "pd.__version__"
   ]
  },
  {
   "cell_type": "code",
   "execution_count": 4,
   "metadata": {},
   "outputs": [],
   "source": [
    "import matplotlib.pyplot as plt\n",
    "%matplotlib inline"
   ]
  },
  {
   "cell_type": "markdown",
   "metadata": {},
   "source": [
    "# Dataset: Stanford Open Policing Project  ([video](https://www.youtube.com/watch?v=hl-TGI4550M&list=PL5-da3qGB5IBITZj_dYSFqnd_15JgqwA6&index=1))\n",
    "\n",
    "https://openpolicing.stanford.edu/"
   ]
  },
  {
   "cell_type": "code",
   "execution_count": 5,
   "metadata": {},
   "outputs": [],
   "source": [
    "# ri stands for Rhode Island\n",
    "ri = pd.read_csv('data/police.csv')"
   ]
  },
  {
   "cell_type": "code",
   "execution_count": 6,
   "metadata": {},
   "outputs": [
    {
     "data": {
      "text/html": [
       "<div>\n",
       "<style scoped>\n",
       "    .dataframe tbody tr th:only-of-type {\n",
       "        vertical-align: middle;\n",
       "    }\n",
       "\n",
       "    .dataframe tbody tr th {\n",
       "        vertical-align: top;\n",
       "    }\n",
       "\n",
       "    .dataframe thead th {\n",
       "        text-align: right;\n",
       "    }\n",
       "</style>\n",
       "<table border=\"1\" class=\"dataframe\">\n",
       "  <thead>\n",
       "    <tr style=\"text-align: right;\">\n",
       "      <th></th>\n",
       "      <th>stop_date</th>\n",
       "      <th>stop_time</th>\n",
       "      <th>county_name</th>\n",
       "      <th>driver_gender</th>\n",
       "      <th>driver_age_raw</th>\n",
       "      <th>driver_age</th>\n",
       "      <th>driver_race</th>\n",
       "      <th>violation_raw</th>\n",
       "      <th>violation</th>\n",
       "      <th>search_conducted</th>\n",
       "      <th>search_type</th>\n",
       "      <th>stop_outcome</th>\n",
       "      <th>is_arrested</th>\n",
       "      <th>stop_duration</th>\n",
       "      <th>drugs_related_stop</th>\n",
       "    </tr>\n",
       "  </thead>\n",
       "  <tbody>\n",
       "    <tr>\n",
       "      <th>0</th>\n",
       "      <td>2005-01-02</td>\n",
       "      <td>01:55</td>\n",
       "      <td>NaN</td>\n",
       "      <td>M</td>\n",
       "      <td>1985.0</td>\n",
       "      <td>20.0</td>\n",
       "      <td>White</td>\n",
       "      <td>Speeding</td>\n",
       "      <td>Speeding</td>\n",
       "      <td>False</td>\n",
       "      <td>NaN</td>\n",
       "      <td>Citation</td>\n",
       "      <td>False</td>\n",
       "      <td>0-15 Min</td>\n",
       "      <td>False</td>\n",
       "    </tr>\n",
       "    <tr>\n",
       "      <th>1</th>\n",
       "      <td>2005-01-18</td>\n",
       "      <td>08:15</td>\n",
       "      <td>NaN</td>\n",
       "      <td>M</td>\n",
       "      <td>1965.0</td>\n",
       "      <td>40.0</td>\n",
       "      <td>White</td>\n",
       "      <td>Speeding</td>\n",
       "      <td>Speeding</td>\n",
       "      <td>False</td>\n",
       "      <td>NaN</td>\n",
       "      <td>Citation</td>\n",
       "      <td>False</td>\n",
       "      <td>0-15 Min</td>\n",
       "      <td>False</td>\n",
       "    </tr>\n",
       "    <tr>\n",
       "      <th>2</th>\n",
       "      <td>2005-01-23</td>\n",
       "      <td>23:15</td>\n",
       "      <td>NaN</td>\n",
       "      <td>M</td>\n",
       "      <td>1972.0</td>\n",
       "      <td>33.0</td>\n",
       "      <td>White</td>\n",
       "      <td>Speeding</td>\n",
       "      <td>Speeding</td>\n",
       "      <td>False</td>\n",
       "      <td>NaN</td>\n",
       "      <td>Citation</td>\n",
       "      <td>False</td>\n",
       "      <td>0-15 Min</td>\n",
       "      <td>False</td>\n",
       "    </tr>\n",
       "    <tr>\n",
       "      <th>3</th>\n",
       "      <td>2005-02-20</td>\n",
       "      <td>17:15</td>\n",
       "      <td>NaN</td>\n",
       "      <td>M</td>\n",
       "      <td>1986.0</td>\n",
       "      <td>19.0</td>\n",
       "      <td>White</td>\n",
       "      <td>Call for Service</td>\n",
       "      <td>Other</td>\n",
       "      <td>False</td>\n",
       "      <td>NaN</td>\n",
       "      <td>Arrest Driver</td>\n",
       "      <td>True</td>\n",
       "      <td>16-30 Min</td>\n",
       "      <td>False</td>\n",
       "    </tr>\n",
       "    <tr>\n",
       "      <th>4</th>\n",
       "      <td>2005-03-14</td>\n",
       "      <td>10:00</td>\n",
       "      <td>NaN</td>\n",
       "      <td>F</td>\n",
       "      <td>1984.0</td>\n",
       "      <td>21.0</td>\n",
       "      <td>White</td>\n",
       "      <td>Speeding</td>\n",
       "      <td>Speeding</td>\n",
       "      <td>False</td>\n",
       "      <td>NaN</td>\n",
       "      <td>Citation</td>\n",
       "      <td>False</td>\n",
       "      <td>0-15 Min</td>\n",
       "      <td>False</td>\n",
       "    </tr>\n",
       "  </tbody>\n",
       "</table>\n",
       "</div>"
      ],
      "text/plain": [
       "    stop_date stop_time  county_name driver_gender  driver_age_raw  \\\n",
       "0  2005-01-02     01:55          NaN             M          1985.0   \n",
       "1  2005-01-18     08:15          NaN             M          1965.0   \n",
       "2  2005-01-23     23:15          NaN             M          1972.0   \n",
       "3  2005-02-20     17:15          NaN             M          1986.0   \n",
       "4  2005-03-14     10:00          NaN             F          1984.0   \n",
       "\n",
       "   driver_age driver_race     violation_raw violation  search_conducted  \\\n",
       "0        20.0       White          Speeding  Speeding             False   \n",
       "1        40.0       White          Speeding  Speeding             False   \n",
       "2        33.0       White          Speeding  Speeding             False   \n",
       "3        19.0       White  Call for Service     Other             False   \n",
       "4        21.0       White          Speeding  Speeding             False   \n",
       "\n",
       "  search_type   stop_outcome is_arrested stop_duration  drugs_related_stop  \n",
       "0         NaN       Citation       False      0-15 Min               False  \n",
       "1         NaN       Citation       False      0-15 Min               False  \n",
       "2         NaN       Citation       False      0-15 Min               False  \n",
       "3         NaN  Arrest Driver        True     16-30 Min               False  \n",
       "4         NaN       Citation       False      0-15 Min               False  "
      ]
     },
     "execution_count": 6,
     "metadata": {},
     "output_type": "execute_result"
    }
   ],
   "source": [
    "# what does each row represent?\n",
    "ri.head()"
   ]
  },
  {
   "cell_type": "code",
   "execution_count": 7,
   "metadata": {},
   "outputs": [
    {
     "data": {
      "text/plain": [
       "(91741, 15)"
      ]
     },
     "execution_count": 7,
     "metadata": {},
     "output_type": "execute_result"
    }
   ],
   "source": [
    "# what do these numbers mean?\n",
    "ri.shape"
   ]
  },
  {
   "cell_type": "code",
   "execution_count": 8,
   "metadata": {},
   "outputs": [
    {
     "data": {
      "text/plain": [
       "stop_date              object\n",
       "stop_time              object\n",
       "county_name           float64\n",
       "driver_gender          object\n",
       "driver_age_raw        float64\n",
       "driver_age            float64\n",
       "driver_race            object\n",
       "violation_raw          object\n",
       "violation              object\n",
       "search_conducted         bool\n",
       "search_type            object\n",
       "stop_outcome           object\n",
       "is_arrested            object\n",
       "stop_duration          object\n",
       "drugs_related_stop       bool\n",
       "dtype: object"
      ]
     },
     "execution_count": 8,
     "metadata": {},
     "output_type": "execute_result"
    }
   ],
   "source": [
    "# what do these types mean?\n",
    "ri.dtypes"
   ]
  },
  {
   "cell_type": "markdown",
   "metadata": {},
   "source": [
    "- What does NaN mean?\n",
    "- Why might a value be missing?\n",
    "- Why mark it as NaN? Why not mark it as a 0 or an empty string or a string saying \"Unknown\"?"
   ]
  },
  {
   "cell_type": "code",
   "execution_count": 9,
   "metadata": {},
   "outputs": [
    {
     "data": {
      "text/plain": [
       "stop_date                 0\n",
       "stop_time                 0\n",
       "county_name           91741\n",
       "driver_gender          5335\n",
       "driver_age_raw         5327\n",
       "driver_age             5621\n",
       "driver_race            5333\n",
       "violation_raw          5333\n",
       "violation              5333\n",
       "search_conducted          0\n",
       "search_type           88545\n",
       "stop_outcome           5333\n",
       "is_arrested            5333\n",
       "stop_duration          5333\n",
       "drugs_related_stop        0\n",
       "dtype: int64"
      ]
     },
     "execution_count": 9,
     "metadata": {},
     "output_type": "execute_result"
    }
   ],
   "source": [
    "# what are these counts? how does this work?\n",
    "ri.isnull().sum()"
   ]
  },
  {
   "cell_type": "code",
   "execution_count": 10,
   "metadata": {},
   "outputs": [
    {
     "data": {
      "text/plain": [
       "True"
      ]
     },
     "execution_count": 10,
     "metadata": {},
     "output_type": "execute_result"
    }
   ],
   "source": [
    "(True == 1) and (False == 0)"
   ]
  },
  {
   "cell_type": "markdown",
   "metadata": {},
   "source": [
    "## 1. Remove the column that only contains missing values ([video](https://www.youtube.com/watch?v=TW5RqdDBasg&list=PL5-da3qGB5IBITZj_dYSFqnd_15JgqwA6&index=2))"
   ]
  },
  {
   "cell_type": "code",
   "execution_count": 11,
   "metadata": {
    "scrolled": true
   },
   "outputs": [],
   "source": [
    "# axis=1 also works, inplace is False by default, inplace=True avoids assignment statement\n",
    "# inplacce คือไม่ต้องมาโยน = ใส่ลงไป ก็คือ แทน ri ไปเลย\n",
    "ri.drop('county_name', axis='columns', inplace=True)"
   ]
  },
  {
   "cell_type": "code",
   "execution_count": 12,
   "metadata": {},
   "outputs": [
    {
     "data": {
      "text/plain": [
       "(91741, 14)"
      ]
     },
     "execution_count": 12,
     "metadata": {},
     "output_type": "execute_result"
    }
   ],
   "source": [
    "ri.shape"
   ]
  },
  {
   "cell_type": "code",
   "execution_count": 13,
   "metadata": {
    "scrolled": true
   },
   "outputs": [
    {
     "data": {
      "text/plain": [
       "Index(['stop_date', 'stop_time', 'driver_gender', 'driver_age_raw',\n",
       "       'driver_age', 'driver_race', 'violation_raw', 'violation',\n",
       "       'search_conducted', 'search_type', 'stop_outcome', 'is_arrested',\n",
       "       'stop_duration', 'drugs_related_stop'],\n",
       "      dtype='object')"
      ]
     },
     "execution_count": 13,
     "metadata": {},
     "output_type": "execute_result"
    }
   ],
   "source": [
    "ri.columns"
   ]
  },
  {
   "cell_type": "markdown",
   "metadata": {},
   "source": [
    "# alternative method"
   ]
  },
  {
   "cell_type": "code",
   "execution_count": 14,
   "metadata": {},
   "outputs": [],
   "source": [
    "# how=\"all\" means drop any columns all of which values are null (NA)\n",
    "# ก็คือ column ไหนที่เป็น null ทั้งหมดก็จะลบ\n",
    "# how=\"any\" ก็คือทุก column ที่มี null"
   ]
  },
  {
   "cell_type": "code",
   "execution_count": 15,
   "metadata": {},
   "outputs": [
    {
     "data": {
      "text/plain": [
       "(91741, 14)"
      ]
     },
     "execution_count": 15,
     "metadata": {},
     "output_type": "execute_result"
    }
   ],
   "source": [
    "ri.dropna(axis='columns', how='all').shape"
   ]
  },
  {
   "cell_type": "markdown",
   "metadata": {},
   "source": [
    "# another alternative\n",
    "is using delete teacher don't suggest to use this method\n"
   ]
  },
  {
   "cell_type": "markdown",
   "metadata": {},
   "source": [
    "del ri['county_name'],\n",
    "ri.columns"
   ]
  },
  {
   "cell_type": "code",
   "execution_count": 16,
   "metadata": {},
   "outputs": [
    {
     "data": {
      "text/plain": [
       "Index(['stop_date', 'stop_time', 'driver_gender', 'driver_age_raw',\n",
       "       'driver_age', 'driver_race', 'violation_raw', 'violation',\n",
       "       'search_conducted', 'search_type', 'stop_outcome', 'is_arrested',\n",
       "       'stop_duration', 'drugs_related_stop'],\n",
       "      dtype='object')"
      ]
     },
     "execution_count": 16,
     "metadata": {},
     "output_type": "execute_result"
    }
   ],
   "source": [
    "ri.columns"
   ]
  },
  {
   "cell_type": "markdown",
   "metadata": {},
   "source": [
    "Lessons:\n",
    "\n",
    "- Pay attention to default arguments\n",
    "- Check your work\n",
    "- There is more than one way to do everything in pandas"
   ]
  },
  {
   "cell_type": "markdown",
   "metadata": {},
   "source": [
    "## 2. Do men or women speed more often? ([video](https://www.youtube.com/watch?v=d0oBRIONOEw&list=PL5-da3qGB5IBITZj_dYSFqnd_15JgqwA6&index=3))"
   ]
  },
  {
   "cell_type": "code",
   "execution_count": 17,
   "metadata": {},
   "outputs": [
    {
     "data": {
      "text/plain": [
       "M    0.680527\n",
       "F    0.319473\n",
       "Name: driver_gender, dtype: float64"
      ]
     },
     "execution_count": 17,
     "metadata": {},
     "output_type": "execute_result"
    }
   ],
   "source": [
    "# when someone is stopped for speeding, how often is it a man or woman?\n",
    "ri[ri.violation == 'Speeding'].driver_gender.value_counts(normalize=True)\n",
    "\n",
    "# its a raw data cant really use for confirm cause in reallity man usually driving more than woman"
   ]
  },
  {
   "cell_type": "code",
   "execution_count": 18,
   "metadata": {},
   "outputs": [
    {
     "data": {
      "text/plain": [
       "M    0.680527\n",
       "F    0.319473\n",
       "Name: driver_gender, dtype: float64"
      ]
     },
     "execution_count": 18,
     "metadata": {},
     "output_type": "execute_result"
    }
   ],
   "source": [
    "# alternative\n",
    "ri.loc[ri.violation == 'Speeding', 'driver_gender'].value_counts(normalize=True)"
   ]
  },
  {
   "cell_type": "code",
   "execution_count": 19,
   "metadata": {},
   "outputs": [
    {
     "data": {
      "text/plain": [
       "Speeding               0.524350\n",
       "Moving violation       0.207012\n",
       "Equipment              0.135671\n",
       "Other                  0.057668\n",
       "Registration/plates    0.038461\n",
       "Seat belt              0.036839\n",
       "Name: violation, dtype: float64"
      ]
     },
     "execution_count": 19,
     "metadata": {},
     "output_type": "execute_result"
    }
   ],
   "source": [
    "# when a man is pulled over, how often is it for speeding?\n",
    "ri[ri.driver_gender == 'M'].violation.value_counts(normalize=True)"
   ]
  },
  {
   "cell_type": "code",
   "execution_count": 20,
   "metadata": {},
   "outputs": [
    {
     "data": {
      "text/plain": [
       "Speeding               0.658500\n",
       "Moving violation       0.136277\n",
       "Equipment              0.105780\n",
       "Registration/plates    0.043086\n",
       "Other                  0.029348\n",
       "Seat belt              0.027009\n",
       "Name: violation, dtype: float64"
      ]
     },
     "execution_count": 20,
     "metadata": {},
     "output_type": "execute_result"
    }
   ],
   "source": [
    "# repeat for women\n",
    "ri[ri.driver_gender == 'F'].violation.value_counts(normalize=True)"
   ]
  },
  {
   "cell_type": "code",
   "execution_count": 21,
   "metadata": {
    "scrolled": true
   },
   "outputs": [
    {
     "data": {
      "text/html": [
       "<div>\n",
       "<style scoped>\n",
       "    .dataframe tbody tr th:only-of-type {\n",
       "        vertical-align: middle;\n",
       "    }\n",
       "\n",
       "    .dataframe tbody tr th {\n",
       "        vertical-align: top;\n",
       "    }\n",
       "\n",
       "    .dataframe thead th {\n",
       "        text-align: right;\n",
       "    }\n",
       "</style>\n",
       "<table border=\"1\" class=\"dataframe\">\n",
       "  <thead>\n",
       "    <tr style=\"text-align: right;\">\n",
       "      <th>violation</th>\n",
       "      <th>Equipment</th>\n",
       "      <th>Moving violation</th>\n",
       "      <th>Other</th>\n",
       "      <th>Registration/plates</th>\n",
       "      <th>Seat belt</th>\n",
       "      <th>Speeding</th>\n",
       "    </tr>\n",
       "    <tr>\n",
       "      <th>driver_gender</th>\n",
       "      <th></th>\n",
       "      <th></th>\n",
       "      <th></th>\n",
       "      <th></th>\n",
       "      <th></th>\n",
       "      <th></th>\n",
       "    </tr>\n",
       "  </thead>\n",
       "  <tbody>\n",
       "    <tr>\n",
       "      <th>F</th>\n",
       "      <td>0.105780</td>\n",
       "      <td>0.136277</td>\n",
       "      <td>0.029348</td>\n",
       "      <td>0.043086</td>\n",
       "      <td>0.027009</td>\n",
       "      <td>0.65850</td>\n",
       "    </tr>\n",
       "    <tr>\n",
       "      <th>M</th>\n",
       "      <td>0.135671</td>\n",
       "      <td>0.207012</td>\n",
       "      <td>0.057668</td>\n",
       "      <td>0.038461</td>\n",
       "      <td>0.036839</td>\n",
       "      <td>0.52435</td>\n",
       "    </tr>\n",
       "  </tbody>\n",
       "</table>\n",
       "</div>"
      ],
      "text/plain": [
       "violation      Equipment  Moving violation     Other  Registration/plates  \\\n",
       "driver_gender                                                               \n",
       "F               0.105780          0.136277  0.029348             0.043086   \n",
       "M               0.135671          0.207012  0.057668             0.038461   \n",
       "\n",
       "violation      Seat belt  Speeding  \n",
       "driver_gender                       \n",
       "F               0.027009   0.65850  \n",
       "M               0.036839   0.52435  "
      ]
     },
     "execution_count": 21,
     "metadata": {},
     "output_type": "execute_result"
    }
   ],
   "source": [
    "# combines the two lines above\n",
    "# groupby gender and then count violation and normalize it to see the ratio\n",
    "ri.groupby('driver_gender').violation.value_counts(normalize=True).unstack()\n",
    "# unstack make it easily to see"
   ]
  },
  {
   "cell_type": "markdown",
   "metadata": {},
   "source": [
    "What are some relevant facts that we don't know?\n",
    "\n",
    "Lessons:\n",
    "\n",
    "- There is more than one way to understand a question"
   ]
  },
  {
   "cell_type": "markdown",
   "metadata": {},
   "source": [
    "## 3. Does gender affect who gets searched during a stop? ([video](https://www.youtube.com/watch?v=WzpGq1X5U1M&list=PL5-da3qGB5IBITZj_dYSFqnd_15JgqwA6&index=4))"
   ]
  },
  {
   "cell_type": "code",
   "execution_count": 22,
   "metadata": {},
   "outputs": [
    {
     "data": {
      "text/plain": [
       "False    0.965163\n",
       "True     0.034837\n",
       "Name: search_conducted, dtype: float64"
      ]
     },
     "execution_count": 22,
     "metadata": {},
     "output_type": "execute_result"
    }
   ],
   "source": [
    "# ignore gender for the moment\n",
    "# search_conducted = true mean when the you pull over police will searched you too\n",
    "ri.search_conducted.value_counts(normalize=True)"
   ]
  },
  {
   "cell_type": "code",
   "execution_count": 23,
   "metadata": {},
   "outputs": [
    {
     "data": {
      "text/plain": [
       "0.03483720473942948"
      ]
     },
     "execution_count": 23,
     "metadata": {},
     "output_type": "execute_result"
    }
   ],
   "source": [
    "# how does this work?\n",
    "ri.search_conducted.mean()"
   ]
  },
  {
   "cell_type": "code",
   "execution_count": 24,
   "metadata": {},
   "outputs": [
    {
     "data": {
      "text/plain": [
       "driver_gender\n",
       "F    0.020033\n",
       "M    0.043326\n",
       "Name: search_conducted, dtype: float64"
      ]
     },
     "execution_count": 24,
     "metadata": {},
     "output_type": "execute_result"
    }
   ],
   "source": [
    "# search rate by gender\n",
    "ri.groupby('driver_gender').search_conducted.mean()"
   ]
  },
  {
   "cell_type": "markdown",
   "metadata": {},
   "source": [
    "Does this prove that gender affects who gets searched?"
   ]
  },
  {
   "cell_type": "code",
   "execution_count": 25,
   "metadata": {
    "scrolled": true
   },
   "outputs": [
    {
     "data": {
      "text/plain": [
       "driver_gender  violation          \n",
       "F              Equipment              0.042622\n",
       "               Moving violation       0.036205\n",
       "               Other                  0.056522\n",
       "               Registration/plates    0.066140\n",
       "               Seat belt              0.012598\n",
       "               Speeding               0.008720\n",
       "M              Equipment              0.070081\n",
       "               Moving violation       0.059831\n",
       "               Other                  0.047146\n",
       "               Registration/plates    0.110376\n",
       "               Seat belt              0.037980\n",
       "               Speeding               0.024925\n",
       "Name: search_conducted, dtype: float64"
      ]
     },
     "execution_count": 25,
     "metadata": {},
     "output_type": "execute_result"
    }
   ],
   "source": [
    "# include a second factor\n",
    "ri.groupby([\"driver_gender\", \"violation\"]).search_conducted.mean()"
   ]
  },
  {
   "cell_type": "markdown",
   "metadata": {},
   "source": [
    "# is it racist ?"
   ]
  },
  {
   "cell_type": "markdown",
   "metadata": {},
   "source": [
    "not quite sure eh?"
   ]
  },
  {
   "cell_type": "code",
   "execution_count": 26,
   "metadata": {
    "scrolled": true
   },
   "outputs": [
    {
     "data": {
      "text/plain": [
       "driver_race\n",
       "Asian       0.022576\n",
       "Black       0.064521\n",
       "Hispanic    0.061428\n",
       "Other       0.012500\n",
       "White       0.028444\n",
       "Name: search_conducted, dtype: float64"
      ]
     },
     "execution_count": 26,
     "metadata": {},
     "output_type": "execute_result"
    }
   ],
   "source": [
    "ri.groupby(\"driver_race\").search_conducted.mean()"
   ]
  },
  {
   "cell_type": "markdown",
   "metadata": {},
   "source": [
    "Does this prove causation?\n",
    "\n",
    "Lessons:\n",
    "\n",
    "- Causation is difficult to conclude, so focus on relationships\n",
    "- Include all relevant factors when studying a relationship"
   ]
  },
  {
   "cell_type": "markdown",
   "metadata": {},
   "source": [
    "## 4. Why is search_type missing so often? ([video](https://www.youtube.com/watch?v=3D6smaE9c-g&list=PL5-da3qGB5IBITZj_dYSFqnd_15JgqwA6&index=5))"
   ]
  },
  {
   "cell_type": "code",
   "execution_count": 27,
   "metadata": {
    "scrolled": true
   },
   "outputs": [
    {
     "data": {
      "text/plain": [
       "stop_date                 0\n",
       "stop_time                 0\n",
       "driver_gender          5335\n",
       "driver_age_raw         5327\n",
       "driver_age             5621\n",
       "driver_race            5333\n",
       "violation_raw          5333\n",
       "violation              5333\n",
       "search_conducted          0\n",
       "search_type           88545\n",
       "stop_outcome           5333\n",
       "is_arrested            5333\n",
       "stop_duration          5333\n",
       "drugs_related_stop        0\n",
       "dtype: int64"
      ]
     },
     "execution_count": 27,
     "metadata": {},
     "output_type": "execute_result"
    }
   ],
   "source": [
    "ri.isnull().sum()"
   ]
  },
  {
   "cell_type": "code",
   "execution_count": 28,
   "metadata": {},
   "outputs": [
    {
     "data": {
      "text/plain": [
       "0    NaN\n",
       "1    NaN\n",
       "2    NaN\n",
       "3    NaN\n",
       "4    NaN\n",
       "Name: search_type, dtype: object"
      ]
     },
     "execution_count": 28,
     "metadata": {},
     "output_type": "execute_result"
    }
   ],
   "source": [
    "ri[\"search_type\"].head()"
   ]
  },
  {
   "cell_type": "code",
   "execution_count": 29,
   "metadata": {},
   "outputs": [
    {
     "data": {
      "text/plain": [
       "False    88545\n",
       "True      3196\n",
       "Name: search_conducted, dtype: int64"
      ]
     },
     "execution_count": 29,
     "metadata": {},
     "output_type": "execute_result"
    }
   ],
   "source": [
    "# maybe search_type is missing any time search_conducted is False?\n",
    "ri.search_conducted.value_counts()"
   ]
  },
  {
   "cell_type": "code",
   "execution_count": 30,
   "metadata": {},
   "outputs": [
    {
     "data": {
      "text/plain": [
       "Series([], Name: search_type, dtype: int64)"
      ]
     },
     "execution_count": 30,
     "metadata": {},
     "output_type": "execute_result"
    }
   ],
   "source": [
    "# test that theory, why is the Series empty?\n",
    "ri[ri.search_conducted == False].search_type.value_counts()"
   ]
  },
  {
   "cell_type": "code",
   "execution_count": 31,
   "metadata": {},
   "outputs": [
    {
     "data": {
      "text/plain": [
       "NaN    88545\n",
       "Name: search_type, dtype: int64"
      ]
     },
     "execution_count": 31,
     "metadata": {},
     "output_type": "execute_result"
    }
   ],
   "source": [
    "# value_counts ignores missing values by default\n",
    "ri[ri.search_conducted == False].search_type.value_counts(dropna=False)"
   ]
  },
  {
   "cell_type": "code",
   "execution_count": 32,
   "metadata": {},
   "outputs": [
    {
     "data": {
      "text/plain": [
       "Incident to Arrest                                          1219\n",
       "Probable Cause                                               891\n",
       "Inventory                                                    220\n",
       "Reasonable Suspicion                                         197\n",
       "Protective Frisk                                             161\n",
       "Incident to Arrest,Inventory                                 129\n",
       "Incident to Arrest,Probable Cause                            106\n",
       "Probable Cause,Reasonable Suspicion                           75\n",
       "Incident to Arrest,Inventory,Probable Cause                   34\n",
       "Incident to Arrest,Protective Frisk                           33\n",
       "Probable Cause,Protective Frisk                               33\n",
       "Inventory,Probable Cause                                      22\n",
       "Incident to Arrest,Reasonable Suspicion                       13\n",
       "Inventory,Protective Frisk                                    11\n",
       "Incident to Arrest,Inventory,Protective Frisk                 11\n",
       "Protective Frisk,Reasonable Suspicion                         11\n",
       "Incident to Arrest,Probable Cause,Protective Frisk            10\n",
       "Incident to Arrest,Probable Cause,Reasonable Suspicion         6\n",
       "Inventory,Reasonable Suspicion                                 4\n",
       "Incident to Arrest,Inventory,Reasonable Suspicion              4\n",
       "Inventory,Probable Cause,Protective Frisk                      2\n",
       "Inventory,Probable Cause,Reasonable Suspicion                  2\n",
       "Incident to Arrest,Protective Frisk,Reasonable Suspicion       1\n",
       "Probable Cause,Protective Frisk,Reasonable Suspicion           1\n",
       "Name: search_type, dtype: int64"
      ]
     },
     "execution_count": 32,
     "metadata": {},
     "output_type": "execute_result"
    }
   ],
   "source": [
    "# when search_conducted is True, search_type is never missing\n",
    "ri[ri.search_conducted == True].search_type.value_counts(dropna=False)"
   ]
  },
  {
   "cell_type": "code",
   "execution_count": 33,
   "metadata": {},
   "outputs": [
    {
     "data": {
      "text/plain": [
       "0"
      ]
     },
     "execution_count": 33,
     "metadata": {},
     "output_type": "execute_result"
    }
   ],
   "source": [
    "# alternative\n",
    "ri[ri.search_conducted == True].search_type.isnull().sum()"
   ]
  },
  {
   "cell_type": "markdown",
   "metadata": {},
   "source": [
    "Lessons:\n",
    "\n",
    "- Verify your assumptions about your data\n",
    "- pandas functions ignore missing values by default"
   ]
  },
  {
   "cell_type": "markdown",
   "metadata": {},
   "source": [
    "## 5. During a search, how often is the driver frisked? ([video](https://www.youtube.com/watch?v=4tTO_xH4aQE&list=PL5-da3qGB5IBITZj_dYSFqnd_15JgqwA6&index=6))"
   ]
  },
  {
   "cell_type": "code",
   "execution_count": 34,
   "metadata": {},
   "outputs": [
    {
     "data": {
      "text/plain": [
       "NaN                                                         88545\n",
       "Incident to Arrest                                           1219\n",
       "Probable Cause                                                891\n",
       "Inventory                                                     220\n",
       "Reasonable Suspicion                                          197\n",
       "Protective Frisk                                              161\n",
       "Incident to Arrest,Inventory                                  129\n",
       "Incident to Arrest,Probable Cause                             106\n",
       "Probable Cause,Reasonable Suspicion                            75\n",
       "Incident to Arrest,Inventory,Probable Cause                    34\n",
       "Probable Cause,Protective Frisk                                33\n",
       "Incident to Arrest,Protective Frisk                            33\n",
       "Inventory,Probable Cause                                       22\n",
       "Incident to Arrest,Reasonable Suspicion                        13\n",
       "Inventory,Protective Frisk                                     11\n",
       "Protective Frisk,Reasonable Suspicion                          11\n",
       "Incident to Arrest,Inventory,Protective Frisk                  11\n",
       "Incident to Arrest,Probable Cause,Protective Frisk             10\n",
       "Incident to Arrest,Probable Cause,Reasonable Suspicion          6\n",
       "Incident to Arrest,Inventory,Reasonable Suspicion               4\n",
       "Inventory,Reasonable Suspicion                                  4\n",
       "Inventory,Probable Cause,Reasonable Suspicion                   2\n",
       "Inventory,Probable Cause,Protective Frisk                       2\n",
       "Probable Cause,Protective Frisk,Reasonable Suspicion            1\n",
       "Incident to Arrest,Protective Frisk,Reasonable Suspicion        1\n",
       "Name: search_type, dtype: int64"
      ]
     },
     "execution_count": 34,
     "metadata": {},
     "output_type": "execute_result"
    }
   ],
   "source": [
    "# multiple types are separated by commas\n",
    "ri.search_type.value_counts(dropna=False)"
   ]
  },
  {
   "cell_type": "code",
   "execution_count": 35,
   "metadata": {},
   "outputs": [],
   "source": [
    "# use bracket notation when creating a column\n",
    "ri['frisk'] = (ri.search_type == 'Protective Frisk')\n",
    "# using this only found 1 column(Protective Frisk)"
   ]
  },
  {
   "cell_type": "code",
   "execution_count": 36,
   "metadata": {},
   "outputs": [
    {
     "data": {
      "text/plain": [
       "dtype('bool')"
      ]
     },
     "execution_count": 36,
     "metadata": {},
     "output_type": "execute_result"
    }
   ],
   "source": [
    "# ri['frisk'] keep data by being boolean\n",
    "ri.frisk.dtype"
   ]
  },
  {
   "cell_type": "code",
   "execution_count": 37,
   "metadata": {},
   "outputs": [
    {
     "data": {
      "text/html": [
       "<div>\n",
       "<style scoped>\n",
       "    .dataframe tbody tr th:only-of-type {\n",
       "        vertical-align: middle;\n",
       "    }\n",
       "\n",
       "    .dataframe tbody tr th {\n",
       "        vertical-align: top;\n",
       "    }\n",
       "\n",
       "    .dataframe thead th {\n",
       "        text-align: right;\n",
       "    }\n",
       "</style>\n",
       "<table border=\"1\" class=\"dataframe\">\n",
       "  <thead>\n",
       "    <tr style=\"text-align: right;\">\n",
       "      <th></th>\n",
       "      <th>stop_date</th>\n",
       "      <th>stop_time</th>\n",
       "      <th>driver_gender</th>\n",
       "      <th>driver_age_raw</th>\n",
       "      <th>driver_age</th>\n",
       "      <th>driver_race</th>\n",
       "      <th>violation_raw</th>\n",
       "      <th>violation</th>\n",
       "      <th>search_conducted</th>\n",
       "      <th>search_type</th>\n",
       "      <th>stop_outcome</th>\n",
       "      <th>is_arrested</th>\n",
       "      <th>stop_duration</th>\n",
       "      <th>drugs_related_stop</th>\n",
       "      <th>frisk</th>\n",
       "    </tr>\n",
       "  </thead>\n",
       "  <tbody>\n",
       "    <tr>\n",
       "      <th>339</th>\n",
       "      <td>2005-10-12</td>\n",
       "      <td>20:30</td>\n",
       "      <td>M</td>\n",
       "      <td>1987.0</td>\n",
       "      <td>18.0</td>\n",
       "      <td>Hispanic</td>\n",
       "      <td>Other Traffic Violation</td>\n",
       "      <td>Moving violation</td>\n",
       "      <td>True</td>\n",
       "      <td>Protective Frisk</td>\n",
       "      <td>Arrest Driver</td>\n",
       "      <td>True</td>\n",
       "      <td>0-15 Min</td>\n",
       "      <td>False</td>\n",
       "      <td>True</td>\n",
       "    </tr>\n",
       "    <tr>\n",
       "      <th>340</th>\n",
       "      <td>2005-10-12</td>\n",
       "      <td>20:30</td>\n",
       "      <td>M</td>\n",
       "      <td>1987.0</td>\n",
       "      <td>18.0</td>\n",
       "      <td>Hispanic</td>\n",
       "      <td>Other Traffic Violation</td>\n",
       "      <td>Moving violation</td>\n",
       "      <td>True</td>\n",
       "      <td>Protective Frisk</td>\n",
       "      <td>Arrest Driver</td>\n",
       "      <td>True</td>\n",
       "      <td>0-15 Min</td>\n",
       "      <td>False</td>\n",
       "      <td>True</td>\n",
       "    </tr>\n",
       "    <tr>\n",
       "      <th>415</th>\n",
       "      <td>2005-10-17</td>\n",
       "      <td>09:30</td>\n",
       "      <td>M</td>\n",
       "      <td>1983.0</td>\n",
       "      <td>22.0</td>\n",
       "      <td>Black</td>\n",
       "      <td>Speeding</td>\n",
       "      <td>Speeding</td>\n",
       "      <td>True</td>\n",
       "      <td>Protective Frisk</td>\n",
       "      <td>Citation</td>\n",
       "      <td>False</td>\n",
       "      <td>0-15 Min</td>\n",
       "      <td>False</td>\n",
       "      <td>True</td>\n",
       "    </tr>\n",
       "    <tr>\n",
       "      <th>600</th>\n",
       "      <td>2005-10-23</td>\n",
       "      <td>16:20</td>\n",
       "      <td>M</td>\n",
       "      <td>1988.0</td>\n",
       "      <td>17.0</td>\n",
       "      <td>White</td>\n",
       "      <td>Equipment/Inspection Violation</td>\n",
       "      <td>Equipment</td>\n",
       "      <td>True</td>\n",
       "      <td>Protective Frisk</td>\n",
       "      <td>Citation</td>\n",
       "      <td>False</td>\n",
       "      <td>16-30 Min</td>\n",
       "      <td>False</td>\n",
       "      <td>True</td>\n",
       "    </tr>\n",
       "    <tr>\n",
       "      <th>1115</th>\n",
       "      <td>2005-11-08</td>\n",
       "      <td>01:30</td>\n",
       "      <td>M</td>\n",
       "      <td>1979.0</td>\n",
       "      <td>26.0</td>\n",
       "      <td>White</td>\n",
       "      <td>Speeding</td>\n",
       "      <td>Speeding</td>\n",
       "      <td>True</td>\n",
       "      <td>Protective Frisk</td>\n",
       "      <td>Arrest Driver</td>\n",
       "      <td>True</td>\n",
       "      <td>16-30 Min</td>\n",
       "      <td>False</td>\n",
       "      <td>True</td>\n",
       "    </tr>\n",
       "  </tbody>\n",
       "</table>\n",
       "</div>"
      ],
      "text/plain": [
       "       stop_date stop_time driver_gender  driver_age_raw  driver_age  \\\n",
       "339   2005-10-12     20:30             M          1987.0        18.0   \n",
       "340   2005-10-12     20:30             M          1987.0        18.0   \n",
       "415   2005-10-17     09:30             M          1983.0        22.0   \n",
       "600   2005-10-23     16:20             M          1988.0        17.0   \n",
       "1115  2005-11-08     01:30             M          1979.0        26.0   \n",
       "\n",
       "     driver_race                   violation_raw         violation  \\\n",
       "339     Hispanic         Other Traffic Violation  Moving violation   \n",
       "340     Hispanic         Other Traffic Violation  Moving violation   \n",
       "415        Black                        Speeding          Speeding   \n",
       "600        White  Equipment/Inspection Violation         Equipment   \n",
       "1115       White                        Speeding          Speeding   \n",
       "\n",
       "      search_conducted       search_type   stop_outcome is_arrested  \\\n",
       "339               True  Protective Frisk  Arrest Driver        True   \n",
       "340               True  Protective Frisk  Arrest Driver        True   \n",
       "415               True  Protective Frisk       Citation       False   \n",
       "600               True  Protective Frisk       Citation       False   \n",
       "1115              True  Protective Frisk  Arrest Driver        True   \n",
       "\n",
       "     stop_duration  drugs_related_stop  frisk  \n",
       "339       0-15 Min               False   True  \n",
       "340       0-15 Min               False   True  \n",
       "415       0-15 Min               False   True  \n",
       "600      16-30 Min               False   True  \n",
       "1115     16-30 Min               False   True  "
      ]
     },
     "execution_count": 37,
     "metadata": {},
     "output_type": "execute_result"
    }
   ],
   "source": [
    "ri[ri.frisk == True].head()"
   ]
  },
  {
   "cell_type": "code",
   "execution_count": 38,
   "metadata": {},
   "outputs": [
    {
     "data": {
      "text/plain": [
       "161"
      ]
     },
     "execution_count": 38,
     "metadata": {},
     "output_type": "execute_result"
    }
   ],
   "source": [
    "# includes exact matches only\n",
    "ri.frisk.sum()"
   ]
  },
  {
   "cell_type": "code",
   "execution_count": 39,
   "metadata": {},
   "outputs": [
    {
     "data": {
      "text/plain": [
       "0.0017549405391264537"
      ]
     },
     "execution_count": 39,
     "metadata": {},
     "output_type": "execute_result"
    }
   ],
   "source": [
    "# is this the answer?\n",
    "ri.frisk.mean()"
   ]
  },
  {
   "cell_type": "code",
   "execution_count": 40,
   "metadata": {},
   "outputs": [
    {
     "data": {
      "text/plain": [
       "False    91580\n",
       "True       161\n",
       "Name: frisk, dtype: int64"
      ]
     },
     "execution_count": 40,
     "metadata": {},
     "output_type": "execute_result"
    }
   ],
   "source": [
    "# uses the wrong denominator (includes stops that didn't involve a search)\n",
    "ri.frisk.value_counts()"
   ]
  },
  {
   "cell_type": "code",
   "execution_count": 41,
   "metadata": {},
   "outputs": [
    {
     "data": {
      "text/plain": [
       "0.0017549405391264537"
      ]
     },
     "execution_count": 41,
     "metadata": {},
     "output_type": "execute_result"
    }
   ],
   "source": [
    "161 / (91580 + 161)"
   ]
  },
  {
   "cell_type": "code",
   "execution_count": 42,
   "metadata": {},
   "outputs": [],
   "source": [
    "# includes partial matches\n",
    "ri['frisk'] = ri.search_type.str.contains('Protective Frisk')"
   ]
  },
  {
   "cell_type": "code",
   "execution_count": 43,
   "metadata": {},
   "outputs": [
    {
     "data": {
      "text/html": [
       "<div>\n",
       "<style scoped>\n",
       "    .dataframe tbody tr th:only-of-type {\n",
       "        vertical-align: middle;\n",
       "    }\n",
       "\n",
       "    .dataframe tbody tr th {\n",
       "        vertical-align: top;\n",
       "    }\n",
       "\n",
       "    .dataframe thead th {\n",
       "        text-align: right;\n",
       "    }\n",
       "</style>\n",
       "<table border=\"1\" class=\"dataframe\">\n",
       "  <thead>\n",
       "    <tr style=\"text-align: right;\">\n",
       "      <th></th>\n",
       "      <th>stop_date</th>\n",
       "      <th>stop_time</th>\n",
       "      <th>driver_gender</th>\n",
       "      <th>driver_age_raw</th>\n",
       "      <th>driver_age</th>\n",
       "      <th>driver_race</th>\n",
       "      <th>violation_raw</th>\n",
       "      <th>violation</th>\n",
       "      <th>search_conducted</th>\n",
       "      <th>search_type</th>\n",
       "      <th>stop_outcome</th>\n",
       "      <th>is_arrested</th>\n",
       "      <th>stop_duration</th>\n",
       "      <th>drugs_related_stop</th>\n",
       "      <th>frisk</th>\n",
       "    </tr>\n",
       "  </thead>\n",
       "  <tbody>\n",
       "    <tr>\n",
       "      <th>24</th>\n",
       "      <td>2005-08-28</td>\n",
       "      <td>01:00</td>\n",
       "      <td>M</td>\n",
       "      <td>1979.0</td>\n",
       "      <td>26.0</td>\n",
       "      <td>White</td>\n",
       "      <td>Other Traffic Violation</td>\n",
       "      <td>Moving violation</td>\n",
       "      <td>True</td>\n",
       "      <td>Incident to Arrest,Protective Frisk</td>\n",
       "      <td>Arrest Driver</td>\n",
       "      <td>True</td>\n",
       "      <td>16-30 Min</td>\n",
       "      <td>False</td>\n",
       "      <td>True</td>\n",
       "    </tr>\n",
       "    <tr>\n",
       "      <th>339</th>\n",
       "      <td>2005-10-12</td>\n",
       "      <td>20:30</td>\n",
       "      <td>M</td>\n",
       "      <td>1987.0</td>\n",
       "      <td>18.0</td>\n",
       "      <td>Hispanic</td>\n",
       "      <td>Other Traffic Violation</td>\n",
       "      <td>Moving violation</td>\n",
       "      <td>True</td>\n",
       "      <td>Protective Frisk</td>\n",
       "      <td>Arrest Driver</td>\n",
       "      <td>True</td>\n",
       "      <td>0-15 Min</td>\n",
       "      <td>False</td>\n",
       "      <td>True</td>\n",
       "    </tr>\n",
       "    <tr>\n",
       "      <th>340</th>\n",
       "      <td>2005-10-12</td>\n",
       "      <td>20:30</td>\n",
       "      <td>M</td>\n",
       "      <td>1987.0</td>\n",
       "      <td>18.0</td>\n",
       "      <td>Hispanic</td>\n",
       "      <td>Other Traffic Violation</td>\n",
       "      <td>Moving violation</td>\n",
       "      <td>True</td>\n",
       "      <td>Protective Frisk</td>\n",
       "      <td>Arrest Driver</td>\n",
       "      <td>True</td>\n",
       "      <td>0-15 Min</td>\n",
       "      <td>False</td>\n",
       "      <td>True</td>\n",
       "    </tr>\n",
       "    <tr>\n",
       "      <th>415</th>\n",
       "      <td>2005-10-17</td>\n",
       "      <td>09:30</td>\n",
       "      <td>M</td>\n",
       "      <td>1983.0</td>\n",
       "      <td>22.0</td>\n",
       "      <td>Black</td>\n",
       "      <td>Speeding</td>\n",
       "      <td>Speeding</td>\n",
       "      <td>True</td>\n",
       "      <td>Protective Frisk</td>\n",
       "      <td>Citation</td>\n",
       "      <td>False</td>\n",
       "      <td>0-15 Min</td>\n",
       "      <td>False</td>\n",
       "      <td>True</td>\n",
       "    </tr>\n",
       "    <tr>\n",
       "      <th>590</th>\n",
       "      <td>2005-10-23</td>\n",
       "      <td>14:40</td>\n",
       "      <td>M</td>\n",
       "      <td>1978.0</td>\n",
       "      <td>27.0</td>\n",
       "      <td>White</td>\n",
       "      <td>Equipment/Inspection Violation</td>\n",
       "      <td>Equipment</td>\n",
       "      <td>True</td>\n",
       "      <td>Inventory,Protective Frisk</td>\n",
       "      <td>Citation</td>\n",
       "      <td>False</td>\n",
       "      <td>0-15 Min</td>\n",
       "      <td>False</td>\n",
       "      <td>True</td>\n",
       "    </tr>\n",
       "    <tr>\n",
       "      <th>600</th>\n",
       "      <td>2005-10-23</td>\n",
       "      <td>16:20</td>\n",
       "      <td>M</td>\n",
       "      <td>1988.0</td>\n",
       "      <td>17.0</td>\n",
       "      <td>White</td>\n",
       "      <td>Equipment/Inspection Violation</td>\n",
       "      <td>Equipment</td>\n",
       "      <td>True</td>\n",
       "      <td>Protective Frisk</td>\n",
       "      <td>Citation</td>\n",
       "      <td>False</td>\n",
       "      <td>16-30 Min</td>\n",
       "      <td>False</td>\n",
       "      <td>True</td>\n",
       "    </tr>\n",
       "    <tr>\n",
       "      <th>1115</th>\n",
       "      <td>2005-11-08</td>\n",
       "      <td>01:30</td>\n",
       "      <td>M</td>\n",
       "      <td>1979.0</td>\n",
       "      <td>26.0</td>\n",
       "      <td>White</td>\n",
       "      <td>Speeding</td>\n",
       "      <td>Speeding</td>\n",
       "      <td>True</td>\n",
       "      <td>Protective Frisk</td>\n",
       "      <td>Arrest Driver</td>\n",
       "      <td>True</td>\n",
       "      <td>16-30 Min</td>\n",
       "      <td>False</td>\n",
       "      <td>True</td>\n",
       "    </tr>\n",
       "    <tr>\n",
       "      <th>1243</th>\n",
       "      <td>2005-11-12</td>\n",
       "      <td>20:45</td>\n",
       "      <td>M</td>\n",
       "      <td>1982.0</td>\n",
       "      <td>23.0</td>\n",
       "      <td>White</td>\n",
       "      <td>Speeding</td>\n",
       "      <td>Speeding</td>\n",
       "      <td>True</td>\n",
       "      <td>Protective Frisk</td>\n",
       "      <td>Citation</td>\n",
       "      <td>False</td>\n",
       "      <td>0-15 Min</td>\n",
       "      <td>False</td>\n",
       "      <td>True</td>\n",
       "    </tr>\n",
       "    <tr>\n",
       "      <th>1329</th>\n",
       "      <td>2005-11-16</td>\n",
       "      <td>00:11</td>\n",
       "      <td>M</td>\n",
       "      <td>1979.0</td>\n",
       "      <td>26.0</td>\n",
       "      <td>Hispanic</td>\n",
       "      <td>Equipment/Inspection Violation</td>\n",
       "      <td>Equipment</td>\n",
       "      <td>True</td>\n",
       "      <td>Incident to Arrest,Protective Frisk</td>\n",
       "      <td>Arrest Driver</td>\n",
       "      <td>True</td>\n",
       "      <td>16-30 Min</td>\n",
       "      <td>False</td>\n",
       "      <td>True</td>\n",
       "    </tr>\n",
       "    <tr>\n",
       "      <th>1541</th>\n",
       "      <td>2005-11-23</td>\n",
       "      <td>09:00</td>\n",
       "      <td>M</td>\n",
       "      <td>1988.0</td>\n",
       "      <td>17.0</td>\n",
       "      <td>Hispanic</td>\n",
       "      <td>Equipment/Inspection Violation</td>\n",
       "      <td>Equipment</td>\n",
       "      <td>True</td>\n",
       "      <td>Protective Frisk</td>\n",
       "      <td>Citation</td>\n",
       "      <td>False</td>\n",
       "      <td>0-15 Min</td>\n",
       "      <td>False</td>\n",
       "      <td>True</td>\n",
       "    </tr>\n",
       "    <tr>\n",
       "      <th>1644</th>\n",
       "      <td>2005-11-26</td>\n",
       "      <td>14:21</td>\n",
       "      <td>M</td>\n",
       "      <td>1987.0</td>\n",
       "      <td>18.0</td>\n",
       "      <td>White</td>\n",
       "      <td>Speeding</td>\n",
       "      <td>Speeding</td>\n",
       "      <td>True</td>\n",
       "      <td>Protective Frisk</td>\n",
       "      <td>Citation</td>\n",
       "      <td>False</td>\n",
       "      <td>0-15 Min</td>\n",
       "      <td>False</td>\n",
       "      <td>True</td>\n",
       "    </tr>\n",
       "    <tr>\n",
       "      <th>1916</th>\n",
       "      <td>2005-12-04</td>\n",
       "      <td>03:15</td>\n",
       "      <td>M</td>\n",
       "      <td>1985.0</td>\n",
       "      <td>20.0</td>\n",
       "      <td>Hispanic</td>\n",
       "      <td>Speeding</td>\n",
       "      <td>Speeding</td>\n",
       "      <td>True</td>\n",
       "      <td>Incident to Arrest,Probable Cause,Protective F...</td>\n",
       "      <td>Arrest Driver</td>\n",
       "      <td>True</td>\n",
       "      <td>30+ Min</td>\n",
       "      <td>False</td>\n",
       "      <td>True</td>\n",
       "    </tr>\n",
       "    <tr>\n",
       "      <th>1917</th>\n",
       "      <td>2005-12-04</td>\n",
       "      <td>03:15</td>\n",
       "      <td>M</td>\n",
       "      <td>1971.0</td>\n",
       "      <td>34.0</td>\n",
       "      <td>White</td>\n",
       "      <td>Other Traffic Violation</td>\n",
       "      <td>Moving violation</td>\n",
       "      <td>True</td>\n",
       "      <td>Incident to Arrest,Protective Frisk</td>\n",
       "      <td>Arrest Driver</td>\n",
       "      <td>True</td>\n",
       "      <td>16-30 Min</td>\n",
       "      <td>False</td>\n",
       "      <td>True</td>\n",
       "    </tr>\n",
       "    <tr>\n",
       "      <th>2003</th>\n",
       "      <td>2005-12-07</td>\n",
       "      <td>18:45</td>\n",
       "      <td>M</td>\n",
       "      <td>1964.0</td>\n",
       "      <td>41.0</td>\n",
       "      <td>White</td>\n",
       "      <td>Speeding</td>\n",
       "      <td>Speeding</td>\n",
       "      <td>True</td>\n",
       "      <td>Probable Cause,Protective Frisk</td>\n",
       "      <td>Citation</td>\n",
       "      <td>False</td>\n",
       "      <td>16-30 Min</td>\n",
       "      <td>False</td>\n",
       "      <td>True</td>\n",
       "    </tr>\n",
       "    <tr>\n",
       "      <th>2027</th>\n",
       "      <td>2005-12-08</td>\n",
       "      <td>21:15</td>\n",
       "      <td>M</td>\n",
       "      <td>1970.0</td>\n",
       "      <td>35.0</td>\n",
       "      <td>White</td>\n",
       "      <td>Registration Violation</td>\n",
       "      <td>Registration/plates</td>\n",
       "      <td>True</td>\n",
       "      <td>Incident to Arrest,Protective Frisk</td>\n",
       "      <td>Arrest Driver</td>\n",
       "      <td>True</td>\n",
       "      <td>30+ Min</td>\n",
       "      <td>False</td>\n",
       "      <td>True</td>\n",
       "    </tr>\n",
       "    <tr>\n",
       "      <th>2206</th>\n",
       "      <td>2005-12-17</td>\n",
       "      <td>00:40</td>\n",
       "      <td>M</td>\n",
       "      <td>1984.0</td>\n",
       "      <td>21.0</td>\n",
       "      <td>White</td>\n",
       "      <td>Speeding</td>\n",
       "      <td>Speeding</td>\n",
       "      <td>True</td>\n",
       "      <td>Protective Frisk</td>\n",
       "      <td>Citation</td>\n",
       "      <td>False</td>\n",
       "      <td>0-15 Min</td>\n",
       "      <td>False</td>\n",
       "      <td>True</td>\n",
       "    </tr>\n",
       "    <tr>\n",
       "      <th>2266</th>\n",
       "      <td>2005-12-18</td>\n",
       "      <td>19:20</td>\n",
       "      <td>M</td>\n",
       "      <td>1973.0</td>\n",
       "      <td>32.0</td>\n",
       "      <td>White</td>\n",
       "      <td>Speeding</td>\n",
       "      <td>Speeding</td>\n",
       "      <td>True</td>\n",
       "      <td>Protective Frisk</td>\n",
       "      <td>Arrest Driver</td>\n",
       "      <td>True</td>\n",
       "      <td>30+ Min</td>\n",
       "      <td>False</td>\n",
       "      <td>True</td>\n",
       "    </tr>\n",
       "    <tr>\n",
       "      <th>2316</th>\n",
       "      <td>2005-12-20</td>\n",
       "      <td>12:20</td>\n",
       "      <td>M</td>\n",
       "      <td>1964.0</td>\n",
       "      <td>41.0</td>\n",
       "      <td>Black</td>\n",
       "      <td>Registration Violation</td>\n",
       "      <td>Registration/plates</td>\n",
       "      <td>True</td>\n",
       "      <td>Incident to Arrest,Inventory,Protective Frisk</td>\n",
       "      <td>Arrest Driver</td>\n",
       "      <td>True</td>\n",
       "      <td>30+ Min</td>\n",
       "      <td>False</td>\n",
       "      <td>True</td>\n",
       "    </tr>\n",
       "    <tr>\n",
       "      <th>2337</th>\n",
       "      <td>2005-12-21</td>\n",
       "      <td>13:30</td>\n",
       "      <td>M</td>\n",
       "      <td>1986.0</td>\n",
       "      <td>19.0</td>\n",
       "      <td>White</td>\n",
       "      <td>Equipment/Inspection Violation</td>\n",
       "      <td>Equipment</td>\n",
       "      <td>True</td>\n",
       "      <td>Incident to Arrest,Protective Frisk</td>\n",
       "      <td>Arrest Driver</td>\n",
       "      <td>True</td>\n",
       "      <td>30+ Min</td>\n",
       "      <td>False</td>\n",
       "      <td>True</td>\n",
       "    </tr>\n",
       "    <tr>\n",
       "      <th>2463</th>\n",
       "      <td>2005-12-28</td>\n",
       "      <td>14:50</td>\n",
       "      <td>M</td>\n",
       "      <td>1987.0</td>\n",
       "      <td>18.0</td>\n",
       "      <td>White</td>\n",
       "      <td>Equipment/Inspection Violation</td>\n",
       "      <td>Equipment</td>\n",
       "      <td>True</td>\n",
       "      <td>Inventory,Protective Frisk</td>\n",
       "      <td>Citation</td>\n",
       "      <td>False</td>\n",
       "      <td>30+ Min</td>\n",
       "      <td>False</td>\n",
       "      <td>True</td>\n",
       "    </tr>\n",
       "    <tr>\n",
       "      <th>2513</th>\n",
       "      <td>2005-12-30</td>\n",
       "      <td>18:15</td>\n",
       "      <td>M</td>\n",
       "      <td>1979.0</td>\n",
       "      <td>26.0</td>\n",
       "      <td>Black</td>\n",
       "      <td>Registration Violation</td>\n",
       "      <td>Registration/plates</td>\n",
       "      <td>True</td>\n",
       "      <td>Protective Frisk</td>\n",
       "      <td>Citation</td>\n",
       "      <td>False</td>\n",
       "      <td>16-30 Min</td>\n",
       "      <td>False</td>\n",
       "      <td>True</td>\n",
       "    </tr>\n",
       "    <tr>\n",
       "      <th>2537</th>\n",
       "      <td>2005-12-31</td>\n",
       "      <td>09:34</td>\n",
       "      <td>M</td>\n",
       "      <td>1970.0</td>\n",
       "      <td>35.0</td>\n",
       "      <td>White</td>\n",
       "      <td>Speeding</td>\n",
       "      <td>Speeding</td>\n",
       "      <td>True</td>\n",
       "      <td>Incident to Arrest,Protective Frisk</td>\n",
       "      <td>Arrest Driver</td>\n",
       "      <td>True</td>\n",
       "      <td>30+ Min</td>\n",
       "      <td>False</td>\n",
       "      <td>True</td>\n",
       "    </tr>\n",
       "    <tr>\n",
       "      <th>2562</th>\n",
       "      <td>2006-01-01</td>\n",
       "      <td>03:50</td>\n",
       "      <td>M</td>\n",
       "      <td>1978.0</td>\n",
       "      <td>28.0</td>\n",
       "      <td>White</td>\n",
       "      <td>Other Traffic Violation</td>\n",
       "      <td>Moving violation</td>\n",
       "      <td>True</td>\n",
       "      <td>Protective Frisk</td>\n",
       "      <td>Citation</td>\n",
       "      <td>False</td>\n",
       "      <td>0-15 Min</td>\n",
       "      <td>False</td>\n",
       "      <td>True</td>\n",
       "    </tr>\n",
       "    <tr>\n",
       "      <th>2655</th>\n",
       "      <td>2006-01-05</td>\n",
       "      <td>01:00</td>\n",
       "      <td>M</td>\n",
       "      <td>1971.0</td>\n",
       "      <td>35.0</td>\n",
       "      <td>White</td>\n",
       "      <td>Call for Service</td>\n",
       "      <td>Other</td>\n",
       "      <td>True</td>\n",
       "      <td>Probable Cause,Protective Frisk</td>\n",
       "      <td>Citation</td>\n",
       "      <td>False</td>\n",
       "      <td>30+ Min</td>\n",
       "      <td>False</td>\n",
       "      <td>True</td>\n",
       "    </tr>\n",
       "    <tr>\n",
       "      <th>2674</th>\n",
       "      <td>2006-01-05</td>\n",
       "      <td>23:45</td>\n",
       "      <td>M</td>\n",
       "      <td>1970.0</td>\n",
       "      <td>36.0</td>\n",
       "      <td>Black</td>\n",
       "      <td>Speeding</td>\n",
       "      <td>Speeding</td>\n",
       "      <td>True</td>\n",
       "      <td>Protective Frisk,Reasonable Suspicion</td>\n",
       "      <td>Citation</td>\n",
       "      <td>False</td>\n",
       "      <td>16-30 Min</td>\n",
       "      <td>False</td>\n",
       "      <td>True</td>\n",
       "    </tr>\n",
       "    <tr>\n",
       "      <th>2705</th>\n",
       "      <td>2006-01-06</td>\n",
       "      <td>16:40</td>\n",
       "      <td>M</td>\n",
       "      <td>1981.0</td>\n",
       "      <td>25.0</td>\n",
       "      <td>White</td>\n",
       "      <td>Speeding</td>\n",
       "      <td>Speeding</td>\n",
       "      <td>True</td>\n",
       "      <td>Incident to Arrest,Protective Frisk</td>\n",
       "      <td>Citation</td>\n",
       "      <td>False</td>\n",
       "      <td>30+ Min</td>\n",
       "      <td>False</td>\n",
       "      <td>True</td>\n",
       "    </tr>\n",
       "    <tr>\n",
       "      <th>2706</th>\n",
       "      <td>2006-01-06</td>\n",
       "      <td>16:40</td>\n",
       "      <td>M</td>\n",
       "      <td>1981.0</td>\n",
       "      <td>25.0</td>\n",
       "      <td>White</td>\n",
       "      <td>Speeding</td>\n",
       "      <td>Speeding</td>\n",
       "      <td>True</td>\n",
       "      <td>Incident to Arrest,Protective Frisk</td>\n",
       "      <td>Citation</td>\n",
       "      <td>False</td>\n",
       "      <td>30+ Min</td>\n",
       "      <td>False</td>\n",
       "      <td>True</td>\n",
       "    </tr>\n",
       "    <tr>\n",
       "      <th>2751</th>\n",
       "      <td>2006-01-07</td>\n",
       "      <td>18:05</td>\n",
       "      <td>M</td>\n",
       "      <td>1978.0</td>\n",
       "      <td>28.0</td>\n",
       "      <td>White</td>\n",
       "      <td>Speeding</td>\n",
       "      <td>Speeding</td>\n",
       "      <td>True</td>\n",
       "      <td>Incident to Arrest,Protective Frisk</td>\n",
       "      <td>Arrest Driver</td>\n",
       "      <td>True</td>\n",
       "      <td>30+ Min</td>\n",
       "      <td>False</td>\n",
       "      <td>True</td>\n",
       "    </tr>\n",
       "    <tr>\n",
       "      <th>3017</th>\n",
       "      <td>2006-01-15</td>\n",
       "      <td>09:00</td>\n",
       "      <td>F</td>\n",
       "      <td>1981.0</td>\n",
       "      <td>25.0</td>\n",
       "      <td>White</td>\n",
       "      <td>Equipment/Inspection Violation</td>\n",
       "      <td>Equipment</td>\n",
       "      <td>True</td>\n",
       "      <td>Incident to Arrest,Protective Frisk</td>\n",
       "      <td>Arrest Driver</td>\n",
       "      <td>True</td>\n",
       "      <td>30+ Min</td>\n",
       "      <td>False</td>\n",
       "      <td>True</td>\n",
       "    </tr>\n",
       "    <tr>\n",
       "      <th>3253</th>\n",
       "      <td>2006-01-21</td>\n",
       "      <td>12:25</td>\n",
       "      <td>M</td>\n",
       "      <td>1982.0</td>\n",
       "      <td>24.0</td>\n",
       "      <td>White</td>\n",
       "      <td>Speeding</td>\n",
       "      <td>Speeding</td>\n",
       "      <td>True</td>\n",
       "      <td>Incident to Arrest,Protective Frisk</td>\n",
       "      <td>Arrest Driver</td>\n",
       "      <td>True</td>\n",
       "      <td>30+ Min</td>\n",
       "      <td>False</td>\n",
       "      <td>True</td>\n",
       "    </tr>\n",
       "    <tr>\n",
       "      <th>...</th>\n",
       "      <td>...</td>\n",
       "      <td>...</td>\n",
       "      <td>...</td>\n",
       "      <td>...</td>\n",
       "      <td>...</td>\n",
       "      <td>...</td>\n",
       "      <td>...</td>\n",
       "      <td>...</td>\n",
       "      <td>...</td>\n",
       "      <td>...</td>\n",
       "      <td>...</td>\n",
       "      <td>...</td>\n",
       "      <td>...</td>\n",
       "      <td>...</td>\n",
       "      <td>...</td>\n",
       "    </tr>\n",
       "    <tr>\n",
       "      <th>77805</th>\n",
       "      <td>2014-05-26</td>\n",
       "      <td>07:22</td>\n",
       "      <td>M</td>\n",
       "      <td>1980.0</td>\n",
       "      <td>34.0</td>\n",
       "      <td>Black</td>\n",
       "      <td>Speeding</td>\n",
       "      <td>Speeding</td>\n",
       "      <td>True</td>\n",
       "      <td>Probable Cause,Protective Frisk</td>\n",
       "      <td>Citation</td>\n",
       "      <td>False</td>\n",
       "      <td>0-15 Min</td>\n",
       "      <td>False</td>\n",
       "      <td>True</td>\n",
       "    </tr>\n",
       "    <tr>\n",
       "      <th>78372</th>\n",
       "      <td>2014-06-16</td>\n",
       "      <td>12:47</td>\n",
       "      <td>M</td>\n",
       "      <td>1982.0</td>\n",
       "      <td>32.0</td>\n",
       "      <td>Hispanic</td>\n",
       "      <td>Speeding</td>\n",
       "      <td>Speeding</td>\n",
       "      <td>True</td>\n",
       "      <td>Protective Frisk</td>\n",
       "      <td>Citation</td>\n",
       "      <td>False</td>\n",
       "      <td>0-15 Min</td>\n",
       "      <td>False</td>\n",
       "      <td>True</td>\n",
       "    </tr>\n",
       "    <tr>\n",
       "      <th>79392</th>\n",
       "      <td>2014-07-24</td>\n",
       "      <td>22:54</td>\n",
       "      <td>M</td>\n",
       "      <td>1977.0</td>\n",
       "      <td>37.0</td>\n",
       "      <td>Black</td>\n",
       "      <td>Speeding</td>\n",
       "      <td>Speeding</td>\n",
       "      <td>True</td>\n",
       "      <td>Probable Cause,Protective Frisk</td>\n",
       "      <td>Citation</td>\n",
       "      <td>False</td>\n",
       "      <td>30+ Min</td>\n",
       "      <td>True</td>\n",
       "      <td>True</td>\n",
       "    </tr>\n",
       "    <tr>\n",
       "      <th>79694</th>\n",
       "      <td>2014-08-06</td>\n",
       "      <td>09:55</td>\n",
       "      <td>M</td>\n",
       "      <td>1994.0</td>\n",
       "      <td>20.0</td>\n",
       "      <td>White</td>\n",
       "      <td>Seatbelt Violation</td>\n",
       "      <td>Seat belt</td>\n",
       "      <td>True</td>\n",
       "      <td>Protective Frisk</td>\n",
       "      <td>Citation</td>\n",
       "      <td>False</td>\n",
       "      <td>0-15 Min</td>\n",
       "      <td>False</td>\n",
       "      <td>True</td>\n",
       "    </tr>\n",
       "    <tr>\n",
       "      <th>79977</th>\n",
       "      <td>2014-08-18</td>\n",
       "      <td>08:48</td>\n",
       "      <td>M</td>\n",
       "      <td>1984.0</td>\n",
       "      <td>30.0</td>\n",
       "      <td>White</td>\n",
       "      <td>Seatbelt Violation</td>\n",
       "      <td>Seat belt</td>\n",
       "      <td>True</td>\n",
       "      <td>Protective Frisk</td>\n",
       "      <td>Citation</td>\n",
       "      <td>False</td>\n",
       "      <td>0-15 Min</td>\n",
       "      <td>False</td>\n",
       "      <td>True</td>\n",
       "    </tr>\n",
       "    <tr>\n",
       "      <th>79985</th>\n",
       "      <td>2014-08-18</td>\n",
       "      <td>16:16</td>\n",
       "      <td>M</td>\n",
       "      <td>1971.0</td>\n",
       "      <td>43.0</td>\n",
       "      <td>White</td>\n",
       "      <td>Equipment/Inspection Violation</td>\n",
       "      <td>Equipment</td>\n",
       "      <td>True</td>\n",
       "      <td>Protective Frisk</td>\n",
       "      <td>Citation</td>\n",
       "      <td>False</td>\n",
       "      <td>0-15 Min</td>\n",
       "      <td>False</td>\n",
       "      <td>True</td>\n",
       "    </tr>\n",
       "    <tr>\n",
       "      <th>80293</th>\n",
       "      <td>2014-08-30</td>\n",
       "      <td>08:26</td>\n",
       "      <td>F</td>\n",
       "      <td>1966.0</td>\n",
       "      <td>48.0</td>\n",
       "      <td>White</td>\n",
       "      <td>Equipment/Inspection Violation</td>\n",
       "      <td>Equipment</td>\n",
       "      <td>True</td>\n",
       "      <td>Protective Frisk</td>\n",
       "      <td>Citation</td>\n",
       "      <td>False</td>\n",
       "      <td>0-15 Min</td>\n",
       "      <td>False</td>\n",
       "      <td>True</td>\n",
       "    </tr>\n",
       "    <tr>\n",
       "      <th>81599</th>\n",
       "      <td>2014-10-19</td>\n",
       "      <td>09:49</td>\n",
       "      <td>M</td>\n",
       "      <td>1968.0</td>\n",
       "      <td>46.0</td>\n",
       "      <td>White</td>\n",
       "      <td>Other Traffic Violation</td>\n",
       "      <td>Moving violation</td>\n",
       "      <td>True</td>\n",
       "      <td>Protective Frisk</td>\n",
       "      <td>Citation</td>\n",
       "      <td>False</td>\n",
       "      <td>0-15 Min</td>\n",
       "      <td>False</td>\n",
       "      <td>True</td>\n",
       "    </tr>\n",
       "    <tr>\n",
       "      <th>82118</th>\n",
       "      <td>2014-11-11</td>\n",
       "      <td>09:48</td>\n",
       "      <td>F</td>\n",
       "      <td>1982.0</td>\n",
       "      <td>32.0</td>\n",
       "      <td>Hispanic</td>\n",
       "      <td>Seatbelt Violation</td>\n",
       "      <td>Seat belt</td>\n",
       "      <td>True</td>\n",
       "      <td>Protective Frisk</td>\n",
       "      <td>Citation</td>\n",
       "      <td>False</td>\n",
       "      <td>0-15 Min</td>\n",
       "      <td>False</td>\n",
       "      <td>True</td>\n",
       "    </tr>\n",
       "    <tr>\n",
       "      <th>83075</th>\n",
       "      <td>2014-12-28</td>\n",
       "      <td>12:32</td>\n",
       "      <td>M</td>\n",
       "      <td>1981.0</td>\n",
       "      <td>33.0</td>\n",
       "      <td>White</td>\n",
       "      <td>Equipment/Inspection Violation</td>\n",
       "      <td>Equipment</td>\n",
       "      <td>True</td>\n",
       "      <td>Protective Frisk</td>\n",
       "      <td>Citation</td>\n",
       "      <td>False</td>\n",
       "      <td>0-15 Min</td>\n",
       "      <td>False</td>\n",
       "      <td>True</td>\n",
       "    </tr>\n",
       "    <tr>\n",
       "      <th>83178</th>\n",
       "      <td>2015-01-03</td>\n",
       "      <td>09:40</td>\n",
       "      <td>M</td>\n",
       "      <td>1964.0</td>\n",
       "      <td>51.0</td>\n",
       "      <td>White</td>\n",
       "      <td>Seatbelt Violation</td>\n",
       "      <td>Seat belt</td>\n",
       "      <td>True</td>\n",
       "      <td>Protective Frisk</td>\n",
       "      <td>Citation</td>\n",
       "      <td>False</td>\n",
       "      <td>0-15 Min</td>\n",
       "      <td>False</td>\n",
       "      <td>True</td>\n",
       "    </tr>\n",
       "    <tr>\n",
       "      <th>83186</th>\n",
       "      <td>2015-01-03</td>\n",
       "      <td>12:56</td>\n",
       "      <td>M</td>\n",
       "      <td>1984.0</td>\n",
       "      <td>31.0</td>\n",
       "      <td>Hispanic</td>\n",
       "      <td>Other Traffic Violation</td>\n",
       "      <td>Moving violation</td>\n",
       "      <td>True</td>\n",
       "      <td>Protective Frisk</td>\n",
       "      <td>Citation</td>\n",
       "      <td>False</td>\n",
       "      <td>0-15 Min</td>\n",
       "      <td>False</td>\n",
       "      <td>True</td>\n",
       "    </tr>\n",
       "    <tr>\n",
       "      <th>83485</th>\n",
       "      <td>2015-01-14</td>\n",
       "      <td>20:28</td>\n",
       "      <td>M</td>\n",
       "      <td>1976.0</td>\n",
       "      <td>39.0</td>\n",
       "      <td>Black</td>\n",
       "      <td>Speeding</td>\n",
       "      <td>Speeding</td>\n",
       "      <td>True</td>\n",
       "      <td>Probable Cause,Protective Frisk</td>\n",
       "      <td>Citation</td>\n",
       "      <td>False</td>\n",
       "      <td>0-15 Min</td>\n",
       "      <td>False</td>\n",
       "      <td>True</td>\n",
       "    </tr>\n",
       "    <tr>\n",
       "      <th>84690</th>\n",
       "      <td>2015-03-15</td>\n",
       "      <td>03:56</td>\n",
       "      <td>M</td>\n",
       "      <td>1993.0</td>\n",
       "      <td>22.0</td>\n",
       "      <td>Black</td>\n",
       "      <td>Motorist Assist/Courtesy</td>\n",
       "      <td>Other</td>\n",
       "      <td>True</td>\n",
       "      <td>Probable Cause,Protective Frisk</td>\n",
       "      <td>No Action</td>\n",
       "      <td>False</td>\n",
       "      <td>0-15 Min</td>\n",
       "      <td>False</td>\n",
       "      <td>True</td>\n",
       "    </tr>\n",
       "    <tr>\n",
       "      <th>85203</th>\n",
       "      <td>2015-04-08</td>\n",
       "      <td>01:03</td>\n",
       "      <td>M</td>\n",
       "      <td>1992.0</td>\n",
       "      <td>23.0</td>\n",
       "      <td>White</td>\n",
       "      <td>Equipment/Inspection Violation</td>\n",
       "      <td>Equipment</td>\n",
       "      <td>True</td>\n",
       "      <td>Incident to Arrest,Protective Frisk</td>\n",
       "      <td>Citation</td>\n",
       "      <td>False</td>\n",
       "      <td>30+ Min</td>\n",
       "      <td>False</td>\n",
       "      <td>True</td>\n",
       "    </tr>\n",
       "    <tr>\n",
       "      <th>85391</th>\n",
       "      <td>2015-04-17</td>\n",
       "      <td>11:37</td>\n",
       "      <td>M</td>\n",
       "      <td>1969.0</td>\n",
       "      <td>46.0</td>\n",
       "      <td>Black</td>\n",
       "      <td>Equipment/Inspection Violation</td>\n",
       "      <td>Equipment</td>\n",
       "      <td>True</td>\n",
       "      <td>Probable Cause,Protective Frisk</td>\n",
       "      <td>Warning</td>\n",
       "      <td>False</td>\n",
       "      <td>30+ Min</td>\n",
       "      <td>False</td>\n",
       "      <td>True</td>\n",
       "    </tr>\n",
       "    <tr>\n",
       "      <th>85482</th>\n",
       "      <td>2015-04-21</td>\n",
       "      <td>11:01</td>\n",
       "      <td>M</td>\n",
       "      <td>1970.0</td>\n",
       "      <td>45.0</td>\n",
       "      <td>Asian</td>\n",
       "      <td>Seatbelt Violation</td>\n",
       "      <td>Seat belt</td>\n",
       "      <td>True</td>\n",
       "      <td>Protective Frisk</td>\n",
       "      <td>Citation</td>\n",
       "      <td>False</td>\n",
       "      <td>0-15 Min</td>\n",
       "      <td>False</td>\n",
       "      <td>True</td>\n",
       "    </tr>\n",
       "    <tr>\n",
       "      <th>85946</th>\n",
       "      <td>2015-05-11</td>\n",
       "      <td>11:14</td>\n",
       "      <td>M</td>\n",
       "      <td>1986.0</td>\n",
       "      <td>29.0</td>\n",
       "      <td>Black</td>\n",
       "      <td>Speeding</td>\n",
       "      <td>Speeding</td>\n",
       "      <td>True</td>\n",
       "      <td>Protective Frisk</td>\n",
       "      <td>Warning</td>\n",
       "      <td>False</td>\n",
       "      <td>16-30 Min</td>\n",
       "      <td>False</td>\n",
       "      <td>True</td>\n",
       "    </tr>\n",
       "    <tr>\n",
       "      <th>86052</th>\n",
       "      <td>2015-05-16</td>\n",
       "      <td>16:11</td>\n",
       "      <td>F</td>\n",
       "      <td>1993.0</td>\n",
       "      <td>22.0</td>\n",
       "      <td>Hispanic</td>\n",
       "      <td>Speeding</td>\n",
       "      <td>Speeding</td>\n",
       "      <td>True</td>\n",
       "      <td>Protective Frisk</td>\n",
       "      <td>Warning</td>\n",
       "      <td>False</td>\n",
       "      <td>16-30 Min</td>\n",
       "      <td>False</td>\n",
       "      <td>True</td>\n",
       "    </tr>\n",
       "    <tr>\n",
       "      <th>86758</th>\n",
       "      <td>2015-06-14</td>\n",
       "      <td>15:35</td>\n",
       "      <td>M</td>\n",
       "      <td>1980.0</td>\n",
       "      <td>35.0</td>\n",
       "      <td>White</td>\n",
       "      <td>Seatbelt Violation</td>\n",
       "      <td>Seat belt</td>\n",
       "      <td>True</td>\n",
       "      <td>Protective Frisk</td>\n",
       "      <td>Citation</td>\n",
       "      <td>False</td>\n",
       "      <td>0-15 Min</td>\n",
       "      <td>False</td>\n",
       "      <td>True</td>\n",
       "    </tr>\n",
       "    <tr>\n",
       "      <th>87040</th>\n",
       "      <td>2015-06-29</td>\n",
       "      <td>16:37</td>\n",
       "      <td>M</td>\n",
       "      <td>1983.0</td>\n",
       "      <td>32.0</td>\n",
       "      <td>Hispanic</td>\n",
       "      <td>Registration Violation</td>\n",
       "      <td>Registration/plates</td>\n",
       "      <td>True</td>\n",
       "      <td>Protective Frisk</td>\n",
       "      <td>Citation</td>\n",
       "      <td>False</td>\n",
       "      <td>0-15 Min</td>\n",
       "      <td>False</td>\n",
       "      <td>True</td>\n",
       "    </tr>\n",
       "    <tr>\n",
       "      <th>87394</th>\n",
       "      <td>2015-07-14</td>\n",
       "      <td>10:24</td>\n",
       "      <td>M</td>\n",
       "      <td>1971.0</td>\n",
       "      <td>44.0</td>\n",
       "      <td>White</td>\n",
       "      <td>Equipment/Inspection Violation</td>\n",
       "      <td>Equipment</td>\n",
       "      <td>True</td>\n",
       "      <td>Protective Frisk</td>\n",
       "      <td>Warning</td>\n",
       "      <td>False</td>\n",
       "      <td>16-30 Min</td>\n",
       "      <td>False</td>\n",
       "      <td>True</td>\n",
       "    </tr>\n",
       "    <tr>\n",
       "      <th>87397</th>\n",
       "      <td>2015-07-14</td>\n",
       "      <td>10:59</td>\n",
       "      <td>M</td>\n",
       "      <td>1993.0</td>\n",
       "      <td>22.0</td>\n",
       "      <td>White</td>\n",
       "      <td>Equipment/Inspection Violation</td>\n",
       "      <td>Equipment</td>\n",
       "      <td>True</td>\n",
       "      <td>Protective Frisk</td>\n",
       "      <td>Warning</td>\n",
       "      <td>False</td>\n",
       "      <td>16-30 Min</td>\n",
       "      <td>False</td>\n",
       "      <td>True</td>\n",
       "    </tr>\n",
       "    <tr>\n",
       "      <th>87498</th>\n",
       "      <td>2015-07-18</td>\n",
       "      <td>16:12</td>\n",
       "      <td>M</td>\n",
       "      <td>1987.0</td>\n",
       "      <td>28.0</td>\n",
       "      <td>Black</td>\n",
       "      <td>Equipment/Inspection Violation</td>\n",
       "      <td>Equipment</td>\n",
       "      <td>True</td>\n",
       "      <td>Protective Frisk,Reasonable Suspicion</td>\n",
       "      <td>Warning</td>\n",
       "      <td>False</td>\n",
       "      <td>0-15 Min</td>\n",
       "      <td>False</td>\n",
       "      <td>True</td>\n",
       "    </tr>\n",
       "    <tr>\n",
       "      <th>87770</th>\n",
       "      <td>2015-07-29</td>\n",
       "      <td>18:27</td>\n",
       "      <td>M</td>\n",
       "      <td>1978.0</td>\n",
       "      <td>37.0</td>\n",
       "      <td>White</td>\n",
       "      <td>Speeding</td>\n",
       "      <td>Speeding</td>\n",
       "      <td>True</td>\n",
       "      <td>Protective Frisk</td>\n",
       "      <td>Citation</td>\n",
       "      <td>False</td>\n",
       "      <td>30+ Min</td>\n",
       "      <td>False</td>\n",
       "      <td>True</td>\n",
       "    </tr>\n",
       "    <tr>\n",
       "      <th>88217</th>\n",
       "      <td>2015-08-12</td>\n",
       "      <td>09:29</td>\n",
       "      <td>M</td>\n",
       "      <td>1990.0</td>\n",
       "      <td>25.0</td>\n",
       "      <td>Hispanic</td>\n",
       "      <td>Other Traffic Violation</td>\n",
       "      <td>Moving violation</td>\n",
       "      <td>True</td>\n",
       "      <td>Probable Cause,Protective Frisk,Reasonable Sus...</td>\n",
       "      <td>Citation</td>\n",
       "      <td>False</td>\n",
       "      <td>30+ Min</td>\n",
       "      <td>True</td>\n",
       "      <td>True</td>\n",
       "    </tr>\n",
       "    <tr>\n",
       "      <th>88555</th>\n",
       "      <td>2015-08-25</td>\n",
       "      <td>12:57</td>\n",
       "      <td>F</td>\n",
       "      <td>1991.0</td>\n",
       "      <td>24.0</td>\n",
       "      <td>White</td>\n",
       "      <td>Speeding</td>\n",
       "      <td>Speeding</td>\n",
       "      <td>True</td>\n",
       "      <td>Probable Cause,Protective Frisk</td>\n",
       "      <td>Citation</td>\n",
       "      <td>False</td>\n",
       "      <td>30+ Min</td>\n",
       "      <td>False</td>\n",
       "      <td>True</td>\n",
       "    </tr>\n",
       "    <tr>\n",
       "      <th>89017</th>\n",
       "      <td>2015-09-08</td>\n",
       "      <td>10:43</td>\n",
       "      <td>M</td>\n",
       "      <td>1988.0</td>\n",
       "      <td>27.0</td>\n",
       "      <td>Hispanic</td>\n",
       "      <td>Seatbelt Violation</td>\n",
       "      <td>Seat belt</td>\n",
       "      <td>True</td>\n",
       "      <td>Protective Frisk</td>\n",
       "      <td>Citation</td>\n",
       "      <td>False</td>\n",
       "      <td>16-30 Min</td>\n",
       "      <td>False</td>\n",
       "      <td>True</td>\n",
       "    </tr>\n",
       "    <tr>\n",
       "      <th>89656</th>\n",
       "      <td>2015-09-30</td>\n",
       "      <td>17:18</td>\n",
       "      <td>M</td>\n",
       "      <td>1966.0</td>\n",
       "      <td>49.0</td>\n",
       "      <td>White</td>\n",
       "      <td>Speeding</td>\n",
       "      <td>Speeding</td>\n",
       "      <td>True</td>\n",
       "      <td>Protective Frisk</td>\n",
       "      <td>Warning</td>\n",
       "      <td>False</td>\n",
       "      <td>16-30 Min</td>\n",
       "      <td>False</td>\n",
       "      <td>True</td>\n",
       "    </tr>\n",
       "    <tr>\n",
       "      <th>91253</th>\n",
       "      <td>2015-12-06</td>\n",
       "      <td>10:33</td>\n",
       "      <td>M</td>\n",
       "      <td>1993.0</td>\n",
       "      <td>22.0</td>\n",
       "      <td>Hispanic</td>\n",
       "      <td>Speeding</td>\n",
       "      <td>Speeding</td>\n",
       "      <td>True</td>\n",
       "      <td>Protective Frisk</td>\n",
       "      <td>Citation</td>\n",
       "      <td>False</td>\n",
       "      <td>16-30 Min</td>\n",
       "      <td>True</td>\n",
       "      <td>True</td>\n",
       "    </tr>\n",
       "  </tbody>\n",
       "</table>\n",
       "<p>274 rows × 15 columns</p>\n",
       "</div>"
      ],
      "text/plain": [
       "        stop_date stop_time driver_gender  driver_age_raw  driver_age  \\\n",
       "24     2005-08-28     01:00             M          1979.0        26.0   \n",
       "339    2005-10-12     20:30             M          1987.0        18.0   \n",
       "340    2005-10-12     20:30             M          1987.0        18.0   \n",
       "415    2005-10-17     09:30             M          1983.0        22.0   \n",
       "590    2005-10-23     14:40             M          1978.0        27.0   \n",
       "600    2005-10-23     16:20             M          1988.0        17.0   \n",
       "1115   2005-11-08     01:30             M          1979.0        26.0   \n",
       "1243   2005-11-12     20:45             M          1982.0        23.0   \n",
       "1329   2005-11-16     00:11             M          1979.0        26.0   \n",
       "1541   2005-11-23     09:00             M          1988.0        17.0   \n",
       "1644   2005-11-26     14:21             M          1987.0        18.0   \n",
       "1916   2005-12-04     03:15             M          1985.0        20.0   \n",
       "1917   2005-12-04     03:15             M          1971.0        34.0   \n",
       "2003   2005-12-07     18:45             M          1964.0        41.0   \n",
       "2027   2005-12-08     21:15             M          1970.0        35.0   \n",
       "2206   2005-12-17     00:40             M          1984.0        21.0   \n",
       "2266   2005-12-18     19:20             M          1973.0        32.0   \n",
       "2316   2005-12-20     12:20             M          1964.0        41.0   \n",
       "2337   2005-12-21     13:30             M          1986.0        19.0   \n",
       "2463   2005-12-28     14:50             M          1987.0        18.0   \n",
       "2513   2005-12-30     18:15             M          1979.0        26.0   \n",
       "2537   2005-12-31     09:34             M          1970.0        35.0   \n",
       "2562   2006-01-01     03:50             M          1978.0        28.0   \n",
       "2655   2006-01-05     01:00             M          1971.0        35.0   \n",
       "2674   2006-01-05     23:45             M          1970.0        36.0   \n",
       "2705   2006-01-06     16:40             M          1981.0        25.0   \n",
       "2706   2006-01-06     16:40             M          1981.0        25.0   \n",
       "2751   2006-01-07     18:05             M          1978.0        28.0   \n",
       "3017   2006-01-15     09:00             F          1981.0        25.0   \n",
       "3253   2006-01-21     12:25             M          1982.0        24.0   \n",
       "...           ...       ...           ...             ...         ...   \n",
       "77805  2014-05-26     07:22             M          1980.0        34.0   \n",
       "78372  2014-06-16     12:47             M          1982.0        32.0   \n",
       "79392  2014-07-24     22:54             M          1977.0        37.0   \n",
       "79694  2014-08-06     09:55             M          1994.0        20.0   \n",
       "79977  2014-08-18     08:48             M          1984.0        30.0   \n",
       "79985  2014-08-18     16:16             M          1971.0        43.0   \n",
       "80293  2014-08-30     08:26             F          1966.0        48.0   \n",
       "81599  2014-10-19     09:49             M          1968.0        46.0   \n",
       "82118  2014-11-11     09:48             F          1982.0        32.0   \n",
       "83075  2014-12-28     12:32             M          1981.0        33.0   \n",
       "83178  2015-01-03     09:40             M          1964.0        51.0   \n",
       "83186  2015-01-03     12:56             M          1984.0        31.0   \n",
       "83485  2015-01-14     20:28             M          1976.0        39.0   \n",
       "84690  2015-03-15     03:56             M          1993.0        22.0   \n",
       "85203  2015-04-08     01:03             M          1992.0        23.0   \n",
       "85391  2015-04-17     11:37             M          1969.0        46.0   \n",
       "85482  2015-04-21     11:01             M          1970.0        45.0   \n",
       "85946  2015-05-11     11:14             M          1986.0        29.0   \n",
       "86052  2015-05-16     16:11             F          1993.0        22.0   \n",
       "86758  2015-06-14     15:35             M          1980.0        35.0   \n",
       "87040  2015-06-29     16:37             M          1983.0        32.0   \n",
       "87394  2015-07-14     10:24             M          1971.0        44.0   \n",
       "87397  2015-07-14     10:59             M          1993.0        22.0   \n",
       "87498  2015-07-18     16:12             M          1987.0        28.0   \n",
       "87770  2015-07-29     18:27             M          1978.0        37.0   \n",
       "88217  2015-08-12     09:29             M          1990.0        25.0   \n",
       "88555  2015-08-25     12:57             F          1991.0        24.0   \n",
       "89017  2015-09-08     10:43             M          1988.0        27.0   \n",
       "89656  2015-09-30     17:18             M          1966.0        49.0   \n",
       "91253  2015-12-06     10:33             M          1993.0        22.0   \n",
       "\n",
       "      driver_race                   violation_raw            violation  \\\n",
       "24          White         Other Traffic Violation     Moving violation   \n",
       "339      Hispanic         Other Traffic Violation     Moving violation   \n",
       "340      Hispanic         Other Traffic Violation     Moving violation   \n",
       "415         Black                        Speeding             Speeding   \n",
       "590         White  Equipment/Inspection Violation            Equipment   \n",
       "600         White  Equipment/Inspection Violation            Equipment   \n",
       "1115        White                        Speeding             Speeding   \n",
       "1243        White                        Speeding             Speeding   \n",
       "1329     Hispanic  Equipment/Inspection Violation            Equipment   \n",
       "1541     Hispanic  Equipment/Inspection Violation            Equipment   \n",
       "1644        White                        Speeding             Speeding   \n",
       "1916     Hispanic                        Speeding             Speeding   \n",
       "1917        White         Other Traffic Violation     Moving violation   \n",
       "2003        White                        Speeding             Speeding   \n",
       "2027        White          Registration Violation  Registration/plates   \n",
       "2206        White                        Speeding             Speeding   \n",
       "2266        White                        Speeding             Speeding   \n",
       "2316        Black          Registration Violation  Registration/plates   \n",
       "2337        White  Equipment/Inspection Violation            Equipment   \n",
       "2463        White  Equipment/Inspection Violation            Equipment   \n",
       "2513        Black          Registration Violation  Registration/plates   \n",
       "2537        White                        Speeding             Speeding   \n",
       "2562        White         Other Traffic Violation     Moving violation   \n",
       "2655        White                Call for Service                Other   \n",
       "2674        Black                        Speeding             Speeding   \n",
       "2705        White                        Speeding             Speeding   \n",
       "2706        White                        Speeding             Speeding   \n",
       "2751        White                        Speeding             Speeding   \n",
       "3017        White  Equipment/Inspection Violation            Equipment   \n",
       "3253        White                        Speeding             Speeding   \n",
       "...           ...                             ...                  ...   \n",
       "77805       Black                        Speeding             Speeding   \n",
       "78372    Hispanic                        Speeding             Speeding   \n",
       "79392       Black                        Speeding             Speeding   \n",
       "79694       White              Seatbelt Violation            Seat belt   \n",
       "79977       White              Seatbelt Violation            Seat belt   \n",
       "79985       White  Equipment/Inspection Violation            Equipment   \n",
       "80293       White  Equipment/Inspection Violation            Equipment   \n",
       "81599       White         Other Traffic Violation     Moving violation   \n",
       "82118    Hispanic              Seatbelt Violation            Seat belt   \n",
       "83075       White  Equipment/Inspection Violation            Equipment   \n",
       "83178       White              Seatbelt Violation            Seat belt   \n",
       "83186    Hispanic         Other Traffic Violation     Moving violation   \n",
       "83485       Black                        Speeding             Speeding   \n",
       "84690       Black        Motorist Assist/Courtesy                Other   \n",
       "85203       White  Equipment/Inspection Violation            Equipment   \n",
       "85391       Black  Equipment/Inspection Violation            Equipment   \n",
       "85482       Asian              Seatbelt Violation            Seat belt   \n",
       "85946       Black                        Speeding             Speeding   \n",
       "86052    Hispanic                        Speeding             Speeding   \n",
       "86758       White              Seatbelt Violation            Seat belt   \n",
       "87040    Hispanic          Registration Violation  Registration/plates   \n",
       "87394       White  Equipment/Inspection Violation            Equipment   \n",
       "87397       White  Equipment/Inspection Violation            Equipment   \n",
       "87498       Black  Equipment/Inspection Violation            Equipment   \n",
       "87770       White                        Speeding             Speeding   \n",
       "88217    Hispanic         Other Traffic Violation     Moving violation   \n",
       "88555       White                        Speeding             Speeding   \n",
       "89017    Hispanic              Seatbelt Violation            Seat belt   \n",
       "89656       White                        Speeding             Speeding   \n",
       "91253    Hispanic                        Speeding             Speeding   \n",
       "\n",
       "       search_conducted                                        search_type  \\\n",
       "24                 True                Incident to Arrest,Protective Frisk   \n",
       "339                True                                   Protective Frisk   \n",
       "340                True                                   Protective Frisk   \n",
       "415                True                                   Protective Frisk   \n",
       "590                True                         Inventory,Protective Frisk   \n",
       "600                True                                   Protective Frisk   \n",
       "1115               True                                   Protective Frisk   \n",
       "1243               True                                   Protective Frisk   \n",
       "1329               True                Incident to Arrest,Protective Frisk   \n",
       "1541               True                                   Protective Frisk   \n",
       "1644               True                                   Protective Frisk   \n",
       "1916               True  Incident to Arrest,Probable Cause,Protective F...   \n",
       "1917               True                Incident to Arrest,Protective Frisk   \n",
       "2003               True                    Probable Cause,Protective Frisk   \n",
       "2027               True                Incident to Arrest,Protective Frisk   \n",
       "2206               True                                   Protective Frisk   \n",
       "2266               True                                   Protective Frisk   \n",
       "2316               True      Incident to Arrest,Inventory,Protective Frisk   \n",
       "2337               True                Incident to Arrest,Protective Frisk   \n",
       "2463               True                         Inventory,Protective Frisk   \n",
       "2513               True                                   Protective Frisk   \n",
       "2537               True                Incident to Arrest,Protective Frisk   \n",
       "2562               True                                   Protective Frisk   \n",
       "2655               True                    Probable Cause,Protective Frisk   \n",
       "2674               True              Protective Frisk,Reasonable Suspicion   \n",
       "2705               True                Incident to Arrest,Protective Frisk   \n",
       "2706               True                Incident to Arrest,Protective Frisk   \n",
       "2751               True                Incident to Arrest,Protective Frisk   \n",
       "3017               True                Incident to Arrest,Protective Frisk   \n",
       "3253               True                Incident to Arrest,Protective Frisk   \n",
       "...                 ...                                                ...   \n",
       "77805              True                    Probable Cause,Protective Frisk   \n",
       "78372              True                                   Protective Frisk   \n",
       "79392              True                    Probable Cause,Protective Frisk   \n",
       "79694              True                                   Protective Frisk   \n",
       "79977              True                                   Protective Frisk   \n",
       "79985              True                                   Protective Frisk   \n",
       "80293              True                                   Protective Frisk   \n",
       "81599              True                                   Protective Frisk   \n",
       "82118              True                                   Protective Frisk   \n",
       "83075              True                                   Protective Frisk   \n",
       "83178              True                                   Protective Frisk   \n",
       "83186              True                                   Protective Frisk   \n",
       "83485              True                    Probable Cause,Protective Frisk   \n",
       "84690              True                    Probable Cause,Protective Frisk   \n",
       "85203              True                Incident to Arrest,Protective Frisk   \n",
       "85391              True                    Probable Cause,Protective Frisk   \n",
       "85482              True                                   Protective Frisk   \n",
       "85946              True                                   Protective Frisk   \n",
       "86052              True                                   Protective Frisk   \n",
       "86758              True                                   Protective Frisk   \n",
       "87040              True                                   Protective Frisk   \n",
       "87394              True                                   Protective Frisk   \n",
       "87397              True                                   Protective Frisk   \n",
       "87498              True              Protective Frisk,Reasonable Suspicion   \n",
       "87770              True                                   Protective Frisk   \n",
       "88217              True  Probable Cause,Protective Frisk,Reasonable Sus...   \n",
       "88555              True                    Probable Cause,Protective Frisk   \n",
       "89017              True                                   Protective Frisk   \n",
       "89656              True                                   Protective Frisk   \n",
       "91253              True                                   Protective Frisk   \n",
       "\n",
       "        stop_outcome is_arrested stop_duration  drugs_related_stop frisk  \n",
       "24     Arrest Driver        True     16-30 Min               False  True  \n",
       "339    Arrest Driver        True      0-15 Min               False  True  \n",
       "340    Arrest Driver        True      0-15 Min               False  True  \n",
       "415         Citation       False      0-15 Min               False  True  \n",
       "590         Citation       False      0-15 Min               False  True  \n",
       "600         Citation       False     16-30 Min               False  True  \n",
       "1115   Arrest Driver        True     16-30 Min               False  True  \n",
       "1243        Citation       False      0-15 Min               False  True  \n",
       "1329   Arrest Driver        True     16-30 Min               False  True  \n",
       "1541        Citation       False      0-15 Min               False  True  \n",
       "1644        Citation       False      0-15 Min               False  True  \n",
       "1916   Arrest Driver        True       30+ Min               False  True  \n",
       "1917   Arrest Driver        True     16-30 Min               False  True  \n",
       "2003        Citation       False     16-30 Min               False  True  \n",
       "2027   Arrest Driver        True       30+ Min               False  True  \n",
       "2206        Citation       False      0-15 Min               False  True  \n",
       "2266   Arrest Driver        True       30+ Min               False  True  \n",
       "2316   Arrest Driver        True       30+ Min               False  True  \n",
       "2337   Arrest Driver        True       30+ Min               False  True  \n",
       "2463        Citation       False       30+ Min               False  True  \n",
       "2513        Citation       False     16-30 Min               False  True  \n",
       "2537   Arrest Driver        True       30+ Min               False  True  \n",
       "2562        Citation       False      0-15 Min               False  True  \n",
       "2655        Citation       False       30+ Min               False  True  \n",
       "2674        Citation       False     16-30 Min               False  True  \n",
       "2705        Citation       False       30+ Min               False  True  \n",
       "2706        Citation       False       30+ Min               False  True  \n",
       "2751   Arrest Driver        True       30+ Min               False  True  \n",
       "3017   Arrest Driver        True       30+ Min               False  True  \n",
       "3253   Arrest Driver        True       30+ Min               False  True  \n",
       "...              ...         ...           ...                 ...   ...  \n",
       "77805       Citation       False      0-15 Min               False  True  \n",
       "78372       Citation       False      0-15 Min               False  True  \n",
       "79392       Citation       False       30+ Min                True  True  \n",
       "79694       Citation       False      0-15 Min               False  True  \n",
       "79977       Citation       False      0-15 Min               False  True  \n",
       "79985       Citation       False      0-15 Min               False  True  \n",
       "80293       Citation       False      0-15 Min               False  True  \n",
       "81599       Citation       False      0-15 Min               False  True  \n",
       "82118       Citation       False      0-15 Min               False  True  \n",
       "83075       Citation       False      0-15 Min               False  True  \n",
       "83178       Citation       False      0-15 Min               False  True  \n",
       "83186       Citation       False      0-15 Min               False  True  \n",
       "83485       Citation       False      0-15 Min               False  True  \n",
       "84690      No Action       False      0-15 Min               False  True  \n",
       "85203       Citation       False       30+ Min               False  True  \n",
       "85391        Warning       False       30+ Min               False  True  \n",
       "85482       Citation       False      0-15 Min               False  True  \n",
       "85946        Warning       False     16-30 Min               False  True  \n",
       "86052        Warning       False     16-30 Min               False  True  \n",
       "86758       Citation       False      0-15 Min               False  True  \n",
       "87040       Citation       False      0-15 Min               False  True  \n",
       "87394        Warning       False     16-30 Min               False  True  \n",
       "87397        Warning       False     16-30 Min               False  True  \n",
       "87498        Warning       False      0-15 Min               False  True  \n",
       "87770       Citation       False       30+ Min               False  True  \n",
       "88217       Citation       False       30+ Min                True  True  \n",
       "88555       Citation       False       30+ Min               False  True  \n",
       "89017       Citation       False     16-30 Min               False  True  \n",
       "89656        Warning       False     16-30 Min               False  True  \n",
       "91253       Citation       False     16-30 Min                True  True  \n",
       "\n",
       "[274 rows x 15 columns]"
      ]
     },
     "execution_count": 43,
     "metadata": {},
     "output_type": "execute_result"
    }
   ],
   "source": [
    "ri[ri.frisk == True]"
   ]
  },
  {
   "cell_type": "code",
   "execution_count": 44,
   "metadata": {},
   "outputs": [
    {
     "data": {
      "text/plain": [
       "274"
      ]
     },
     "execution_count": 44,
     "metadata": {},
     "output_type": "execute_result"
    }
   ],
   "source": [
    "# seems about right\n",
    "ri.frisk.sum()"
   ]
  },
  {
   "cell_type": "code",
   "execution_count": 45,
   "metadata": {},
   "outputs": [
    {
     "data": {
      "text/plain": [
       "0.08573216520650813"
      ]
     },
     "execution_count": 45,
     "metadata": {},
     "output_type": "execute_result"
    }
   ],
   "source": [
    "# frisk rate during a search\n",
    "# mean that is 8.57 % of people getting frisk by the police of all search type\n",
    "ri.frisk.mean()"
   ]
  },
  {
   "cell_type": "code",
   "execution_count": 46,
   "metadata": {},
   "outputs": [
    {
     "data": {
      "text/plain": [
       "NaN      88545\n",
       "False     2922\n",
       "True       274\n",
       "Name: frisk, dtype: int64"
      ]
     },
     "execution_count": 46,
     "metadata": {},
     "output_type": "execute_result"
    }
   ],
   "source": [
    "# str.contains preserved missing values from search_type\n",
    "ri.frisk.value_counts(dropna=False)"
   ]
  },
  {
   "cell_type": "code",
   "execution_count": 47,
   "metadata": {},
   "outputs": [
    {
     "data": {
      "text/plain": [
       "0.08573216520650813"
      ]
     },
     "execution_count": 47,
     "metadata": {},
     "output_type": "execute_result"
    }
   ],
   "source": [
    "# excludes stops that didn't involve a search\n",
    "274 / (2922 + 274)"
   ]
  },
  {
   "cell_type": "markdown",
   "metadata": {},
   "source": [
    "Lessons:\n",
    "\n",
    "- Use string methods to find partial matches\n",
    "- Use the correct denominator when calculating rates\n",
    "- pandas calculations ignore missing values\n",
    "- Apply the \"smell test\" to your results"
   ]
  },
  {
   "cell_type": "markdown",
   "metadata": {},
   "source": [
    "## 6. Which year had the least number of stops? ([video](https://www.youtube.com/watch?v=W0zGzXQmE7c&list=PL5-da3qGB5IBITZj_dYSFqnd_15JgqwA6&index=7))"
   ]
  },
  {
   "cell_type": "code",
   "execution_count": 48,
   "metadata": {},
   "outputs": [
    {
     "data": {
      "text/html": [
       "<div>\n",
       "<style scoped>\n",
       "    .dataframe tbody tr th:only-of-type {\n",
       "        vertical-align: middle;\n",
       "    }\n",
       "\n",
       "    .dataframe tbody tr th {\n",
       "        vertical-align: top;\n",
       "    }\n",
       "\n",
       "    .dataframe thead th {\n",
       "        text-align: right;\n",
       "    }\n",
       "</style>\n",
       "<table border=\"1\" class=\"dataframe\">\n",
       "  <thead>\n",
       "    <tr style=\"text-align: right;\">\n",
       "      <th></th>\n",
       "      <th>stop_date</th>\n",
       "      <th>stop_time</th>\n",
       "      <th>driver_gender</th>\n",
       "      <th>driver_age_raw</th>\n",
       "      <th>driver_age</th>\n",
       "      <th>driver_race</th>\n",
       "      <th>violation_raw</th>\n",
       "      <th>violation</th>\n",
       "      <th>search_conducted</th>\n",
       "      <th>search_type</th>\n",
       "      <th>stop_outcome</th>\n",
       "      <th>is_arrested</th>\n",
       "      <th>stop_duration</th>\n",
       "      <th>drugs_related_stop</th>\n",
       "      <th>frisk</th>\n",
       "    </tr>\n",
       "  </thead>\n",
       "  <tbody>\n",
       "    <tr>\n",
       "      <th>0</th>\n",
       "      <td>2005-01-02</td>\n",
       "      <td>01:55</td>\n",
       "      <td>M</td>\n",
       "      <td>1985.0</td>\n",
       "      <td>20.0</td>\n",
       "      <td>White</td>\n",
       "      <td>Speeding</td>\n",
       "      <td>Speeding</td>\n",
       "      <td>False</td>\n",
       "      <td>NaN</td>\n",
       "      <td>Citation</td>\n",
       "      <td>False</td>\n",
       "      <td>0-15 Min</td>\n",
       "      <td>False</td>\n",
       "      <td>NaN</td>\n",
       "    </tr>\n",
       "    <tr>\n",
       "      <th>1</th>\n",
       "      <td>2005-01-18</td>\n",
       "      <td>08:15</td>\n",
       "      <td>M</td>\n",
       "      <td>1965.0</td>\n",
       "      <td>40.0</td>\n",
       "      <td>White</td>\n",
       "      <td>Speeding</td>\n",
       "      <td>Speeding</td>\n",
       "      <td>False</td>\n",
       "      <td>NaN</td>\n",
       "      <td>Citation</td>\n",
       "      <td>False</td>\n",
       "      <td>0-15 Min</td>\n",
       "      <td>False</td>\n",
       "      <td>NaN</td>\n",
       "    </tr>\n",
       "    <tr>\n",
       "      <th>2</th>\n",
       "      <td>2005-01-23</td>\n",
       "      <td>23:15</td>\n",
       "      <td>M</td>\n",
       "      <td>1972.0</td>\n",
       "      <td>33.0</td>\n",
       "      <td>White</td>\n",
       "      <td>Speeding</td>\n",
       "      <td>Speeding</td>\n",
       "      <td>False</td>\n",
       "      <td>NaN</td>\n",
       "      <td>Citation</td>\n",
       "      <td>False</td>\n",
       "      <td>0-15 Min</td>\n",
       "      <td>False</td>\n",
       "      <td>NaN</td>\n",
       "    </tr>\n",
       "    <tr>\n",
       "      <th>3</th>\n",
       "      <td>2005-02-20</td>\n",
       "      <td>17:15</td>\n",
       "      <td>M</td>\n",
       "      <td>1986.0</td>\n",
       "      <td>19.0</td>\n",
       "      <td>White</td>\n",
       "      <td>Call for Service</td>\n",
       "      <td>Other</td>\n",
       "      <td>False</td>\n",
       "      <td>NaN</td>\n",
       "      <td>Arrest Driver</td>\n",
       "      <td>True</td>\n",
       "      <td>16-30 Min</td>\n",
       "      <td>False</td>\n",
       "      <td>NaN</td>\n",
       "    </tr>\n",
       "    <tr>\n",
       "      <th>4</th>\n",
       "      <td>2005-03-14</td>\n",
       "      <td>10:00</td>\n",
       "      <td>F</td>\n",
       "      <td>1984.0</td>\n",
       "      <td>21.0</td>\n",
       "      <td>White</td>\n",
       "      <td>Speeding</td>\n",
       "      <td>Speeding</td>\n",
       "      <td>False</td>\n",
       "      <td>NaN</td>\n",
       "      <td>Citation</td>\n",
       "      <td>False</td>\n",
       "      <td>0-15 Min</td>\n",
       "      <td>False</td>\n",
       "      <td>NaN</td>\n",
       "    </tr>\n",
       "  </tbody>\n",
       "</table>\n",
       "</div>"
      ],
      "text/plain": [
       "    stop_date stop_time driver_gender  driver_age_raw  driver_age driver_race  \\\n",
       "0  2005-01-02     01:55             M          1985.0        20.0       White   \n",
       "1  2005-01-18     08:15             M          1965.0        40.0       White   \n",
       "2  2005-01-23     23:15             M          1972.0        33.0       White   \n",
       "3  2005-02-20     17:15             M          1986.0        19.0       White   \n",
       "4  2005-03-14     10:00             F          1984.0        21.0       White   \n",
       "\n",
       "      violation_raw violation  search_conducted search_type   stop_outcome  \\\n",
       "0          Speeding  Speeding             False         NaN       Citation   \n",
       "1          Speeding  Speeding             False         NaN       Citation   \n",
       "2          Speeding  Speeding             False         NaN       Citation   \n",
       "3  Call for Service     Other             False         NaN  Arrest Driver   \n",
       "4          Speeding  Speeding             False         NaN       Citation   \n",
       "\n",
       "  is_arrested stop_duration  drugs_related_stop frisk  \n",
       "0       False      0-15 Min               False   NaN  \n",
       "1       False      0-15 Min               False   NaN  \n",
       "2       False      0-15 Min               False   NaN  \n",
       "3        True     16-30 Min               False   NaN  \n",
       "4       False      0-15 Min               False   NaN  "
      ]
     },
     "execution_count": 48,
     "metadata": {},
     "output_type": "execute_result"
    }
   ],
   "source": [
    "ri.head()"
   ]
  },
  {
   "cell_type": "code",
   "execution_count": 49,
   "metadata": {
    "scrolled": true
   },
   "outputs": [
    {
     "data": {
      "text/plain": [
       "2012    10970\n",
       "2006    10639\n",
       "2007     9476\n",
       "2014     9228\n",
       "2008     8752\n",
       "2015     8599\n",
       "2011     8126\n",
       "2013     7924\n",
       "2009     7908\n",
       "2010     7561\n",
       "2005     2558\n",
       "Name: stop_date, dtype: int64"
      ]
     },
     "execution_count": 49,
     "metadata": {},
     "output_type": "execute_result"
    }
   ],
   "source": [
    "# this works, but there's a better way\n",
    "ri.stop_date.str.slice(0, 4).value_counts()"
   ]
  },
  {
   "cell_type": "code",
   "execution_count": 99,
   "metadata": {},
   "outputs": [
    {
     "data": {
      "text/plain": [
       "0        2005-01-02 01:55\n",
       "1        2005-01-18 08:15\n",
       "2        2005-01-23 23:15\n",
       "3        2005-02-20 17:15\n",
       "4        2005-03-14 10:00\n",
       "5        2005-03-23 09:45\n",
       "6        2005-04-01 17:30\n",
       "7        2005-06-06 13:20\n",
       "8        2005-07-13 10:15\n",
       "9        2005-07-13 15:45\n",
       "10       2005-07-13 16:20\n",
       "11       2005-07-13 19:00\n",
       "12       2005-07-14 19:55\n",
       "13       2005-07-18 19:30\n",
       "14       2005-07-18 19:45\n",
       "15       2005-07-19 00:30\n",
       "16       2005-07-19 00:30\n",
       "17       2005-07-19 23:30\n",
       "18       2005-07-20 00:05\n",
       "19       2005-07-24 20:10\n",
       "20       2005-07-28 12:37\n",
       "21       2005-08-07 16:50\n",
       "22       2005-08-08 02:09\n",
       "23       2005-08-18 10:57\n",
       "24       2005-08-28 01:00\n",
       "25       2005-09-03 16:02\n",
       "26       2005-09-17 10:54\n",
       "27       2005-09-21 13:30\n",
       "28       2005-09-22 22:34\n",
       "29       2005-09-26 01:05\n",
       "               ...       \n",
       "91711    2015-12-30 15:42\n",
       "91712    2015-12-30 16:19\n",
       "91713    2015-12-30 17:07\n",
       "91714    2015-12-30 17:39\n",
       "91715    2015-12-30 23:26\n",
       "91716    2015-12-30 23:33\n",
       "91717    2015-12-31 00:00\n",
       "91718    2015-12-31 00:01\n",
       "91719    2015-12-31 06:31\n",
       "91720    2015-12-31 06:32\n",
       "91721    2015-12-31 06:49\n",
       "91722    2015-12-31 07:06\n",
       "91723    2015-12-31 07:14\n",
       "91724    2015-12-31 07:27\n",
       "91725    2015-12-31 08:14\n",
       "91726    2015-12-31 08:41\n",
       "91727    2015-12-31 09:17\n",
       "91728    2015-12-31 13:50\n",
       "91729    2015-12-31 14:21\n",
       "91730    2015-12-31 15:36\n",
       "91731    2015-12-31 16:38\n",
       "91732    2015-12-31 19:44\n",
       "91733    2015-12-31 19:55\n",
       "91734    2015-12-31 20:20\n",
       "91735    2015-12-31 20:25\n",
       "91736    2015-12-31 20:27\n",
       "91737    2015-12-31 20:35\n",
       "91738    2015-12-31 20:45\n",
       "91739    2015-12-31 21:42\n",
       "91740    2015-12-31 22:46\n",
       "Name: stop_date, Length: 91741, dtype: object"
      ]
     },
     "execution_count": 99,
     "metadata": {},
     "output_type": "execute_result"
    }
   ],
   "source": [
    "# make sure you create this column\n",
    "# in pandas there is no date type there only datetime\n",
    "combined = ri.stop_date.str.cat(ri.stop_time, sep=' ')\n",
    "# sep mean stop_date and stop_time will seperate by ' '\n",
    "# the \"combined\" mean you combined date with time\n",
    "# and the lower code mean you add ri['stop_datetime'] by to_datetime method\n",
    "ri['stop_datetime'] = pd.to_datetime(combined)\n",
    "combined"
   ]
  },
  {
   "cell_type": "code",
   "execution_count": 51,
   "metadata": {},
   "outputs": [
    {
     "data": {
      "text/plain": [
       "0        2005-01-02 01:55\n",
       "1        2005-01-18 08:15\n",
       "2        2005-01-23 23:15\n",
       "3        2005-02-20 17:15\n",
       "4        2005-03-14 10:00\n",
       "5        2005-03-23 09:45\n",
       "6        2005-04-01 17:30\n",
       "7        2005-06-06 13:20\n",
       "8        2005-07-13 10:15\n",
       "9        2005-07-13 15:45\n",
       "10       2005-07-13 16:20\n",
       "11       2005-07-13 19:00\n",
       "12       2005-07-14 19:55\n",
       "13       2005-07-18 19:30\n",
       "14       2005-07-18 19:45\n",
       "15       2005-07-19 00:30\n",
       "16       2005-07-19 00:30\n",
       "17       2005-07-19 23:30\n",
       "18       2005-07-20 00:05\n",
       "19       2005-07-24 20:10\n",
       "20       2005-07-28 12:37\n",
       "21       2005-08-07 16:50\n",
       "22       2005-08-08 02:09\n",
       "23       2005-08-18 10:57\n",
       "24       2005-08-28 01:00\n",
       "25       2005-09-03 16:02\n",
       "26       2005-09-17 10:54\n",
       "27       2005-09-21 13:30\n",
       "28       2005-09-22 22:34\n",
       "29       2005-09-26 01:05\n",
       "               ...       \n",
       "91711    2015-12-30 15:42\n",
       "91712    2015-12-30 16:19\n",
       "91713    2015-12-30 17:07\n",
       "91714    2015-12-30 17:39\n",
       "91715    2015-12-30 23:26\n",
       "91716    2015-12-30 23:33\n",
       "91717    2015-12-31 00:00\n",
       "91718    2015-12-31 00:01\n",
       "91719    2015-12-31 06:31\n",
       "91720    2015-12-31 06:32\n",
       "91721    2015-12-31 06:49\n",
       "91722    2015-12-31 07:06\n",
       "91723    2015-12-31 07:14\n",
       "91724    2015-12-31 07:27\n",
       "91725    2015-12-31 08:14\n",
       "91726    2015-12-31 08:41\n",
       "91727    2015-12-31 09:17\n",
       "91728    2015-12-31 13:50\n",
       "91729    2015-12-31 14:21\n",
       "91730    2015-12-31 15:36\n",
       "91731    2015-12-31 16:38\n",
       "91732    2015-12-31 19:44\n",
       "91733    2015-12-31 19:55\n",
       "91734    2015-12-31 20:20\n",
       "91735    2015-12-31 20:25\n",
       "91736    2015-12-31 20:27\n",
       "91737    2015-12-31 20:35\n",
       "91738    2015-12-31 20:45\n",
       "91739    2015-12-31 21:42\n",
       "91740    2015-12-31 22:46\n",
       "Name: stop_date, Length: 91741, dtype: object"
      ]
     },
     "execution_count": 51,
     "metadata": {},
     "output_type": "execute_result"
    }
   ],
   "source": [
    "combined"
   ]
  },
  {
   "cell_type": "code",
   "execution_count": 52,
   "metadata": {},
   "outputs": [
    {
     "data": {
      "text/plain": [
       "stop_date                     object\n",
       "stop_time                     object\n",
       "driver_gender                 object\n",
       "driver_age_raw               float64\n",
       "driver_age                   float64\n",
       "driver_race                   object\n",
       "violation_raw                 object\n",
       "violation                     object\n",
       "search_conducted                bool\n",
       "search_type                   object\n",
       "stop_outcome                  object\n",
       "is_arrested                   object\n",
       "stop_duration                 object\n",
       "drugs_related_stop              bool\n",
       "frisk                         object\n",
       "stop_datetime         datetime64[ns]\n",
       "dtype: object"
      ]
     },
     "execution_count": 52,
     "metadata": {},
     "output_type": "execute_result"
    }
   ],
   "source": [
    "ri.dtypes"
   ]
  },
  {
   "cell_type": "code",
   "execution_count": 53,
   "metadata": {},
   "outputs": [
    {
     "data": {
      "text/plain": [
       "2012    10970\n",
       "2006    10639\n",
       "2007     9476\n",
       "2014     9228\n",
       "2008     8752\n",
       "2015     8599\n",
       "2011     8126\n",
       "2013     7924\n",
       "2009     7908\n",
       "2010     7561\n",
       "2005     2558\n",
       "Name: stop_datetime, dtype: int64"
      ]
     },
     "execution_count": 53,
     "metadata": {},
     "output_type": "execute_result"
    }
   ],
   "source": [
    "# why is 2005 so much smaller?\n",
    "# .dt.year mean you access into stop_datetime in year by using dt.year\n",
    "ri.stop_datetime.dt.year.value_counts()"
   ]
  },
  {
   "cell_type": "markdown",
   "metadata": {},
   "source": [
    "Lessons:\n",
    "\n",
    "- Consider removing chunks of data that may be biased\n",
    "- Use the datetime data type for dates and times"
   ]
  },
  {
   "cell_type": "markdown",
   "metadata": {},
   "source": [
    "## 7. How does drug activity change by time of day? ([video](https://www.youtube.com/watch?v=jV24N7SPXEU&list=PL5-da3qGB5IBITZj_dYSFqnd_15JgqwA6&index=8))"
   ]
  },
  {
   "cell_type": "code",
   "execution_count": 54,
   "metadata": {},
   "outputs": [],
   "source": [
    "# drugs_related == False mean not involve in drug\n",
    "# drugs_related == True mean there are something involve in drug"
   ]
  },
  {
   "cell_type": "code",
   "execution_count": 55,
   "metadata": {},
   "outputs": [
    {
     "data": {
      "text/plain": [
       "dtype('bool')"
      ]
     },
     "execution_count": 55,
     "metadata": {},
     "output_type": "execute_result"
    }
   ],
   "source": [
    "ri.drugs_related_stop.dtype"
   ]
  },
  {
   "cell_type": "code",
   "execution_count": 56,
   "metadata": {},
   "outputs": [
    {
     "data": {
      "text/plain": [
       "0.008883705213590434"
      ]
     },
     "execution_count": 56,
     "metadata": {},
     "output_type": "execute_result"
    }
   ],
   "source": [
    "# baseline rate\n",
    "ri.drugs_related_stop.mean()"
   ]
  },
  {
   "cell_type": "code",
   "execution_count": 57,
   "metadata": {},
   "outputs": [
    {
     "data": {
      "text/plain": [
       "stop_datetime\n",
       "0     0.019728\n",
       "1     0.013507\n",
       "2     0.015462\n",
       "3     0.017065\n",
       "4     0.011811\n",
       "5     0.004762\n",
       "6     0.003040\n",
       "7     0.003281\n",
       "8     0.002687\n",
       "9     0.006288\n",
       "10    0.005714\n",
       "11    0.006976\n",
       "12    0.004467\n",
       "13    0.010326\n",
       "14    0.007810\n",
       "15    0.006416\n",
       "16    0.005723\n",
       "17    0.005517\n",
       "18    0.010148\n",
       "19    0.011596\n",
       "20    0.008084\n",
       "21    0.013342\n",
       "22    0.013533\n",
       "23    0.016344\n",
       "Name: drugs_related_stop, dtype: float64"
      ]
     },
     "execution_count": 57,
     "metadata": {},
     "output_type": "execute_result"
    }
   ],
   "source": [
    "# can't groupby 'hour' unless you create it as a column\n",
    "# its mean group by hour, and by the way we just made new column which is datetime data type\n",
    "# so you can easily access to hour time in data\n",
    "\n",
    "ri.groupby(ri.stop_datetime.dt.hour).drugs_related_stop.mean()\n",
    "\n",
    "# using mean() that mean all the time that car stop and drug realted that mean they were being arrested in percentage"
   ]
  },
  {
   "cell_type": "code",
   "execution_count": 58,
   "metadata": {},
   "outputs": [
    {
     "data": {
      "text/plain": [
       "<matplotlib.axes._subplots.AxesSubplot at 0x25e16e04208>"
      ]
     },
     "execution_count": 58,
     "metadata": {},
     "output_type": "execute_result"
    },
    {
     "data": {
      "image/png": "[encoded data removed]",
      "text/plain": [
       "<Figure size 432x288 with 1 Axes>"
      ]
     },
     "metadata": {
      "needs_background": "light"
     },
     "output_type": "display_data"
    }
   ],
   "source": [
    "# line plot by default (for a Series)\n",
    "ri.groupby(ri.stop_datetime.dt.hour).drugs_related_stop.mean().plot()"
   ]
  },
  {
   "cell_type": "code",
   "execution_count": 59,
   "metadata": {},
   "outputs": [
    {
     "data": {
      "text/plain": [
       "<matplotlib.axes._subplots.AxesSubplot at 0x25e16ef0710>"
      ]
     },
     "execution_count": 59,
     "metadata": {},
     "output_type": "execute_result"
    },
    {
     "data": {
      "image/png": "[encoded data removed]",
      "text/plain": [
       "<Figure size 432x288 with 1 Axes>"
      ]
     },
     "metadata": {
      "needs_background": "light"
     },
     "output_type": "display_data"
    }
   ],
   "source": [
    "# alternative: count drug-related stops by hour\n",
    "ri.groupby(ri.stop_datetime.dt.hour).drugs_related_stop.sum().plot()"
   ]
  },
  {
   "cell_type": "markdown",
   "metadata": {},
   "source": [
    "Lessons:\n",
    "\n",
    "- Use plots to help you understand trends\n",
    "- Create exploratory plots using pandas one-liners"
   ]
  },
  {
   "cell_type": "markdown",
   "metadata": {},
   "source": [
    "## 8. Do most stops occur at night? ([video](https://www.youtube.com/watch?v=GsQ6x3pt2w4&list=PL5-da3qGB5IBITZj_dYSFqnd_15JgqwA6&index=9))"
   ]
  },
  {
   "cell_type": "code",
   "execution_count": 60,
   "metadata": {},
   "outputs": [
    {
     "data": {
      "text/plain": [
       "0     5221\n",
       "1     4442\n",
       "2     2975\n",
       "3     1172\n",
       "4      254\n",
       "5      210\n",
       "6     3290\n",
       "7     4572\n",
       "8     5210\n",
       "9     6838\n",
       "10    7350\n",
       "11    5877\n",
       "12    3582\n",
       "13    4842\n",
       "14    5634\n",
       "15    4832\n",
       "16    3844\n",
       "17    2900\n",
       "18    2168\n",
       "19    2587\n",
       "20    3340\n",
       "21    1499\n",
       "22    3473\n",
       "23    5629\n",
       "Name: stop_datetime, dtype: int64"
      ]
     },
     "execution_count": 60,
     "metadata": {},
     "output_type": "execute_result"
    }
   ],
   "source": [
    "ri.stop_datetime.dt.hour.value_counts().sort_index()\n",
    "# sort by value"
   ]
  },
  {
   "cell_type": "code",
   "execution_count": 61,
   "metadata": {},
   "outputs": [
    {
     "data": {
      "text/plain": [
       "<matplotlib.axes._subplots.AxesSubplot at 0x25e16a752e8>"
      ]
     },
     "execution_count": 61,
     "metadata": {},
     "output_type": "execute_result"
    },
    {
     "data": {
      "image/png": "[encoded data removed]",
      "text/plain": [
       "<Figure size 432x288 with 1 Axes>"
      ]
     },
     "metadata": {
      "needs_background": "light"
     },
     "output_type": "display_data"
    }
   ],
   "source": [
    "ri.stop_datetime.dt.hour.value_counts().plot()\n",
    "# why this graph look weird ?\n",
    "# because it not sorthing the 0 - 20 in x-label is just index\n",
    "# so you must chage the index of the data"
   ]
  },
  {
   "cell_type": "code",
   "execution_count": 62,
   "metadata": {
    "scrolled": true
   },
   "outputs": [
    {
     "data": {
      "text/plain": [
       "<matplotlib.axes._subplots.AxesSubplot at 0x25e16b64048>"
      ]
     },
     "execution_count": 62,
     "metadata": {},
     "output_type": "execute_result"
    },
    {
     "data": {
      "image/png": "[encoded data removed]",
      "text/plain": [
       "<Figure size 432x288 with 1 Axes>"
      ]
     },
     "metadata": {
      "needs_background": "light"
     },
     "output_type": "display_data"
    }
   ],
   "source": [
    "ri.stop_datetime.dt.hour.value_counts().sort_index().plot()"
   ]
  },
  {
   "cell_type": "code",
   "execution_count": 63,
   "metadata": {},
   "outputs": [
    {
     "data": {
      "text/plain": [
       "<matplotlib.axes._subplots.AxesSubplot at 0x25e16bf7f98>"
      ]
     },
     "execution_count": 63,
     "metadata": {},
     "output_type": "execute_result"
    },
    {
     "data": {
      "image/png": "[encoded data removed]",
      "text/plain": [
       "<Figure size 432x288 with 1 Axes>"
      ]
     },
     "metadata": {
      "needs_background": "light"
     },
     "output_type": "display_data"
    }
   ],
   "source": [
    "# alternative method\n",
    "ri.groupby(ri.stop_datetime.dt.hour).stop_date.count().plot()"
   ]
  },
  {
   "cell_type": "markdown",
   "metadata": {},
   "source": [
    "Lessons:\n",
    "\n",
    "- Be conscious of sorting when plotting"
   ]
  },
  {
   "cell_type": "markdown",
   "metadata": {},
   "source": [
    "## 9. Find the bad data in the stop_duration column and fix it ([video](https://www.youtube.com/watch?v=8U8ob9bXakY&list=PL5-da3qGB5IBITZj_dYSFqnd_15JgqwA6&index=10))"
   ]
  },
  {
   "cell_type": "code",
   "execution_count": 64,
   "metadata": {
    "scrolled": true
   },
   "outputs": [
    {
     "data": {
      "text/plain": [
       "0-15 Min     69543\n",
       "16-30 Min    13635\n",
       "30+ Min       3228\n",
       "2                1\n",
       "1                1\n",
       "Name: stop_duration, dtype: int64"
      ]
     },
     "execution_count": 64,
     "metadata": {},
     "output_type": "execute_result"
    }
   ],
   "source": [
    "# mark bad data as missing\n",
    "ri.stop_duration.value_counts()\n",
    "# there are some error formatting in data [1, 2]"
   ]
  },
  {
   "cell_type": "code",
   "execution_count": 65,
   "metadata": {},
   "outputs": [],
   "source": [
    "# what four things are wrong with this code?\n",
    "# ri[ri.stop_duration == 1 | ri.stop_duration == 2].stop_duration = 'NaN'"
   ]
  },
  {
   "cell_type": "code",
   "execution_count": 66,
   "metadata": {},
   "outputs": [
    {
     "name": "stderr",
     "output_type": "stream",
     "text": [
      "C:\\Users\\theka\\AppData\\Local\\Continuum\\anaconda3\\lib\\site-packages\\pandas\\core\\generic.py:5096: SettingWithCopyWarning: \n",
      "A value is trying to be set on a copy of a slice from a DataFrame.\n",
      "Try using .loc[row_indexer,col_indexer] = value instead\n",
      "\n",
      "See the caveats in the documentation: http://pandas.pydata.org/pandas-docs/stable/indexing.html#indexing-view-versus-copy\n",
      "  self[name] = value\n"
     ]
    }
   ],
   "source": [
    "# what two things are still wrong with this code?\n",
    "ri[(ri.stop_duration == '1') | (ri.stop_duration == '2')].stop_duration = 'NaN'\n",
    "# it is not set the value it just replace with NaN but the system not allow you to\n",
    "# sooo.."
   ]
  },
  {
   "cell_type": "code",
   "execution_count": 67,
   "metadata": {},
   "outputs": [
    {
     "data": {
      "text/plain": [
       "0-15 Min     69543\n",
       "16-30 Min    13635\n",
       "30+ Min       3228\n",
       "2                1\n",
       "1                1\n",
       "Name: stop_duration, dtype: int64"
      ]
     },
     "execution_count": 67,
     "metadata": {},
     "output_type": "execute_result"
    }
   ],
   "source": [
    "# assignment statement did not work\n",
    "ri.stop_duration.value_counts()"
   ]
  },
  {
   "cell_type": "code",
   "execution_count": 68,
   "metadata": {},
   "outputs": [],
   "source": [
    "# solves SettingWithCopyWarning\n",
    "ri.loc[(ri.stop_duration == '1') | (ri.stop_duration == '2'), 'stop_duration'] = 'NaN'"
   ]
  },
  {
   "cell_type": "code",
   "execution_count": 69,
   "metadata": {},
   "outputs": [
    {
     "data": {
      "text/plain": [
       "0-15 Min     69543\n",
       "16-30 Min    13635\n",
       "NaN           5333\n",
       "30+ Min       3228\n",
       "NaN              2\n",
       "Name: stop_duration, dtype: int64"
      ]
     },
     "execution_count": 69,
     "metadata": {},
     "output_type": "execute_result"
    }
   ],
   "source": [
    "# confusing!\n",
    "# it a string that writting as \"NaN\"\n",
    "ri.stop_duration.value_counts(dropna=False)\n",
    "\n",
    "# first NaN is real null the other is just StringFake"
   ]
  },
  {
   "cell_type": "code",
   "execution_count": 70,
   "metadata": {},
   "outputs": [],
   "source": [
    "# replace 'NaN' string with actual NaN value\n",
    "import numpy as np\n",
    "# np.nan mean null \n",
    "ri.loc[ri.stop_duration == 'NaN', 'stop_duration'] = np.nan"
   ]
  },
  {
   "cell_type": "code",
   "execution_count": 71,
   "metadata": {},
   "outputs": [
    {
     "data": {
      "text/plain": [
       "0-15 Min     69543\n",
       "16-30 Min    13635\n",
       "NaN           5335\n",
       "30+ Min       3228\n",
       "Name: stop_duration, dtype: int64"
      ]
     },
     "execution_count": 71,
     "metadata": {},
     "output_type": "execute_result"
    }
   ],
   "source": [
    "ri.stop_duration.value_counts(dropna=False)"
   ]
  },
  {
   "cell_type": "code",
   "execution_count": 72,
   "metadata": {},
   "outputs": [],
   "source": [
    "# alternative method\n",
    "ri.stop_duration.replace(['1', '2'], value=np.nan, inplace=True)"
   ]
  },
  {
   "cell_type": "markdown",
   "metadata": {},
   "source": [
    "Lessons:\n",
    "\n",
    "- Ambiguous data should be marked as missing\n",
    "- Don't ignore the SettingWithCopyWarning\n",
    "- NaN is not a string"
   ]
  },
  {
   "cell_type": "markdown",
   "metadata": {},
   "source": [
    "## 10. What is the mean stop_duration for each violation_raw?"
   ]
  },
  {
   "cell_type": "code",
   "execution_count": 73,
   "metadata": {},
   "outputs": [],
   "source": [
    "# why we have to do this? cause we want to find the mean but there is no numerical data to find"
   ]
  },
  {
   "cell_type": "code",
   "execution_count": 74,
   "metadata": {},
   "outputs": [],
   "source": [
    "# make sure you create this column\n",
    "mapping = {'0-15 Min':8, '16-30 Min':23, '30+ Min':45}\n",
    "ri['stop_minutes'] = ri.stop_duration.map(mapping)"
   ]
  },
  {
   "cell_type": "code",
   "execution_count": 75,
   "metadata": {},
   "outputs": [
    {
     "data": {
      "text/plain": [
       "8.0     69543\n",
       "23.0    13635\n",
       "45.0     3228\n",
       "Name: stop_minutes, dtype: int64"
      ]
     },
     "execution_count": 75,
     "metadata": {},
     "output_type": "execute_result"
    }
   ],
   "source": [
    "# matches value_counts for stop_duration\n",
    "ri.stop_minutes.value_counts()"
   ]
  },
  {
   "cell_type": "code",
   "execution_count": 76,
   "metadata": {},
   "outputs": [
    {
     "data": {
      "text/plain": [
       "violation_raw\n",
       "APB                                 20.987342\n",
       "Call for Service                    22.034669\n",
       "Equipment/Inspection Violation      11.460345\n",
       "Motorist Assist/Courtesy            16.916256\n",
       "Other Traffic Violation             13.900265\n",
       "Registration Violation              13.745629\n",
       "Seatbelt Violation                   9.741531\n",
       "Special Detail/Directed Patrol      15.061100\n",
       "Speeding                            10.577690\n",
       "Suspicious Person                   18.750000\n",
       "Violation of City/Town Ordinance    13.388626\n",
       "Warrant                             21.400000\n",
       "Name: stop_minutes, dtype: float64"
      ]
     },
     "execution_count": 76,
     "metadata": {},
     "output_type": "execute_result"
    }
   ],
   "source": [
    "ri.groupby('violation_raw').stop_minutes.mean()"
   ]
  },
  {
   "cell_type": "code",
   "execution_count": 77,
   "metadata": {},
   "outputs": [
    {
     "data": {
      "text/html": [
       "<div>\n",
       "<style scoped>\n",
       "    .dataframe tbody tr th:only-of-type {\n",
       "        vertical-align: middle;\n",
       "    }\n",
       "\n",
       "    .dataframe tbody tr th {\n",
       "        vertical-align: top;\n",
       "    }\n",
       "\n",
       "    .dataframe thead th {\n",
       "        text-align: right;\n",
       "    }\n",
       "</style>\n",
       "<table border=\"1\" class=\"dataframe\">\n",
       "  <thead>\n",
       "    <tr style=\"text-align: right;\">\n",
       "      <th></th>\n",
       "      <th>mean</th>\n",
       "      <th>count</th>\n",
       "    </tr>\n",
       "    <tr>\n",
       "      <th>violation_raw</th>\n",
       "      <th></th>\n",
       "      <th></th>\n",
       "    </tr>\n",
       "  </thead>\n",
       "  <tbody>\n",
       "    <tr>\n",
       "      <th>APB</th>\n",
       "      <td>20.987342</td>\n",
       "      <td>79</td>\n",
       "    </tr>\n",
       "    <tr>\n",
       "      <th>Call for Service</th>\n",
       "      <td>22.034669</td>\n",
       "      <td>1298</td>\n",
       "    </tr>\n",
       "    <tr>\n",
       "      <th>Equipment/Inspection Violation</th>\n",
       "      <td>11.460345</td>\n",
       "      <td>11020</td>\n",
       "    </tr>\n",
       "    <tr>\n",
       "      <th>Motorist Assist/Courtesy</th>\n",
       "      <td>16.916256</td>\n",
       "      <td>203</td>\n",
       "    </tr>\n",
       "    <tr>\n",
       "      <th>Other Traffic Violation</th>\n",
       "      <td>13.900265</td>\n",
       "      <td>16223</td>\n",
       "    </tr>\n",
       "    <tr>\n",
       "      <th>Registration Violation</th>\n",
       "      <td>13.745629</td>\n",
       "      <td>3432</td>\n",
       "    </tr>\n",
       "    <tr>\n",
       "      <th>Seatbelt Violation</th>\n",
       "      <td>9.741531</td>\n",
       "      <td>2952</td>\n",
       "    </tr>\n",
       "    <tr>\n",
       "      <th>Special Detail/Directed Patrol</th>\n",
       "      <td>15.061100</td>\n",
       "      <td>2455</td>\n",
       "    </tr>\n",
       "    <tr>\n",
       "      <th>Speeding</th>\n",
       "      <td>10.577690</td>\n",
       "      <td>48462</td>\n",
       "    </tr>\n",
       "    <tr>\n",
       "      <th>Suspicious Person</th>\n",
       "      <td>18.750000</td>\n",
       "      <td>56</td>\n",
       "    </tr>\n",
       "    <tr>\n",
       "      <th>Violation of City/Town Ordinance</th>\n",
       "      <td>13.388626</td>\n",
       "      <td>211</td>\n",
       "    </tr>\n",
       "    <tr>\n",
       "      <th>Warrant</th>\n",
       "      <td>21.400000</td>\n",
       "      <td>15</td>\n",
       "    </tr>\n",
       "  </tbody>\n",
       "</table>\n",
       "</div>"
      ],
      "text/plain": [
       "                                       mean  count\n",
       "violation_raw                                     \n",
       "APB                               20.987342     79\n",
       "Call for Service                  22.034669   1298\n",
       "Equipment/Inspection Violation    11.460345  11020\n",
       "Motorist Assist/Courtesy          16.916256    203\n",
       "Other Traffic Violation           13.900265  16223\n",
       "Registration Violation            13.745629   3432\n",
       "Seatbelt Violation                 9.741531   2952\n",
       "Special Detail/Directed Patrol    15.061100   2455\n",
       "Speeding                          10.577690  48462\n",
       "Suspicious Person                 18.750000     56\n",
       "Violation of City/Town Ordinance  13.388626    211\n",
       "Warrant                           21.400000     15"
      ]
     },
     "execution_count": 77,
     "metadata": {},
     "output_type": "execute_result"
    }
   ],
   "source": [
    "ri.groupby('violation_raw').stop_minutes.agg(['mean', 'count'])\n",
    "# groupby violation raw cause we want to know how much time need per each violate happen"
   ]
  },
  {
   "cell_type": "markdown",
   "metadata": {},
   "source": [
    "Lessons:\n",
    "\n",
    "- Convert strings to numbers for analysis\n",
    "- Approximate when necessary\n",
    "- Use count with mean to looking for meaningless means"
   ]
  },
  {
   "cell_type": "markdown",
   "metadata": {},
   "source": [
    "## 11. Plot the results of the first groupby from the previous exercise"
   ]
  },
  {
   "cell_type": "code",
   "execution_count": 78,
   "metadata": {},
   "outputs": [
    {
     "data": {
      "text/plain": [
       "<matplotlib.axes._subplots.AxesSubplot at 0x25e16e98470>"
      ]
     },
     "execution_count": 78,
     "metadata": {},
     "output_type": "execute_result"
    },
    {
     "data": {
      "image/png": "[encoded data removed]",
      "text/plain": [
       "<Figure size 432x288 with 1 Axes>"
      ]
     },
     "metadata": {
      "needs_background": "light"
     },
     "output_type": "display_data"
    }
   ],
   "source": [
    "# what's wrong with this?\n",
    "ri.groupby('violation_raw').stop_minutes.mean().plot()"
   ]
  },
  {
   "cell_type": "code",
   "execution_count": 79,
   "metadata": {},
   "outputs": [
    {
     "data": {
      "text/plain": [
       "<matplotlib.axes._subplots.AxesSubplot at 0x25e169edc18>"
      ]
     },
     "execution_count": 79,
     "metadata": {},
     "output_type": "execute_result"
    },
    {
     "data": {
      "image/png": "[encoded data removed]",
      "text/plain": [
       "<Figure size 432x288 with 1 Axes>"
      ]
     },
     "metadata": {
      "needs_background": "light"
     },
     "output_type": "display_data"
    }
   ],
   "source": [
    "# how could this be made better?\n",
    "ri.groupby('violation_raw').stop_minutes.mean().plot(kind='bar')"
   ]
  },
  {
   "cell_type": "code",
   "execution_count": 80,
   "metadata": {},
   "outputs": [
    {
     "data": {
      "text/plain": [
       "<matplotlib.axes._subplots.AxesSubplot at 0x25e16b4b198>"
      ]
     },
     "execution_count": 80,
     "metadata": {},
     "output_type": "execute_result"
    },
    {
     "data": {
      "image/png": "[encoded data removed]",
      "text/plain": [
       "<Figure size 432x288 with 1 Axes>"
      ]
     },
     "metadata": {
      "needs_background": "light"
     },
     "output_type": "display_data"
    }
   ],
   "source": [
    "ri.groupby('violation_raw').stop_minutes.mean().sort_values().plot(kind='barh')\n",
    "# barh is the key"
   ]
  },
  {
   "cell_type": "markdown",
   "metadata": {},
   "source": [
    "Lessons:\n",
    "\n",
    "- Don't use a line plot to compare categories\n",
    "- Be conscious of sorting and orientation when plotting"
   ]
  },
  {
   "cell_type": "markdown",
   "metadata": {},
   "source": [
    "## 12. Compare the age distributions for each violation"
   ]
  },
  {
   "cell_type": "code",
   "execution_count": 81,
   "metadata": {},
   "outputs": [
    {
     "data": {
      "text/html": [
       "<div>\n",
       "<style scoped>\n",
       "    .dataframe tbody tr th:only-of-type {\n",
       "        vertical-align: middle;\n",
       "    }\n",
       "\n",
       "    .dataframe tbody tr th {\n",
       "        vertical-align: top;\n",
       "    }\n",
       "\n",
       "    .dataframe thead th {\n",
       "        text-align: right;\n",
       "    }\n",
       "</style>\n",
       "<table border=\"1\" class=\"dataframe\">\n",
       "  <thead>\n",
       "    <tr style=\"text-align: right;\">\n",
       "      <th></th>\n",
       "      <th>count</th>\n",
       "      <th>mean</th>\n",
       "      <th>std</th>\n",
       "      <th>min</th>\n",
       "      <th>25%</th>\n",
       "      <th>50%</th>\n",
       "      <th>75%</th>\n",
       "      <th>max</th>\n",
       "    </tr>\n",
       "    <tr>\n",
       "      <th>violation</th>\n",
       "      <th></th>\n",
       "      <th></th>\n",
       "      <th></th>\n",
       "      <th></th>\n",
       "      <th></th>\n",
       "      <th></th>\n",
       "      <th></th>\n",
       "      <th></th>\n",
       "    </tr>\n",
       "  </thead>\n",
       "  <tbody>\n",
       "    <tr>\n",
       "      <th>Equipment</th>\n",
       "      <td>11007.0</td>\n",
       "      <td>31.781503</td>\n",
       "      <td>11.400900</td>\n",
       "      <td>16.0</td>\n",
       "      <td>23.0</td>\n",
       "      <td>28.0</td>\n",
       "      <td>38.0</td>\n",
       "      <td>89.0</td>\n",
       "    </tr>\n",
       "    <tr>\n",
       "      <th>Moving violation</th>\n",
       "      <td>16164.0</td>\n",
       "      <td>36.120020</td>\n",
       "      <td>13.185805</td>\n",
       "      <td>15.0</td>\n",
       "      <td>25.0</td>\n",
       "      <td>33.0</td>\n",
       "      <td>46.0</td>\n",
       "      <td>99.0</td>\n",
       "    </tr>\n",
       "    <tr>\n",
       "      <th>Other</th>\n",
       "      <td>4204.0</td>\n",
       "      <td>39.536870</td>\n",
       "      <td>13.034639</td>\n",
       "      <td>16.0</td>\n",
       "      <td>28.0</td>\n",
       "      <td>39.0</td>\n",
       "      <td>49.0</td>\n",
       "      <td>87.0</td>\n",
       "    </tr>\n",
       "    <tr>\n",
       "      <th>Registration/plates</th>\n",
       "      <td>3427.0</td>\n",
       "      <td>32.803035</td>\n",
       "      <td>11.033675</td>\n",
       "      <td>16.0</td>\n",
       "      <td>24.0</td>\n",
       "      <td>30.0</td>\n",
       "      <td>40.0</td>\n",
       "      <td>74.0</td>\n",
       "    </tr>\n",
       "    <tr>\n",
       "      <th>Seat belt</th>\n",
       "      <td>2952.0</td>\n",
       "      <td>32.206301</td>\n",
       "      <td>11.213122</td>\n",
       "      <td>17.0</td>\n",
       "      <td>24.0</td>\n",
       "      <td>29.0</td>\n",
       "      <td>38.0</td>\n",
       "      <td>77.0</td>\n",
       "    </tr>\n",
       "    <tr>\n",
       "      <th>Speeding</th>\n",
       "      <td>48361.0</td>\n",
       "      <td>33.530097</td>\n",
       "      <td>12.821847</td>\n",
       "      <td>15.0</td>\n",
       "      <td>23.0</td>\n",
       "      <td>30.0</td>\n",
       "      <td>42.0</td>\n",
       "      <td>90.0</td>\n",
       "    </tr>\n",
       "  </tbody>\n",
       "</table>\n",
       "</div>"
      ],
      "text/plain": [
       "                       count       mean        std   min   25%   50%   75%  \\\n",
       "violation                                                                    \n",
       "Equipment            11007.0  31.781503  11.400900  16.0  23.0  28.0  38.0   \n",
       "Moving violation     16164.0  36.120020  13.185805  15.0  25.0  33.0  46.0   \n",
       "Other                 4204.0  39.536870  13.034639  16.0  28.0  39.0  49.0   \n",
       "Registration/plates   3427.0  32.803035  11.033675  16.0  24.0  30.0  40.0   \n",
       "Seat belt             2952.0  32.206301  11.213122  17.0  24.0  29.0  38.0   \n",
       "Speeding             48361.0  33.530097  12.821847  15.0  23.0  30.0  42.0   \n",
       "\n",
       "                      max  \n",
       "violation                  \n",
       "Equipment            89.0  \n",
       "Moving violation     99.0  \n",
       "Other                87.0  \n",
       "Registration/plates  74.0  \n",
       "Seat belt            77.0  \n",
       "Speeding             90.0  "
      ]
     },
     "execution_count": 81,
     "metadata": {},
     "output_type": "execute_result"
    }
   ],
   "source": [
    "# good first step\n",
    "ri.groupby('violation').driver_age.describe()"
   ]
  },
  {
   "cell_type": "code",
   "execution_count": 82,
   "metadata": {},
   "outputs": [
    {
     "data": {
      "text/plain": [
       "<matplotlib.axes._subplots.AxesSubplot at 0x25e16c82e80>"
      ]
     },
     "execution_count": 82,
     "metadata": {},
     "output_type": "execute_result"
    },
    {
     "data": {
      "image/png": "[encoded data removed]",
      "text/plain": [
       "<Figure size 432x288 with 1 Axes>"
      ]
     },
     "metadata": {
      "needs_background": "light"
     },
     "output_type": "display_data"
    }
   ],
   "source": [
    "# histograms are excellent for displaying distributions\n",
    "ri.driver_age.plot(kind='hist')"
   ]
  },
  {
   "cell_type": "code",
   "execution_count": 83,
   "metadata": {},
   "outputs": [
    {
     "data": {
      "text/plain": [
       "<matplotlib.axes._subplots.AxesSubplot at 0x25e16dc6a58>"
      ]
     },
     "execution_count": 83,
     "metadata": {},
     "output_type": "execute_result"
    },
    {
     "data": {
      "image/png": "[encoded data removed]",
      "text/plain": [
       "<Figure size 432x288 with 1 Axes>"
      ]
     },
     "metadata": {
      "needs_background": "light"
     },
     "output_type": "display_data"
    }
   ],
   "source": [
    "# similar to a histogram\n",
    "ri.driver_age.value_counts().sort_index().plot()"
   ]
  },
  {
   "cell_type": "code",
   "execution_count": 84,
   "metadata": {},
   "outputs": [
    {
     "data": {
      "text/plain": [
       "array([[<matplotlib.axes._subplots.AxesSubplot object at 0x0000025E16D0CBA8>,\n",
       "        <matplotlib.axes._subplots.AxesSubplot object at 0x0000025E16ED61D0>],\n",
       "       [<matplotlib.axes._subplots.AxesSubplot object at 0x0000025E1849E438>,\n",
       "        <matplotlib.axes._subplots.AxesSubplot object at 0x0000025E184C76A0>],\n",
       "       [<matplotlib.axes._subplots.AxesSubplot object at 0x0000025E184F1908>,\n",
       "        <matplotlib.axes._subplots.AxesSubplot object at 0x0000025E18518B70>]],\n",
       "      dtype=object)"
      ]
     },
     "execution_count": 84,
     "metadata": {},
     "output_type": "execute_result"
    },
    {
     "data": {
      "image/png": "[encoded data removed]",
      "text/plain": [
       "<Figure size 432x288 with 6 Axes>"
      ]
     },
     "metadata": {
      "needs_background": "light"
     },
     "output_type": "display_data"
    }
   ],
   "source": [
    "# can't use the plot method\n",
    "ri.hist('driver_age', by='violation')"
   ]
  },
  {
   "cell_type": "code",
   "execution_count": 85,
   "metadata": {},
   "outputs": [
    {
     "data": {
      "text/plain": [
       "array([[<matplotlib.axes._subplots.AxesSubplot object at 0x0000025E16EAE550>,\n",
       "        <matplotlib.axes._subplots.AxesSubplot object at 0x0000025E18694550>],\n",
       "       [<matplotlib.axes._subplots.AxesSubplot object at 0x0000025E186BA668>,\n",
       "        <matplotlib.axes._subplots.AxesSubplot object at 0x0000025E186E3780>],\n",
       "       [<matplotlib.axes._subplots.AxesSubplot object at 0x0000025E1870D898>,\n",
       "        <matplotlib.axes._subplots.AxesSubplot object at 0x0000025E18737A90>]],\n",
       "      dtype=object)"
      ]
     },
     "execution_count": 85,
     "metadata": {},
     "output_type": "execute_result"
    },
    {
     "data": {
      "image/png": "[encoded data removed]",
      "text/plain": [
       "<Figure size 432x288 with 6 Axes>"
      ]
     },
     "metadata": {
      "needs_background": "light"
     },
     "output_type": "display_data"
    }
   ],
   "source": [
    "# what changed? how is this better or worse?\n",
    "ri.hist('driver_age', by='violation', sharex=True)\n",
    "# xlabel share"
   ]
  },
  {
   "cell_type": "code",
   "execution_count": 86,
   "metadata": {},
   "outputs": [
    {
     "data": {
      "text/plain": [
       "array([[<matplotlib.axes._subplots.AxesSubplot object at 0x0000025E18802B70>,\n",
       "        <matplotlib.axes._subplots.AxesSubplot object at 0x0000025E1891DEB8>],\n",
       "       [<matplotlib.axes._subplots.AxesSubplot object at 0x0000025E189431D0>,\n",
       "        <matplotlib.axes._subplots.AxesSubplot object at 0x0000025E1896A4A8>],\n",
       "       [<matplotlib.axes._subplots.AxesSubplot object at 0x0000025E18992780>,\n",
       "        <matplotlib.axes._subplots.AxesSubplot object at 0x0000025E189BAA58>]],\n",
       "      dtype=object)"
      ]
     },
     "execution_count": 86,
     "metadata": {},
     "output_type": "execute_result"
    },
    {
     "data": {
      "image/png": "[encoded data removed]",
      "text/plain": [
       "<Figure size 432x288 with 6 Axes>"
      ]
     },
     "metadata": {
      "needs_background": "light"
     },
     "output_type": "display_data"
    }
   ],
   "source": [
    "# what changed? how is this better or worse?\n",
    "ri.hist('driver_age', by='violation', sharex=True, sharey=True)"
   ]
  },
  {
   "cell_type": "markdown",
   "metadata": {},
   "source": [
    "Lessons:\n",
    "\n",
    "- Use histograms to show distributions\n",
    "- Be conscious of axes when using grouped plots"
   ]
  },
  {
   "cell_type": "markdown",
   "metadata": {},
   "source": [
    "## 13. Pretend you don't have the driver_age column, and create it from driver_age_raw (and call it new_age)"
   ]
  },
  {
   "cell_type": "code",
   "execution_count": 87,
   "metadata": {},
   "outputs": [
    {
     "data": {
      "text/html": [
       "<div>\n",
       "<style scoped>\n",
       "    .dataframe tbody tr th:only-of-type {\n",
       "        vertical-align: middle;\n",
       "    }\n",
       "\n",
       "    .dataframe tbody tr th {\n",
       "        vertical-align: top;\n",
       "    }\n",
       "\n",
       "    .dataframe thead th {\n",
       "        text-align: right;\n",
       "    }\n",
       "</style>\n",
       "<table border=\"1\" class=\"dataframe\">\n",
       "  <thead>\n",
       "    <tr style=\"text-align: right;\">\n",
       "      <th></th>\n",
       "      <th>stop_date</th>\n",
       "      <th>stop_time</th>\n",
       "      <th>driver_gender</th>\n",
       "      <th>driver_age_raw</th>\n",
       "      <th>driver_age</th>\n",
       "      <th>driver_race</th>\n",
       "      <th>violation_raw</th>\n",
       "      <th>violation</th>\n",
       "      <th>search_conducted</th>\n",
       "      <th>search_type</th>\n",
       "      <th>stop_outcome</th>\n",
       "      <th>is_arrested</th>\n",
       "      <th>stop_duration</th>\n",
       "      <th>drugs_related_stop</th>\n",
       "      <th>frisk</th>\n",
       "      <th>stop_datetime</th>\n",
       "      <th>stop_minutes</th>\n",
       "    </tr>\n",
       "  </thead>\n",
       "  <tbody>\n",
       "    <tr>\n",
       "      <th>0</th>\n",
       "      <td>2005-01-02</td>\n",
       "      <td>01:55</td>\n",
       "      <td>M</td>\n",
       "      <td>1985.0</td>\n",
       "      <td>20.0</td>\n",
       "      <td>White</td>\n",
       "      <td>Speeding</td>\n",
       "      <td>Speeding</td>\n",
       "      <td>False</td>\n",
       "      <td>NaN</td>\n",
       "      <td>Citation</td>\n",
       "      <td>False</td>\n",
       "      <td>0-15 Min</td>\n",
       "      <td>False</td>\n",
       "      <td>NaN</td>\n",
       "      <td>2005-01-02 01:55:00</td>\n",
       "      <td>8.0</td>\n",
       "    </tr>\n",
       "    <tr>\n",
       "      <th>1</th>\n",
       "      <td>2005-01-18</td>\n",
       "      <td>08:15</td>\n",
       "      <td>M</td>\n",
       "      <td>1965.0</td>\n",
       "      <td>40.0</td>\n",
       "      <td>White</td>\n",
       "      <td>Speeding</td>\n",
       "      <td>Speeding</td>\n",
       "      <td>False</td>\n",
       "      <td>NaN</td>\n",
       "      <td>Citation</td>\n",
       "      <td>False</td>\n",
       "      <td>0-15 Min</td>\n",
       "      <td>False</td>\n",
       "      <td>NaN</td>\n",
       "      <td>2005-01-18 08:15:00</td>\n",
       "      <td>8.0</td>\n",
       "    </tr>\n",
       "    <tr>\n",
       "      <th>2</th>\n",
       "      <td>2005-01-23</td>\n",
       "      <td>23:15</td>\n",
       "      <td>M</td>\n",
       "      <td>1972.0</td>\n",
       "      <td>33.0</td>\n",
       "      <td>White</td>\n",
       "      <td>Speeding</td>\n",
       "      <td>Speeding</td>\n",
       "      <td>False</td>\n",
       "      <td>NaN</td>\n",
       "      <td>Citation</td>\n",
       "      <td>False</td>\n",
       "      <td>0-15 Min</td>\n",
       "      <td>False</td>\n",
       "      <td>NaN</td>\n",
       "      <td>2005-01-23 23:15:00</td>\n",
       "      <td>8.0</td>\n",
       "    </tr>\n",
       "    <tr>\n",
       "      <th>3</th>\n",
       "      <td>2005-02-20</td>\n",
       "      <td>17:15</td>\n",
       "      <td>M</td>\n",
       "      <td>1986.0</td>\n",
       "      <td>19.0</td>\n",
       "      <td>White</td>\n",
       "      <td>Call for Service</td>\n",
       "      <td>Other</td>\n",
       "      <td>False</td>\n",
       "      <td>NaN</td>\n",
       "      <td>Arrest Driver</td>\n",
       "      <td>True</td>\n",
       "      <td>16-30 Min</td>\n",
       "      <td>False</td>\n",
       "      <td>NaN</td>\n",
       "      <td>2005-02-20 17:15:00</td>\n",
       "      <td>23.0</td>\n",
       "    </tr>\n",
       "    <tr>\n",
       "      <th>4</th>\n",
       "      <td>2005-03-14</td>\n",
       "      <td>10:00</td>\n",
       "      <td>F</td>\n",
       "      <td>1984.0</td>\n",
       "      <td>21.0</td>\n",
       "      <td>White</td>\n",
       "      <td>Speeding</td>\n",
       "      <td>Speeding</td>\n",
       "      <td>False</td>\n",
       "      <td>NaN</td>\n",
       "      <td>Citation</td>\n",
       "      <td>False</td>\n",
       "      <td>0-15 Min</td>\n",
       "      <td>False</td>\n",
       "      <td>NaN</td>\n",
       "      <td>2005-03-14 10:00:00</td>\n",
       "      <td>8.0</td>\n",
       "    </tr>\n",
       "  </tbody>\n",
       "</table>\n",
       "</div>"
      ],
      "text/plain": [
       "    stop_date stop_time driver_gender  driver_age_raw  driver_age driver_race  \\\n",
       "0  2005-01-02     01:55             M          1985.0        20.0       White   \n",
       "1  2005-01-18     08:15             M          1965.0        40.0       White   \n",
       "2  2005-01-23     23:15             M          1972.0        33.0       White   \n",
       "3  2005-02-20     17:15             M          1986.0        19.0       White   \n",
       "4  2005-03-14     10:00             F          1984.0        21.0       White   \n",
       "\n",
       "      violation_raw violation  search_conducted search_type   stop_outcome  \\\n",
       "0          Speeding  Speeding             False         NaN       Citation   \n",
       "1          Speeding  Speeding             False         NaN       Citation   \n",
       "2          Speeding  Speeding             False         NaN       Citation   \n",
       "3  Call for Service     Other             False         NaN  Arrest Driver   \n",
       "4          Speeding  Speeding             False         NaN       Citation   \n",
       "\n",
       "  is_arrested stop_duration  drugs_related_stop frisk       stop_datetime  \\\n",
       "0       False      0-15 Min               False   NaN 2005-01-02 01:55:00   \n",
       "1       False      0-15 Min               False   NaN 2005-01-18 08:15:00   \n",
       "2       False      0-15 Min               False   NaN 2005-01-23 23:15:00   \n",
       "3        True     16-30 Min               False   NaN 2005-02-20 17:15:00   \n",
       "4       False      0-15 Min               False   NaN 2005-03-14 10:00:00   \n",
       "\n",
       "   stop_minutes  \n",
       "0           8.0  \n",
       "1           8.0  \n",
       "2           8.0  \n",
       "3          23.0  \n",
       "4           8.0  "
      ]
     },
     "execution_count": 87,
     "metadata": {},
     "output_type": "execute_result"
    }
   ],
   "source": [
    "ri.head()\n",
    "# driver_age_raw it an year driverf born"
   ]
  },
  {
   "cell_type": "code",
   "execution_count": 88,
   "metadata": {},
   "outputs": [
    {
     "data": {
      "text/html": [
       "<div>\n",
       "<style scoped>\n",
       "    .dataframe tbody tr th:only-of-type {\n",
       "        vertical-align: middle;\n",
       "    }\n",
       "\n",
       "    .dataframe tbody tr th {\n",
       "        vertical-align: top;\n",
       "    }\n",
       "\n",
       "    .dataframe thead th {\n",
       "        text-align: right;\n",
       "    }\n",
       "</style>\n",
       "<table border=\"1\" class=\"dataframe\">\n",
       "  <thead>\n",
       "    <tr style=\"text-align: right;\">\n",
       "      <th></th>\n",
       "      <th>stop_date</th>\n",
       "      <th>stop_time</th>\n",
       "      <th>driver_gender</th>\n",
       "      <th>driver_age_raw</th>\n",
       "      <th>driver_age</th>\n",
       "      <th>driver_race</th>\n",
       "      <th>violation_raw</th>\n",
       "      <th>violation</th>\n",
       "      <th>search_conducted</th>\n",
       "      <th>search_type</th>\n",
       "      <th>stop_outcome</th>\n",
       "      <th>is_arrested</th>\n",
       "      <th>stop_duration</th>\n",
       "      <th>drugs_related_stop</th>\n",
       "      <th>frisk</th>\n",
       "      <th>stop_datetime</th>\n",
       "      <th>stop_minutes</th>\n",
       "    </tr>\n",
       "  </thead>\n",
       "  <tbody>\n",
       "    <tr>\n",
       "      <th>91736</th>\n",
       "      <td>2015-12-31</td>\n",
       "      <td>20:27</td>\n",
       "      <td>M</td>\n",
       "      <td>1986.0</td>\n",
       "      <td>29.0</td>\n",
       "      <td>White</td>\n",
       "      <td>Speeding</td>\n",
       "      <td>Speeding</td>\n",
       "      <td>False</td>\n",
       "      <td>NaN</td>\n",
       "      <td>Warning</td>\n",
       "      <td>False</td>\n",
       "      <td>0-15 Min</td>\n",
       "      <td>False</td>\n",
       "      <td>NaN</td>\n",
       "      <td>2015-12-31 20:27:00</td>\n",
       "      <td>8.0</td>\n",
       "    </tr>\n",
       "    <tr>\n",
       "      <th>91737</th>\n",
       "      <td>2015-12-31</td>\n",
       "      <td>20:35</td>\n",
       "      <td>F</td>\n",
       "      <td>1982.0</td>\n",
       "      <td>33.0</td>\n",
       "      <td>White</td>\n",
       "      <td>Equipment/Inspection Violation</td>\n",
       "      <td>Equipment</td>\n",
       "      <td>False</td>\n",
       "      <td>NaN</td>\n",
       "      <td>Warning</td>\n",
       "      <td>False</td>\n",
       "      <td>0-15 Min</td>\n",
       "      <td>False</td>\n",
       "      <td>NaN</td>\n",
       "      <td>2015-12-31 20:35:00</td>\n",
       "      <td>8.0</td>\n",
       "    </tr>\n",
       "    <tr>\n",
       "      <th>91738</th>\n",
       "      <td>2015-12-31</td>\n",
       "      <td>20:45</td>\n",
       "      <td>M</td>\n",
       "      <td>1992.0</td>\n",
       "      <td>23.0</td>\n",
       "      <td>White</td>\n",
       "      <td>Other Traffic Violation</td>\n",
       "      <td>Moving violation</td>\n",
       "      <td>False</td>\n",
       "      <td>NaN</td>\n",
       "      <td>Warning</td>\n",
       "      <td>False</td>\n",
       "      <td>0-15 Min</td>\n",
       "      <td>False</td>\n",
       "      <td>NaN</td>\n",
       "      <td>2015-12-31 20:45:00</td>\n",
       "      <td>8.0</td>\n",
       "    </tr>\n",
       "    <tr>\n",
       "      <th>91739</th>\n",
       "      <td>2015-12-31</td>\n",
       "      <td>21:42</td>\n",
       "      <td>M</td>\n",
       "      <td>1993.0</td>\n",
       "      <td>22.0</td>\n",
       "      <td>White</td>\n",
       "      <td>Speeding</td>\n",
       "      <td>Speeding</td>\n",
       "      <td>False</td>\n",
       "      <td>NaN</td>\n",
       "      <td>Citation</td>\n",
       "      <td>False</td>\n",
       "      <td>0-15 Min</td>\n",
       "      <td>False</td>\n",
       "      <td>NaN</td>\n",
       "      <td>2015-12-31 21:42:00</td>\n",
       "      <td>8.0</td>\n",
       "    </tr>\n",
       "    <tr>\n",
       "      <th>91740</th>\n",
       "      <td>2015-12-31</td>\n",
       "      <td>22:46</td>\n",
       "      <td>M</td>\n",
       "      <td>1959.0</td>\n",
       "      <td>56.0</td>\n",
       "      <td>Hispanic</td>\n",
       "      <td>Speeding</td>\n",
       "      <td>Speeding</td>\n",
       "      <td>False</td>\n",
       "      <td>NaN</td>\n",
       "      <td>Citation</td>\n",
       "      <td>False</td>\n",
       "      <td>0-15 Min</td>\n",
       "      <td>False</td>\n",
       "      <td>NaN</td>\n",
       "      <td>2015-12-31 22:46:00</td>\n",
       "      <td>8.0</td>\n",
       "    </tr>\n",
       "  </tbody>\n",
       "</table>\n",
       "</div>"
      ],
      "text/plain": [
       "        stop_date stop_time driver_gender  driver_age_raw  driver_age  \\\n",
       "91736  2015-12-31     20:27             M          1986.0        29.0   \n",
       "91737  2015-12-31     20:35             F          1982.0        33.0   \n",
       "91738  2015-12-31     20:45             M          1992.0        23.0   \n",
       "91739  2015-12-31     21:42             M          1993.0        22.0   \n",
       "91740  2015-12-31     22:46             M          1959.0        56.0   \n",
       "\n",
       "      driver_race                   violation_raw         violation  \\\n",
       "91736       White                        Speeding          Speeding   \n",
       "91737       White  Equipment/Inspection Violation         Equipment   \n",
       "91738       White         Other Traffic Violation  Moving violation   \n",
       "91739       White                        Speeding          Speeding   \n",
       "91740    Hispanic                        Speeding          Speeding   \n",
       "\n",
       "       search_conducted search_type stop_outcome is_arrested stop_duration  \\\n",
       "91736             False         NaN      Warning       False      0-15 Min   \n",
       "91737             False         NaN      Warning       False      0-15 Min   \n",
       "91738             False         NaN      Warning       False      0-15 Min   \n",
       "91739             False         NaN     Citation       False      0-15 Min   \n",
       "91740             False         NaN     Citation       False      0-15 Min   \n",
       "\n",
       "       drugs_related_stop frisk       stop_datetime  stop_minutes  \n",
       "91736               False   NaN 2015-12-31 20:27:00           8.0  \n",
       "91737               False   NaN 2015-12-31 20:35:00           8.0  \n",
       "91738               False   NaN 2015-12-31 20:45:00           8.0  \n",
       "91739               False   NaN 2015-12-31 21:42:00           8.0  \n",
       "91740               False   NaN 2015-12-31 22:46:00           8.0  "
      ]
     },
     "execution_count": 88,
     "metadata": {},
     "output_type": "execute_result"
    }
   ],
   "source": [
    "# appears to be year of stop_date minus driver_age_raw\n",
    "ri.tail()"
   ]
  },
  {
   "cell_type": "code",
   "execution_count": 89,
   "metadata": {},
   "outputs": [],
   "source": [
    "# because you already have datetime data type so you easily access year\n",
    "ri['new_age'] = ri.stop_datetime.dt.year - ri.driver_age_raw"
   ]
  },
  {
   "cell_type": "code",
   "execution_count": 90,
   "metadata": {},
   "outputs": [
    {
     "data": {
      "text/plain": [
       "array([[<matplotlib.axes._subplots.AxesSubplot object at 0x0000025E18B7FC18>,\n",
       "        <matplotlib.axes._subplots.AxesSubplot object at 0x0000025E18BD6198>]],\n",
       "      dtype=object)"
      ]
     },
     "execution_count": 90,
     "metadata": {},
     "output_type": "execute_result"
    },
    {
     "data": {
      "image/png": "[encoded data removed]",
      "text/plain": [
       "<Figure size 432x288 with 2 Axes>"
      ]
     },
     "metadata": {
      "needs_background": "light"
     },
     "output_type": "display_data"
    }
   ],
   "source": [
    "# compare the distributions\n",
    "ri[['driver_age', 'new_age']].hist()\n",
    "# its looking weird so I guess that must be some weird data in driver_age_raw"
   ]
  },
  {
   "cell_type": "code",
   "execution_count": 91,
   "metadata": {},
   "outputs": [
    {
     "data": {
      "text/html": [
       "<div>\n",
       "<style scoped>\n",
       "    .dataframe tbody tr th:only-of-type {\n",
       "        vertical-align: middle;\n",
       "    }\n",
       "\n",
       "    .dataframe tbody tr th {\n",
       "        vertical-align: top;\n",
       "    }\n",
       "\n",
       "    .dataframe thead th {\n",
       "        text-align: right;\n",
       "    }\n",
       "</style>\n",
       "<table border=\"1\" class=\"dataframe\">\n",
       "  <thead>\n",
       "    <tr style=\"text-align: right;\">\n",
       "      <th></th>\n",
       "      <th>driver_age</th>\n",
       "      <th>new_age</th>\n",
       "    </tr>\n",
       "  </thead>\n",
       "  <tbody>\n",
       "    <tr>\n",
       "      <th>count</th>\n",
       "      <td>86120.000000</td>\n",
       "      <td>86414.000000</td>\n",
       "    </tr>\n",
       "    <tr>\n",
       "      <th>mean</th>\n",
       "      <td>34.011333</td>\n",
       "      <td>39.784294</td>\n",
       "    </tr>\n",
       "    <tr>\n",
       "      <th>std</th>\n",
       "      <td>12.738564</td>\n",
       "      <td>110.822145</td>\n",
       "    </tr>\n",
       "    <tr>\n",
       "      <th>min</th>\n",
       "      <td>15.000000</td>\n",
       "      <td>-6794.000000</td>\n",
       "    </tr>\n",
       "    <tr>\n",
       "      <th>25%</th>\n",
       "      <td>23.000000</td>\n",
       "      <td>24.000000</td>\n",
       "    </tr>\n",
       "    <tr>\n",
       "      <th>50%</th>\n",
       "      <td>31.000000</td>\n",
       "      <td>31.000000</td>\n",
       "    </tr>\n",
       "    <tr>\n",
       "      <th>75%</th>\n",
       "      <td>43.000000</td>\n",
       "      <td>43.000000</td>\n",
       "    </tr>\n",
       "    <tr>\n",
       "      <th>max</th>\n",
       "      <td>99.000000</td>\n",
       "      <td>2015.000000</td>\n",
       "    </tr>\n",
       "  </tbody>\n",
       "</table>\n",
       "</div>"
      ],
      "text/plain": [
       "         driver_age       new_age\n",
       "count  86120.000000  86414.000000\n",
       "mean      34.011333     39.784294\n",
       "std       12.738564    110.822145\n",
       "min       15.000000  -6794.000000\n",
       "25%       23.000000     24.000000\n",
       "50%       31.000000     31.000000\n",
       "75%       43.000000     43.000000\n",
       "max       99.000000   2015.000000"
      ]
     },
     "execution_count": 91,
     "metadata": {},
     "output_type": "execute_result"
    }
   ],
   "source": [
    "# compare the summary statistics (focus on min and max)\n",
    "ri[['driver_age', 'new_age']].describe()"
   ]
  },
  {
   "cell_type": "code",
   "execution_count": 92,
   "metadata": {},
   "outputs": [
    {
     "data": {
      "text/plain": [
       "(294, 18)"
      ]
     },
     "execution_count": 92,
     "metadata": {},
     "output_type": "execute_result"
    }
   ],
   "source": [
    "# calculate how many ages are outside that range\n",
    "ri[(ri.new_age < 15) | (ri.new_age > 99)].shape\n",
    "# you can change it to below 0"
   ]
  },
  {
   "cell_type": "code",
   "execution_count": 93,
   "metadata": {
    "scrolled": true
   },
   "outputs": [
    {
     "data": {
      "text/plain": [
       "5327"
      ]
     },
     "execution_count": 93,
     "metadata": {},
     "output_type": "execute_result"
    }
   ],
   "source": [
    "# raw data given to the researchers\n",
    "ri.driver_age_raw.isnull().sum()"
   ]
  },
  {
   "cell_type": "code",
   "execution_count": 94,
   "metadata": {},
   "outputs": [
    {
     "data": {
      "text/plain": [
       "5621"
      ]
     },
     "execution_count": 94,
     "metadata": {},
     "output_type": "execute_result"
    }
   ],
   "source": [
    "# age computed by the researchers (has more missing values)\n",
    "ri.driver_age.isnull().sum()"
   ]
  },
  {
   "cell_type": "code",
   "execution_count": 95,
   "metadata": {},
   "outputs": [
    {
     "data": {
      "text/plain": [
       "294"
      ]
     },
     "execution_count": 95,
     "metadata": {},
     "output_type": "execute_result"
    }
   ],
   "source": [
    "# what does this tell us? researchers set driver_age as missing if less than 15 or more than 99\n",
    "5621-5327"
   ]
  },
  {
   "cell_type": "code",
   "execution_count": 96,
   "metadata": {},
   "outputs": [
    {
     "data": {
      "text/html": [
       "<div>\n",
       "<style scoped>\n",
       "    .dataframe tbody tr th:only-of-type {\n",
       "        vertical-align: middle;\n",
       "    }\n",
       "\n",
       "    .dataframe tbody tr th {\n",
       "        vertical-align: top;\n",
       "    }\n",
       "\n",
       "    .dataframe thead th {\n",
       "        text-align: right;\n",
       "    }\n",
       "</style>\n",
       "<table border=\"1\" class=\"dataframe\">\n",
       "  <thead>\n",
       "    <tr style=\"text-align: right;\">\n",
       "      <th></th>\n",
       "      <th>stop_date</th>\n",
       "      <th>stop_time</th>\n",
       "      <th>driver_gender</th>\n",
       "      <th>driver_age_raw</th>\n",
       "      <th>driver_age</th>\n",
       "      <th>driver_race</th>\n",
       "      <th>violation_raw</th>\n",
       "      <th>violation</th>\n",
       "      <th>search_conducted</th>\n",
       "      <th>search_type</th>\n",
       "      <th>stop_outcome</th>\n",
       "      <th>is_arrested</th>\n",
       "      <th>stop_duration</th>\n",
       "      <th>drugs_related_stop</th>\n",
       "      <th>frisk</th>\n",
       "      <th>stop_datetime</th>\n",
       "      <th>stop_minutes</th>\n",
       "      <th>new_age</th>\n",
       "    </tr>\n",
       "  </thead>\n",
       "  <tbody>\n",
       "    <tr>\n",
       "      <th>146</th>\n",
       "      <td>2005-10-05</td>\n",
       "      <td>08:50</td>\n",
       "      <td>M</td>\n",
       "      <td>0.0</td>\n",
       "      <td>NaN</td>\n",
       "      <td>White</td>\n",
       "      <td>Other Traffic Violation</td>\n",
       "      <td>Moving violation</td>\n",
       "      <td>False</td>\n",
       "      <td>NaN</td>\n",
       "      <td>Citation</td>\n",
       "      <td>False</td>\n",
       "      <td>0-15 Min</td>\n",
       "      <td>False</td>\n",
       "      <td>NaN</td>\n",
       "      <td>2005-10-05 08:50:00</td>\n",
       "      <td>8.0</td>\n",
       "      <td>2005.0</td>\n",
       "    </tr>\n",
       "    <tr>\n",
       "      <th>281</th>\n",
       "      <td>2005-10-10</td>\n",
       "      <td>12:05</td>\n",
       "      <td>F</td>\n",
       "      <td>0.0</td>\n",
       "      <td>NaN</td>\n",
       "      <td>White</td>\n",
       "      <td>Other Traffic Violation</td>\n",
       "      <td>Moving violation</td>\n",
       "      <td>False</td>\n",
       "      <td>NaN</td>\n",
       "      <td>Warning</td>\n",
       "      <td>False</td>\n",
       "      <td>0-15 Min</td>\n",
       "      <td>False</td>\n",
       "      <td>NaN</td>\n",
       "      <td>2005-10-10 12:05:00</td>\n",
       "      <td>8.0</td>\n",
       "      <td>2005.0</td>\n",
       "    </tr>\n",
       "    <tr>\n",
       "      <th>331</th>\n",
       "      <td>2005-10-12</td>\n",
       "      <td>07:50</td>\n",
       "      <td>M</td>\n",
       "      <td>0.0</td>\n",
       "      <td>NaN</td>\n",
       "      <td>White</td>\n",
       "      <td>Motorist Assist/Courtesy</td>\n",
       "      <td>Other</td>\n",
       "      <td>False</td>\n",
       "      <td>NaN</td>\n",
       "      <td>No Action</td>\n",
       "      <td>False</td>\n",
       "      <td>0-15 Min</td>\n",
       "      <td>False</td>\n",
       "      <td>NaN</td>\n",
       "      <td>2005-10-12 07:50:00</td>\n",
       "      <td>8.0</td>\n",
       "      <td>2005.0</td>\n",
       "    </tr>\n",
       "    <tr>\n",
       "      <th>414</th>\n",
       "      <td>2005-10-17</td>\n",
       "      <td>08:32</td>\n",
       "      <td>M</td>\n",
       "      <td>2005.0</td>\n",
       "      <td>NaN</td>\n",
       "      <td>White</td>\n",
       "      <td>Other Traffic Violation</td>\n",
       "      <td>Moving violation</td>\n",
       "      <td>False</td>\n",
       "      <td>NaN</td>\n",
       "      <td>Citation</td>\n",
       "      <td>False</td>\n",
       "      <td>0-15 Min</td>\n",
       "      <td>False</td>\n",
       "      <td>NaN</td>\n",
       "      <td>2005-10-17 08:32:00</td>\n",
       "      <td>8.0</td>\n",
       "      <td>0.0</td>\n",
       "    </tr>\n",
       "    <tr>\n",
       "      <th>455</th>\n",
       "      <td>2005-10-18</td>\n",
       "      <td>18:30</td>\n",
       "      <td>F</td>\n",
       "      <td>0.0</td>\n",
       "      <td>NaN</td>\n",
       "      <td>White</td>\n",
       "      <td>Speeding</td>\n",
       "      <td>Speeding</td>\n",
       "      <td>False</td>\n",
       "      <td>NaN</td>\n",
       "      <td>Warning</td>\n",
       "      <td>False</td>\n",
       "      <td>0-15 Min</td>\n",
       "      <td>False</td>\n",
       "      <td>NaN</td>\n",
       "      <td>2005-10-18 18:30:00</td>\n",
       "      <td>8.0</td>\n",
       "      <td>2005.0</td>\n",
       "    </tr>\n",
       "  </tbody>\n",
       "</table>\n",
       "</div>"
      ],
      "text/plain": [
       "      stop_date stop_time driver_gender  driver_age_raw  driver_age  \\\n",
       "146  2005-10-05     08:50             M             0.0         NaN   \n",
       "281  2005-10-10     12:05             F             0.0         NaN   \n",
       "331  2005-10-12     07:50             M             0.0         NaN   \n",
       "414  2005-10-17     08:32             M          2005.0         NaN   \n",
       "455  2005-10-18     18:30             F             0.0         NaN   \n",
       "\n",
       "    driver_race             violation_raw         violation  search_conducted  \\\n",
       "146       White   Other Traffic Violation  Moving violation             False   \n",
       "281       White   Other Traffic Violation  Moving violation             False   \n",
       "331       White  Motorist Assist/Courtesy             Other             False   \n",
       "414       White   Other Traffic Violation  Moving violation             False   \n",
       "455       White                  Speeding          Speeding             False   \n",
       "\n",
       "    search_type stop_outcome is_arrested stop_duration  drugs_related_stop  \\\n",
       "146         NaN     Citation       False      0-15 Min               False   \n",
       "281         NaN      Warning       False      0-15 Min               False   \n",
       "331         NaN    No Action       False      0-15 Min               False   \n",
       "414         NaN     Citation       False      0-15 Min               False   \n",
       "455         NaN      Warning       False      0-15 Min               False   \n",
       "\n",
       "    frisk       stop_datetime  stop_minutes  new_age  \n",
       "146   NaN 2005-10-05 08:50:00           8.0   2005.0  \n",
       "281   NaN 2005-10-10 12:05:00           8.0   2005.0  \n",
       "331   NaN 2005-10-12 07:50:00           8.0   2005.0  \n",
       "414   NaN 2005-10-17 08:32:00           8.0      0.0  \n",
       "455   NaN 2005-10-18 18:30:00           8.0   2005.0  "
      ]
     },
     "execution_count": 96,
     "metadata": {},
     "output_type": "execute_result"
    }
   ],
   "source": [
    "# driver_age_raw NOT MISSING, driver_age MISSING\n",
    "ri[(ri.driver_age_raw.notnull()) & (ri.driver_age.isnull())].head()"
   ]
  },
  {
   "cell_type": "code",
   "execution_count": 97,
   "metadata": {},
   "outputs": [],
   "source": [
    "# set the ages outside that range as missing\n",
    "# set it to null in new_age\n",
    "ri.loc[(ri.new_age < 15) | (ri.new_age > 99), 'new_age'] = np.nan"
   ]
  },
  {
   "cell_type": "code",
   "execution_count": 98,
   "metadata": {
    "scrolled": true
   },
   "outputs": [
    {
     "data": {
      "text/plain": [
       "True"
      ]
     },
     "execution_count": 98,
     "metadata": {},
     "output_type": "execute_result"
    }
   ],
   "source": [
    "ri.new_age.equals(ri.driver_age)"
   ]
  },
  {
   "cell_type": "markdown",
   "metadata": {},
   "source": [
    "Lessons:\n",
    "\n",
    "- Don't assume that the head and tail are representative of the data\n",
    "- Columns with missing values may still have bad data (driver_age_raw)\n",
    "- Data cleaning sometimes involves guessing (driver_age)\n",
    "- Use histograms for a sanity check"
   ]
  }
 ],
 "metadata": {
  "kernelspec": {
   "display_name": "Python 3",
   "language": "python",
   "name": "python3"
  },
  "language_info": {
   "codemirror_mode": {
    "name": "ipython",
    "version": 3
   },
   "file_extension": ".py",
   "mimetype": "text/x-python",
   "name": "python",
   "nbconvert_exporter": "python",
   "pygments_lexer": "ipython3",
   "version": "3.7.3"
  }
 },
 "nbformat": 4,
 "nbformat_minor": 2
}
