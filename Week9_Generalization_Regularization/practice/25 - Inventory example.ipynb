{
 "cells": [
  {
   "cell_type": "markdown",
   "metadata": {},
   "source": [
    "# Inventory example\n",
    "\n",
    "You're the operations manager of a firm that sells widgets, and you have been tasked with reducing delivery and inventory costs. To accomplish this, you requested data about the historical monthly demand of widgets in various customer locations ($Y$) and some other features about those locations ($X$). You also split the data into a training set and a test set.\n",
    "\n",
    "Term 1 2019 - Instructor: Teerapong Leelanupab\n",
    "\n",
    "Teaching Assistant: Suttida Satjasunsern\n",
    "\n",
    "***"
   ]
  },
  {
   "cell_type": "code",
   "execution_count": 16,
   "metadata": {
    "scrolled": true
   },
   "outputs": [
    {
     "data": {
      "text/html": [
       "<div>\n",
       "<style scoped>\n",
       "    .dataframe tbody tr th:only-of-type {\n",
       "        vertical-align: middle;\n",
       "    }\n",
       "\n",
       "    .dataframe tbody tr th {\n",
       "        vertical-align: top;\n",
       "    }\n",
       "\n",
       "    .dataframe thead th {\n",
       "        text-align: right;\n",
       "    }\n",
       "</style>\n",
       "<table border=\"1\" class=\"dataframe\">\n",
       "  <thead>\n",
       "    <tr style=\"text-align: right;\">\n",
       "      <th></th>\n",
       "      <th>Y</th>\n",
       "      <th>X1</th>\n",
       "      <th>X2</th>\n",
       "      <th>X3</th>\n",
       "      <th>X4</th>\n",
       "      <th>X5</th>\n",
       "      <th>X6</th>\n",
       "      <th>X7</th>\n",
       "      <th>X8</th>\n",
       "      <th>X9</th>\n",
       "      <th>X10</th>\n",
       "    </tr>\n",
       "  </thead>\n",
       "  <tbody>\n",
       "    <tr>\n",
       "      <th>0</th>\n",
       "      <td>0.0</td>\n",
       "      <td>0.314341</td>\n",
       "      <td>0.335933</td>\n",
       "      <td>0.455522</td>\n",
       "      <td>0.609706</td>\n",
       "      <td>0.776379</td>\n",
       "      <td>0.611998</td>\n",
       "      <td>0.225171</td>\n",
       "      <td>0.221796</td>\n",
       "      <td>0.109632</td>\n",
       "      <td>0.632819</td>\n",
       "    </tr>\n",
       "    <tr>\n",
       "      <th>1</th>\n",
       "      <td>0.0</td>\n",
       "      <td>0.491290</td>\n",
       "      <td>0.073050</td>\n",
       "      <td>0.880053</td>\n",
       "      <td>0.910943</td>\n",
       "      <td>0.050429</td>\n",
       "      <td>0.859846</td>\n",
       "      <td>0.165786</td>\n",
       "      <td>0.505842</td>\n",
       "      <td>0.773601</td>\n",
       "      <td>0.193455</td>\n",
       "    </tr>\n",
       "    <tr>\n",
       "      <th>2</th>\n",
       "      <td>0.0</td>\n",
       "      <td>0.736468</td>\n",
       "      <td>0.971234</td>\n",
       "      <td>0.031419</td>\n",
       "      <td>0.669304</td>\n",
       "      <td>0.110343</td>\n",
       "      <td>0.220268</td>\n",
       "      <td>0.846313</td>\n",
       "      <td>0.563787</td>\n",
       "      <td>0.850898</td>\n",
       "      <td>0.531761</td>\n",
       "    </tr>\n",
       "    <tr>\n",
       "      <th>3</th>\n",
       "      <td>1.0</td>\n",
       "      <td>0.142886</td>\n",
       "      <td>0.220886</td>\n",
       "      <td>0.291696</td>\n",
       "      <td>0.076489</td>\n",
       "      <td>0.982436</td>\n",
       "      <td>0.676249</td>\n",
       "      <td>0.580175</td>\n",
       "      <td>0.836969</td>\n",
       "      <td>0.481736</td>\n",
       "      <td>0.583566</td>\n",
       "    </tr>\n",
       "    <tr>\n",
       "      <th>4</th>\n",
       "      <td>1.0</td>\n",
       "      <td>0.877595</td>\n",
       "      <td>0.521938</td>\n",
       "      <td>0.080840</td>\n",
       "      <td>0.350176</td>\n",
       "      <td>0.985736</td>\n",
       "      <td>0.831571</td>\n",
       "      <td>0.820918</td>\n",
       "      <td>0.630583</td>\n",
       "      <td>0.702497</td>\n",
       "      <td>0.948716</td>\n",
       "    </tr>\n",
       "  </tbody>\n",
       "</table>\n",
       "</div>"
      ],
      "text/plain": [
       "     Y        X1        X2        X3        X4        X5        X6        X7  \\\n",
       "0  0.0  0.314341  0.335933  0.455522  0.609706  0.776379  0.611998  0.225171   \n",
       "1  0.0  0.491290  0.073050  0.880053  0.910943  0.050429  0.859846  0.165786   \n",
       "2  0.0  0.736468  0.971234  0.031419  0.669304  0.110343  0.220268  0.846313   \n",
       "3  1.0  0.142886  0.220886  0.291696  0.076489  0.982436  0.676249  0.580175   \n",
       "4  1.0  0.877595  0.521938  0.080840  0.350176  0.985736  0.831571  0.820918   \n",
       "\n",
       "         X8        X9       X10  \n",
       "0  0.221796  0.109632  0.632819  \n",
       "1  0.505842  0.773601  0.193455  \n",
       "2  0.563787  0.850898  0.531761  \n",
       "3  0.836969  0.481736  0.583566  \n",
       "4  0.630583  0.702497  0.948716  "
      ]
     },
     "execution_count": 16,
     "metadata": {},
     "output_type": "execute_result"
    }
   ],
   "source": [
    "# Import the libraries we will be using\n",
    "\n",
    "import os\n",
    "import numpy as np\n",
    "import pandas as pd\n",
    "import math\n",
    "import matplotlib.pylab as plt\n",
    "import seaborn as sns\n",
    "\n",
    "\n",
    "%matplotlib inline\n",
    "sns.set(style='ticks', palette='Set2')\n",
    "\n",
    "# some custom libraries!\n",
    "import sys\n",
    "sys.path.append(\"..\")\n",
    "from ds_utils.decision_surface import *\n",
    "# Load data\n",
    "df_train = pd.read_csv(\"data/inventory_training.csv\")\n",
    "df_test = pd.read_csv(\"data/inventory_test.csv\")\n",
    "df_train.head()"
   ]
  },
  {
   "cell_type": "markdown",
   "metadata": {},
   "source": [
    "Use the training data to fit a data mining model. Remember to import whatever you want to use from sklearn!"
   ]
  },
  {
   "cell_type": "code",
   "execution_count": 44,
   "metadata": {},
   "outputs": [],
   "source": [
    "from sklearn.tree import DecisionTreeClassifier\n",
    "from sklearn import linear_model\n",
    "import statsmodels.api as sm"
   ]
  },
  {
   "cell_type": "code",
   "execution_count": 45,
   "metadata": {},
   "outputs": [],
   "source": [
    "target = \"Y\"\n",
    "predictors = df_train.columns[df_train.columns != target]\n",
    "Model = None"
   ]
  },
  {
   "cell_type": "code",
   "execution_count": 32,
   "metadata": {},
   "outputs": [
    {
     "ename": "NameError",
     "evalue": "name 'regr' is not defined",
     "output_type": "error",
     "traceback": [
      "\u001b[1;31m---------------------------------------------------------------------------\u001b[0m",
      "\u001b[1;31mNameError\u001b[0m                                 Traceback (most recent call last)",
      "\u001b[1;32m<ipython-input-32-7c4e20903326>\u001b[0m in \u001b[0;36m<module>\u001b[1;34m\u001b[0m\n\u001b[0;32m      3\u001b[0m \u001b[0mNew_Interest_Rate\u001b[0m \u001b[1;33m=\u001b[0m \u001b[1;36m2.75\u001b[0m\u001b[1;33m\u001b[0m\u001b[1;33m\u001b[0m\u001b[0m\n\u001b[0;32m      4\u001b[0m \u001b[0mNew_Unemployment_Rate\u001b[0m \u001b[1;33m=\u001b[0m \u001b[1;36m5.3\u001b[0m\u001b[1;33m\u001b[0m\u001b[1;33m\u001b[0m\u001b[0m\n\u001b[1;32m----> 5\u001b[1;33m \u001b[0mprint\u001b[0m \u001b[1;33m(\u001b[0m\u001b[1;34m'Predicted Stock Index Price: \\n'\u001b[0m\u001b[1;33m,\u001b[0m \u001b[0mregr\u001b[0m\u001b[1;33m.\u001b[0m\u001b[0mpredict\u001b[0m\u001b[1;33m(\u001b[0m\u001b[1;33m[\u001b[0m\u001b[1;33m[\u001b[0m\u001b[0mNew_Interest_Rate\u001b[0m \u001b[1;33m,\u001b[0m\u001b[0mNew_Unemployment_Rate\u001b[0m\u001b[1;33m]\u001b[0m\u001b[1;33m]\u001b[0m\u001b[1;33m)\u001b[0m\u001b[1;33m)\u001b[0m\u001b[1;33m\u001b[0m\u001b[1;33m\u001b[0m\u001b[0m\n\u001b[0m\u001b[0;32m      6\u001b[0m \u001b[1;33m\u001b[0m\u001b[0m\n\u001b[0;32m      7\u001b[0m \u001b[1;33m\u001b[0m\u001b[0m\n",
      "\u001b[1;31mNameError\u001b[0m: name 'regr' is not defined"
     ]
    }
   ],
   "source": [
    "\n",
    "# prediction with sklearn\n",
    "New_Interest_Rate = 2.75\n",
    "New_Unemployment_Rate = 5.3\n",
    "print ('Predicted Stock Index Price: \\n', regr.predict([[New_Interest_Rate ,New_Unemployment_Rate]]))\n",
    "\n",
    "\n",
    "# with statsmodels\n",
    "X = sm.add_constant(X) # adding a constant\n",
    " \n",
    "model = sm.OLS(Y, X).fit()\n",
    "predictions = model.predict(X) \n",
    " \n",
    "print_model = model.summary()\n",
    "print(print_model)"
   ]
  },
  {
   "cell_type": "markdown",
   "metadata": {},
   "source": [
    "Now, suppose that at the beginning of every month you have to pre-stock customer locations with widgets. Every extra unit that you stock will cost you \\\\$1 inventory cost. Every widget that you don't have on hand will cost you \\\\$1 delivery cost. According to the function below, what would be the total cost if we had used the model to predict $Y$ in the training set?"
   ]
  },
  {
   "cell_type": "code",
   "execution_count": null,
   "metadata": {},
   "outputs": [],
   "source": [
    "def total_cost(predictions, demand, inventory_cost=1, delivery_cost=1):\n",
    "    errors = demand - predictions\n",
    "    cost = ((errors > 0) * errors * delivery_cost + (errors < 0) * -1 * errors * inventory_cost).sum()\n",
    "    return \"${:,}\".format(round(cost))\n",
    "\n",
    "train_predictions = 0 # Put in this line your predictions in the TRAINING set.\n",
    "\n",
    "model_cost = total_cost(train_predictions, df_train[target])\n",
    "print(\"Total cost of your model: \", model_cost)"
   ]
  },
  {
   "cell_type": "markdown",
   "metadata": {},
   "source": [
    "What if we had used the mean instead? Does it work better than the model?"
   ]
  },
  {
   "cell_type": "code",
   "execution_count": null,
   "metadata": {},
   "outputs": [],
   "source": [
    "mean = df_train[target].mean()\n",
    "mean_cost = total_cost(mean, df_train[target])\n",
    "print(\"Total cost of the mean: \", mean_cost)"
   ]
  },
  {
   "cell_type": "markdown",
   "metadata": {},
   "source": [
    "Let's repeat the same steps but using the test set. What works better, the mean or your model?"
   ]
  },
  {
   "cell_type": "code",
   "execution_count": null,
   "metadata": {},
   "outputs": [],
   "source": [
    "test_predictions = 0 # Put in this line your predictions in the TEST set.\n",
    "\n",
    "model_cost = total_cost(test_predictions, df_test[target])\n",
    "print(\"Total cost of your model: \", model_cost)\n",
    "mean_cost = total_cost(mean, df_test[target])\n",
    "print(\"Total cost of the mean: \", mean_cost)"
   ]
  },
  {
   "cell_type": "markdown",
   "metadata": {},
   "source": [
    "Can you think of any other way to do better than the mean or the model? Try it out here!"
   ]
  },
  {
   "cell_type": "code",
   "execution_count": null,
   "metadata": {},
   "outputs": [],
   "source": [
    "better_predictions = 0 # Put here the predictions of your new proposal in the TEST set.\n",
    "\n",
    "new_cost = total_cost(better_predictions, df_test[target])\n",
    "print(\"Total cost of your new proposal: \", new_cost)"
   ]
  },
  {
   "cell_type": "code",
   "execution_count": null,
   "metadata": {},
   "outputs": [],
   "source": []
  }
 ],
 "metadata": {
  "kernelspec": {
   "display_name": "Python 3",
   "language": "python",
   "name": "python3"
  },
  "language_info": {
   "codemirror_mode": {
    "name": "ipython",
    "version": 3
   },
   "file_extension": ".py",
   "mimetype": "text/x-python",
   "name": "python",
   "nbconvert_exporter": "python",
   "pygments_lexer": "ipython3",
   "version": "3.7.3"
  }
 },
 "nbformat": 4,
 "nbformat_minor": 2
}
