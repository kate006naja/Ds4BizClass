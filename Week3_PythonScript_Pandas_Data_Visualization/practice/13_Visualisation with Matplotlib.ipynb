{
 "cells": [
  {
   "cell_type": "markdown",
   "metadata": {},
   "source": [
    "# Visualisation With Matplotlib\n",
    "Term 1 2019 - Instructor: Teerapong Leelanupab\n",
    "\n",
    "Teaching Assistant: Suttida Satjasunsern\n",
    "\n",
    "***"
   ]
  },
  {
   "cell_type": "markdown",
   "metadata": {},
   "source": [
    "Matplotlib is the standard Python plotting library. It provides a variety of plots and visualisations. To use it in an IPython notebook, we firstly set up our notebook as follows:"
   ]
  },
  {
   "cell_type": "code",
   "execution_count": 4,
   "metadata": {},
   "outputs": [],
   "source": [
    "import matplotlib\n",
    "import matplotlib.pyplot as plt\n",
    "# Important! Need to tell IPython to display plots within the notebook\n",
    "%matplotlib inline"
   ]
  },
  {
   "cell_type": "markdown",
   "metadata": {},
   "source": [
    "### Matplotlib Basics\n",
    "Matplotlib visualisations consists of a figure, which contains one or more plots. A simple plot can be used to show the values in a standard Python list. Here the values are plotted on the y-axis. Matplotlib assumes this is a sequence and automatically assigns indices to the x-axis."
   ]
  },
  {
   "cell_type": "code",
   "execution_count": 7,
   "metadata": {},
   "outputs": [],
   "source": [
    "# this is the data that we want to plot\n",
    "bitcoin_data = [ 7875.1,  7908.7, 7665.3,  7386.4,  6137.5,  6383.5, 6310.1]"
   ]
  },
  {
   "cell_type": "code",
   "execution_count": 17,
   "metadata": {},
   "outputs": [
    {
     "data": {
      "image/png": "[encoded data removed]",
      "text/plain": [
       "<Figure size 432x288 with 1 Axes>"
      ]
     },
     "metadata": {
      "needs_background": "light"
     },
     "output_type": "display_data"
    }
   ],
   "source": [
    "# Create a new figure\n",
    "plt.figure()\n",
    "# Setup the plot\n",
    "plt.plot(bitcoin_data)\n",
    "plt.show()"
   ]
  },
  {
   "cell_type": "markdown",
   "metadata": {},
   "source": [
    "We can customise this plot by changing its dimensions, changing the line colour, adding a title, and adding text labels to the axes:"
   ]
  },
  {
   "cell_type": "code",
   "execution_count": 29,
   "metadata": {},
   "outputs": [
    {
     "data": {
      "text/plain": [
       "<function matplotlib.pyplot.show(*args, **kw)>"
      ]
     },
     "execution_count": 29,
     "metadata": {},
     "output_type": "execute_result"
    },
    {
     "data": {
      "image/png": "[encoded data removed]",
      "text/plain": [
       "<Figure size 288x144 with 1 Axes>"
      ]
     },
     "metadata": {
      "needs_background": "light"
     },
     "output_type": "display_data"
    }
   ],
   "source": [
    "# Create a new figure, setting the dimensions of the plot\n",
    "plt.figure(figsize=(4,2)) # it like a size of dimension 3 is like horizontal length\n",
    "\n",
    "p = plt.plot(bitcoin_data, color=\"red\") # Set the lie colour to red\n",
    "plt.title('Value of Bitcoin', fontsize=16) # Set the plot title, with the specified font size\n",
    "\n",
    "# Set the axis labels, with the specified font size\n",
    "plt.xlabel('Day', fontsize=16)\n",
    "plt.ylabel('Value', fontsize=16)\n",
    "plt.show"
   ]
  },
  {
   "cell_type": "markdown",
   "metadata": {},
   "source": [
    "###  Scatter Plots\n",
    "Next let's create a scatter plot, using two Python lists of identical size for the X and Y values."
   ]
  },
  {
   "cell_type": "code",
   "execution_count": 36,
   "metadata": {},
   "outputs": [
    {
     "data": {
      "text/plain": [
       "Text(0, 0.5, 'Ynum')"
      ]
     },
     "execution_count": 36,
     "metadata": {},
     "output_type": "execute_result"
    },
    {
     "data": {
      "image/png": "[encoded data removed]",
      "text/plain": [
       "<Figure size 432x288 with 1 Axes>"
      ]
     },
     "metadata": {
      "needs_background": "light"
     },
     "output_type": "display_data"
    }
   ],
   "source": [
    "# Make some data\n",
    "x = [ 1, 5, 8, 3, 7 ]\n",
    "y = [ 0.4, 0.25, 0.65, 0.7, 0.2 ]\n",
    "\n",
    "plt.figure() # Create the figure(window to plot)\n",
    "plt.scatter(x, y) # Create a scatter plot\n",
    "# Customize the range of the axes: values are [xmin xmax ymin ymax]\n",
    "plt.axis([0, 10, 0, 1])\n",
    "plt.xlabel(\"Xnum\", fontsize=16)\n",
    "plt.ylabel(\"Ynum\", fontsize=16)"
   ]
  },
  {
   "cell_type": "markdown",
   "metadata": {},
   "source": [
    "Let's try another scatter plot, based on randomly values"
   ]
  },
  {
   "cell_type": "code",
   "execution_count": 45,
   "metadata": {},
   "outputs": [],
   "source": [
    "# Generate the random values\n",
    "import random    \n",
    "r_x_data = []\n",
    "r_y_data = []\n",
    "for i in range(10):    \n",
    "    # generate a random x value between 0 and 1\n",
    "    r_x_data.append( random.random() )\n",
    "    # generate a random y value, between 0 and 10\n",
    "    r_y_data.append( random.random() * 10 )"
   ]
  },
  {
   "cell_type": "code",
   "execution_count": 51,
   "metadata": {},
   "outputs": [
    {
     "data": {
      "text/plain": [
       "[0.31576716658526716,\n",
       " 0.23463731015824085,\n",
       " 0.3838539428864868,\n",
       " 0.17753044621564262,\n",
       " 0.21652479709895645,\n",
       " 0.03704066231402736,\n",
       " 0.8765481129367632,\n",
       " 0.0539519746976197,\n",
       " 0.3481486219284414,\n",
       " 0.5995760032547298]"
      ]
     },
     "execution_count": 51,
     "metadata": {},
     "output_type": "execute_result"
    }
   ],
   "source": [
    "r_x_data"
   ]
  },
  {
   "cell_type": "code",
   "execution_count": 44,
   "metadata": {},
   "outputs": [
    {
     "data": {
      "text/plain": [
       "[0.374008848530617,\n",
       " 9.722457415830997,\n",
       " 7.924413665814814,\n",
       " 3.595606299523161,\n",
       " 8.704239736003338,\n",
       " 5.670977404913859,\n",
       " 1.5268724532059041,\n",
       " 6.315061858053971,\n",
       " 1.1654053335472936,\n",
       " 2.1090438489256513]"
      ]
     },
     "execution_count": 44,
     "metadata": {},
     "output_type": "execute_result"
    }
   ],
   "source": [
    "r_y_data"
   ]
  },
  {
   "cell_type": "markdown",
   "metadata": {},
   "source": [
    "We create a new figure, then pass the X and Y values to the function *plt.scatter()*:"
   ]
  },
  {
   "cell_type": "code",
   "execution_count": 53,
   "metadata": {},
   "outputs": [
    {
     "data": {
      "image/png": "[encoded data removed]",
      "text/plain": [
       "<Figure size 432x288 with 1 Axes>"
      ]
     },
     "metadata": {
      "needs_background": "light"
     },
     "output_type": "display_data"
    }
   ],
   "source": [
    "# set up the new figure\n",
    "plt.figure()\n",
    "# set up the scatter plot\n",
    "p = plt.scatter(r_x_data, r_y_data)"
   ]
  },
  {
   "cell_type": "markdown",
   "metadata": {},
   "source": [
    "Let's regenerate the plot, this time customising the appearance of the scatter plot:"
   ]
  },
  {
   "cell_type": "code",
   "execution_count": 66,
   "metadata": {},
   "outputs": [
    {
     "data": {
      "text/plain": [
       "Text(0, 0.5, 'Y Scores')"
      ]
     },
     "execution_count": 66,
     "metadata": {},
     "output_type": "execute_result"
    },
    {
     "data": {
      "image/png": "[encoded data removed]",
      "text/plain": [
       "<Figure size 576x360 with 1 Axes>"
      ]
     },
     "metadata": {
      "needs_background": "light"
     },
     "output_type": "display_data"
    }
   ],
   "source": [
    "# change the size of the figure\n",
    "plt.figure(figsize=(8,5))\n",
    "# we will change the colour, shape, and size for each point\n",
    "p = plt.scatter(r_x_data, r_y_data, c=\"black\", s=150, marker=\"X\") # 150 is size of each point\n",
    "# set the axis labels\n",
    "plt.xlabel('X Scores', fontsize=18)\n",
    "plt.ylabel('Y Scores', fontsize=18)"
   ]
  },
  {
   "cell_type": "markdown",
   "metadata": {},
   "source": [
    "### Bar Charts\n",
    "Next let's create a NumPy array, and a corresponding set of labels."
   ]
  },
  {
   "cell_type": "code",
   "execution_count": 68,
   "metadata": {},
   "outputs": [],
   "source": [
    "values = [ 5, 11, 14, 6 ]\n",
    "names = [ \"Alice\", \"Paul\", \"Susan\", \"Bob\" ]"
   ]
  },
  {
   "cell_type": "code",
   "execution_count": 69,
   "metadata": {},
   "outputs": [
    {
     "data": {
      "text/plain": [
       "range(0, 4)"
      ]
     },
     "execution_count": 69,
     "metadata": {},
     "output_type": "execute_result"
    }
   ],
   "source": [
    "# these are the corresponding positions on the y-axis, for plotting purposes\n",
    "y_pos = range(len(names))\n",
    "y_pos"
   ]
  },
  {
   "cell_type": "markdown",
   "metadata": {},
   "source": [
    "Now we can display this as a bar chart:"
   ]
  },
  {
   "cell_type": "code",
   "execution_count": 70,
   "metadata": {},
   "outputs": [
    {
     "data": {
      "text/plain": [
       "Text(0.5, 1.0, 'Customers')"
      ]
     },
     "execution_count": 70,
     "metadata": {},
     "output_type": "execute_result"
    },
    {
     "data": {
      "image/png": "[encoded data removed]",
      "text/plain": [
       "<Figure size 576x360 with 1 Axes>"
      ]
     },
     "metadata": {
      "needs_background": "light"
     },
     "output_type": "display_data"
    }
   ],
   "source": [
    "# create a new figure\n",
    "plt.figure(figsize=(8,5))\n",
    "# set up the bar chart\n",
    "plt.barh(y_pos, values, align='center') # horizontal chart\n",
    "plt.yticks(y_pos, names) # vertical chart\n",
    "plt.xlabel(\"Number of Purchases\")\n",
    "plt.title(\"Customers\")"
   ]
  },
  {
   "cell_type": "markdown",
   "metadata": {},
   "source": [
    "We can show multiple plots on the same figure:"
   ]
  },
  {
   "cell_type": "code",
   "execution_count": 76,
   "metadata": {},
   "outputs": [
    {
     "data": {
      "image/png": "[encoded data removed]",
      "text/plain": [
       "<Figure size 432x360 with 1 Axes>"
      ]
     },
     "metadata": {
      "needs_background": "light"
     },
     "output_type": "display_data"
    }
   ],
   "source": [
    "# set up the new figure\n",
    "plt.figure( figsize=(6,5) )\n",
    "# generate and plot 4 groups of points\n",
    "for color in [\"red\",\"green\",\"blue\",\"orange\"]:\n",
    "    # generate 8 random points\n",
    "    x = []\n",
    "    y = []\n",
    "    for i in range(8):\n",
    "        x.append( random.random() )\n",
    "        y.append( random.random() )\n",
    "    # show the plot for this data, using a different colour each time\n",
    "    plt.scatter(x, y, c=color, s=50, label=color)"
   ]
  },
  {
   "cell_type": "markdown",
   "metadata": {},
   "source": [
    "### Pie Charts\n",
    "Matplotlib can also produce pie charts."
   ]
  },
  {
   "cell_type": "code",
   "execution_count": null,
   "metadata": {},
   "outputs": [],
   "source": [
    "# some sample data\n",
    "counts = [18, 23, 7]\n",
    "parties = [\"Republicans\", \"Democrats\", \"Others\"]"
   ]
  },
  {
   "cell_type": "code",
   "execution_count": null,
   "metadata": {},
   "outputs": [],
   "source": [
    "# set up the new figure, specifying the size of the figure\n",
    "plt.figure(figsize=(5, 5))\n",
    "# create the pie chart on the sample data\n",
    "p = plt.pie(counts, labels=parties, colors=[\"red\",\"blue\",\"grey\"], autopct=\"%.1f%%\")"
   ]
  },
  {
   "cell_type": "markdown",
   "metadata": {},
   "source": [
    "We can also generate a plot, and save it to a file after display it:"
   ]
  },
  {
   "cell_type": "code",
   "execution_count": null,
   "metadata": {},
   "outputs": [],
   "source": [
    "# set up the new figure, specifying the size of the figure\n",
    "plt.figure(figsize=(5, 5))\n",
    "# create the pie chart on the sample data\n",
    "p = plt.pie(counts, labels=parties, colors=[\"red\",\"blue\",\"grey\"], autopct=\"%.1f%%\")\n",
    "# save as a PNG image file\n",
    "matplotlib.pyplot.savefig(\"politics-pie-chart.png\")"
   ]
  },
  {
   "cell_type": "code",
   "execution_count": null,
   "metadata": {},
   "outputs": [],
   "source": []
  }
 ],
 "metadata": {
  "kernelspec": {
   "display_name": "Python 3",
   "language": "python",
   "name": "python3"
  },
  "language_info": {
   "codemirror_mode": {
    "name": "ipython",
    "version": 3
   },
   "file_extension": ".py",
   "mimetype": "text/x-python",
   "name": "python",
   "nbconvert_exporter": "python",
   "pygments_lexer": "ipython3",
   "version": "3.7.3"
  }
 },
 "nbformat": 4,
 "nbformat_minor": 1
}
