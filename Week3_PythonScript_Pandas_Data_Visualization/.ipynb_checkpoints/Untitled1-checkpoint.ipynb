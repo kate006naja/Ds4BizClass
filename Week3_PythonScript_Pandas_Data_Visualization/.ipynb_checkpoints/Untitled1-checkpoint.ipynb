{
 "cells": [
  {
   "cell_type": "code",
   "execution_count": 4,
   "metadata": {},
   "outputs": [
    {
     "name": "stdout",
     "output_type": "stream",
     "text": [
      "Finished\n",
      "2.8400000000000003\n",
      "3.5700000000000003\n",
      "1.57\n",
      "2.41\n",
      "2.4699999999999998\n",
      "3.0199999999999996\n"
     ]
    }
   ],
   "source": [
    "try:\n",
    "    f = open(\"/Users/fonn/Dropbox/fon_kim_shared/UCD_study/Semester2/Data Science in Python/03 - Next Steps in Python/scores.csv\",\"r\")\n",
    "    lines = f.readlines()\n",
    "    f.close()\n",
    "except FileNotFoundError:\n",
    "    print(\"Warning: File not found\")\n",
    "print(\"Finished\")\n",
    "\n",
    "for line in lines:\n",
    "    line = line.strip()\n",
    "    parts = line.split(\",\")\n",
    "    mylist = []\n",
    "    for i in parts:\n",
    "        mylist.append(float(i))\n",
    "    print(sum(mylist))"
   ]
  },
  {
   "cell_type": "code",
   "execution_count": null,
   "metadata": {
    "collapsed": true
   },
   "outputs": [],
   "source": []
  },
  {
   "cell_type": "code",
   "execution_count": null,
   "metadata": {
    "collapsed": true
   },
   "outputs": [],
   "source": []
  },
  {
   "cell_type": "code",
   "execution_count": null,
   "metadata": {
    "collapsed": true
   },
   "outputs": [],
   "source": []
  },
  {
   "cell_type": "code",
   "execution_count": null,
   "metadata": {
    "collapsed": true
   },
   "outputs": [],
   "source": []
  }
 ],
 "metadata": {
  "kernelspec": {
   "display_name": "Python 3",
   "language": "python",
   "name": "python3"
  },
  "language_info": {
   "codemirror_mode": {
    "name": "ipython",
    "version": 3
   },
   "file_extension": ".py",
   "mimetype": "text/x-python",
   "name": "python",
   "nbconvert_exporter": "python",
   "pygments_lexer": "ipython3",
   "version": "3.6.8"
  }
 },
 "nbformat": 4,
 "nbformat_minor": 2
}
