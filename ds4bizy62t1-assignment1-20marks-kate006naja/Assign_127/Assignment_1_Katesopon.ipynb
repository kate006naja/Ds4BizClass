{
 "cells": [
  {
   "cell_type": "markdown",
   "metadata": {},
   "source": [
    "# Assignment 1 - Data Collection & Preparation\n",
    "Katesopon Kunpanperng 60070127"
   ]
  },
  {
   "cell_type": "markdown",
   "metadata": {},
   "source": [
    "# Task 1 : Pulling data from api\n",
    "#### This task contain :\n",
    "#### 1. Import library.\n",
    "#### 2. Parse the data.\n",
    "#### 3. Check and get rid of null value."
   ]
  },
  {
   "cell_type": "code",
   "execution_count": 109,
   "metadata": {},
   "outputs": [],
   "source": [
    "# import library that involve in access api and get data pulling\n",
    "\n",
    "import json\n",
    "import urllib.request\n",
    "from pandas.io.json import json_normalize\n",
    "\n",
    "# key to access api\n",
    "api_key = \"58a0c61c5d5020bab18e484ae251c19e\""
   ]
  },
  {
   "cell_type": "code",
   "execution_count": null,
   "metadata": {},
   "outputs": [],
   "source": [
    "# this is api called function (using api to get the data)\n",
    "def readjson(x):\n",
    "    url = \"https://api.themoviedb.org/3/discover/movie?api_key=\"+ api_key +\"&language=en-US&sort_by=popularity.desc&include_adult=false&include_video=false&page=\"+str(x)\n",
    "    response = urllib.request.urlopen(url)\n",
    "    raw_json = response.read().decode(\"utf-8\")\n",
    "    data_out = json.loads(raw_json)\n",
    "\n",
    "    # because data that get from this api is kinda messing so I'm gonna get the data only from \"results\" array\n",
    "    return data_out['results']"
   ]
  },
  {
   "cell_type": "code",
   "execution_count": null,
   "metadata": {},
   "outputs": [],
   "source": [
    "# normalize the data that got from api\n",
    "movies = json_normalize(readjson(1))\n",
    "# because of this the data that i got it only from page 1 of the webpage\n",
    "\n",
    "movies.head()"
   ]
  },
  {
   "cell_type": "markdown",
   "metadata": {},
   "source": [
    "# More data ! and clean out some column that I dont want"
   ]
  },
  {
   "cell_type": "markdown",
   "metadata": {},
   "source": [
    "I will write the for loop that use to append the output from \"readjson\" into df dataframe\n",
    "because 1 page only contain 20 movies\n",
    "but in process of getting data from api I've tried to pull it using for loop for 500 pages but html 422 error occured so I guess I need to import time to wiat to start the next time pulling"
   ]
  },
  {
   "cell_type": "code",
   "execution_count": null,
   "metadata": {},
   "outputs": [],
   "source": [
    "import time"
   ]
  },
  {
   "cell_type": "code",
   "execution_count": null,
   "metadata": {},
   "outputs": [],
   "source": [
    "# for loop for pulling data from api \n",
    "# I'm gonna make it more statistic so I'm gonna do the systematic sampling the data by 3 pages\n",
    "for i in range(0, 500, 3):\n",
    "        if i > 1:\n",
    "            movies = movies.append(readjson(i), ignore_index=True)\n",
    "            time.sleep(1)\n",
    "            # this for loop purpose is to only append the rows to dataframe\n",
    "            # it wont check if the pages is already exist\n",
    "movies"
   ]
  },
  {
   "cell_type": "code",
   "execution_count": 11,
   "metadata": {
    "scrolled": true
   },
   "outputs": [],
   "source": [
    "# get rid of column that im not interested in\n",
    "movies = movies.drop(columns=['backdrop_path','overview','poster_path'])\n",
    "movies.head()\n",
    "# now im get rid of the data i dont want(maybe more next time)"
   ]
  },
  {
   "cell_type": "code",
   "execution_count": 12,
   "metadata": {
    "scrolled": false
   },
   "outputs": [
    {
     "data": {
      "text/plain": [
       "adult                0\n",
       "genre_ids            0\n",
       "id                   0\n",
       "original_language    0\n",
       "original_title       0\n",
       "popularity           0\n",
       "release_date         0\n",
       "title                0\n",
       "video                0\n",
       "vote_average         0\n",
       "vote_count           0\n",
       "dtype: int64"
      ]
     },
     "execution_count": 12,
     "metadata": {},
     "output_type": "execute_result"
    }
   ],
   "source": [
    "# check if there's are any null values in dataframe\n",
    "movies.isnull().sum()"
   ]
  },
  {
   "cell_type": "code",
   "execution_count": 13,
   "metadata": {
    "scrolled": true
   },
   "outputs": [
    {
     "data": {
      "text/plain": [
       "adult                0\n",
       "genre_ids            0\n",
       "id                   0\n",
       "original_language    0\n",
       "original_title       0\n",
       "popularity           0\n",
       "release_date         0\n",
       "title                0\n",
       "video                0\n",
       "vote_average         0\n",
       "vote_count           0\n",
       "dtype: int64"
      ]
     },
     "execution_count": 13,
     "metadata": {},
     "output_type": "execute_result"
    }
   ],
   "source": [
    "# get rid of null values in release date\n",
    "movies = movies.dropna()\n",
    "movies.isnull().sum()"
   ]
  },
  {
   "cell_type": "code",
   "execution_count": 14,
   "metadata": {
    "scrolled": true
   },
   "outputs": [
    {
     "data": {
      "text/html": [
       "<div>\n",
       "<style scoped>\n",
       "    .dataframe tbody tr th:only-of-type {\n",
       "        vertical-align: middle;\n",
       "    }\n",
       "\n",
       "    .dataframe tbody tr th {\n",
       "        vertical-align: top;\n",
       "    }\n",
       "\n",
       "    .dataframe thead th {\n",
       "        text-align: right;\n",
       "    }\n",
       "</style>\n",
       "<table border=\"1\" class=\"dataframe\">\n",
       "  <thead>\n",
       "    <tr style=\"text-align: right;\">\n",
       "      <th></th>\n",
       "      <th>adult</th>\n",
       "      <th>genre_ids</th>\n",
       "      <th>id</th>\n",
       "      <th>original_language</th>\n",
       "      <th>original_title</th>\n",
       "      <th>popularity</th>\n",
       "      <th>release_date</th>\n",
       "      <th>title</th>\n",
       "      <th>video</th>\n",
       "      <th>vote_average</th>\n",
       "      <th>vote_count</th>\n",
       "    </tr>\n",
       "  </thead>\n",
       "  <tbody>\n",
       "    <tr>\n",
       "      <th>0</th>\n",
       "      <td>False</td>\n",
       "      <td>['Comedy', 'Horror']</td>\n",
       "      <td>474350</td>\n",
       "      <td>en</td>\n",
       "      <td>It Chapter Two</td>\n",
       "      <td>442.401</td>\n",
       "      <td>9/6/2019</td>\n",
       "      <td>It Chapter Two</td>\n",
       "      <td>False</td>\n",
       "      <td>7.2</td>\n",
       "      <td>283</td>\n",
       "    </tr>\n",
       "    <tr>\n",
       "      <th>1</th>\n",
       "      <td>False</td>\n",
       "      <td>['Comedy', 'Crime', 'Drama']</td>\n",
       "      <td>429203</td>\n",
       "      <td>en</td>\n",
       "      <td>The Old Man &amp; the Gun</td>\n",
       "      <td>247.416</td>\n",
       "      <td>9/28/2018</td>\n",
       "      <td>The Old Man &amp; the Gun</td>\n",
       "      <td>False</td>\n",
       "      <td>6.3</td>\n",
       "      <td>498</td>\n",
       "    </tr>\n",
       "    <tr>\n",
       "      <th>2</th>\n",
       "      <td>False</td>\n",
       "      <td>['Action', 'Adventure', 'Science Fiction']</td>\n",
       "      <td>320288</td>\n",
       "      <td>en</td>\n",
       "      <td>Dark Phoenix</td>\n",
       "      <td>179.504</td>\n",
       "      <td>6/7/2019</td>\n",
       "      <td>Dark Phoenix</td>\n",
       "      <td>False</td>\n",
       "      <td>6.1</td>\n",
       "      <td>1675</td>\n",
       "    </tr>\n",
       "    <tr>\n",
       "      <th>3</th>\n",
       "      <td>False</td>\n",
       "      <td>['Action']</td>\n",
       "      <td>384018</td>\n",
       "      <td>en</td>\n",
       "      <td>Fast &amp; Furious Presents: Hobbs &amp; Shaw</td>\n",
       "      <td>124.178</td>\n",
       "      <td>8/2/2019</td>\n",
       "      <td>Fast &amp; Furious Presents: Hobbs &amp; Shaw</td>\n",
       "      <td>False</td>\n",
       "      <td>6.5</td>\n",
       "      <td>1028</td>\n",
       "    </tr>\n",
       "    <tr>\n",
       "      <th>4</th>\n",
       "      <td>False</td>\n",
       "      <td>['Action']</td>\n",
       "      <td>423204</td>\n",
       "      <td>en</td>\n",
       "      <td>Angel Has Fallen</td>\n",
       "      <td>149.039</td>\n",
       "      <td>8/23/2019</td>\n",
       "      <td>Angel Has Fallen</td>\n",
       "      <td>False</td>\n",
       "      <td>5.7</td>\n",
       "      <td>276</td>\n",
       "    </tr>\n",
       "  </tbody>\n",
       "</table>\n",
       "</div>"
      ],
      "text/plain": [
       "   adult                                   genre_ids      id  \\\n",
       "0  False                        ['Comedy', 'Horror']  474350   \n",
       "1  False                ['Comedy', 'Crime', 'Drama']  429203   \n",
       "2  False  ['Action', 'Adventure', 'Science Fiction']  320288   \n",
       "3  False                                  ['Action']  384018   \n",
       "4  False                                  ['Action']  423204   \n",
       "\n",
       "  original_language                         original_title  popularity  \\\n",
       "0                en                         It Chapter Two     442.401   \n",
       "1                en                  The Old Man & the Gun     247.416   \n",
       "2                en                           Dark Phoenix     179.504   \n",
       "3                en  Fast & Furious Presents: Hobbs & Shaw     124.178   \n",
       "4                en                       Angel Has Fallen     149.039   \n",
       "\n",
       "  release_date                                  title  video  vote_average  \\\n",
       "0     9/6/2019                         It Chapter Two  False           7.2   \n",
       "1    9/28/2018                  The Old Man & the Gun  False           6.3   \n",
       "2     6/7/2019                           Dark Phoenix  False           6.1   \n",
       "3     8/2/2019  Fast & Furious Presents: Hobbs & Shaw  False           6.5   \n",
       "4    8/23/2019                       Angel Has Fallen  False           5.7   \n",
       "\n",
       "   vote_count  \n",
       "0         283  \n",
       "1         498  \n",
       "2        1675  \n",
       "3        1028  \n",
       "4         276  "
      ]
     },
     "execution_count": 14,
     "metadata": {},
     "output_type": "execute_result"
    }
   ],
   "source": [
    "movies.head()"
   ]
  },
  {
   "cell_type": "markdown",
   "metadata": {},
   "source": [
    "***"
   ]
  },
  {
   "cell_type": "markdown",
   "metadata": {},
   "source": [
    "# Task 2 : Data Preparation \n",
    "(a little bit prepare)\n",
    "\n",
    "#### 1. Change date data type into datetime.\n",
    "#### 2. Get genre data to map with genre id.\n",
    "#### 3. Save data as CSV."
   ]
  },
  {
   "cell_type": "markdown",
   "metadata": {},
   "source": [
    "Change release_date into date time data type first (for better future)"
   ]
  },
  {
   "cell_type": "code",
   "execution_count": 190,
   "metadata": {},
   "outputs": [],
   "source": [
    "import pandas as pd\n",
    "movies['release_date'] = pd.to_datetime(movies['release_date'])"
   ]
  },
  {
   "cell_type": "code",
   "execution_count": 18,
   "metadata": {
    "scrolled": true
   },
   "outputs": [
    {
     "data": {
      "text/plain": [
       "adult                          bool\n",
       "genre_ids                    object\n",
       "id                            int64\n",
       "original_language            object\n",
       "original_title               object\n",
       "popularity                  float64\n",
       "release_date         datetime64[ns]\n",
       "title                        object\n",
       "video                          bool\n",
       "vote_average                float64\n",
       "vote_count                    int64\n",
       "dtype: object"
      ]
     },
     "execution_count": 18,
     "metadata": {},
     "output_type": "execute_result"
    }
   ],
   "source": [
    "movies.dtypes"
   ]
  },
  {
   "cell_type": "code",
   "execution_count": 19,
   "metadata": {
    "scrolled": true
   },
   "outputs": [
    {
     "data": {
      "text/html": [
       "<div>\n",
       "<style scoped>\n",
       "    .dataframe tbody tr th:only-of-type {\n",
       "        vertical-align: middle;\n",
       "    }\n",
       "\n",
       "    .dataframe tbody tr th {\n",
       "        vertical-align: top;\n",
       "    }\n",
       "\n",
       "    .dataframe thead th {\n",
       "        text-align: right;\n",
       "    }\n",
       "</style>\n",
       "<table border=\"1\" class=\"dataframe\">\n",
       "  <thead>\n",
       "    <tr style=\"text-align: right;\">\n",
       "      <th></th>\n",
       "      <th>adult</th>\n",
       "      <th>genre_ids</th>\n",
       "      <th>id</th>\n",
       "      <th>original_language</th>\n",
       "      <th>original_title</th>\n",
       "      <th>popularity</th>\n",
       "      <th>release_date</th>\n",
       "      <th>title</th>\n",
       "      <th>video</th>\n",
       "      <th>vote_average</th>\n",
       "      <th>vote_count</th>\n",
       "    </tr>\n",
       "  </thead>\n",
       "  <tbody>\n",
       "    <tr>\n",
       "      <th>0</th>\n",
       "      <td>False</td>\n",
       "      <td>['Comedy', 'Horror']</td>\n",
       "      <td>474350</td>\n",
       "      <td>en</td>\n",
       "      <td>It Chapter Two</td>\n",
       "      <td>442.401</td>\n",
       "      <td>2019-09-06</td>\n",
       "      <td>It Chapter Two</td>\n",
       "      <td>False</td>\n",
       "      <td>7.2</td>\n",
       "      <td>283</td>\n",
       "    </tr>\n",
       "    <tr>\n",
       "      <th>1</th>\n",
       "      <td>False</td>\n",
       "      <td>['Comedy', 'Crime', 'Drama']</td>\n",
       "      <td>429203</td>\n",
       "      <td>en</td>\n",
       "      <td>The Old Man &amp; the Gun</td>\n",
       "      <td>247.416</td>\n",
       "      <td>2018-09-28</td>\n",
       "      <td>The Old Man &amp; the Gun</td>\n",
       "      <td>False</td>\n",
       "      <td>6.3</td>\n",
       "      <td>498</td>\n",
       "    </tr>\n",
       "    <tr>\n",
       "      <th>2</th>\n",
       "      <td>False</td>\n",
       "      <td>['Action', 'Adventure', 'Science Fiction']</td>\n",
       "      <td>320288</td>\n",
       "      <td>en</td>\n",
       "      <td>Dark Phoenix</td>\n",
       "      <td>179.504</td>\n",
       "      <td>2019-06-07</td>\n",
       "      <td>Dark Phoenix</td>\n",
       "      <td>False</td>\n",
       "      <td>6.1</td>\n",
       "      <td>1675</td>\n",
       "    </tr>\n",
       "    <tr>\n",
       "      <th>3</th>\n",
       "      <td>False</td>\n",
       "      <td>['Action']</td>\n",
       "      <td>384018</td>\n",
       "      <td>en</td>\n",
       "      <td>Fast &amp; Furious Presents: Hobbs &amp; Shaw</td>\n",
       "      <td>124.178</td>\n",
       "      <td>2019-08-02</td>\n",
       "      <td>Fast &amp; Furious Presents: Hobbs &amp; Shaw</td>\n",
       "      <td>False</td>\n",
       "      <td>6.5</td>\n",
       "      <td>1028</td>\n",
       "    </tr>\n",
       "    <tr>\n",
       "      <th>4</th>\n",
       "      <td>False</td>\n",
       "      <td>['Action']</td>\n",
       "      <td>423204</td>\n",
       "      <td>en</td>\n",
       "      <td>Angel Has Fallen</td>\n",
       "      <td>149.039</td>\n",
       "      <td>2019-08-23</td>\n",
       "      <td>Angel Has Fallen</td>\n",
       "      <td>False</td>\n",
       "      <td>5.7</td>\n",
       "      <td>276</td>\n",
       "    </tr>\n",
       "  </tbody>\n",
       "</table>\n",
       "</div>"
      ],
      "text/plain": [
       "   adult                                   genre_ids      id  \\\n",
       "0  False                        ['Comedy', 'Horror']  474350   \n",
       "1  False                ['Comedy', 'Crime', 'Drama']  429203   \n",
       "2  False  ['Action', 'Adventure', 'Science Fiction']  320288   \n",
       "3  False                                  ['Action']  384018   \n",
       "4  False                                  ['Action']  423204   \n",
       "\n",
       "  original_language                         original_title  popularity  \\\n",
       "0                en                         It Chapter Two     442.401   \n",
       "1                en                  The Old Man & the Gun     247.416   \n",
       "2                en                           Dark Phoenix     179.504   \n",
       "3                en  Fast & Furious Presents: Hobbs & Shaw     124.178   \n",
       "4                en                       Angel Has Fallen     149.039   \n",
       "\n",
       "  release_date                                  title  video  vote_average  \\\n",
       "0   2019-09-06                         It Chapter Two  False           7.2   \n",
       "1   2018-09-28                  The Old Man & the Gun  False           6.3   \n",
       "2   2019-06-07                           Dark Phoenix  False           6.1   \n",
       "3   2019-08-02  Fast & Furious Presents: Hobbs & Shaw  False           6.5   \n",
       "4   2019-08-23                       Angel Has Fallen  False           5.7   \n",
       "\n",
       "   vote_count  \n",
       "0         283  \n",
       "1         498  \n",
       "2        1675  \n",
       "3        1028  \n",
       "4         276  "
      ]
     },
     "execution_count": 19,
     "metadata": {},
     "output_type": "execute_result"
    }
   ],
   "source": [
    "movies.head()"
   ]
  },
  {
   "cell_type": "markdown",
   "metadata": {},
   "source": [
    "I want to know that what each genre_id is"
   ]
  },
  {
   "cell_type": "code",
   "execution_count": 20,
   "metadata": {},
   "outputs": [],
   "source": [
    "# it an api code to get genre data from web\n",
    "import http.client\n",
    "\n",
    "conn = http.client.HTTPSConnection(\"api.themoviedb.org\")\n",
    "\n",
    "payload = \"{}\"\n",
    "\n",
    "conn.request(\"GET\", \"/3/genre/movie/list?language=en-US&api_key=58a0c61c5d5020bab18e484ae251c19e\", payload)\n",
    "\n",
    "res = conn.getresponse()\n",
    "genre_data = res.read()"
   ]
  },
  {
   "cell_type": "code",
   "execution_count": 21,
   "metadata": {
    "scrolled": false
   },
   "outputs": [
    {
     "data": {
      "text/plain": [
       "b'{\"genres\":[{\"id\":28,\"name\":\"Action\"},{\"id\":12,\"name\":\"Adventure\"},{\"id\":16,\"name\":\"Animation\"},{\"id\":35,\"name\":\"Comedy\"},{\"id\":80,\"name\":\"Crime\"},{\"id\":99,\"name\":\"Documentary\"},{\"id\":18,\"name\":\"Drama\"},{\"id\":10751,\"name\":\"Family\"},{\"id\":14,\"name\":\"Fantasy\"},{\"id\":36,\"name\":\"History\"},{\"id\":27,\"name\":\"Horror\"},{\"id\":10402,\"name\":\"Music\"},{\"id\":9648,\"name\":\"Mystery\"},{\"id\":10749,\"name\":\"Romance\"},{\"id\":878,\"name\":\"Science Fiction\"},{\"id\":10770,\"name\":\"TV Movie\"},{\"id\":53,\"name\":\"Thriller\"},{\"id\":10752,\"name\":\"War\"},{\"id\":37,\"name\":\"Western\"}]}'"
      ]
     },
     "execution_count": 21,
     "metadata": {},
     "output_type": "execute_result"
    }
   ],
   "source": [
    "# get genre values which have id\n",
    "genre_data"
   ]
  },
  {
   "cell_type": "code",
   "execution_count": 22,
   "metadata": {
    "scrolled": true
   },
   "outputs": [
    {
     "data": {
      "text/html": [
       "<div>\n",
       "<style scoped>\n",
       "    .dataframe tbody tr th:only-of-type {\n",
       "        vertical-align: middle;\n",
       "    }\n",
       "\n",
       "    .dataframe tbody tr th {\n",
       "        vertical-align: top;\n",
       "    }\n",
       "\n",
       "    .dataframe thead th {\n",
       "        text-align: right;\n",
       "    }\n",
       "</style>\n",
       "<table border=\"1\" class=\"dataframe\">\n",
       "  <thead>\n",
       "    <tr style=\"text-align: right;\">\n",
       "      <th></th>\n",
       "      <th>id</th>\n",
       "      <th>name</th>\n",
       "    </tr>\n",
       "  </thead>\n",
       "  <tbody>\n",
       "    <tr>\n",
       "      <th>0</th>\n",
       "      <td>28</td>\n",
       "      <td>Action</td>\n",
       "    </tr>\n",
       "    <tr>\n",
       "      <th>1</th>\n",
       "      <td>12</td>\n",
       "      <td>Adventure</td>\n",
       "    </tr>\n",
       "    <tr>\n",
       "      <th>2</th>\n",
       "      <td>16</td>\n",
       "      <td>Animation</td>\n",
       "    </tr>\n",
       "    <tr>\n",
       "      <th>3</th>\n",
       "      <td>35</td>\n",
       "      <td>Comedy</td>\n",
       "    </tr>\n",
       "    <tr>\n",
       "      <th>4</th>\n",
       "      <td>80</td>\n",
       "      <td>Crime</td>\n",
       "    </tr>\n",
       "  </tbody>\n",
       "</table>\n",
       "</div>"
      ],
      "text/plain": [
       "   id       name\n",
       "0  28     Action\n",
       "1  12  Adventure\n",
       "2  16  Animation\n",
       "3  35     Comedy\n",
       "4  80      Crime"
      ]
     },
     "execution_count": 22,
     "metadata": {},
     "output_type": "execute_result"
    }
   ],
   "source": [
    "genre_data = json.loads(genre_data)\n",
    "gen_data = json_normalize(genre_data['genres'])\n",
    "\n",
    "# gen_data = gen_data.set_index('id')\n",
    "gen_data.head()"
   ]
  },
  {
   "cell_type": "markdown",
   "metadata": {},
   "source": [
    "# Genre_data saving"
   ]
  },
  {
   "cell_type": "code",
   "execution_count": 23,
   "metadata": {},
   "outputs": [],
   "source": [
    "gen_data.to_csv('data\\genre_data.csv', index=False)"
   ]
  },
  {
   "cell_type": "code",
   "execution_count": 24,
   "metadata": {},
   "outputs": [
    {
     "data": {
      "text/plain": [
       "Int64Index([   28,    12,    16,    35,    80,    99,    18, 10751,    14,\n",
       "               36,    27, 10402,  9648, 10749,   878, 10770,    53, 10752,\n",
       "               37],\n",
       "           dtype='int64', name='id')"
      ]
     },
     "execution_count": 24,
     "metadata": {},
     "output_type": "execute_result"
    }
   ],
   "source": [
    "# set index by id for easy access\n",
    "gen_data = gen_data.set_index('id')\n",
    "gen_data.index"
   ]
  },
  {
   "cell_type": "code",
   "execution_count": 25,
   "metadata": {
    "scrolled": true
   },
   "outputs": [
    {
     "data": {
      "text/html": [
       "<div>\n",
       "<style scoped>\n",
       "    .dataframe tbody tr th:only-of-type {\n",
       "        vertical-align: middle;\n",
       "    }\n",
       "\n",
       "    .dataframe tbody tr th {\n",
       "        vertical-align: top;\n",
       "    }\n",
       "\n",
       "    .dataframe thead th {\n",
       "        text-align: right;\n",
       "    }\n",
       "</style>\n",
       "<table border=\"1\" class=\"dataframe\">\n",
       "  <thead>\n",
       "    <tr style=\"text-align: right;\">\n",
       "      <th></th>\n",
       "      <th>name</th>\n",
       "    </tr>\n",
       "    <tr>\n",
       "      <th>id</th>\n",
       "      <th></th>\n",
       "    </tr>\n",
       "  </thead>\n",
       "  <tbody>\n",
       "    <tr>\n",
       "      <th>28</th>\n",
       "      <td>Action</td>\n",
       "    </tr>\n",
       "    <tr>\n",
       "      <th>12</th>\n",
       "      <td>Adventure</td>\n",
       "    </tr>\n",
       "    <tr>\n",
       "      <th>16</th>\n",
       "      <td>Animation</td>\n",
       "    </tr>\n",
       "    <tr>\n",
       "      <th>35</th>\n",
       "      <td>Comedy</td>\n",
       "    </tr>\n",
       "    <tr>\n",
       "      <th>80</th>\n",
       "      <td>Crime</td>\n",
       "    </tr>\n",
       "  </tbody>\n",
       "</table>\n",
       "</div>"
      ],
      "text/plain": [
       "         name\n",
       "id           \n",
       "28     Action\n",
       "12  Adventure\n",
       "16  Animation\n",
       "35     Comedy\n",
       "80      Crime"
      ]
     },
     "execution_count": 25,
     "metadata": {},
     "output_type": "execute_result"
    }
   ],
   "source": [
    "gen_data.head()"
   ]
  },
  {
   "cell_type": "code",
   "execution_count": null,
   "metadata": {},
   "outputs": [],
   "source": [
    "for i in movies['genre_ids']:\n",
    "    for j in range(len(i)):\n",
    "        i[j] = gen_data['name'][i[j]]"
   ]
  },
  {
   "cell_type": "code",
   "execution_count": null,
   "metadata": {},
   "outputs": [],
   "source": [
    "movies.tail()"
   ]
  },
  {
   "cell_type": "markdown",
   "metadata": {},
   "source": [
    "Now I get my full set of data, \n",
    "It's a time to save file to csv"
   ]
  },
  {
   "cell_type": "markdown",
   "metadata": {},
   "source": [
    "# Movies_data saving"
   ]
  },
  {
   "cell_type": "code",
   "execution_count": null,
   "metadata": {},
   "outputs": [],
   "source": [
    "# save to csv file\n",
    "movies.to_csv('data\\movies_data.csv', index=False)"
   ]
  },
  {
   "cell_type": "markdown",
   "metadata": {},
   "source": [
    "***"
   ]
  },
  {
   "cell_type": "markdown",
   "metadata": {},
   "source": [
    "# Task 3 : Data Analyze and Summarise\n",
    "#### 1. Read csv data\n",
    "#### 2. Descriptive statistics\n",
    "#### 3. Explore and filter data"
   ]
  },
  {
   "cell_type": "code",
   "execution_count": 108,
   "metadata": {
    "scrolled": false
   },
   "outputs": [],
   "source": [
    "movies = pd.read_csv(r\"C:\\Users\\theka\\OneDrive\\desktop\\DS4Biz\\ds4bizy62t1-assignment1-20marks-kate006naja\\Assign_127\\data\\movies_data.csv\")\n",
    "movies['release_date'] = pd.to_datetime(movies['release_date'])\n",
    "movies.head()\n",
    "\n",
    "# I guess for me right now I don't need id column\n",
    "movies = movies.drop(columns='id')"
   ]
  },
  {
   "cell_type": "markdown",
   "metadata": {},
   "source": [
    "Showing Table column and Descriptive Statistics of Numerical Values"
   ]
  },
  {
   "cell_type": "code",
   "execution_count": 28,
   "metadata": {
    "scrolled": true
   },
   "outputs": [
    {
     "name": "stdout",
     "output_type": "stream",
     "text": [
      "Data Columns:\n",
      "Index(['adult', 'genre_ids', 'original_language', 'original_title',\n",
      "       'popularity', 'release_date', 'title', 'video', 'vote_average',\n",
      "       'vote_count'],\n",
      "      dtype='object')\n",
      "\n"
     ]
    },
    {
     "data": {
      "text/html": [
       "<div>\n",
       "<style scoped>\n",
       "    .dataframe tbody tr th:only-of-type {\n",
       "        vertical-align: middle;\n",
       "    }\n",
       "\n",
       "    .dataframe tbody tr th {\n",
       "        vertical-align: top;\n",
       "    }\n",
       "\n",
       "    .dataframe thead th {\n",
       "        text-align: right;\n",
       "    }\n",
       "</style>\n",
       "<table border=\"1\" class=\"dataframe\">\n",
       "  <thead>\n",
       "    <tr style=\"text-align: right;\">\n",
       "      <th></th>\n",
       "      <th>popularity</th>\n",
       "      <th>vote_average</th>\n",
       "      <th>vote_count</th>\n",
       "    </tr>\n",
       "  </thead>\n",
       "  <tbody>\n",
       "    <tr>\n",
       "      <th>count</th>\n",
       "      <td>3339.000000</td>\n",
       "      <td>3339.000000</td>\n",
       "      <td>3339.000000</td>\n",
       "    </tr>\n",
       "    <tr>\n",
       "      <th>mean</th>\n",
       "      <td>10.234247</td>\n",
       "      <td>6.309434</td>\n",
       "      <td>926.140461</td>\n",
       "    </tr>\n",
       "    <tr>\n",
       "      <th>std</th>\n",
       "      <td>12.564434</td>\n",
       "      <td>1.340519</td>\n",
       "      <td>1872.154795</td>\n",
       "    </tr>\n",
       "    <tr>\n",
       "      <th>min</th>\n",
       "      <td>2.557000</td>\n",
       "      <td>0.000000</td>\n",
       "      <td>0.000000</td>\n",
       "    </tr>\n",
       "    <tr>\n",
       "      <th>25%</th>\n",
       "      <td>6.844500</td>\n",
       "      <td>5.800000</td>\n",
       "      <td>132.000000</td>\n",
       "    </tr>\n",
       "    <tr>\n",
       "      <th>50%</th>\n",
       "      <td>8.190000</td>\n",
       "      <td>6.500000</td>\n",
       "      <td>291.000000</td>\n",
       "    </tr>\n",
       "    <tr>\n",
       "      <th>75%</th>\n",
       "      <td>10.431500</td>\n",
       "      <td>7.100000</td>\n",
       "      <td>791.500000</td>\n",
       "    </tr>\n",
       "    <tr>\n",
       "      <th>max</th>\n",
       "      <td>442.401000</td>\n",
       "      <td>10.000000</td>\n",
       "      <td>23096.000000</td>\n",
       "    </tr>\n",
       "  </tbody>\n",
       "</table>\n",
       "</div>"
      ],
      "text/plain": [
       "        popularity  vote_average    vote_count\n",
       "count  3339.000000   3339.000000   3339.000000\n",
       "mean     10.234247      6.309434    926.140461\n",
       "std      12.564434      1.340519   1872.154795\n",
       "min       2.557000      0.000000      0.000000\n",
       "25%       6.844500      5.800000    132.000000\n",
       "50%       8.190000      6.500000    291.000000\n",
       "75%      10.431500      7.100000    791.500000\n",
       "max     442.401000     10.000000  23096.000000"
      ]
     },
     "execution_count": 28,
     "metadata": {},
     "output_type": "execute_result"
    }
   ],
   "source": [
    "# Descriptive Statistics\n",
    "print(\"Data Columns:\"+\"\\n\"+ str(movies.columns)+\"\\n\") \n",
    "movies.describe()"
   ]
  },
  {
   "cell_type": "code",
   "execution_count": 29,
   "metadata": {
    "scrolled": true
   },
   "outputs": [
    {
     "data": {
      "text/html": [
       "<div>\n",
       "<style scoped>\n",
       "    .dataframe tbody tr th:only-of-type {\n",
       "        vertical-align: middle;\n",
       "    }\n",
       "\n",
       "    .dataframe tbody tr th {\n",
       "        vertical-align: top;\n",
       "    }\n",
       "\n",
       "    .dataframe thead th {\n",
       "        text-align: right;\n",
       "    }\n",
       "</style>\n",
       "<table border=\"1\" class=\"dataframe\">\n",
       "  <thead>\n",
       "    <tr style=\"text-align: right;\">\n",
       "      <th></th>\n",
       "      <th>adult</th>\n",
       "      <th>genre_ids</th>\n",
       "      <th>original_language</th>\n",
       "      <th>original_title</th>\n",
       "      <th>popularity</th>\n",
       "      <th>release_date</th>\n",
       "      <th>title</th>\n",
       "      <th>video</th>\n",
       "      <th>vote_average</th>\n",
       "      <th>vote_count</th>\n",
       "    </tr>\n",
       "  </thead>\n",
       "  <tbody>\n",
       "    <tr>\n",
       "      <th>34</th>\n",
       "      <td>False</td>\n",
       "      <td>['Action', 'Adventure', 'Crime', 'Science Fict...</td>\n",
       "      <td>ja</td>\n",
       "      <td>ルパンレンジャーＶＳパトレンジャーＶＳキュウレンジャー</td>\n",
       "      <td>34.504</td>\n",
       "      <td>2019-05-03</td>\n",
       "      <td>Lupinranger VS Patranger VS Kyuranger</td>\n",
       "      <td>False</td>\n",
       "      <td>0.0</td>\n",
       "      <td>0</td>\n",
       "    </tr>\n",
       "    <tr>\n",
       "      <th>86</th>\n",
       "      <td>False</td>\n",
       "      <td>['Crime', 'Drama']</td>\n",
       "      <td>ko</td>\n",
       "      <td>타짜: 원 아이드 잭</td>\n",
       "      <td>19.407</td>\n",
       "      <td>2019-09-11</td>\n",
       "      <td>Tazza: One Eyed Jack</td>\n",
       "      <td>False</td>\n",
       "      <td>0.0</td>\n",
       "      <td>0</td>\n",
       "    </tr>\n",
       "    <tr>\n",
       "      <th>122</th>\n",
       "      <td>False</td>\n",
       "      <td>['Crime', 'Drama']</td>\n",
       "      <td>es</td>\n",
       "      <td>Chicuarotes</td>\n",
       "      <td>10.710</td>\n",
       "      <td>2019-09-10</td>\n",
       "      <td>Chicuarotes</td>\n",
       "      <td>False</td>\n",
       "      <td>0.0</td>\n",
       "      <td>12</td>\n",
       "    </tr>\n",
       "    <tr>\n",
       "      <th>133</th>\n",
       "      <td>False</td>\n",
       "      <td>['Fantasy', 'Horror', 'Thriller']</td>\n",
       "      <td>en</td>\n",
       "      <td>Mayday</td>\n",
       "      <td>10.298</td>\n",
       "      <td>2019-09-10</td>\n",
       "      <td>Mayday</td>\n",
       "      <td>False</td>\n",
       "      <td>0.0</td>\n",
       "      <td>0</td>\n",
       "    </tr>\n",
       "    <tr>\n",
       "      <th>138</th>\n",
       "      <td>False</td>\n",
       "      <td>['Drama']</td>\n",
       "      <td>en</td>\n",
       "      <td>Human Capital</td>\n",
       "      <td>9.097</td>\n",
       "      <td>2019-09-10</td>\n",
       "      <td>Human Capital</td>\n",
       "      <td>False</td>\n",
       "      <td>0.0</td>\n",
       "      <td>1</td>\n",
       "    </tr>\n",
       "  </tbody>\n",
       "</table>\n",
       "</div>"
      ],
      "text/plain": [
       "     adult                                          genre_ids  \\\n",
       "34   False  ['Action', 'Adventure', 'Crime', 'Science Fict...   \n",
       "86   False                                 ['Crime', 'Drama']   \n",
       "122  False                                 ['Crime', 'Drama']   \n",
       "133  False                  ['Fantasy', 'Horror', 'Thriller']   \n",
       "138  False                                          ['Drama']   \n",
       "\n",
       "    original_language               original_title  popularity release_date  \\\n",
       "34                 ja  ルパンレンジャーＶＳパトレンジャーＶＳキュウレンジャー      34.504   2019-05-03   \n",
       "86                 ko                  타짜: 원 아이드 잭      19.407   2019-09-11   \n",
       "122                es                  Chicuarotes      10.710   2019-09-10   \n",
       "133                en                       Mayday      10.298   2019-09-10   \n",
       "138                en                Human Capital       9.097   2019-09-10   \n",
       "\n",
       "                                     title  video  vote_average  vote_count  \n",
       "34   Lupinranger VS Patranger VS Kyuranger  False           0.0           0  \n",
       "86                    Tazza: One Eyed Jack  False           0.0           0  \n",
       "122                            Chicuarotes  False           0.0          12  \n",
       "133                                 Mayday  False           0.0           0  \n",
       "138                          Human Capital  False           0.0           1  "
      ]
     },
     "execution_count": 29,
     "metadata": {},
     "output_type": "execute_result"
    }
   ],
   "source": [
    "# let see the data that I just talk about(min = 0 & so much sd)\n",
    "movies.loc[movies.vote_average == 0].head()\n",
    "\n",
    "# wanna see full data ? take .head() out"
   ]
  },
  {
   "cell_type": "code",
   "execution_count": 30,
   "metadata": {
    "scrolled": false
   },
   "outputs": [
    {
     "data": {
      "text/plain": [
       "adult                266\n",
       "genre_ids            266\n",
       "original_language    266\n",
       "original_title       266\n",
       "popularity           266\n",
       "release_date         266\n",
       "title                266\n",
       "video                266\n",
       "vote_average         266\n",
       "vote_count           266\n",
       "dtype: int64"
      ]
     },
     "execution_count": 30,
     "metadata": {},
     "output_type": "execute_result"
    }
   ],
   "source": [
    "# Take a look at vote average\n",
    "movies.loc[movies.vote_count <= 60].count()"
   ]
  },
  {
   "cell_type": "markdown",
   "metadata": {},
   "source": [
    "As you can see I think there are some movies had not been categorize, still not release or even don't publish the video yet (some of them  don't have genre too) So I think this data should be drop because I don't want to mess with some movies that not publish yet\n",
    "- when I revision the data by using describe I saw min and 0 of the vote_count data\n",
    "- vote_count data told that how many vote that movie got and there's too much difference between min and first quartile"
   ]
  },
  {
   "cell_type": "markdown",
   "metadata": {},
   "source": [
    "So now I will wrote the function to detect and get rid of outliers"
   ]
  },
  {
   "cell_type": "code",
   "execution_count": 32,
   "metadata": {},
   "outputs": [],
   "source": [
    "import numpy as np"
   ]
  },
  {
   "cell_type": "code",
   "execution_count": 300,
   "metadata": {},
   "outputs": [],
   "source": [
    "# I'm finding outliers using Inter Quartile Range\n",
    "# input is data column\n",
    "def iqr_out(dataset):\n",
    "    sorted(dataset)\n",
    "    q1, q3= np.percentile(dataset,[25,75])\n",
    "    iqr = q3 - q1\n",
    "    lower_bound = q1 - (1.5 * iqr) \n",
    "    upper_bound = q3 + (1.5 * iqr)\n",
    "    return lower_bound, upper_bound"
   ]
  },
  {
   "cell_type": "code",
   "execution_count": 34,
   "metadata": {},
   "outputs": [
    {
     "data": {
      "text/plain": [
       "('lower_bound is:', -857.25, 'upper_bound is:', 1780.75)"
      ]
     },
     "execution_count": 34,
     "metadata": {},
     "output_type": "execute_result"
    }
   ],
   "source": [
    "iqr_out(movies['vote_count'])"
   ]
  },
  {
   "cell_type": "code",
   "execution_count": 35,
   "metadata": {},
   "outputs": [],
   "source": [
    "# So I guess I cannot use the IQR way because the lower_bound is too low\n",
    "# So I will use the Z-Score approach\n",
    "\n",
    "outliers=[]"
   ]
  },
  {
   "cell_type": "code",
   "execution_count": 36,
   "metadata": {},
   "outputs": [],
   "source": [
    "# input is data column\n",
    "def detect_outlier(dataset):\n",
    "    threshold = 3\n",
    "    d_mean = np.mean(dataset)\n",
    "    d_std = np.std(dataset)\n",
    "    for x in dataset:\n",
    "        z_score = (x - d_mean) / d_std \n",
    "        if np.abs(z_score) > threshold:\n",
    "            outliers.append(x)\n",
    "    return outliers"
   ]
  },
  {
   "cell_type": "code",
   "execution_count": 37,
   "metadata": {
    "scrolled": true
   },
   "outputs": [
    {
     "name": "stdout",
     "output_type": "stream",
     "text": [
      "[8027, 9296, 10769, 15161, 15139, 13277, 23096, 18729, 12468, 14619, 19464, 12135, 8504, 14429, 6916, 10469, 16071, 13181, 11023, 10397, 6928, 7632, 8855, 12629, 7024, 12658, 7737, 14904, 11391, 10878, 10940, 11224, 8280, 7162, 7319, 9503, 9305, 8988, 6956, 7618, 13040, 8106, 8903, 11106, 9060, 6663, 7977, 12699, 9969, 11059, 14470, 8628, 8667, 9653, 7050, 12880, 8205, 6701, 7533, 11603, 10185, 10665, 10717, 8757, 7923, 9398, 13422, 9938, 7870, 7597, 10192, 7591, 14095, 7058, 7024, 7745, 7946, 7783, 6919, 6654, 11630, 6565, 7530, 7917]\n"
     ]
    }
   ],
   "source": [
    "print(detect_outlier(movies['vote_count']))"
   ]
  },
  {
   "cell_type": "markdown",
   "metadata": {},
   "source": [
    "# ok"
   ]
  },
  {
   "cell_type": "markdown",
   "metadata": {},
   "source": [
    "after I try too much approach in get rid of outlier I guess I will just make the minimum gate and then get rid of data that below the minimum"
   ]
  },
  {
   "cell_type": "code",
   "execution_count": 38,
   "metadata": {
    "scrolled": true
   },
   "outputs": [
    {
     "data": {
      "text/html": [
       "<div>\n",
       "<style scoped>\n",
       "    .dataframe tbody tr th:only-of-type {\n",
       "        vertical-align: middle;\n",
       "    }\n",
       "\n",
       "    .dataframe tbody tr th {\n",
       "        vertical-align: top;\n",
       "    }\n",
       "\n",
       "    .dataframe thead th {\n",
       "        text-align: right;\n",
       "    }\n",
       "</style>\n",
       "<table border=\"1\" class=\"dataframe\">\n",
       "  <thead>\n",
       "    <tr style=\"text-align: right;\">\n",
       "      <th></th>\n",
       "      <th>popularity</th>\n",
       "      <th>vote_average</th>\n",
       "      <th>vote_count</th>\n",
       "    </tr>\n",
       "  </thead>\n",
       "  <tbody>\n",
       "    <tr>\n",
       "      <th>count</th>\n",
       "      <td>3109.000000</td>\n",
       "      <td>3109.000000</td>\n",
       "      <td>3109.000000</td>\n",
       "    </tr>\n",
       "    <tr>\n",
       "      <th>mean</th>\n",
       "      <td>10.123132</td>\n",
       "      <td>6.474397</td>\n",
       "      <td>993.629784</td>\n",
       "    </tr>\n",
       "    <tr>\n",
       "      <th>std</th>\n",
       "      <td>12.468460</td>\n",
       "      <td>0.895445</td>\n",
       "      <td>1923.064281</td>\n",
       "    </tr>\n",
       "    <tr>\n",
       "      <th>min</th>\n",
       "      <td>4.031000</td>\n",
       "      <td>1.800000</td>\n",
       "      <td>50.000000</td>\n",
       "    </tr>\n",
       "    <tr>\n",
       "      <th>25%</th>\n",
       "      <td>6.891000</td>\n",
       "      <td>5.900000</td>\n",
       "      <td>154.000000</td>\n",
       "    </tr>\n",
       "    <tr>\n",
       "      <th>50%</th>\n",
       "      <td>8.198000</td>\n",
       "      <td>6.500000</td>\n",
       "      <td>328.000000</td>\n",
       "    </tr>\n",
       "    <tr>\n",
       "      <th>75%</th>\n",
       "      <td>10.285000</td>\n",
       "      <td>7.100000</td>\n",
       "      <td>862.000000</td>\n",
       "    </tr>\n",
       "    <tr>\n",
       "      <th>max</th>\n",
       "      <td>442.401000</td>\n",
       "      <td>8.600000</td>\n",
       "      <td>23096.000000</td>\n",
       "    </tr>\n",
       "  </tbody>\n",
       "</table>\n",
       "</div>"
      ],
      "text/plain": [
       "        popularity  vote_average    vote_count\n",
       "count  3109.000000   3109.000000   3109.000000\n",
       "mean     10.123132      6.474397    993.629784\n",
       "std      12.468460      0.895445   1923.064281\n",
       "min       4.031000      1.800000     50.000000\n",
       "25%       6.891000      5.900000    154.000000\n",
       "50%       8.198000      6.500000    328.000000\n",
       "75%      10.285000      7.100000    862.000000\n",
       "max     442.401000      8.600000  23096.000000"
      ]
     },
     "execution_count": 38,
     "metadata": {},
     "output_type": "execute_result"
    }
   ],
   "source": [
    "vote_min = 50\n",
    "movies = movies.loc[movies.vote_count >= vote_min]\n",
    "movies.describe()\n",
    "# no messing with vote_count std now because I just set the minimum of it\n",
    "# and I will use median instead of mean as a central tendency"
   ]
  },
  {
   "cell_type": "markdown",
   "metadata": {},
   "source": [
    "***"
   ]
  },
  {
   "cell_type": "markdown",
   "metadata": {},
   "source": [
    "# Task 4 : Question and Visualizations"
   ]
  },
  {
   "cell_type": "markdown",
   "metadata": {},
   "source": [
    "#### This task is about do the questioning about the data and visualize it\n",
    "#### 1. Which year have most movies release ?\n",
    "#### 2. Which language have most average rating ?"
   ]
  },
  {
   "cell_type": "code",
   "execution_count": 40,
   "metadata": {},
   "outputs": [],
   "source": [
    "# import library\n",
    "import numpy as np\n",
    "import seaborn as sns\n",
    "import matplotlib.pyplot as plt\n",
    "%matplotlib inline\n",
    "from scipy import stats\n",
    "sns.set(style='ticks', palette='Set1')"
   ]
  },
  {
   "cell_type": "markdown",
   "metadata": {},
   "source": [
    "# From 2010 to 2018 which year have most movies release"
   ]
  },
  {
   "cell_type": "code",
   "execution_count": 216,
   "metadata": {},
   "outputs": [
    {
     "data": {
      "text/html": [
       "<div>\n",
       "<style scoped>\n",
       "    .dataframe tbody tr th:only-of-type {\n",
       "        vertical-align: middle;\n",
       "    }\n",
       "\n",
       "    .dataframe tbody tr th {\n",
       "        vertical-align: top;\n",
       "    }\n",
       "\n",
       "    .dataframe thead th {\n",
       "        text-align: right;\n",
       "    }\n",
       "</style>\n",
       "<table border=\"1\" class=\"dataframe\">\n",
       "  <thead>\n",
       "    <tr style=\"text-align: right;\">\n",
       "      <th></th>\n",
       "      <th>adult</th>\n",
       "      <th>genre_ids</th>\n",
       "      <th>original_language</th>\n",
       "      <th>original_title</th>\n",
       "      <th>popularity</th>\n",
       "      <th>release_date</th>\n",
       "      <th>title</th>\n",
       "      <th>video</th>\n",
       "      <th>vote_average</th>\n",
       "      <th>vote_count</th>\n",
       "    </tr>\n",
       "    <tr>\n",
       "      <th>release_date</th>\n",
       "      <th></th>\n",
       "      <th></th>\n",
       "      <th></th>\n",
       "      <th></th>\n",
       "      <th></th>\n",
       "      <th></th>\n",
       "      <th></th>\n",
       "      <th></th>\n",
       "      <th></th>\n",
       "      <th></th>\n",
       "    </tr>\n",
       "  </thead>\n",
       "  <tbody>\n",
       "    <tr>\n",
       "      <th>2010</th>\n",
       "      <td>110</td>\n",
       "      <td>110</td>\n",
       "      <td>110</td>\n",
       "      <td>110</td>\n",
       "      <td>110</td>\n",
       "      <td>110</td>\n",
       "      <td>110</td>\n",
       "      <td>110</td>\n",
       "      <td>110</td>\n",
       "      <td>110</td>\n",
       "    </tr>\n",
       "    <tr>\n",
       "      <th>2011</th>\n",
       "      <td>129</td>\n",
       "      <td>129</td>\n",
       "      <td>129</td>\n",
       "      <td>129</td>\n",
       "      <td>129</td>\n",
       "      <td>129</td>\n",
       "      <td>129</td>\n",
       "      <td>129</td>\n",
       "      <td>129</td>\n",
       "      <td>129</td>\n",
       "    </tr>\n",
       "    <tr>\n",
       "      <th>2012</th>\n",
       "      <td>118</td>\n",
       "      <td>118</td>\n",
       "      <td>118</td>\n",
       "      <td>118</td>\n",
       "      <td>118</td>\n",
       "      <td>118</td>\n",
       "      <td>118</td>\n",
       "      <td>118</td>\n",
       "      <td>118</td>\n",
       "      <td>118</td>\n",
       "    </tr>\n",
       "    <tr>\n",
       "      <th>2013</th>\n",
       "      <td>95</td>\n",
       "      <td>95</td>\n",
       "      <td>95</td>\n",
       "      <td>95</td>\n",
       "      <td>95</td>\n",
       "      <td>95</td>\n",
       "      <td>95</td>\n",
       "      <td>95</td>\n",
       "      <td>95</td>\n",
       "      <td>95</td>\n",
       "    </tr>\n",
       "    <tr>\n",
       "      <th>2014</th>\n",
       "      <td>152</td>\n",
       "      <td>152</td>\n",
       "      <td>152</td>\n",
       "      <td>152</td>\n",
       "      <td>152</td>\n",
       "      <td>152</td>\n",
       "      <td>152</td>\n",
       "      <td>152</td>\n",
       "      <td>152</td>\n",
       "      <td>152</td>\n",
       "    </tr>\n",
       "  </tbody>\n",
       "</table>\n",
       "</div>"
      ],
      "text/plain": [
       "              adult  genre_ids  original_language  original_title  popularity  \\\n",
       "release_date                                                                    \n",
       "2010            110        110                110             110         110   \n",
       "2011            129        129                129             129         129   \n",
       "2012            118        118                118             118         118   \n",
       "2013             95         95                 95              95          95   \n",
       "2014            152        152                152             152         152   \n",
       "\n",
       "              release_date  title  video  vote_average  vote_count  \n",
       "release_date                                                        \n",
       "2010                   110    110    110           110         110  \n",
       "2011                   129    129    129           129         129  \n",
       "2012                   118    118    118           118         118  \n",
       "2013                    95     95     95            95          95  \n",
       "2014                   152    152    152           152         152  "
      ]
     },
     "execution_count": 216,
     "metadata": {},
     "output_type": "execute_result"
    }
   ],
   "source": [
    "# set boundary of release date\n",
    "x_1 = movies.loc[(movies.release_date.dt.year >= 2010) & (movies.release_date.dt.year < 2019)]\n",
    "\n",
    "# Group by year and using count aggregate\n",
    "x_1 = x_1.groupby(x_1.release_date.dt.year).count()\n",
    "x_1.head()"
   ]
  },
  {
   "cell_type": "code",
   "execution_count": 223,
   "metadata": {},
   "outputs": [
    {
     "data": {
      "image/png": "[encoded data removed]",
      "text/plain": [
       "<Figure size 432x288 with 1 Axes>"
      ]
     },
     "metadata": {},
     "output_type": "display_data"
    }
   ],
   "source": [
    "sns.set(style=\"ticks\", palette='Set2')\n",
    "g_1 = sns.lineplot(x = x_1.index, y = \"adult\", data = x_1)\n",
    "g_1.axes.set_title(\"How many movies release from 2010 - 2018\", fontsize=16)\n",
    "g_1.set_xlabel(\"Release_Year\", fontsize=13)\n",
    "g_1.set_ylabel(\"Movies_Count\", fontsize=13)\n",
    "g_1.tick_params(labelsize=12)"
   ]
  },
  {
   "cell_type": "markdown",
   "metadata": {},
   "source": [
    "- Movies produce becoming more and more produce each year.\n",
    "- People nowaday love watching movies more than past 5 years"
   ]
  },
  {
   "cell_type": "markdown",
   "metadata": {},
   "source": [
    "# Which language(original title) have most average rating(vote_average) from more than 20 movies"
   ]
  },
  {
   "cell_type": "code",
   "execution_count": 116,
   "metadata": {
    "scrolled": true
   },
   "outputs": [
    {
     "data": {
      "text/plain": [
       "['en', 'fr', 'ja', 'it', 'es', 'de', 'ko', 'ru', 'hi', 'zh']"
      ]
     },
     "execution_count": 116,
     "metadata": {},
     "output_type": "execute_result"
    }
   ],
   "source": [
    "# To see which movies language that have more than 20 movies.\n",
    "lang = movies['original_language'].value_counts()[movies['original_language'].value_counts() >= 20].keys()\n",
    "\n",
    "# from above it will return as an indexing type so I will make it into list (for easier process)\n",
    "lang = list(lang)\n",
    "lang"
   ]
  },
  {
   "cell_type": "code",
   "execution_count": 120,
   "metadata": {
    "scrolled": true
   },
   "outputs": [
    {
     "data": {
      "text/html": [
       "<div>\n",
       "<style scoped>\n",
       "    .dataframe tbody tr th:only-of-type {\n",
       "        vertical-align: middle;\n",
       "    }\n",
       "\n",
       "    .dataframe tbody tr th {\n",
       "        vertical-align: top;\n",
       "    }\n",
       "\n",
       "    .dataframe thead th {\n",
       "        text-align: right;\n",
       "    }\n",
       "</style>\n",
       "<table border=\"1\" class=\"dataframe\">\n",
       "  <thead>\n",
       "    <tr style=\"text-align: right;\">\n",
       "      <th></th>\n",
       "      <th>adult</th>\n",
       "      <th>popularity</th>\n",
       "      <th>video</th>\n",
       "      <th>vote_average</th>\n",
       "      <th>vote_count</th>\n",
       "    </tr>\n",
       "    <tr>\n",
       "      <th>original_language</th>\n",
       "      <th></th>\n",
       "      <th></th>\n",
       "      <th></th>\n",
       "      <th></th>\n",
       "      <th></th>\n",
       "    </tr>\n",
       "  </thead>\n",
       "  <tbody>\n",
       "    <tr>\n",
       "      <th>ar</th>\n",
       "      <td>False</td>\n",
       "      <td>8.462500</td>\n",
       "      <td>False</td>\n",
       "      <td>2.100000</td>\n",
       "      <td>105.000000</td>\n",
       "    </tr>\n",
       "    <tr>\n",
       "      <th>cs</th>\n",
       "      <td>False</td>\n",
       "      <td>5.611500</td>\n",
       "      <td>False</td>\n",
       "      <td>7.200000</td>\n",
       "      <td>115.500000</td>\n",
       "    </tr>\n",
       "    <tr>\n",
       "      <th>da</th>\n",
       "      <td>False</td>\n",
       "      <td>8.194400</td>\n",
       "      <td>False</td>\n",
       "      <td>7.090000</td>\n",
       "      <td>271.200000</td>\n",
       "    </tr>\n",
       "    <tr>\n",
       "      <th>de</th>\n",
       "      <td>False</td>\n",
       "      <td>7.599889</td>\n",
       "      <td>False</td>\n",
       "      <td>6.744444</td>\n",
       "      <td>257.155556</td>\n",
       "    </tr>\n",
       "    <tr>\n",
       "      <th>el</th>\n",
       "      <td>False</td>\n",
       "      <td>6.720200</td>\n",
       "      <td>False</td>\n",
       "      <td>5.460000</td>\n",
       "      <td>242.800000</td>\n",
       "    </tr>\n",
       "  </tbody>\n",
       "</table>\n",
       "</div>"
      ],
      "text/plain": [
       "                   adult  popularity  video  vote_average  vote_count\n",
       "original_language                                                    \n",
       "ar                 False    8.462500  False      2.100000  105.000000\n",
       "cs                 False    5.611500  False      7.200000  115.500000\n",
       "da                 False    8.194400  False      7.090000  271.200000\n",
       "de                 False    7.599889  False      6.744444  257.155556\n",
       "el                 False    6.720200  False      5.460000  242.800000"
      ]
     },
     "execution_count": 120,
     "metadata": {},
     "output_type": "execute_result"
    }
   ],
   "source": [
    "# Make new dataframe for using groupby to aggregate data andcompute mean from language\n",
    "\n",
    "landf = movies.groupby(movies.original_language).mean()\n",
    "landf.head()"
   ]
  },
  {
   "cell_type": "code",
   "execution_count": 127,
   "metadata": {
    "scrolled": true
   },
   "outputs": [],
   "source": [
    "# Make for loop to assign new variables and append data into it\n",
    "\n",
    "l_mean = list() # append language vote_average\n",
    "l_lang = list() # append language\n",
    "\n",
    "# I will plot the whole new dataframe\n",
    "for i in lang:\n",
    "    l_lang.append(i)\n",
    "    l_mean.append(landf.loc[ i , \"vote_average\"])"
   ]
  },
  {
   "cell_type": "code",
   "execution_count": 178,
   "metadata": {
    "scrolled": true
   },
   "outputs": [
    {
     "data": {
      "text/html": [
       "<div>\n",
       "<style scoped>\n",
       "    .dataframe tbody tr th:only-of-type {\n",
       "        vertical-align: middle;\n",
       "    }\n",
       "\n",
       "    .dataframe tbody tr th {\n",
       "        vertical-align: top;\n",
       "    }\n",
       "\n",
       "    .dataframe thead th {\n",
       "        text-align: right;\n",
       "    }\n",
       "</style>\n",
       "<table border=\"1\" class=\"dataframe\">\n",
       "  <thead>\n",
       "    <tr style=\"text-align: right;\">\n",
       "      <th></th>\n",
       "      <th>mean</th>\n",
       "    </tr>\n",
       "    <tr>\n",
       "      <th>lan</th>\n",
       "      <th></th>\n",
       "    </tr>\n",
       "  </thead>\n",
       "  <tbody>\n",
       "    <tr>\n",
       "      <th>es</th>\n",
       "      <td>6.277358</td>\n",
       "    </tr>\n",
       "    <tr>\n",
       "      <th>en</th>\n",
       "      <td>6.284586</td>\n",
       "    </tr>\n",
       "    <tr>\n",
       "      <th>ko</th>\n",
       "      <td>6.340476</td>\n",
       "    </tr>\n",
       "    <tr>\n",
       "      <th>zh</th>\n",
       "      <td>6.419048</td>\n",
       "    </tr>\n",
       "    <tr>\n",
       "      <th>ru</th>\n",
       "      <td>6.544828</td>\n",
       "    </tr>\n",
       "  </tbody>\n",
       "</table>\n",
       "</div>"
      ],
      "text/plain": [
       "         mean\n",
       "lan          \n",
       "es   6.277358\n",
       "en   6.284586\n",
       "ko   6.340476\n",
       "zh   6.419048\n",
       "ru   6.544828"
      ]
     },
     "execution_count": 178,
     "metadata": {},
     "output_type": "execute_result"
    }
   ],
   "source": [
    "# Create new dataframe\n",
    "movies_lang = pd.DataFrame({'lan':l_lang, 'mean': l_mean})\n",
    "\n",
    "# Set index as language for easily plot\n",
    "movies_lang = movies_lang.set_index('lan')\n",
    "\n",
    "# Sort values for easily look in plot\n",
    "movies_lang = movies_lang.sort_values('mean')\n",
    "movies_lang.head()"
   ]
  },
  {
   "cell_type": "code",
   "execution_count": 195,
   "metadata": {},
   "outputs": [
    {
     "data": {
      "text/plain": [
       "adult                3339\n",
       "genre_ids            3339\n",
       "original_language    3339\n",
       "original_title       3339\n",
       "popularity           3339\n",
       "release_date         3339\n",
       "title                3339\n",
       "video                3339\n",
       "vote_average         3339\n",
       "vote_count           3339\n",
       "dtype: int64"
      ]
     },
     "execution_count": 195,
     "metadata": {},
     "output_type": "execute_result"
    }
   ],
   "source": [
    "movies.count()"
   ]
  },
  {
   "cell_type": "code",
   "execution_count": 224,
   "metadata": {
    "scrolled": true
   },
   "outputs": [
    {
     "data": {
      "image/png": "[encoded data removed]",
      "text/plain": [
       "<Figure size 432x288 with 1 Axes>"
      ]
     },
     "metadata": {},
     "output_type": "display_data"
    }
   ],
   "source": [
    "sns.set_color_codes(\"muted\")\n",
    "g_2 = sns.barplot(x = \"mean\", y = movies_lang.index, data=movies_lang)\n",
    "g_2.axes.set_title(\"Movies Vote Average compare to movies language\", fontsize=16)\n",
    "g_2.set_xlabel(\"Movies Vote Average\", fontsize=13)\n",
    "g_2.set_ylabel(\"Original Lang\", fontsize=13)\n",
    "g_2.tick_params(labelsize=12)"
   ]
  },
  {
   "cell_type": "markdown",
   "metadata": {},
   "source": [
    "- Movies Rating are all close to each other we cant compare much in data because some of it(language) might have many many movies but some of it might have just less.\n",
    "- But in many many year france is the one that have many mass movies but still got very high rating so I guess france movies are still being popular in audience eye and critics eye."
   ]
  },
  {
   "cell_type": "markdown",
   "metadata": {},
   "source": [
    "# Is movie rating related to its popularity(only movies language from japan, france, italy and english)?"
   ]
  },
  {
   "cell_type": "markdown",
   "metadata": {},
   "source": [
    "- Filter data to leave only two attribute to compute (pop, vote_avg)\n",
    "- Leave the data that popularity = 0\n",
    "- Need the data that vote_average is more than 1\n"
   ]
  },
  {
   "cell_type": "code",
   "execution_count": 358,
   "metadata": {
    "scrolled": false
   },
   "outputs": [
    {
     "data": {
      "text/html": [
       "<div>\n",
       "<style scoped>\n",
       "    .dataframe tbody tr th:only-of-type {\n",
       "        vertical-align: middle;\n",
       "    }\n",
       "\n",
       "    .dataframe tbody tr th {\n",
       "        vertical-align: top;\n",
       "    }\n",
       "\n",
       "    .dataframe thead th {\n",
       "        text-align: right;\n",
       "    }\n",
       "</style>\n",
       "<table border=\"1\" class=\"dataframe\">\n",
       "  <thead>\n",
       "    <tr style=\"text-align: right;\">\n",
       "      <th></th>\n",
       "      <th>popularity</th>\n",
       "      <th>vote_average</th>\n",
       "      <th>origi_language</th>\n",
       "    </tr>\n",
       "  </thead>\n",
       "  <tbody>\n",
       "    <tr>\n",
       "      <th>0</th>\n",
       "      <td>442.401</td>\n",
       "      <td>7.2</td>\n",
       "      <td>en</td>\n",
       "    </tr>\n",
       "    <tr>\n",
       "      <th>1</th>\n",
       "      <td>247.416</td>\n",
       "      <td>6.3</td>\n",
       "      <td>en</td>\n",
       "    </tr>\n",
       "    <tr>\n",
       "      <th>2</th>\n",
       "      <td>179.504</td>\n",
       "      <td>6.1</td>\n",
       "      <td>en</td>\n",
       "    </tr>\n",
       "    <tr>\n",
       "      <th>3</th>\n",
       "      <td>124.178</td>\n",
       "      <td>6.5</td>\n",
       "      <td>en</td>\n",
       "    </tr>\n",
       "    <tr>\n",
       "      <th>4</th>\n",
       "      <td>149.039</td>\n",
       "      <td>5.7</td>\n",
       "      <td>en</td>\n",
       "    </tr>\n",
       "  </tbody>\n",
       "</table>\n",
       "</div>"
      ],
      "text/plain": [
       "   popularity  vote_average origi_language\n",
       "0     442.401           7.2             en\n",
       "1     247.416           6.3             en\n",
       "2     179.504           6.1             en\n",
       "3     124.178           6.5             en\n",
       "4     149.039           5.7             en"
      ]
     },
     "execution_count": 358,
     "metadata": {},
     "output_type": "execute_result"
    }
   ],
   "source": [
    "# filter where popularity equal zero and vote_average below 1\n",
    "# and filter for only [ja, it, fr, en] language\n",
    "\n",
    "fpm = movies.loc[((movies.popularity > 0) | (movies.vote_average >= 1)) & ((movies.original_language == 'ja') \n",
    "                | (movies.original_language == 'en') | (movies.original_language == 'fr') | (movies.original_language == 'it'))]\n",
    "\n",
    "# using only popularity , vote_average and original language\n",
    "# Create new dataframe\n",
    "new_m = pd.DataFrame({'popularity':fpm['popularity'] , 'vote_average':fpm['vote_average'], \n",
    "                      'origi_language':fpm['original_language']})\n",
    "new_m.head()"
   ]
  },
  {
   "cell_type": "code",
   "execution_count": 367,
   "metadata": {},
   "outputs": [
    {
     "data": {
      "image/png": "[encoded data removed]",
      "text/plain": [
       "<Figure size 432x288 with 1 Axes>"
      ]
     },
     "metadata": {},
     "output_type": "display_data"
    }
   ],
   "source": [
    "g_3 = sns.scatterplot(x=\"vote_average\", y=\"popularity\",\n",
    "        hue=\"origi_language\", style='origi_language' ,data=new_m)\n",
    "g_3.axes.set_title(\"Movies rating compare to its popularity from 4 language\", fontsize=16)\n",
    "g_3.set_xlabel(\"Movies Vote Average\", fontsize=13)\n",
    "g_3.set_ylabel(\"Movies Popularity\", fontsize=13)\n",
    "g_3.tick_params(labelsize=12)"
   ]
  },
  {
   "cell_type": "markdown",
   "metadata": {},
   "source": [
    "- Movies rating not depending on its popularity that mean people not just think that if the movies is famous it rating would be high too.\n",
    "- So from this plot it say that how the movie good is not depend on it popularity.\n",
    "- and this can say that movies that have english language is quite famous when compare to other language."
   ]
  },
  {
   "cell_type": "markdown",
   "metadata": {},
   "source": [
    "***"
   ]
  }
 ],
 "metadata": {
  "kernelspec": {
   "display_name": "Python 3",
   "language": "python",
   "name": "python3"
  },
  "language_info": {
   "codemirror_mode": {
    "name": "ipython",
    "version": 3
   },
   "file_extension": ".py",
   "mimetype": "text/x-python",
   "name": "python",
   "nbconvert_exporter": "python",
   "pygments_lexer": "ipython3",
   "version": "3.7.3"
  }
 },
 "nbformat": 4,
 "nbformat_minor": 2
}
