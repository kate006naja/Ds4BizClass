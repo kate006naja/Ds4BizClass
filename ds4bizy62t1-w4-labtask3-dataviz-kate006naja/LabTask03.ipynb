{
 "cells": [
  {
   "cell_type": "markdown",
   "metadata": {},
   "source": [
    "## Lab Task 03: JSON Parsing and XML Parsing¶\n",
    "Term 1 2019 - Instructors: Teerapong Leelanupab\n",
    "\n",
    "Teaching Assistant: Suttida Satjasunsern"
   ]
  },
  {
   "cell_type": "markdown",
   "metadata": {},
   "source": [
    "### Task 1 - JSON Parsing"
   ]
  },
  {
   "cell_type": "markdown",
   "metadata": {},
   "source": [
    "Use Python to download a file containing movie metadata in JSON format from the URL: \"[https://www.it.kmitl.ac.th/~teerapong/resources/ds4biz/week4/movies.json](https://www.it.kmitl.ac.th/~teerapong/resources/ds4biz/week4/movies.json)\""
   ]
  },
  {
   "cell_type": "code",
   "execution_count": 90,
   "metadata": {},
   "outputs": [],
   "source": [
    "import json\n",
    "import urllib.request\n",
    "from pandas.io.json import json_normalize\n",
    "import pandas as pd\n",
    "url = \"https://www.it.kmitl.ac.th/~teerapong/resources/ds4biz/week4/movies.json\"\n",
    "response = urllib.request.urlopen(url)\n",
    "raw_json = response.read().decode(\"utf-8\") # being use like txt and csv file"
   ]
  },
  {
   "cell_type": "markdown",
   "metadata": {},
   "source": [
    "Parse the JSON data that you have downloaded."
   ]
  },
  {
   "cell_type": "code",
   "execution_count": 91,
   "metadata": {
    "scrolled": false
   },
   "outputs": [],
   "source": [
    "data = json.loads(raw_json)"
   ]
  },
  {
   "cell_type": "markdown",
   "metadata": {},
   "source": [
    "From the parsed JSON data, print a list of the all of the movie titles, along with the duration of each movie."
   ]
  },
  {
   "cell_type": "code",
   "execution_count": 92,
   "metadata": {},
   "outputs": [
    {
     "name": "stdout",
     "output_type": "stream",
     "text": [
      "London Has Fallen 99 min\n",
      "Deadpool 108 min\n",
      "Kung Fu Panda 3 95 min\n",
      "Spectre 148 min\n",
      "Brooklyn 111 min\n",
      "The Revenant 156 min\n"
     ]
    }
   ],
   "source": [
    "for movie in data:\n",
    "    print(movie[\"Title\"], movie[\"Runtime\"])"
   ]
  },
  {
   "cell_type": "markdown",
   "metadata": {},
   "source": [
    "Extract the genre information for each movie."
   ]
  },
  {
   "cell_type": "code",
   "execution_count": 93,
   "metadata": {},
   "outputs": [
    {
     "name": "stdout",
     "output_type": "stream",
     "text": [
      "['Action', 'Crime', 'Thriller', 'Adventure', 'Comedy', 'Animation', 'Drama', 'Romance']\n"
     ]
    }
   ],
   "source": [
    "set = []\n",
    "df = json_normalize(data)\n",
    "for i in df[\"Genre\"]:\n",
    "    for j in i.split(\",\"):\n",
    "        if j.strip() not in set:\n",
    "            set.append(j.strip())\n",
    "print(set)"
   ]
  },
  {
   "cell_type": "markdown",
   "metadata": {},
   "source": [
    "### Task 2 - XML Parsing"
   ]
  },
  {
   "cell_type": "markdown",
   "metadata": {},
   "source": [
    "Use Python to download a file containing a contact list in XML format from the URL: \"[https://www.it.kmitl.ac.th/~teerapong/resources/ds4biz/week4/contacts.xml](https://www.it.kmitl.ac.th/~teerapong/resources/ds4biz/week4/contacts.xml)\""
   ]
  },
  {
   "cell_type": "code",
   "execution_count": 89,
   "metadata": {},
   "outputs": [],
   "source": [
    "rul = \"https://www.it.kmitl.ac.th/~teerapong/resources/ds4biz/week4/contacts.xml\"\n",
    "resp = urllib.request.urlopen(rul)\n",
    "raw_xml = resp.read().decode()"
   ]
  },
  {
   "cell_type": "markdown",
   "metadata": {},
   "source": [
    "Parse the XML data that you have downloaded."
   ]
  },
  {
   "cell_type": "code",
   "execution_count": 77,
   "metadata": {},
   "outputs": [
    {
     "name": "stdout",
     "output_type": "stream",
     "text": [
      "<Element 'contacts' at 0x000002B8CDD08BD8>\n"
     ]
    }
   ],
   "source": [
    "import xml.etree.ElementTree as et\n",
    "xroot = et.fromstring(raw_xml)"
   ]
  },
  {
   "cell_type": "markdown",
   "metadata": {},
   "source": [
    "From the parsed XML data, extract the name, email address and phone number of each contact."
   ]
  },
  {
   "cell_type": "code",
   "execution_count": 88,
   "metadata": {},
   "outputs": [
    {
     "name": "stdout",
     "output_type": "stream",
     "text": [
      "John Smith (johnsmith243@gmail.com ,085-456-7890)\n",
      "Alice Murphy (alice.murphy12@ucd.ie ,086-456-7891)\n",
      "Joe Adams (joeadams2016@tcd.ie ,086-222-4654)\n",
      "Carol Conroy (cconry1342@gmail.com ,087-131-1331)\n",
      "Mary Carthy (mcarthy1987@ucd.ie ,086-221-7433)\n"
     ]
    }
   ],
   "source": [
    "for i in xroot.findall(\"contact\"):\n",
    "    print(i.find(\"name\").text, \"(\" +str(i.find(\"email\").text), \",\" +str(i.find(\"phone\").text)+ \")\")"
   ]
  }
 ],
 "metadata": {
  "anaconda-cloud": {},
  "kernelspec": {
   "display_name": "Python 3",
   "language": "python",
   "name": "python3"
  },
  "language_info": {
   "codemirror_mode": {
    "name": "ipython",
    "version": 3
   },
   "file_extension": ".py",
   "mimetype": "text/x-python",
   "name": "python",
   "nbconvert_exporter": "python",
   "pygments_lexer": "ipython3",
   "version": "3.7.3"
  }
 },
 "nbformat": 4,
 "nbformat_minor": 1
}
