{
 "cells": [
  {
   "cell_type": "markdown",
   "metadata": {},
   "source": [
    "# Finding the best consultant\n",
    "\n",
    "Term 1 2019 - Instructor: Teerapong Leelanupab\n",
    "\n",
    "Teaching Assistant: Suttida Satjasunsern\n",
    "***"
   ]
  },
  {
   "cell_type": "markdown",
   "metadata": {},
   "source": [
    "You work for McKeen Sea, a consulting firm. One of McKeen Sea's most important customers has requested an additional consultant, and you've been tasked to find the best one available out of two potential candidates: Aaron and Ben. Fortunately, McKeen Sea has collected some data on the past performance of these consultants, and so you would like to use the data to make a better decision. "
   ]
  },
  {
   "cell_type": "code",
   "execution_count": 1,
   "metadata": {},
   "outputs": [
    {
     "data": {
      "text/html": [
       "<div>\n",
       "<style scoped>\n",
       "    .dataframe tbody tr th:only-of-type {\n",
       "        vertical-align: middle;\n",
       "    }\n",
       "\n",
       "    .dataframe tbody tr th {\n",
       "        vertical-align: top;\n",
       "    }\n",
       "\n",
       "    .dataframe thead th {\n",
       "        text-align: right;\n",
       "    }\n",
       "</style>\n",
       "<table border=\"1\" class=\"dataframe\">\n",
       "  <thead>\n",
       "    <tr style=\"text-align: right;\">\n",
       "      <th></th>\n",
       "      <th>Consultant</th>\n",
       "      <th>Customer</th>\n",
       "      <th>Project</th>\n",
       "      <th>Service</th>\n",
       "      <th>Performance</th>\n",
       "    </tr>\n",
       "  </thead>\n",
       "  <tbody>\n",
       "    <tr>\n",
       "      <th>74</th>\n",
       "      <td>Ben</td>\n",
       "      <td>New</td>\n",
       "      <td>Small</td>\n",
       "      <td>Old</td>\n",
       "      <td>0.555556</td>\n",
       "    </tr>\n",
       "    <tr>\n",
       "      <th>81</th>\n",
       "      <td>Ben</td>\n",
       "      <td>New</td>\n",
       "      <td>Small</td>\n",
       "      <td>Old</td>\n",
       "      <td>0.555556</td>\n",
       "    </tr>\n",
       "    <tr>\n",
       "      <th>84</th>\n",
       "      <td>Ben</td>\n",
       "      <td>Old</td>\n",
       "      <td>Small</td>\n",
       "      <td>New</td>\n",
       "      <td>0.888889</td>\n",
       "    </tr>\n",
       "    <tr>\n",
       "      <th>47</th>\n",
       "      <td>Aaron</td>\n",
       "      <td>Old</td>\n",
       "      <td>Small</td>\n",
       "      <td>Old</td>\n",
       "      <td>1.000000</td>\n",
       "    </tr>\n",
       "    <tr>\n",
       "      <th>72</th>\n",
       "      <td>Ben</td>\n",
       "      <td>New</td>\n",
       "      <td>Small</td>\n",
       "      <td>Old</td>\n",
       "      <td>0.555556</td>\n",
       "    </tr>\n",
       "  </tbody>\n",
       "</table>\n",
       "</div>"
      ],
      "text/plain": [
       "   Consultant Customer Project Service  Performance\n",
       "74        Ben      New   Small     Old     0.555556\n",
       "81        Ben      New   Small     Old     0.555556\n",
       "84        Ben      Old   Small     New     0.888889\n",
       "47      Aaron      Old   Small     Old     1.000000\n",
       "72        Ben      New   Small     Old     0.555556"
      ]
     },
     "execution_count": 1,
     "metadata": {},
     "output_type": "execute_result"
    }
   ],
   "source": [
    "import numpy as np\n",
    "import pandas as pd\n",
    "%matplotlib inline\n",
    "import matplotlib.pyplot as plt\n",
    "\n",
    "import sys\n",
    "sys.path.append(\"..\")\n",
    "from ds_utils.sample_data import get_project_data\n",
    "\n",
    "data = get_project_data()\n",
    "data.head()"
   ]
  },
  {
   "cell_type": "code",
   "execution_count": 2,
   "metadata": {},
   "outputs": [
    {
     "data": {
      "text/html": [
       "<div>\n",
       "<style scoped>\n",
       "    .dataframe tbody tr th:only-of-type {\n",
       "        vertical-align: middle;\n",
       "    }\n",
       "\n",
       "    .dataframe tbody tr th {\n",
       "        vertical-align: top;\n",
       "    }\n",
       "\n",
       "    .dataframe thead th {\n",
       "        text-align: right;\n",
       "    }\n",
       "</style>\n",
       "<table border=\"1\" class=\"dataframe\">\n",
       "  <thead>\n",
       "    <tr style=\"text-align: right;\">\n",
       "      <th></th>\n",
       "      <th>Consultant</th>\n",
       "      <th>Customer</th>\n",
       "      <th>Project</th>\n",
       "      <th>Service</th>\n",
       "      <th>Performance</th>\n",
       "    </tr>\n",
       "  </thead>\n",
       "  <tbody>\n",
       "    <tr>\n",
       "      <th>26</th>\n",
       "      <td>Aaron</td>\n",
       "      <td>Old</td>\n",
       "      <td>Large</td>\n",
       "      <td>Old</td>\n",
       "      <td>0.666667</td>\n",
       "    </tr>\n",
       "    <tr>\n",
       "      <th>18</th>\n",
       "      <td>Aaron</td>\n",
       "      <td>Old</td>\n",
       "      <td>Large</td>\n",
       "      <td>New</td>\n",
       "      <td>0.555556</td>\n",
       "    </tr>\n",
       "    <tr>\n",
       "      <th>15</th>\n",
       "      <td>Aaron</td>\n",
       "      <td>Old</td>\n",
       "      <td>Large</td>\n",
       "      <td>New</td>\n",
       "      <td>0.555556</td>\n",
       "    </tr>\n",
       "    <tr>\n",
       "      <th>34</th>\n",
       "      <td>Aaron</td>\n",
       "      <td>Old</td>\n",
       "      <td>Large</td>\n",
       "      <td>Old</td>\n",
       "      <td>0.666667</td>\n",
       "    </tr>\n",
       "    <tr>\n",
       "      <th>3</th>\n",
       "      <td>Aaron</td>\n",
       "      <td>New</td>\n",
       "      <td>Large</td>\n",
       "      <td>Old</td>\n",
       "      <td>0.222222</td>\n",
       "    </tr>\n",
       "  </tbody>\n",
       "</table>\n",
       "</div>"
      ],
      "text/plain": [
       "   Consultant Customer Project Service  Performance\n",
       "26      Aaron      Old   Large     Old     0.666667\n",
       "18      Aaron      Old   Large     New     0.555556\n",
       "15      Aaron      Old   Large     New     0.555556\n",
       "34      Aaron      Old   Large     Old     0.666667\n",
       "3       Aaron      New   Large     Old     0.222222"
      ]
     },
     "execution_count": 2,
     "metadata": {},
     "output_type": "execute_result"
    }
   ],
   "source": [
    "data.tail()"
   ]
  },
  {
   "cell_type": "code",
   "execution_count": 3,
   "metadata": {},
   "outputs": [
    {
     "data": {
      "text/html": [
       "<div>\n",
       "<style scoped>\n",
       "    .dataframe tbody tr th:only-of-type {\n",
       "        vertical-align: middle;\n",
       "    }\n",
       "\n",
       "    .dataframe tbody tr th {\n",
       "        vertical-align: top;\n",
       "    }\n",
       "\n",
       "    .dataframe thead th {\n",
       "        text-align: right;\n",
       "    }\n",
       "</style>\n",
       "<table border=\"1\" class=\"dataframe\">\n",
       "  <thead>\n",
       "    <tr style=\"text-align: right;\">\n",
       "      <th></th>\n",
       "      <th>Performance</th>\n",
       "    </tr>\n",
       "  </thead>\n",
       "  <tbody>\n",
       "    <tr>\n",
       "      <th>count</th>\n",
       "      <td>96.000000</td>\n",
       "    </tr>\n",
       "    <tr>\n",
       "      <th>mean</th>\n",
       "      <td>0.555556</td>\n",
       "    </tr>\n",
       "    <tr>\n",
       "      <th>std</th>\n",
       "      <td>0.284766</td>\n",
       "    </tr>\n",
       "    <tr>\n",
       "      <th>min</th>\n",
       "      <td>0.111111</td>\n",
       "    </tr>\n",
       "    <tr>\n",
       "      <th>25%</th>\n",
       "      <td>0.388889</td>\n",
       "    </tr>\n",
       "    <tr>\n",
       "      <th>50%</th>\n",
       "      <td>0.555556</td>\n",
       "    </tr>\n",
       "    <tr>\n",
       "      <th>75%</th>\n",
       "      <td>0.722222</td>\n",
       "    </tr>\n",
       "    <tr>\n",
       "      <th>max</th>\n",
       "      <td>1.000000</td>\n",
       "    </tr>\n",
       "  </tbody>\n",
       "</table>\n",
       "</div>"
      ],
      "text/plain": [
       "       Performance\n",
       "count    96.000000\n",
       "mean      0.555556\n",
       "std       0.284766\n",
       "min       0.111111\n",
       "25%       0.388889\n",
       "50%       0.555556\n",
       "75%       0.722222\n",
       "max       1.000000"
      ]
     },
     "execution_count": 3,
     "metadata": {},
     "output_type": "execute_result"
    }
   ],
   "source": [
    "data.describe()"
   ]
  },
  {
   "cell_type": "code",
   "execution_count": 4,
   "metadata": {
    "scrolled": true
   },
   "outputs": [
    {
     "data": {
      "text/plain": [
       "<bound method DataFrame.info of    Consultant Customer Project Service  Performance\n",
       "74        Ben      New   Small     Old     0.555556\n",
       "81        Ben      New   Small     Old     0.555556\n",
       "84        Ben      Old   Small     New     0.888889\n",
       "47      Aaron      Old   Small     Old     1.000000\n",
       "72        Ben      New   Small     Old     0.555556\n",
       "65        Ben      New   Small     New     0.444444\n",
       "30      Aaron      Old   Large     Old     0.666667\n",
       "60        Ben      New   Small     New     0.444444\n",
       "13      Aaron      New   Small     Old     0.555556\n",
       "59        Ben      New   Small     New     0.444444\n",
       "82        Ben      Old   Large     New     0.555556\n",
       "71        Ben      New   Small     Old     0.555556\n",
       "29      Aaron      Old   Large     Old     0.666667\n",
       "32      Aaron      Old   Large     Old     0.666667\n",
       "49        Ben      New   Large     New     0.111111\n",
       "52        Ben      New   Large     New     0.111111\n",
       "76        Ben      New   Small     Old     0.555556\n",
       "73        Ben      New   Small     Old     0.555556\n",
       "22      Aaron      Old   Large     New     0.555556\n",
       "88        Ben      Old   Small     New     0.888889\n",
       "41      Aaron      Old   Small     Old     1.000000\n",
       "14      Aaron      Old   Large     New     0.555556\n",
       "83        Ben      Old   Small     New     0.888889\n",
       "37      Aaron      Old   Small     Old     1.000000\n",
       "28      Aaron      Old   Large     Old     0.666667\n",
       "44      Aaron      Old   Small     Old     1.000000\n",
       "55        Ben      New   Large     New     0.111111\n",
       "39      Aaron      Old   Small     Old     1.000000\n",
       "27      Aaron      Old   Large     Old     0.666667\n",
       "38      Aaron      Old   Small     Old     1.000000\n",
       "..        ...      ...     ...     ...          ...\n",
       "86        Ben      Old   Small     New     0.888889\n",
       "85        Ben      Old   Small     New     0.888889\n",
       "77        Ben      New   Small     Old     0.555556\n",
       "40      Aaron      Old   Small     Old     1.000000\n",
       "19      Aaron      Old   Large     New     0.555556\n",
       "9       Aaron      New   Large     Old     0.222222\n",
       "94        Ben      Old   Large     Old     0.666667\n",
       "6       Aaron      New   Large     Old     0.222222\n",
       "43      Aaron      Old   Small     Old     1.000000\n",
       "61        Ben      New   Small     New     0.444444\n",
       "63        Ben      New   Small     New     0.444444\n",
       "80        Ben      New   Small     Old     0.555556\n",
       "95        Ben      Old   Small     Old     1.000000\n",
       "89        Ben      Old   Small     New     0.888889\n",
       "42      Aaron      Old   Small     Old     1.000000\n",
       "1       Aaron      New   Small     New     0.444444\n",
       "66        Ben      New   Small     New     0.444444\n",
       "87        Ben      Old   Small     New     0.888889\n",
       "56        Ben      New   Large     New     0.111111\n",
       "64        Ben      New   Small     New     0.444444\n",
       "16      Aaron      Old   Large     New     0.555556\n",
       "53        Ben      New   Large     New     0.111111\n",
       "69        Ben      New   Small     New     0.444444\n",
       "17      Aaron      Old   Large     New     0.555556\n",
       "21      Aaron      Old   Large     New     0.555556\n",
       "26      Aaron      Old   Large     Old     0.666667\n",
       "18      Aaron      Old   Large     New     0.555556\n",
       "15      Aaron      Old   Large     New     0.555556\n",
       "34      Aaron      Old   Large     Old     0.666667\n",
       "3       Aaron      New   Large     Old     0.222222\n",
       "\n",
       "[96 rows x 5 columns]>"
      ]
     },
     "execution_count": 4,
     "metadata": {},
     "output_type": "execute_result"
    }
   ],
   "source": [
    "data.info"
   ]
  },
  {
   "cell_type": "code",
   "execution_count": 5,
   "metadata": {},
   "outputs": [
    {
     "data": {
      "text/plain": [
       "Ben      48\n",
       "Aaron    48\n",
       "Name: Consultant, dtype: int64"
      ]
     },
     "execution_count": 5,
     "metadata": {},
     "output_type": "execute_result"
    }
   ],
   "source": [
    "data.Consultant.value_counts()"
   ]
  },
  {
   "cell_type": "code",
   "execution_count": 6,
   "metadata": {},
   "outputs": [
    {
     "data": {
      "image/png": "[encoded data removed]",
      "text/plain": [
       "<Figure size 576x504 with 1 Axes>"
      ]
     },
     "metadata": {
      "needs_background": "light"
     },
     "output_type": "display_data"
    }
   ],
   "source": [
    "# Some auxiliar functions for plotting\n",
    "def plot_avg_performance(data, groups=None):\n",
    "    plot_auxiliar(data, groups, True)\n",
    "    \n",
    "def plot_number_of_projects(data, groups=None):\n",
    "    plot_auxiliar(data, groups, False)\n",
    "\n",
    "def plot_auxiliar(data, groups, mean=True):\n",
    "    if groups is None:\n",
    "        fig, ax = plt.subplots(nrows=1, ncols=1, figsize=(8, 7))\n",
    "        if mean:\n",
    "            data.groupby(['Consultant']).Performance.mean().plot(kind='bar', rot=0, ax=ax)\n",
    "            plt.ylabel('Avg. performance')\n",
    "            plt.ylim((0, 1))\n",
    "        else:\n",
    "            data.groupby(['Consultant']).Performance.size().plot(kind='bar', rot=0, ax=ax)\n",
    "            plt.ylabel('# of projects')\n",
    "    else:\n",
    "        grouped = data.groupby(groups)\n",
    "        rows = int(grouped.ngroups/2)\n",
    "        fig, axs = plt.subplots(figsize=(16,7*rows), nrows=rows, ncols=2, gridspec_kw=dict(hspace=0.4))\n",
    "        targets = zip(grouped.groups.keys(), axs.flatten())\n",
    "        for i, (key, ax) in enumerate(targets):\n",
    "            if mean:\n",
    "                grouped.get_group(key).groupby('Consultant').Performance.mean().plot(kind='bar', rot=0, ax=ax)\n",
    "                ax.set_ylabel('Avg. performance')\n",
    "                ax.set_ylim((0, 1))\n",
    "            else:\n",
    "                grouped.get_group(key).groupby('Consultant').Performance.size().plot(kind='bar', rot=0, ax=ax)\n",
    "                ax.set_ylabel('# of projects')\n",
    "            key_s = []\n",
    "            if type(key) is not tuple:\n",
    "                key = (key,)\n",
    "            for j, elem in enumerate(key):\n",
    "                key_s.append(elem + ' ' +  groups[j])\n",
    "            ax.set_title(' | '.join(key_s))\n",
    "\n",
    "plot_avg_performance(data)"
   ]
  },
  {
   "cell_type": "markdown",
   "metadata": {},
   "source": [
    "Would this information be useful to assess if Aaron will perform better than Ben? What happens if we split the data by customer?"
   ]
  },
  {
   "cell_type": "code",
   "execution_count": 7,
   "metadata": {},
   "outputs": [
    {
     "data": {
      "image/png": "[encoded data removed]",
      "text/plain": [
       "<Figure size 1152x504 with 2 Axes>"
      ]
     },
     "metadata": {
      "needs_background": "light"
     },
     "output_type": "display_data"
    }
   ],
   "source": [
    "plot_avg_performance(data, groups=['Customer'])"
   ]
  },
  {
   "cell_type": "markdown",
   "metadata": {},
   "source": [
    "Ben performs better than Aaron, both with new AND old customers! How can this be possible? "
   ]
  },
  {
   "cell_type": "code",
   "execution_count": 8,
   "metadata": {},
   "outputs": [
    {
     "data": {
      "image/png": "[encoded data removed]",
      "text/plain": [
       "<Figure size 1152x504 with 2 Axes>"
      ]
     },
     "metadata": {
      "needs_background": "light"
     },
     "output_type": "display_data"
    }
   ],
   "source": [
    "plot_number_of_projects(data, groups=['Customer'])"
   ]
  },
  {
   "cell_type": "markdown",
   "metadata": {},
   "source": [
    "While Ben has been working mostly with new customers, Aaron has been working mostly with old customers. To the extent that projects with new customers are more difficult, it makes sense for Ben to have a lower average performance. After all, he's been managing more difficult projects. However, once we account for customer type, we can see that Ben had better performance dealing with both types of customers. \n",
    "\n",
    "So, who do you think will perform better? Do you feel more confident with your answer?\n",
    "\n",
    "Before making a final decision, let's split by project size as well."
   ]
  },
  {
   "cell_type": "code",
   "execution_count": 9,
   "metadata": {},
   "outputs": [
    {
     "data": {
      "image/png": "[encoded data removed]",
      "text/plain": [
       "<Figure size 1152x1008 with 4 Axes>"
      ]
     },
     "metadata": {
      "needs_background": "light"
     },
     "output_type": "display_data"
    }
   ],
   "source": [
    "plot_avg_performance(data, groups=['Customer', 'Project'])"
   ]
  },
  {
   "cell_type": "markdown",
   "metadata": {},
   "source": [
    "The tides have turned again! Aaron now performs the same or better in all categories. Why?"
   ]
  },
  {
   "cell_type": "code",
   "execution_count": 10,
   "metadata": {},
   "outputs": [
    {
     "data": {
      "image/png": "[encoded data removed]",
      "text/plain": [
       "<Figure size 1152x1008 with 4 Axes>"
      ]
     },
     "metadata": {
      "needs_background": "light"
     },
     "output_type": "display_data"
    }
   ],
   "source": [
    "plot_number_of_projects(data, groups=['Customer', 'Project'])"
   ]
  },
  {
   "cell_type": "markdown",
   "metadata": {},
   "source": [
    "Confounding bias once more. Despite working with older customers, Aaron is also working in larger projects. We can see in earlier graphs that larger projects are more difficult (performance is lower), explaining Aaron's lower performance in other graphs. However, once we account for that in our analysis, we can see that Aaron's average performance is better across all categories.\n",
    "\n",
    "So... Do you think we should go about assessing the performance of these consultants? Can we tell which consultant is better using this data set?\n",
    "\n",
    ".\n",
    "\n",
    ".\n",
    "\n",
    ".\n",
    "\n",
    ".\n",
    "\n",
    ".\n",
    "\n",
    ".\n",
    "\n",
    ".\n",
    "\n",
    ".\n",
    "\n",
    ".\n",
    "\n",
    ".\n",
    "\n",
    ".\n",
    "\n",
    ".\n",
    "\n",
    ".\n",
    "\n",
    ".\n",
    "\n",
    ".\n",
    "\n",
    ".\n",
    "\n",
    ".\n",
    "\n",
    "Not without making additional assumptions about the world! Namely, we would have to assume that there is no other omitted variable influencing both performance and project assignment (such as customer type or project size in the earlier examples). If we cannot make this \"no-confounding\" assumption, then we cannot be certain of whether the difference in performance is due to the consultants or ommited variable(s). Unfortunately, this is an assumption that we cannot test with data, which is the main reason why causal inference tends to be so challenging: it is hard to tell whether we are comparing apples with apples here. That being said, very often we still need to make a decision (as in this case), regardless of whether our assumptions are justified. And so, even though our assumptions might be violated, Aaron seems like the more reasonable option.\n",
    "\n",
    "In this particular example, however, there is another variable excluded from our analysis: service type. By including this variable, we can see that **both consultants perform the same across all types of projects**, and so **all differences in performance were driven by factors influencing both performance and project assignment**. "
   ]
  },
  {
   "cell_type": "code",
   "execution_count": 11,
   "metadata": {},
   "outputs": [
    {
     "data": {
      "image/png": "[encoded data removed]",
      "text/plain": [
       "<Figure size 648x504 with 1 Axes>"
      ]
     },
     "metadata": {
      "needs_background": "light"
     },
     "output_type": "display_data"
    },
    {
     "data": {
      "image/png": "[encoded data removed]",
      "text/plain": [
       "<Figure size 648x504 with 1 Axes>"
      ]
     },
     "metadata": {
      "needs_background": "light"
     },
     "output_type": "display_data"
    }
   ],
   "source": [
    "plt.rcParams['figure.figsize'] = [9, 7]\n",
    "data.groupby(['Customer', 'Project', 'Service', 'Consultant']).Performance.mean().plot(kind='bar')\n",
    "plt.ylabel('Avg. performance')\n",
    "plt.show()\n",
    "plt.rcParams['figure.figsize'] = [9, 7]\n",
    "data.groupby(['Customer', 'Project', 'Service', 'Consultant']).Performance.size().plot(kind='bar')\n",
    "plt.ylabel('# of projects')\n",
    "plt.show()"
   ]
  },
  {
   "cell_type": "markdown",
   "metadata": {},
   "source": [
    "This is an example of Simpson's paradox. Simpson’s paradox refers to a phenomena whereby the association between a pair of  variables (X, Y) reverses sign upon conditioning of a third variable, Z, regardless of the value taken by Z. If we partition the data into subpopulations, each representing a specific value of the third variable, the phenomena appears as a sign reversal between the associations measured in the disaggregated subpopulations relative to the aggregated data, which describes the population as a whole. For a more graphical explanation, take a look at the following image:\n",
    "\n",
    "![Image of Yaktocat](paradox.jpeg)"
   ]
  },
  {
   "cell_type": "markdown",
   "metadata": {},
   "source": [
    "One thing we can do to circumvent this issue is to compare projects that are very similar to each other but that differ only on the consultant that they were assigned. This is called *matching* and we can do that using some of the tools we studied in the previous class, such as nearest neighbors."
   ]
  },
  {
   "cell_type": "code",
   "execution_count": 12,
   "metadata": {},
   "outputs": [
    {
     "name": "stdout",
     "output_type": "stream",
     "text": [
      "   Consultant Customer Project Service  Performance\n",
      "74        Ben      New   Small     Old     0.555556\n",
      "81        Ben      New   Small     Old     0.555556\n",
      "84        Ben      Old   Small     New     0.888889\n",
      "47      Aaron      Old   Small     Old     1.000000\n",
      "72        Ben      New   Small     Old     0.555556\n",
      "65        Ben      New   Small     New     0.444444\n",
      "30      Aaron      Old   Large     Old     0.666667\n",
      "60        Ben      New   Small     New     0.444444\n",
      "13      Aaron      New   Small     Old     0.555556\n",
      "59        Ben      New   Small     New     0.444444\n",
      "82        Ben      Old   Large     New     0.555556\n",
      "71        Ben      New   Small     Old     0.555556\n",
      "29      Aaron      Old   Large     Old     0.666667\n",
      "32      Aaron      Old   Large     Old     0.666667\n",
      "49        Ben      New   Large     New     0.111111\n",
      "52        Ben      New   Large     New     0.111111\n",
      "76        Ben      New   Small     Old     0.555556\n",
      "73        Ben      New   Small     Old     0.555556\n",
      "22      Aaron      Old   Large     New     0.555556\n",
      "88        Ben      Old   Small     New     0.888889\n",
      "41      Aaron      Old   Small     Old     1.000000\n",
      "14      Aaron      Old   Large     New     0.555556\n",
      "83        Ben      Old   Small     New     0.888889\n",
      "37      Aaron      Old   Small     Old     1.000000\n",
      "28      Aaron      Old   Large     Old     0.666667\n",
      "44      Aaron      Old   Small     Old     1.000000\n",
      "55        Ben      New   Large     New     0.111111\n",
      "39      Aaron      Old   Small     Old     1.000000\n",
      "27      Aaron      Old   Large     Old     0.666667\n",
      "38      Aaron      Old   Small     Old     1.000000\n",
      "..        ...      ...     ...     ...          ...\n",
      "86        Ben      Old   Small     New     0.888889\n",
      "85        Ben      Old   Small     New     0.888889\n",
      "77        Ben      New   Small     Old     0.555556\n",
      "40      Aaron      Old   Small     Old     1.000000\n",
      "19      Aaron      Old   Large     New     0.555556\n",
      "9       Aaron      New   Large     Old     0.222222\n",
      "94        Ben      Old   Large     Old     0.666667\n",
      "6       Aaron      New   Large     Old     0.222222\n",
      "43      Aaron      Old   Small     Old     1.000000\n",
      "61        Ben      New   Small     New     0.444444\n",
      "63        Ben      New   Small     New     0.444444\n",
      "80        Ben      New   Small     Old     0.555556\n",
      "95        Ben      Old   Small     Old     1.000000\n",
      "89        Ben      Old   Small     New     0.888889\n",
      "42      Aaron      Old   Small     Old     1.000000\n",
      "1       Aaron      New   Small     New     0.444444\n",
      "66        Ben      New   Small     New     0.444444\n",
      "87        Ben      Old   Small     New     0.888889\n",
      "56        Ben      New   Large     New     0.111111\n",
      "64        Ben      New   Small     New     0.444444\n",
      "16      Aaron      Old   Large     New     0.555556\n",
      "53        Ben      New   Large     New     0.111111\n",
      "69        Ben      New   Small     New     0.444444\n",
      "17      Aaron      Old   Large     New     0.555556\n",
      "21      Aaron      Old   Large     New     0.555556\n",
      "26      Aaron      Old   Large     Old     0.666667\n",
      "18      Aaron      Old   Large     New     0.555556\n",
      "15      Aaron      Old   Large     New     0.555556\n",
      "34      Aaron      Old   Large     Old     0.666667\n",
      "3       Aaron      New   Large     Old     0.222222\n",
      "\n",
      "[96 rows x 5 columns]\n",
      "\n",
      "==========================\n",
      "\n",
      "    Performance  Consultant_Ben  Customer_Old  Project_Small  Service_Old\n",
      "74     0.555556               1             0              1            1\n",
      "81     0.555556               1             0              1            1\n",
      "84     0.888889               1             1              1            0\n",
      "47     1.000000               0             1              1            1\n",
      "72     0.555556               1             0              1            1\n",
      "65     0.444444               1             0              1            0\n",
      "30     0.666667               0             1              0            1\n",
      "60     0.444444               1             0              1            0\n",
      "13     0.555556               0             0              1            1\n",
      "59     0.444444               1             0              1            0\n",
      "82     0.555556               1             1              0            0\n",
      "71     0.555556               1             0              1            1\n",
      "29     0.666667               0             1              0            1\n",
      "32     0.666667               0             1              0            1\n",
      "49     0.111111               1             0              0            0\n",
      "52     0.111111               1             0              0            0\n",
      "76     0.555556               1             0              1            1\n",
      "73     0.555556               1             0              1            1\n",
      "22     0.555556               0             1              0            0\n",
      "88     0.888889               1             1              1            0\n",
      "41     1.000000               0             1              1            1\n",
      "14     0.555556               0             1              0            0\n",
      "83     0.888889               1             1              1            0\n",
      "37     1.000000               0             1              1            1\n",
      "28     0.666667               0             1              0            1\n",
      "44     1.000000               0             1              1            1\n",
      "55     0.111111               1             0              0            0\n",
      "39     1.000000               0             1              1            1\n",
      "27     0.666667               0             1              0            1\n",
      "38     1.000000               0             1              1            1\n",
      "..          ...             ...           ...            ...          ...\n",
      "86     0.888889               1             1              1            0\n",
      "85     0.888889               1             1              1            0\n",
      "77     0.555556               1             0              1            1\n",
      "40     1.000000               0             1              1            1\n",
      "19     0.555556               0             1              0            0\n",
      "9      0.222222               0             0              0            1\n",
      "94     0.666667               1             1              0            1\n",
      "6      0.222222               0             0              0            1\n",
      "43     1.000000               0             1              1            1\n",
      "61     0.444444               1             0              1            0\n",
      "63     0.444444               1             0              1            0\n",
      "80     0.555556               1             0              1            1\n",
      "95     1.000000               1             1              1            1\n",
      "89     0.888889               1             1              1            0\n",
      "42     1.000000               0             1              1            1\n",
      "1      0.444444               0             0              1            0\n",
      "66     0.444444               1             0              1            0\n",
      "87     0.888889               1             1              1            0\n",
      "56     0.111111               1             0              0            0\n",
      "64     0.444444               1             0              1            0\n",
      "16     0.555556               0             1              0            0\n",
      "53     0.111111               1             0              0            0\n",
      "69     0.444444               1             0              1            0\n",
      "17     0.555556               0             1              0            0\n",
      "21     0.555556               0             1              0            0\n",
      "26     0.666667               0             1              0            1\n",
      "18     0.555556               0             1              0            0\n",
      "15     0.555556               0             1              0            0\n",
      "34     0.666667               0             1              0            1\n",
      "3      0.222222               0             0              0            1\n",
      "\n",
      "[96 rows x 5 columns]\n",
      "\n",
      "==========================\n",
      "\n",
      "Aaron shape: \n",
      "(48, 4)\n",
      "Ben shape: \n",
      "(48, 4)\n",
      "\n",
      "==========================\n",
      "\n",
      "[0. 0. 0. 0. 0. 0. 0. 0. 0. 0. 0. 0. 0. 0. 0. 0. 0. 0. 0. 0. 0. 0. 0. 0.\n",
      " 0. 0. 0. 0. 0. 0. 0. 0. 0. 0. 0. 0. 0. 0. 0. 0. 0. 0. 0. 0. 0. 0. 0. 0.]\n",
      "[ 2  2 25  2 39 39 39  5  2 21 21  2  2 25 25 21 39  2 21 39  2 21 21 21\n",
      " 25 39  2 15 21 21 25 25 25 25 25  2  1 39 39  2  0 25 39 25 21 39 21 39]\n",
      "\n",
      "==========================\n",
      "\n",
      "Ben Projects\n",
      "Performance      0.509259\n",
      "Customer_Old     0.291667\n",
      "Project_Small    0.708333\n",
      "Service_Old      0.291667\n",
      "dtype: float64\n",
      "\n",
      "==========================\n",
      "\n",
      "Aaron's (matched) projects\n",
      "Performance      0.509259\n",
      "Customer_Old     0.291667\n",
      "Project_Small    0.708333\n",
      "Service_Old      0.291667\n",
      "dtype: float64\n",
      "\n",
      "==========================\n",
      "\n",
      "Aaron's (unmatched) projects\n",
      "Performance      0.601852\n",
      "Customer_Old     0.708333\n",
      "Project_Small    0.291667\n",
      "Service_Old      0.708333\n",
      "dtype: float64\n"
     ]
    }
   ],
   "source": [
    "from sklearn.neighbors import NearestNeighbors\n",
    "\n",
    "print(data)\n",
    "print(\"\\n==========================\\n\")\n",
    "dummy_data = pd.get_dummies(data=data, drop_first=True) # One hot labeling with drop_first=True\n",
    "print(dummy_data) # in casewe store each old and new we just instead make old=1 and new=0 something like this ! \n",
    "print(\"\\n==========================\\n\")\n",
    "aaron_obs = dummy_data[dummy_data.Consultant_Ben != 1]\n",
    "ben_obs = dummy_data[dummy_data.Consultant_Ben == 1]\n",
    "aaron_obs = aaron_obs.drop('Consultant_Ben', axis='columns')\n",
    "print(\"Aaron shape: \")\n",
    "print(aaron_obs.shape)\n",
    "ben_obs = ben_obs.drop('Consultant_Ben', axis='columns')\n",
    "print(\"Ben shape: \")\n",
    "print(ben_obs.shape)\n",
    "print(\"\\n==========================\\n\")\n",
    "\n",
    "\n",
    "# Fit/train the model by Aaron performance\n",
    "nbrs = NearestNeighbors(n_neighbors=1).fit(aaron_obs)\n",
    "\n",
    "# Finds the K-neighbors of a point. Returns indices of and distances to the neighbors of each point.\n",
    "distances, indices = nbrs.kneighbors(ben_obs)\n",
    "\n",
    "print(distances.reshape(-1))\n",
    "print(indices.reshape(-1))\n",
    "matched_obs = aaron_obs.iloc[indices.reshape(-1)]\n",
    "\n",
    "print(\"\\n==========================\\n\")\n",
    "print(\"Ben Projects\")\n",
    "print(ben_obs.mean())\n",
    "print(\"\\n==========================\\n\")\n",
    "print(\"Aaron's (matched) projects\")\n",
    "print(matched_obs.mean())\n",
    "print(\"\\n==========================\\n\")\n",
    "print(\"Aaron's (unmatched) projects\")\n",
    "print(aaron_obs.mean())"
   ]
  },
  {
   "cell_type": "code",
   "execution_count": null,
   "metadata": {},
   "outputs": [],
   "source": []
  }
 ],
 "metadata": {
  "kernelspec": {
   "display_name": "Python 3",
   "language": "python",
   "name": "python3"
  },
  "language_info": {
   "codemirror_mode": {
    "name": "ipython",
    "version": 3
   },
   "file_extension": ".py",
   "mimetype": "text/x-python",
   "name": "python",
   "nbconvert_exporter": "python",
   "pygments_lexer": "ipython3",
   "version": "3.7.3"
  }
 },
 "nbformat": 4,
 "nbformat_minor": 2
}
