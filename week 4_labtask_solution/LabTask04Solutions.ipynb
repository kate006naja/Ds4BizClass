{
 "cells": [
  {
   "cell_type": "markdown",
   "metadata": {},
   "source": [
    "## Lab Task 04 Solution: Data Visualization on book catalogue¶¶\n",
    "Term 1 2019 - Instructors: Teerapong Leelanupab\n",
    "\n",
    "Teaching Assistant: Suttida Satjasunsern"
   ]
  },
  {
   "cell_type": "code",
   "execution_count": null,
   "metadata": {},
   "outputs": [],
   "source": [
    "import pandas as pd\n",
    "%matplotlib inline"
   ]
  },
  {
   "cell_type": "markdown",
   "metadata": {},
   "source": [
    "Step 1. \n",
    "Load the book catalogue dataset *book-catalogue.csv* into a Pandas DataFrame, and set the row index of the DataFrame to be the title of the books."
   ]
  },
  {
   "cell_type": "code",
   "execution_count": null,
   "metadata": {},
   "outputs": [],
   "source": [
    "df = pd.read_csv(\"labtask04-data/book-catalogue.csv\")\n",
    "df = df.set_index(\"title\")\n",
    "df.head()"
   ]
  },
  {
   "cell_type": "markdown",
   "metadata": {},
   "source": [
    "Step 2. Plot (i) the number of chapters against the number of characters; (ii) the number of chapters against the number of words. \n",
    "\n",
    "Do the plots suggest a correlation in either case?"
   ]
  },
  {
   "cell_type": "code",
   "execution_count": null,
   "metadata": {},
   "outputs": [],
   "source": [
    "p1 = df.plot(kind=\"scatter\",x=\"num_chapters\", y=\"num_characters\",figsize=(8,6))\n",
    "p1.set_xlabel(\"Number of Chapters\")\n",
    "p1.set_ylabel(\"Number of Characters\")"
   ]
  },
  {
   "cell_type": "code",
   "execution_count": null,
   "metadata": {},
   "outputs": [],
   "source": [
    "p2 = df.plot(kind=\"scatter\",x=\"num_chapters\", y=\"num_words\",figsize=(8,6))\n",
    "p2.set_xlabel(\"Number of Chapters\")\n",
    "p2.set_ylabel(\"Number of Words\")"
   ]
  },
  {
   "cell_type": "markdown",
   "metadata": {},
   "source": [
    "Step 3. Plot (i) the proportion of male and female authors; (ii) the proportion of Irish and British authors."
   ]
  },
  {
   "cell_type": "code",
   "execution_count": null,
   "metadata": {},
   "outputs": [],
   "source": [
    "# get the counts for the gender values\n",
    "gender_counts = df[\"author_gender\"].value_counts()\n",
    "# create pie chart of the counts\n",
    "p3 = gender_counts.plot(kind=\"pie\", autopct=\"%.1f%%\", fontsize=14, figsize=(6,6))\n",
    "p3.set_title(\"Gender Balance\")\n",
    "p3.set_ylabel(\"\")"
   ]
  },
  {
   "cell_type": "code",
   "execution_count": null,
   "metadata": {},
   "outputs": [],
   "source": [
    "# get the counts of the nationality values\n",
    "nation_counts = df[\"author_nationality\"].value_counts()\n",
    "# display as a pie chart\n",
    "p3 = nation_counts.plot(kind=\"pie\", autopct=\"%.1f%%\", fontsize=14, figsize=(6,6))\n",
    "p3.set_title(\"Nationality Balance\")\n",
    "p3.set_ylabel(\"\")"
   ]
  },
  {
   "cell_type": "markdown",
   "metadata": {},
   "source": [
    "Step 4. Plot the number of books per decade in the catalogue. Save this plot to a PNG file."
   ]
  },
  {
   "cell_type": "code",
   "execution_count": null,
   "metadata": {},
   "outputs": [],
   "source": [
    "# Work out the decade for each book\n",
    "decades = []\n",
    "for i, row in df.iterrows():\n",
    "    syear = str(row[\"year\"])\n",
    "    decades.append( syear[0:3] +\"0s\" )"
   ]
  },
  {
   "cell_type": "code",
   "execution_count": null,
   "metadata": {},
   "outputs": [],
   "source": [
    "# Add it as a new column\n",
    "df[\"decade\"] = decades\n",
    "df.head()"
   ]
  },
  {
   "cell_type": "code",
   "execution_count": null,
   "metadata": {},
   "outputs": [],
   "source": [
    "# Calculate the counts for each decade\n",
    "decade_counts = df[\"decade\"].value_counts()\n",
    "# Sort them by decade\n",
    "sorted_decade_counts = decade_counts.sort_index()"
   ]
  },
  {
   "cell_type": "code",
   "execution_count": null,
   "metadata": {},
   "outputs": [],
   "source": [
    "# Produce the bar chart\n",
    "p4 = sorted_decade_counts.plot(kind=\"bar\", fontsize=14, figsize=(11,5))\n",
    "p4.set_xlabel(\"Decade\")\n",
    "p4.set_ylabel(\"Number of Books\")"
   ]
  },
  {
   "cell_type": "code",
   "execution_count": null,
   "metadata": {},
   "outputs": [],
   "source": [
    "fig = p4.get_figure()\n",
    "# A fix to make sure the figure does not get cropped\n",
    "fig.tight_layout()\n",
    "# Save the figure\n",
    "fig.savefig(\"decades.png\")"
   ]
  },
  {
   "cell_type": "code",
   "execution_count": null,
   "metadata": {},
   "outputs": [],
   "source": []
  },
  {
   "cell_type": "code",
   "execution_count": null,
   "metadata": {},
   "outputs": [],
   "source": []
  }
 ],
 "metadata": {
  "kernelspec": {
   "display_name": "Python 3",
   "language": "python",
   "name": "python3"
  },
  "language_info": {
   "codemirror_mode": {
    "name": "ipython",
    "version": 3
   },
   "file_extension": ".py",
   "mimetype": "text/x-python",
   "name": "python",
   "nbconvert_exporter": "python",
   "pygments_lexer": "ipython3",
   "version": "3.7.3"
  }
 },
 "nbformat": 4,
 "nbformat_minor": 1
}
