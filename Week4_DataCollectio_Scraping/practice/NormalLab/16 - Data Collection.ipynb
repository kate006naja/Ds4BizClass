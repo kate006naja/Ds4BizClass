{
 "cells": [
  {
   "cell_type": "markdown",
   "metadata": {},
   "source": [
    "# Data Collection & Data Formats\n",
    "\n",
    "Term 1 2019 - Instructor: Teerapong Leelanupab\n",
    "\n",
    "Teaching Assistant: Suttida Satjasunsern\n",
    "***"
   ]
  },
  {
   "cell_type": "markdown",
   "metadata": {},
   "source": [
    "## Downloading Data\n",
    "The built-in Python *urllib.request* module has functions which help in downloading content from HTTP URLs using minimal code."
   ]
  },
  {
   "cell_type": "code",
   "execution_count": 16,
   "metadata": {},
   "outputs": [],
   "source": [
    "import urllib.request\n",
    "url = \"https://www.it.kmitl.ac.th/~teerapong/resources/ds4biz/week4/kmitl.txt\"\n",
    "response = urllib.request.urlopen(url)\n",
    "text = response.read().decode()\n",
    "# print(text)"
   ]
  },
  {
   "cell_type": "markdown",
   "metadata": {},
   "source": [
    "In practice, we may often want to wrap code to fetch URLs in a try block, to handle the case where we cannot access the URL."
   ]
  },
  {
   "cell_type": "code",
   "execution_count": 17,
   "metadata": {},
   "outputs": [
    {
     "name": "stdout",
     "output_type": "stream",
     "text": [
      "Failed to retrieve https://somemissinglink.it.kmitl.ac.th/~teerapong/resources/ds4biz/week4/kmitl.txt\n"
     ]
    }
   ],
   "source": [
    "url = \"https://somemissinglink.it.kmitl.ac.th/~teerapong/resources/ds4biz/week4/kmitl.txt\"\n",
    "try:\n",
    "    response = urllib.request.urlopen(url)\n",
    "    text = response.read().decode()\n",
    "except:\n",
    "    print(\"Failed to retrieve %s\" % url)"
   ]
  },
  {
   "cell_type": "markdown",
   "metadata": {},
   "source": [
    "## Working with CSV"
   ]
  },
  {
   "cell_type": "markdown",
   "metadata": {},
   "source": [
    "The CSV (\"Comma Separated Values\") file format is often used to exchange tabular data between different applications, like Excel. Essentially a CSV file is a plain text file where values are split by a comma separator. Alternatively can be tab or space separated. \n",
    "\n",
    "We could download a CSV file using *urllib.request* and manually parse it..."
   ]
  },
  {
   "cell_type": "code",
   "execution_count": 18,
   "metadata": {},
   "outputs": [
    {
     "name": "stdout",
     "output_type": "stream",
     "text": [
      "['Player', 'Team', 'Total Goals', 'Penalties', 'Home Goals', 'Away Goals']\n",
      "['J Vardy', 'Leicester City', '19', '4', '11', '8']\n",
      "['H Kane', 'Tottenham', '16', '4', '7', '9']\n",
      "['R Lukaku', 'Everton', '16', '1', '8', '8']\n",
      "['O Ighalo', 'Watford', '15', '0', '8', '7']\n",
      "['S Aguero', 'Manchester City', '14', '1', '10', '4']\n",
      "['R Mahrez', 'Leicester City', '14', '4', '4', '10']\n",
      "['O Giroud', 'Arsenal', '12', '0', '4', '8']\n",
      "['D Costa', 'Chelsea', '10', '0', '7', '3']\n",
      "['J Defoe', 'Sunderland', '10', '0', '3', '7']\n",
      "['G Wijnaldum', 'Newcastle Utd', '9', '0', '9', '0']\n",
      "['T Deeney', 'Watford', '8', '5', '2', '6']\n",
      "['R Barkley', 'Everton', '8', '2', '5', '3']\n",
      "['A Ayew', 'Swansea City', '8', '0', '5', '3']\n",
      "['G Sigurdsson', 'Swansea City', '7', '3', '2', '5']\n",
      "['W Rooney', 'Manchester Utd', '7', '1', '3', '4']\n",
      "['A Martial', 'Manchester Utd', '7', '0', '4', '3']\n",
      "['D Alli', 'Tottenham', '7', '0', '1', '6']\n",
      "['D Payet', 'West Ham Utd', '7', '0', '3', '4']\n",
      "['M Arnautovic', 'Stoke City', '7', '2', '4', '3']\n",
      "['Y Toure', 'Manchester City', '7', '0', '3', '4']\n"
     ]
    }
   ],
   "source": [
    "# Download the CSV and store as a string\n",
    "url = \"https://www.it.kmitl.ac.th/~teerapong/resources/ds4biz/week4/goal_scorers.csv\"\n",
    "response = urllib.request.urlopen(url)\n",
    "raw_csv = response.read().decode()\n",
    "# Parse each line\n",
    "lines = raw_csv.split(\"\\n\")\n",
    "for l in lines:\n",
    "    l = l.strip()\n",
    "# why if because there is a \",\" to split each\n",
    "    if len(l) > 0:\n",
    "        # split based on a comma separator\n",
    "        parts = l.split(\",\")\n",
    "        print(parts)"
   ]
  },
  {
   "cell_type": "markdown",
   "metadata": {},
   "source": [
    "But we can also use Pandas to directly download and parse CSV data for us, to create a Data Frame which is ready to analyse."
   ]
  },
  {
   "cell_type": "code",
   "execution_count": 19,
   "metadata": {},
   "outputs": [
    {
     "data": {
      "text/html": [
       "<div>\n",
       "<style scoped>\n",
       "    .dataframe tbody tr th:only-of-type {\n",
       "        vertical-align: middle;\n",
       "    }\n",
       "\n",
       "    .dataframe tbody tr th {\n",
       "        vertical-align: top;\n",
       "    }\n",
       "\n",
       "    .dataframe thead th {\n",
       "        text-align: right;\n",
       "    }\n",
       "</style>\n",
       "<table border=\"1\" class=\"dataframe\">\n",
       "  <thead>\n",
       "    <tr style=\"text-align: right;\">\n",
       "      <th></th>\n",
       "      <th>Player</th>\n",
       "      <th>Team</th>\n",
       "      <th>Total Goals</th>\n",
       "      <th>Penalties</th>\n",
       "      <th>Home Goals</th>\n",
       "      <th>Away Goals</th>\n",
       "    </tr>\n",
       "  </thead>\n",
       "  <tbody>\n",
       "    <tr>\n",
       "      <th>0</th>\n",
       "      <td>J Vardy</td>\n",
       "      <td>Leicester City</td>\n",
       "      <td>19</td>\n",
       "      <td>4</td>\n",
       "      <td>11</td>\n",
       "      <td>8</td>\n",
       "    </tr>\n",
       "    <tr>\n",
       "      <th>1</th>\n",
       "      <td>H Kane</td>\n",
       "      <td>Tottenham</td>\n",
       "      <td>16</td>\n",
       "      <td>4</td>\n",
       "      <td>7</td>\n",
       "      <td>9</td>\n",
       "    </tr>\n",
       "    <tr>\n",
       "      <th>2</th>\n",
       "      <td>R Lukaku</td>\n",
       "      <td>Everton</td>\n",
       "      <td>16</td>\n",
       "      <td>1</td>\n",
       "      <td>8</td>\n",
       "      <td>8</td>\n",
       "    </tr>\n",
       "    <tr>\n",
       "      <th>3</th>\n",
       "      <td>O Ighalo</td>\n",
       "      <td>Watford</td>\n",
       "      <td>15</td>\n",
       "      <td>0</td>\n",
       "      <td>8</td>\n",
       "      <td>7</td>\n",
       "    </tr>\n",
       "    <tr>\n",
       "      <th>4</th>\n",
       "      <td>S Aguero</td>\n",
       "      <td>Manchester City</td>\n",
       "      <td>14</td>\n",
       "      <td>1</td>\n",
       "      <td>10</td>\n",
       "      <td>4</td>\n",
       "    </tr>\n",
       "    <tr>\n",
       "      <th>5</th>\n",
       "      <td>R Mahrez</td>\n",
       "      <td>Leicester City</td>\n",
       "      <td>14</td>\n",
       "      <td>4</td>\n",
       "      <td>4</td>\n",
       "      <td>10</td>\n",
       "    </tr>\n",
       "    <tr>\n",
       "      <th>6</th>\n",
       "      <td>O Giroud</td>\n",
       "      <td>Arsenal</td>\n",
       "      <td>12</td>\n",
       "      <td>0</td>\n",
       "      <td>4</td>\n",
       "      <td>8</td>\n",
       "    </tr>\n",
       "    <tr>\n",
       "      <th>7</th>\n",
       "      <td>D Costa</td>\n",
       "      <td>Chelsea</td>\n",
       "      <td>10</td>\n",
       "      <td>0</td>\n",
       "      <td>7</td>\n",
       "      <td>3</td>\n",
       "    </tr>\n",
       "    <tr>\n",
       "      <th>8</th>\n",
       "      <td>J Defoe</td>\n",
       "      <td>Sunderland</td>\n",
       "      <td>10</td>\n",
       "      <td>0</td>\n",
       "      <td>3</td>\n",
       "      <td>7</td>\n",
       "    </tr>\n",
       "    <tr>\n",
       "      <th>9</th>\n",
       "      <td>G Wijnaldum</td>\n",
       "      <td>Newcastle Utd</td>\n",
       "      <td>9</td>\n",
       "      <td>0</td>\n",
       "      <td>9</td>\n",
       "      <td>0</td>\n",
       "    </tr>\n",
       "    <tr>\n",
       "      <th>10</th>\n",
       "      <td>T Deeney</td>\n",
       "      <td>Watford</td>\n",
       "      <td>8</td>\n",
       "      <td>5</td>\n",
       "      <td>2</td>\n",
       "      <td>6</td>\n",
       "    </tr>\n",
       "    <tr>\n",
       "      <th>11</th>\n",
       "      <td>R Barkley</td>\n",
       "      <td>Everton</td>\n",
       "      <td>8</td>\n",
       "      <td>2</td>\n",
       "      <td>5</td>\n",
       "      <td>3</td>\n",
       "    </tr>\n",
       "    <tr>\n",
       "      <th>12</th>\n",
       "      <td>A Ayew</td>\n",
       "      <td>Swansea City</td>\n",
       "      <td>8</td>\n",
       "      <td>0</td>\n",
       "      <td>5</td>\n",
       "      <td>3</td>\n",
       "    </tr>\n",
       "    <tr>\n",
       "      <th>13</th>\n",
       "      <td>G Sigurdsson</td>\n",
       "      <td>Swansea City</td>\n",
       "      <td>7</td>\n",
       "      <td>3</td>\n",
       "      <td>2</td>\n",
       "      <td>5</td>\n",
       "    </tr>\n",
       "    <tr>\n",
       "      <th>14</th>\n",
       "      <td>W Rooney</td>\n",
       "      <td>Manchester Utd</td>\n",
       "      <td>7</td>\n",
       "      <td>1</td>\n",
       "      <td>3</td>\n",
       "      <td>4</td>\n",
       "    </tr>\n",
       "    <tr>\n",
       "      <th>15</th>\n",
       "      <td>A Martial</td>\n",
       "      <td>Manchester Utd</td>\n",
       "      <td>7</td>\n",
       "      <td>0</td>\n",
       "      <td>4</td>\n",
       "      <td>3</td>\n",
       "    </tr>\n",
       "    <tr>\n",
       "      <th>16</th>\n",
       "      <td>D Alli</td>\n",
       "      <td>Tottenham</td>\n",
       "      <td>7</td>\n",
       "      <td>0</td>\n",
       "      <td>1</td>\n",
       "      <td>6</td>\n",
       "    </tr>\n",
       "    <tr>\n",
       "      <th>17</th>\n",
       "      <td>D Payet</td>\n",
       "      <td>West Ham Utd</td>\n",
       "      <td>7</td>\n",
       "      <td>0</td>\n",
       "      <td>3</td>\n",
       "      <td>4</td>\n",
       "    </tr>\n",
       "    <tr>\n",
       "      <th>18</th>\n",
       "      <td>M Arnautovic</td>\n",
       "      <td>Stoke City</td>\n",
       "      <td>7</td>\n",
       "      <td>2</td>\n",
       "      <td>4</td>\n",
       "      <td>3</td>\n",
       "    </tr>\n",
       "    <tr>\n",
       "      <th>19</th>\n",
       "      <td>Y Toure</td>\n",
       "      <td>Manchester City</td>\n",
       "      <td>7</td>\n",
       "      <td>0</td>\n",
       "      <td>3</td>\n",
       "      <td>4</td>\n",
       "    </tr>\n",
       "  </tbody>\n",
       "</table>\n",
       "</div>"
      ],
      "text/plain": [
       "          Player             Team  Total Goals  Penalties  Home Goals  \\\n",
       "0        J Vardy   Leicester City           19          4          11   \n",
       "1         H Kane        Tottenham           16          4           7   \n",
       "2       R Lukaku          Everton           16          1           8   \n",
       "3       O Ighalo          Watford           15          0           8   \n",
       "4       S Aguero  Manchester City           14          1          10   \n",
       "5       R Mahrez   Leicester City           14          4           4   \n",
       "6       O Giroud          Arsenal           12          0           4   \n",
       "7        D Costa          Chelsea           10          0           7   \n",
       "8        J Defoe       Sunderland           10          0           3   \n",
       "9    G Wijnaldum    Newcastle Utd            9          0           9   \n",
       "10      T Deeney          Watford            8          5           2   \n",
       "11     R Barkley          Everton            8          2           5   \n",
       "12        A Ayew     Swansea City            8          0           5   \n",
       "13  G Sigurdsson     Swansea City            7          3           2   \n",
       "14      W Rooney   Manchester Utd            7          1           3   \n",
       "15     A Martial   Manchester Utd            7          0           4   \n",
       "16        D Alli        Tottenham            7          0           1   \n",
       "17       D Payet     West Ham Utd            7          0           3   \n",
       "18  M Arnautovic       Stoke City            7          2           4   \n",
       "19       Y Toure  Manchester City            7          0           3   \n",
       "\n",
       "    Away Goals  \n",
       "0            8  \n",
       "1            9  \n",
       "2            8  \n",
       "3            7  \n",
       "4            4  \n",
       "5           10  \n",
       "6            8  \n",
       "7            3  \n",
       "8            7  \n",
       "9            0  \n",
       "10           6  \n",
       "11           3  \n",
       "12           3  \n",
       "13           5  \n",
       "14           4  \n",
       "15           3  \n",
       "16           6  \n",
       "17           4  \n",
       "18           3  \n",
       "19           4  "
      ]
     },
     "execution_count": 19,
     "metadata": {},
     "output_type": "execute_result"
    }
   ],
   "source": [
    "import pandas as pd\n",
    "df = pd.read_csv(\"https://www.it.kmitl.ac.th/~teerapong/resources/ds4biz/week4/goal_scorers.csv\")\n",
    "df"
   ]
  },
  {
   "cell_type": "markdown",
   "metadata": {},
   "source": [
    "## Working with JSON"
   ]
  },
  {
   "cell_type": "markdown",
   "metadata": {},
   "source": [
    "[JSON](http://json.org/) is a lightweight format which is becoming increasingly popular for online data exchanged. Based originally on the JavaScript language and (relatively) easy for humans to read and write\n",
    "\n",
    "The built-in module *json* provides an easy way to encode and decode data in JSON in Python."
   ]
  },
  {
   "cell_type": "code",
   "execution_count": 20,
   "metadata": {},
   "outputs": [],
   "source": [
    "import json"
   ]
  },
  {
   "cell_type": "markdown",
   "metadata": {},
   "source": [
    "Let's try downloading and parsing a simple JSON file which contains information about a number of books, originally from librarything.com:"
   ]
  },
  {
   "cell_type": "code",
   "execution_count": 21,
   "metadata": {},
   "outputs": [],
   "source": [
    "url = \"https://www.it.kmitl.ac.th/~teerapong/resources/ds4biz/week4/books.json\"\n",
    "response = urllib.request.urlopen(url)\n",
    "raw_json = response.read().decode(\"utf-8\")"
   ]
  },
  {
   "cell_type": "code",
   "execution_count": 22,
   "metadata": {},
   "outputs": [
    {
     "name": "stdout",
     "output_type": "stream",
     "text": [
      "[{\n",
      "\t\"book_id\": \"13585350\",\n",
      "\t\"title\": \"The World Treasury of Science Fiction\",\n",
      "\t\"ISBN\": \"\",\n",
      "\t\"year\": 1989,\n",
      "\t\"rating\": 3,\n",
      "\t\"language\": \"eng\"\n",
      "}, {\n",
      "\t\"book_id\": \"124205572\",\n",
      "\t\"title\": \"The War of the Worlds\",\n",
      "\t\"ISBN\": \"1936594056\",\n",
      "\t\"year\": 2013,\n",
      "\t\"rating\": 4,\n",
      "\t\"language\": \"eng\"\n",
      "}, {\n",
      "\t\"book_id\": \"127360065\",\n",
      "\t\"title\": \"Under the Dome: A Novel\",\n",
      "\t\"ISBN\": \"1439149038\",\n",
      "\t\"year\": 2013,\n",
      "\t\"rating\": 2,\n",
      "\t\"language\": \"eng\"\n",
      "}, {\n",
      "\t\"book_id\": \"13908800\",\n",
      "\t\"title\": \"The Ultimate Hitchhiker's Guide to the Galaxy\",\n",
      "\t\"ISBN\": \"0345453743\",\n",
      "\t\"year\": 2002,\n",
      "\t\"rating\": 5,\n",
      "\t\"language\": \"eng\"\n",
      "}, {\n",
      "\t\"book_id\": \"123734934\",\n",
      "\t\"title\": \"The Time Traveler's Wife\",\n",
      "\t\"ISBN\": \"1476764832\",\n",
      "\t\"year\": 2014,\n",
      "\t\"rating\": 5,\n",
      "\t\"language\": \"eng\"\n",
      "}, {\n",
      "\t\"book_id\": \"13603020\",\n",
      "\t\"title\": \"Salem's Lot\",\n",
      "\t\"ISBN\": \"0451098277\",\n",
      "\t\"year\": 1976,\n",
      "\t\"rating\": 3,\n",
      "\t\"language\": \"eng\"\n",
      "}, {\n",
      "\t\"book_id\": \"124173974\",\n",
      "\t\"title\": \"Republic\",\n",
      "\t\"ISBN\": \"039395501X\",\n",
      "\t\"year\": 1985,\n",
      "\t\"rating\": 3,\n",
      "\t\"language\": \"eng\"\n",
      "}, {\n",
      "\t\"book_id\": \"123102859\",\n",
      "\t\"title\": \"The Road\",\n",
      "\t\"ISBN\": \"0307387895\",\n",
      "\t\"year\": 2006,\n",
      "\t\"rating\": 5,\n",
      "\t\"language\": \"eng\"\n",
      "}]\n",
      "\n"
     ]
    }
   ],
   "source": [
    "print(raw_json)\n",
    "# this is just the decode that you got"
   ]
  },
  {
   "cell_type": "markdown",
   "metadata": {},
   "source": [
    "# JSON PARSE"
   ]
  },
  {
   "cell_type": "markdown",
   "metadata": {},
   "source": [
    "We can now parse the JSON, converting it from a string into a useful Python data structure:"
   ]
  },
  {
   "cell_type": "code",
   "execution_count": 23,
   "metadata": {},
   "outputs": [
    {
     "name": "stdout",
     "output_type": "stream",
     "text": [
      "[{'book_id': '13585350', 'title': 'The World Treasury of Science Fiction', 'ISBN': '', 'year': 1989, 'rating': 3, 'language': 'eng'}, {'book_id': '124205572', 'title': 'The War of the Worlds', 'ISBN': '1936594056', 'year': 2013, 'rating': 4, 'language': 'eng'}, {'book_id': '127360065', 'title': 'Under the Dome: A Novel', 'ISBN': '1439149038', 'year': 2013, 'rating': 2, 'language': 'eng'}, {'book_id': '13908800', 'title': \"The Ultimate Hitchhiker's Guide to the Galaxy\", 'ISBN': '0345453743', 'year': 2002, 'rating': 5, 'language': 'eng'}, {'book_id': '123734934', 'title': \"The Time Traveler's Wife\", 'ISBN': '1476764832', 'year': 2014, 'rating': 5, 'language': 'eng'}, {'book_id': '13603020', 'title': \"Salem's Lot\", 'ISBN': '0451098277', 'year': 1976, 'rating': 3, 'language': 'eng'}, {'book_id': '124173974', 'title': 'Republic', 'ISBN': '039395501X', 'year': 1985, 'rating': 3, 'language': 'eng'}, {'book_id': '123102859', 'title': 'The Road', 'ISBN': '0307387895', 'year': 2006, 'rating': 5, 'language': 'eng'}]\n"
     ]
    }
   ],
   "source": [
    "data = json.loads(raw_json)\n",
    "print(data)"
   ]
  },
  {
   "cell_type": "markdown",
   "metadata": {},
   "source": [
    "We can now iterate through the books in the list and extract the relevant information that we require."
   ]
  },
  {
   "cell_type": "code",
   "execution_count": 24,
   "metadata": {},
   "outputs": [
    {
     "name": "stdout",
     "output_type": "stream",
     "text": [
      "{'book_id': '13585350', 'title': 'The World Treasury of Science Fiction', 'ISBN': '', 'year': 1989, 'rating': 3, 'language': 'eng'}\n",
      "{'book_id': '124205572', 'title': 'The War of the Worlds', 'ISBN': '1936594056', 'year': 2013, 'rating': 4, 'language': 'eng'}\n",
      "{'book_id': '127360065', 'title': 'Under the Dome: A Novel', 'ISBN': '1439149038', 'year': 2013, 'rating': 2, 'language': 'eng'}\n",
      "{'book_id': '13908800', 'title': \"The Ultimate Hitchhiker's Guide to the Galaxy\", 'ISBN': '0345453743', 'year': 2002, 'rating': 5, 'language': 'eng'}\n",
      "{'book_id': '123734934', 'title': \"The Time Traveler's Wife\", 'ISBN': '1476764832', 'year': 2014, 'rating': 5, 'language': 'eng'}\n",
      "{'book_id': '13603020', 'title': \"Salem's Lot\", 'ISBN': '0451098277', 'year': 1976, 'rating': 3, 'language': 'eng'}\n",
      "{'book_id': '124173974', 'title': 'Republic', 'ISBN': '039395501X', 'year': 1985, 'rating': 3, 'language': 'eng'}\n",
      "{'book_id': '123102859', 'title': 'The Road', 'ISBN': '0307387895', 'year': 2006, 'rating': 5, 'language': 'eng'}\n"
     ]
    }
   ],
   "source": [
    "for book in data:\n",
    "#     print( \"%s = %d\" % ( book[\"title\"], book[\"year\"] ) )\n",
    "    print(book)"
   ]
  },
  {
   "cell_type": "markdown",
   "metadata": {},
   "source": [
    "We then use json_normalize in Pandas to create a Data Frame of semi-structured JSON data to make it ready to analyse."
   ]
  },
  {
   "cell_type": "code",
   "execution_count": 25,
   "metadata": {},
   "outputs": [
    {
     "data": {
      "text/html": [
       "<div>\n",
       "<style scoped>\n",
       "    .dataframe tbody tr th:only-of-type {\n",
       "        vertical-align: middle;\n",
       "    }\n",
       "\n",
       "    .dataframe tbody tr th {\n",
       "        vertical-align: top;\n",
       "    }\n",
       "\n",
       "    .dataframe thead th {\n",
       "        text-align: right;\n",
       "    }\n",
       "</style>\n",
       "<table border=\"1\" class=\"dataframe\">\n",
       "  <thead>\n",
       "    <tr style=\"text-align: right;\">\n",
       "      <th></th>\n",
       "      <th>ISBN</th>\n",
       "      <th>book_id</th>\n",
       "      <th>language</th>\n",
       "      <th>rating</th>\n",
       "      <th>title</th>\n",
       "      <th>year</th>\n",
       "    </tr>\n",
       "  </thead>\n",
       "  <tbody>\n",
       "    <tr>\n",
       "      <th>0</th>\n",
       "      <td></td>\n",
       "      <td>13585350</td>\n",
       "      <td>eng</td>\n",
       "      <td>3</td>\n",
       "      <td>The World Treasury of Science Fiction</td>\n",
       "      <td>1989</td>\n",
       "    </tr>\n",
       "    <tr>\n",
       "      <th>1</th>\n",
       "      <td>1936594056</td>\n",
       "      <td>124205572</td>\n",
       "      <td>eng</td>\n",
       "      <td>4</td>\n",
       "      <td>The War of the Worlds</td>\n",
       "      <td>2013</td>\n",
       "    </tr>\n",
       "    <tr>\n",
       "      <th>2</th>\n",
       "      <td>1439149038</td>\n",
       "      <td>127360065</td>\n",
       "      <td>eng</td>\n",
       "      <td>2</td>\n",
       "      <td>Under the Dome: A Novel</td>\n",
       "      <td>2013</td>\n",
       "    </tr>\n",
       "    <tr>\n",
       "      <th>3</th>\n",
       "      <td>0345453743</td>\n",
       "      <td>13908800</td>\n",
       "      <td>eng</td>\n",
       "      <td>5</td>\n",
       "      <td>The Ultimate Hitchhiker's Guide to the Galaxy</td>\n",
       "      <td>2002</td>\n",
       "    </tr>\n",
       "    <tr>\n",
       "      <th>4</th>\n",
       "      <td>1476764832</td>\n",
       "      <td>123734934</td>\n",
       "      <td>eng</td>\n",
       "      <td>5</td>\n",
       "      <td>The Time Traveler's Wife</td>\n",
       "      <td>2014</td>\n",
       "    </tr>\n",
       "  </tbody>\n",
       "</table>\n",
       "</div>"
      ],
      "text/plain": [
       "         ISBN    book_id language  rating  \\\n",
       "0               13585350      eng       3   \n",
       "1  1936594056  124205572      eng       4   \n",
       "2  1439149038  127360065      eng       2   \n",
       "3  0345453743   13908800      eng       5   \n",
       "4  1476764832  123734934      eng       5   \n",
       "\n",
       "                                           title  year  \n",
       "0          The World Treasury of Science Fiction  1989  \n",
       "1                          The War of the Worlds  2013  \n",
       "2                        Under the Dome: A Novel  2013  \n",
       "3  The Ultimate Hitchhiker's Guide to the Galaxy  2002  \n",
       "4                       The Time Traveler's Wife  2014  "
      ]
     },
     "execution_count": 25,
     "metadata": {},
     "output_type": "execute_result"
    }
   ],
   "source": [
    "from pandas.io.json import json_normalize\n",
    "\n",
    "df = json_normalize(data)\n",
    "df.head(5)"
   ]
  },
  {
   "cell_type": "markdown",
   "metadata": {},
   "source": [
    "### OR\n",
    "Alternatively, we can also use Pandas to directly download and parse JSON data for us, to create a Data Frame which is ready to analyse."
   ]
  },
  {
   "cell_type": "code",
   "execution_count": 26,
   "metadata": {},
   "outputs": [
    {
     "data": {
      "text/html": [
       "<div>\n",
       "<style scoped>\n",
       "    .dataframe tbody tr th:only-of-type {\n",
       "        vertical-align: middle;\n",
       "    }\n",
       "\n",
       "    .dataframe tbody tr th {\n",
       "        vertical-align: top;\n",
       "    }\n",
       "\n",
       "    .dataframe thead th {\n",
       "        text-align: right;\n",
       "    }\n",
       "</style>\n",
       "<table border=\"1\" class=\"dataframe\">\n",
       "  <thead>\n",
       "    <tr style=\"text-align: right;\">\n",
       "      <th></th>\n",
       "      <th>ISBN</th>\n",
       "      <th>book_id</th>\n",
       "      <th>language</th>\n",
       "      <th>rating</th>\n",
       "      <th>title</th>\n",
       "      <th>year</th>\n",
       "    </tr>\n",
       "  </thead>\n",
       "  <tbody>\n",
       "    <tr>\n",
       "      <th>0</th>\n",
       "      <td></td>\n",
       "      <td>13585350</td>\n",
       "      <td>eng</td>\n",
       "      <td>3</td>\n",
       "      <td>The World Treasury of Science Fiction</td>\n",
       "      <td>1989</td>\n",
       "    </tr>\n",
       "    <tr>\n",
       "      <th>1</th>\n",
       "      <td>1936594056</td>\n",
       "      <td>124205572</td>\n",
       "      <td>eng</td>\n",
       "      <td>4</td>\n",
       "      <td>The War of the Worlds</td>\n",
       "      <td>2013</td>\n",
       "    </tr>\n",
       "    <tr>\n",
       "      <th>2</th>\n",
       "      <td>1439149038</td>\n",
       "      <td>127360065</td>\n",
       "      <td>eng</td>\n",
       "      <td>2</td>\n",
       "      <td>Under the Dome: A Novel</td>\n",
       "      <td>2013</td>\n",
       "    </tr>\n",
       "    <tr>\n",
       "      <th>3</th>\n",
       "      <td>0345453743</td>\n",
       "      <td>13908800</td>\n",
       "      <td>eng</td>\n",
       "      <td>5</td>\n",
       "      <td>The Ultimate Hitchhiker's Guide to the Galaxy</td>\n",
       "      <td>2002</td>\n",
       "    </tr>\n",
       "    <tr>\n",
       "      <th>4</th>\n",
       "      <td>1476764832</td>\n",
       "      <td>123734934</td>\n",
       "      <td>eng</td>\n",
       "      <td>5</td>\n",
       "      <td>The Time Traveler's Wife</td>\n",
       "      <td>2014</td>\n",
       "    </tr>\n",
       "  </tbody>\n",
       "</table>\n",
       "</div>"
      ],
      "text/plain": [
       "         ISBN    book_id language  rating  \\\n",
       "0               13585350      eng       3   \n",
       "1  1936594056  124205572      eng       4   \n",
       "2  1439149038  127360065      eng       2   \n",
       "3  0345453743   13908800      eng       5   \n",
       "4  1476764832  123734934      eng       5   \n",
       "\n",
       "                                           title  year  \n",
       "0          The World Treasury of Science Fiction  1989  \n",
       "1                          The War of the Worlds  2013  \n",
       "2                        Under the Dome: A Novel  2013  \n",
       "3  The Ultimate Hitchhiker's Guide to the Galaxy  2002  \n",
       "4                       The Time Traveler's Wife  2014  "
      ]
     },
     "execution_count": 26,
     "metadata": {},
     "output_type": "execute_result"
    }
   ],
   "source": [
    "import pandas as pd\n",
    "link = \"https://www.it.kmitl.ac.th/~teerapong/resources/ds4biz/week4/books.json\" \n",
    "df = pd.read_json( link, orient=\"records\")\n",
    "df.head(5)"
   ]
  },
  {
   "cell_type": "markdown",
   "metadata": {},
   "source": [
    "## Working with XML"
   ]
  },
  {
   "cell_type": "markdown",
   "metadata": {
    "collapsed": true
   },
   "source": [
    "Extensible Markup Language (XML) is a markup language that defines a set of rules for encoding documents in a format which is both human-readable and machine-readable. XML is a widely-adopted format. Python includes several built-in modules for parsing XML data."
   ]
  },
  {
   "cell_type": "markdown",
   "metadata": {},
   "source": [
    "The *xml.etree.ElementTree* module can be used to extract data from a simple XML file based on its tree structure. "
   ]
  },
  {
   "cell_type": "code",
   "execution_count": 27,
   "metadata": {},
   "outputs": [
    {
     "name": "stdout",
     "output_type": "stream",
     "text": [
      "<?xml version=\"1.0\" encoding=\"UTF-8\"?>\n",
      "<booklist>\n",
      "   <book id=\"13585350\">\n",
      "      <title>The World Treasury of Science Fiction</title>\n",
      "      <ISBN />\n",
      "      <year>1989</year>\n",
      "      <rating>3</rating>\n",
      "      <language>eng</language>\n",
      "   </book>\n",
      "   <book id=\"124205572\">\n",
      "      <title>The War of the Worlds</title>\n",
      "      <ISBN>1936594056</ISBN>\n",
      "      <year>2013</year>\n",
      "      <rating>4</rating>\n",
      "      <language>eng</language>\n",
      "   </book>\n",
      "   <book id=\"127360065\">\n",
      "      <title>Under the Dome: A Novel</title>\n",
      "      <ISBN>1439149038</ISBN>\n",
      "      <year>2013</year>\n",
      "      <rating>2</rating>\n",
      "      <language>eng</language>\n",
      "   </book>\n",
      "   <book id=\"13908800\">\n",
      "      <title>The Ultimate Hitchhiker's Guide to the Galaxy</title>\n",
      "      <ISBN>0345453743</ISBN>\n",
      "      <year>2002</year>\n",
      "      <rating>5</rating>\n",
      "      <language>eng</language>\n",
      "   </book>\n",
      "   <book id=\"123734934\">\n",
      "      <title>The Time Traveler's Wife</title>\n",
      "      <ISBN>1476764832</ISBN>\n",
      "      <year>2014</year>\n",
      "      <rating>5</rating>\n",
      "      <language>eng</language>\n",
      "   </book>\n",
      "   <book id=\"13603020\">\n",
      "      <title>Salem's Lot</title>\n",
      "      <ISBN>0451098277</ISBN>\n",
      "      <year>1976</year>\n",
      "      <rating>3</rating>\n",
      "      <language>eng</language>\n",
      "   </book>\n",
      "   <book id=\"124173974\">\n",
      "      <title>Republic</title>\n",
      "      <ISBN>039395501X</ISBN>\n",
      "      <year>1985</year>\n",
      "      <rating>3</rating>\n",
      "      <language>eng</language>\n",
      "   </book>\n",
      "   <book id=\"123102859\">\n",
      "      <title>The Road</title>\n",
      "      <ISBN>0307387895</ISBN>\n",
      "      <year>2006</year>\n",
      "      <rating>5</rating>\n",
      "      <language>eng</language>\n",
      "   </book>\n",
      "</booklist>\n"
     ]
    }
   ],
   "source": [
    "# download the content\n",
    "url = \"https://www.it.kmitl.ac.th/~teerapong/resources/ds4biz/week4/books.xml\"\n",
    "response = urllib.request.urlopen(url)\n",
    "raw_xml = response.read().decode()\n",
    "print(raw_xml)"
   ]
  },
  {
   "cell_type": "markdown",
   "metadata": {},
   "source": [
    "We can use the *xml.etree.ElementTree.fromstring()* function to parse content from a string containing XML data."
   ]
  },
  {
   "cell_type": "code",
   "execution_count": 28,
   "metadata": {},
   "outputs": [],
   "source": [
    "import xml.etree.ElementTree as et\n",
    "xroot = et.fromstring(raw_xml)"
   ]
  },
  {
   "cell_type": "markdown",
   "metadata": {},
   "source": [
    "An XML tree has a root node (i.e. the top level of the document), with child nodes at lower levels. We can iterate over these:"
   ]
  },
  {
   "cell_type": "code",
   "execution_count": 29,
   "metadata": {},
   "outputs": [
    {
     "name": "stdout",
     "output_type": "stream",
     "text": [
      "book {'id': '13585350'}\n",
      "book {'id': '124205572'}\n",
      "book {'id': '127360065'}\n",
      "book {'id': '13908800'}\n",
      "book {'id': '123734934'}\n",
      "book {'id': '13603020'}\n",
      "book {'id': '124173974'}\n",
      "book {'id': '123102859'}\n"
     ]
    }
   ],
   "source": [
    "for child in xroot:\n",
    "    # get the name of the tag, along with any XML attributes which the tag has\n",
    "    print( child.tag, child.attrib )"
   ]
  },
  {
   "cell_type": "markdown",
   "metadata": {},
   "source": [
    "We can also query to find tags with specific names, such as '<book>' and then in turn find child nodes of that tag with a specific name."
   ]
  },
  {
   "cell_type": "code",
   "execution_count": 30,
   "metadata": {},
   "outputs": [
    {
     "name": "stdout",
     "output_type": "stream",
     "text": [
      "The World Treasury of Science Fiction\n",
      "The War of the Worlds\n",
      "Under the Dome: A Novel\n",
      "The Ultimate Hitchhiker's Guide to the Galaxy\n",
      "The Time Traveler's Wife\n",
      "Salem's Lot\n",
      "Republic\n",
      "The Road\n"
     ]
    }
   ],
   "source": [
    "for book in xroot.findall(\"book\"):\n",
    "    # get the text inside a <title> tag, contained within a <book> tag\n",
    "    title = book.find(\"title\").text\n",
    "    print(title)"
   ]
  },
  {
   "cell_type": "markdown",
   "metadata": {},
   "source": [
    "We can parse xml to Pandas dataframes, which is ready to analyse."
   ]
  },
  {
   "cell_type": "code",
   "execution_count": 31,
   "metadata": {},
   "outputs": [
    {
     "data": {
      "text/html": [
       "<div>\n",
       "<style scoped>\n",
       "    .dataframe tbody tr th:only-of-type {\n",
       "        vertical-align: middle;\n",
       "    }\n",
       "\n",
       "    .dataframe tbody tr th {\n",
       "        vertical-align: top;\n",
       "    }\n",
       "\n",
       "    .dataframe thead th {\n",
       "        text-align: right;\n",
       "    }\n",
       "</style>\n",
       "<table border=\"1\" class=\"dataframe\">\n",
       "  <thead>\n",
       "    <tr style=\"text-align: right;\">\n",
       "      <th></th>\n",
       "      <th>id</th>\n",
       "      <th>title</th>\n",
       "      <th>ISBN</th>\n",
       "      <th>year</th>\n",
       "      <th>rating</th>\n",
       "      <th>language</th>\n",
       "    </tr>\n",
       "  </thead>\n",
       "  <tbody>\n",
       "    <tr>\n",
       "      <th>0</th>\n",
       "      <td>13585350</td>\n",
       "      <td>The World Treasury of Science Fiction</td>\n",
       "      <td>None</td>\n",
       "      <td>1989</td>\n",
       "      <td>3</td>\n",
       "      <td>eng</td>\n",
       "    </tr>\n",
       "    <tr>\n",
       "      <th>1</th>\n",
       "      <td>124205572</td>\n",
       "      <td>The War of the Worlds</td>\n",
       "      <td>1936594056</td>\n",
       "      <td>2013</td>\n",
       "      <td>4</td>\n",
       "      <td>eng</td>\n",
       "    </tr>\n",
       "    <tr>\n",
       "      <th>2</th>\n",
       "      <td>127360065</td>\n",
       "      <td>Under the Dome: A Novel</td>\n",
       "      <td>1439149038</td>\n",
       "      <td>2013</td>\n",
       "      <td>2</td>\n",
       "      <td>eng</td>\n",
       "    </tr>\n",
       "    <tr>\n",
       "      <th>3</th>\n",
       "      <td>13908800</td>\n",
       "      <td>The Ultimate Hitchhiker's Guide to the Galaxy</td>\n",
       "      <td>0345453743</td>\n",
       "      <td>2002</td>\n",
       "      <td>5</td>\n",
       "      <td>eng</td>\n",
       "    </tr>\n",
       "    <tr>\n",
       "      <th>4</th>\n",
       "      <td>123734934</td>\n",
       "      <td>The Time Traveler's Wife</td>\n",
       "      <td>1476764832</td>\n",
       "      <td>2014</td>\n",
       "      <td>5</td>\n",
       "      <td>eng</td>\n",
       "    </tr>\n",
       "    <tr>\n",
       "      <th>5</th>\n",
       "      <td>13603020</td>\n",
       "      <td>Salem's Lot</td>\n",
       "      <td>0451098277</td>\n",
       "      <td>1976</td>\n",
       "      <td>3</td>\n",
       "      <td>eng</td>\n",
       "    </tr>\n",
       "    <tr>\n",
       "      <th>6</th>\n",
       "      <td>124173974</td>\n",
       "      <td>Republic</td>\n",
       "      <td>039395501X</td>\n",
       "      <td>1985</td>\n",
       "      <td>3</td>\n",
       "      <td>eng</td>\n",
       "    </tr>\n",
       "    <tr>\n",
       "      <th>7</th>\n",
       "      <td>123102859</td>\n",
       "      <td>The Road</td>\n",
       "      <td>0307387895</td>\n",
       "      <td>2006</td>\n",
       "      <td>5</td>\n",
       "      <td>eng</td>\n",
       "    </tr>\n",
       "  </tbody>\n",
       "</table>\n",
       "</div>"
      ],
      "text/plain": [
       "          id                                          title        ISBN  year  \\\n",
       "0   13585350          The World Treasury of Science Fiction        None  1989   \n",
       "1  124205572                          The War of the Worlds  1936594056  2013   \n",
       "2  127360065                        Under the Dome: A Novel  1439149038  2013   \n",
       "3   13908800  The Ultimate Hitchhiker's Guide to the Galaxy  0345453743  2002   \n",
       "4  123734934                       The Time Traveler's Wife  1476764832  2014   \n",
       "5   13603020                                    Salem's Lot  0451098277  1976   \n",
       "6  124173974                                       Republic  039395501X  1985   \n",
       "7  123102859                                       The Road  0307387895  2006   \n",
       "\n",
       "  rating language  \n",
       "0      3      eng  \n",
       "1      4      eng  \n",
       "2      2      eng  \n",
       "3      5      eng  \n",
       "4      5      eng  \n",
       "5      3      eng  \n",
       "6      3      eng  \n",
       "7      5      eng  "
      ]
     },
     "execution_count": 31,
     "metadata": {},
     "output_type": "execute_result"
    }
   ],
   "source": [
    "df_cols = [\"id\", \"title\", \"ISBN\", \"year\", \"rating\", \"language\"]\n",
    "df = pd.DataFrame(columns = df_cols)\n",
    "\n",
    "for node in xroot: \n",
    "    s_id = node.attrib.get(\"id\")\n",
    "    s_title = node.find(\"title\").text\n",
    "    s_isbn = node.find(\"ISBN\").text\n",
    "    s_year = node.find(\"year\").text\n",
    "    s_rating = node.find(\"rating\").text\n",
    "    s_language = node.find(\"language\").text\n",
    "    \n",
    "    #print(\"%s\\t%s\\t%s\\t%s\\t%s\\t%s \" % (s_id, s_title, s_isbn, s_year, s_rating, s_language))\n",
    "    df = df.append(pd.Series([s_id, s_title, s_isbn, s_year, s_rating, s_language], \n",
    "                                index = df_cols), \n",
    "                                ignore_index=True)\n",
    "    \n",
    "df"
   ]
  },
  {
   "cell_type": "markdown",
   "metadata": {},
   "source": [
    "## Working with HTML"
   ]
  },
  {
   "cell_type": "markdown",
   "metadata": {},
   "source": [
    "[HyperText Markup Language (HTML)](https://en.wikipedia.org/wiki/HTML) is a language that web pages are created in. HTML isn’t a programming language, like Python — instead, it’s a markup language that tells a browser how to layout content. HTML allows you to do similar things to what you do in a word processor like Microsoft Word — make text bold, create paragraphs, and so on. Because HTML isn’t a programming language, it isn’t nearly as complex as Python."
   ]
  },
  {
   "cell_type": "markdown",
   "metadata": {},
   "source": [
    "The built-in Python urllib.request module has functions which help in downloading content from HTTP URLs using minimal code:"
   ]
  },
  {
   "cell_type": "code",
   "execution_count": 32,
   "metadata": {},
   "outputs": [],
   "source": [
    "import urllib.request\n",
    "link = \"https://www.it.kmitl.ac.th/~teerapong/resources/ds4biz/week4/sample_web/sample.html\" \n",
    "response = urllib.request.urlopen(link)\n",
    "html = response.read().decode()"
   ]
  },
  {
   "cell_type": "markdown",
   "metadata": {},
   "source": [
    "We can simple use the for-loop to read the html file line by line to see its structure."
   ]
  },
  {
   "cell_type": "code",
   "execution_count": 33,
   "metadata": {},
   "outputs": [
    {
     "name": "stdout",
     "output_type": "stream",
     "text": [
      "<html>\n",
      "  <head><meta http-equiv=\"Content-Type\" content=\"text/html; charset=UTF-8\">\n",
      "  <title> KMITL Faculty/College</title>\n",
      "  <link href=\"./css/sample.css\" rel=\"stylesheet\" type=\"text/css\">\n",
      "</head>\n",
      "<body>\n",
      "  <div class=\"topbar\">\n",
      "    <div id=\"top-logo2f\">\n",
      "      <img src=\"http://kmitl.ac.th/frontend/images/logo.png\" alt=\"\">\n",
      "    </div>\n",
      "    <div id=\"top-text2f\">\n",
      "      <h1>King Mongkut's Institute of Technology Ladkrabang</h1>\n",
      "    </div>\n",
      "  </div>\n",
      "\n",
      "  <div id=\"main\" style=\"margin: 20px;\">\n",
      "    <h1>Faculty/College in KMITL</h1>\n",
      "    <div id=\"content\">\n",
      "        <h3><a href=\"http://www.ceir.kmitl.ac.th\">College of Educational Innovation Research</a></h3>\n",
      "        <h3><a href=\"http://www.music-engineering.kmitl.ac.th/\">Institute of Music Science and Engineering</a></h3>\n",
      "        <h3><a href=\"http://www.kosen.kmitl.ac.th/\">KOSEN-KMITL</a></h3>\n",
      "        <h3><a href=\"http://www.chumphon.kmitl.ac.th\">KMITL Prince of Chumphon Campus </a></h3>\n",
      "        <h3><a href=\"http://engineer.kmitl.ac.th/\">Faculty of Engineering</a></h3>\n",
      "        <h3><a href=\"http://www.arch.kmitl.ac.th/\">Faculty of Architecture</a></h3>\n",
      "        <h3><a href=\"http://www.science.kmitl.ac.th/main.php\">Faculty of Science</a></h3>\n",
      "        <h3><a href=\"http://www.ietech.kmitl.ac.th\">Faculty of Industrial Education and Technology</a></h3>\n",
      "        <h3><a href=\"http://www.agri.kmitl.ac.th/AgriTH/\">Faculty of Agricultural Technology</a></h3>\n",
      "        <h3><a href=\"http://www.it.kmitl.ac.th/\">Faculty of Information Technology</a></h3>\n",
      "        <h3><a href=\"http://www.agroind.kmitl.ac.th/th/home-agro\">Faculty of Agro-Industry</a></h3>\n",
      "        <h3><a href=\"http://www.fam.kmitl.ac.th/\">Faculty of Administration and Management</a></h3>\n",
      "        <h3><a href=\"http://fla.kmitl.ac.th/th/\">Faculty of Liberal Arts</a></h3>\n",
      "        <h3><a href=\"http://www.ic.kmitl.ac.th/index.php\">International College</a></h3>\n",
      "        <h3><a href=\"http://www.nano.kmitl.ac.th/index.php\">College of Nanotechnology</a></h3>\n",
      "        <h3><a href=\"http://www.ami.kmitl.ac.th/\">College of Advanced Manufacturing Innovation</a></h3>\n",
      "        <h3><a href=\"http://md.kmitl.ac.th/\">Faculty of Medicine</a></h3>\n",
      "        <h3><a href=\"http://aviation.kmitl.ac.th\">International Academy of Aviation Industry</a></h3>\n",
      "        <h3><a href=\"http://www.kmids.ac.th/en/\">King Mongkut's International Demonstration School</a></h3>\n",
      "    </div>\n",
      "  </div>\n",
      "</body>\n",
      "</html>\n"
     ]
    }
   ],
   "source": [
    "lines = html.strip().split(\"\\n\")\n",
    "for l in lines:\n",
    "    print(l)"
   ]
  },
  {
   "cell_type": "markdown",
   "metadata": {},
   "source": [
    "### The requests library\n",
    "\n",
    "The first thing we’ll need to do to scrape a web page is to download the page. We can download pages using the Python [requests](https://2.python-requests.org//en/master/) library. The requests library will make a `GET` request to a web server, which will download the HTML contents of a given web page for us. There are several different types of `requests` we can make using requests, of which `GET` is just one. If you want to learn more, check out this tutorial for using [API](https://www.dataquest.io/blog/python-api-tutorial/) requests in Python."
   ]
  },
  {
   "cell_type": "markdown",
   "metadata": {},
   "source": [
    "Let’s try downloading a simple sample website, [https://www.it.kmitl.ac.th/~teerapong/resources/ds4biz/week4/sample_web/sample.html](https://www.it.kmitl.ac.th/~teerapong/resources/ds4biz/week4/sample_web/sample.html). We’ll need to first download it using the requests.get method."
   ]
  },
  {
   "cell_type": "code",
   "execution_count": 34,
   "metadata": {},
   "outputs": [
    {
     "data": {
      "text/plain": [
       "<Response [200]>"
      ]
     },
     "execution_count": 34,
     "metadata": {},
     "output_type": "execute_result"
    }
   ],
   "source": [
    "import requests\n",
    "page = requests.get(\"https://www.it.kmitl.ac.th/~teerapong/resources/ds4biz/week4/sample_web/sample.html\")\n",
    "page"
   ]
  },
  {
   "cell_type": "markdown",
   "metadata": {},
   "source": [
    "After running our request, we get a [Response](https://2.python-requests.org//en/master/user/quickstart/#response-content) object. This object has a `status_code` property, which indicates if the page was downloaded successfully:"
   ]
  },
  {
   "cell_type": "code",
   "execution_count": 35,
   "metadata": {},
   "outputs": [
    {
     "data": {
      "text/plain": [
       "200"
      ]
     },
     "execution_count": 35,
     "metadata": {},
     "output_type": "execute_result"
    }
   ],
   "source": [
    "page.status_code"
   ]
  },
  {
   "cell_type": "markdown",
   "metadata": {},
   "source": [
    "A `status_code` of `200` means that the page downloaded successfully. We won’t fully dive into status codes here, but a status code starting with a `2` generally indicates success, and a code starting with a `4` or a `5` indicates an error.\n",
    "\n",
    "We can print out the HTML content of the page using the content property:"
   ]
  },
  {
   "cell_type": "code",
   "execution_count": 36,
   "metadata": {},
   "outputs": [
    {
     "data": {
      "text/plain": [
       "b'<html>\\n  <head><meta http-equiv=\"Content-Type\" content=\"text/html; charset=UTF-8\">\\n  <title> KMITL Faculty/College</title>\\n  <link href=\"./css/sample.css\" rel=\"stylesheet\" type=\"text/css\">\\n</head>\\n<body>\\n  <div class=\"topbar\">\\n    <div id=\"top-logo2f\">\\n      <img src=\"http://kmitl.ac.th/frontend/images/logo.png\" alt=\"\">\\n    </div>\\n    <div id=\"top-text2f\">\\n      <h1>King Mongkut\\'s Institute of Technology Ladkrabang</h1>\\n    </div>\\n  </div>\\n\\n  <div id=\"main\" style=\"margin: 20px;\">\\n    <h1>Faculty/College in KMITL</h1>\\n    <div id=\"content\">\\n        <h3><a href=\"http://www.ceir.kmitl.ac.th\">College of Educational Innovation Research</a></h3>\\n        <h3><a href=\"http://www.music-engineering.kmitl.ac.th/\">Institute of Music Science and Engineering</a></h3>\\n        <h3><a href=\"http://www.kosen.kmitl.ac.th/\">KOSEN-KMITL</a></h3>\\n        <h3><a href=\"http://www.chumphon.kmitl.ac.th\">KMITL Prince of Chumphon Campus </a></h3>\\n        <h3><a href=\"http://engineer.kmitl.ac.th/\">Faculty of Engineering</a></h3>\\n        <h3><a href=\"http://www.arch.kmitl.ac.th/\">Faculty of Architecture</a></h3>\\n        <h3><a href=\"http://www.science.kmitl.ac.th/main.php\">Faculty of Science</a></h3>\\n        <h3><a href=\"http://www.ietech.kmitl.ac.th\">Faculty of Industrial Education and Technology</a></h3>\\n        <h3><a href=\"http://www.agri.kmitl.ac.th/AgriTH/\">Faculty of Agricultural Technology</a></h3>\\n        <h3><a href=\"http://www.it.kmitl.ac.th/\">Faculty of Information Technology</a></h3>\\n        <h3><a href=\"http://www.agroind.kmitl.ac.th/th/home-agro\">Faculty of Agro-Industry</a></h3>\\n        <h3><a href=\"http://www.fam.kmitl.ac.th/\">Faculty of Administration and Management</a></h3>\\n        <h3><a href=\"http://fla.kmitl.ac.th/th/\">Faculty of Liberal Arts</a></h3>\\n        <h3><a href=\"http://www.ic.kmitl.ac.th/index.php\">International College</a></h3>\\n        <h3><a href=\"http://www.nano.kmitl.ac.th/index.php\">College of Nanotechnology</a></h3>\\n        <h3><a href=\"http://www.ami.kmitl.ac.th/\">College of Advanced Manufacturing Innovation</a></h3>\\n        <h3><a href=\"http://md.kmitl.ac.th/\">Faculty of Medicine</a></h3>\\n        <h3><a href=\"http://aviation.kmitl.ac.th\">International Academy of Aviation Industry</a></h3>\\n        <h3><a href=\"http://www.kmids.ac.th/en/\">King Mongkut\\'s International Demonstration School</a></h3>\\n    </div>\\n  </div>\\n</body>\\n</html>'"
      ]
     },
     "execution_count": 36,
     "metadata": {},
     "output_type": "execute_result"
    }
   ],
   "source": [
    "page.content"
   ]
  },
  {
   "cell_type": "markdown",
   "metadata": {},
   "source": [
    "### Parsing a page with BeautifulSoup\n",
    "\n",
    "As you can see above, we now have downloaded an HTML document.\n",
    "\n",
    "We can use the [BeautifulSoup](https://www.crummy.com/software/BeautifulSoup/) library to parse this document, and extract the text from the `h3` tag. We first have to import the library, and create an instance of the `BeautifulSoup` class to parse our document:"
   ]
  },
  {
   "cell_type": "code",
   "execution_count": 37,
   "metadata": {},
   "outputs": [
    {
     "name": "stdout",
     "output_type": "stream",
     "text": [
      "<h3><a href=\"http://www.ceir.kmitl.ac.th\">College of Educational Innovation Research</a></h3>\n",
      "<h3><a href=\"http://www.music-engineering.kmitl.ac.th/\">Institute of Music Science and Engineering</a></h3>\n",
      "<h3><a href=\"http://www.kosen.kmitl.ac.th/\">KOSEN-KMITL</a></h3>\n",
      "<h3><a href=\"http://www.chumphon.kmitl.ac.th\">KMITL Prince of Chumphon Campus </a></h3>\n",
      "<h3><a href=\"http://engineer.kmitl.ac.th/\">Faculty of Engineering</a></h3>\n",
      "<h3><a href=\"http://www.arch.kmitl.ac.th/\">Faculty of Architecture</a></h3>\n",
      "<h3><a href=\"http://www.science.kmitl.ac.th/main.php\">Faculty of Science</a></h3>\n",
      "<h3><a href=\"http://www.ietech.kmitl.ac.th\">Faculty of Industrial Education and Technology</a></h3>\n",
      "<h3><a href=\"http://www.agri.kmitl.ac.th/AgriTH/\">Faculty of Agricultural Technology</a></h3>\n",
      "<h3><a href=\"http://www.it.kmitl.ac.th/\">Faculty of Information Technology</a></h3>\n",
      "<h3><a href=\"http://www.agroind.kmitl.ac.th/th/home-agro\">Faculty of Agro-Industry</a></h3>\n",
      "<h3><a href=\"http://www.fam.kmitl.ac.th/\">Faculty of Administration and Management</a></h3>\n",
      "<h3><a href=\"http://fla.kmitl.ac.th/th/\">Faculty of Liberal Arts</a></h3>\n",
      "<h3><a href=\"http://www.ic.kmitl.ac.th/index.php\">International College</a></h3>\n",
      "<h3><a href=\"http://www.nano.kmitl.ac.th/index.php\">College of Nanotechnology</a></h3>\n",
      "<h3><a href=\"http://www.ami.kmitl.ac.th/\">College of Advanced Manufacturing Innovation</a></h3>\n",
      "<h3><a href=\"http://md.kmitl.ac.th/\">Faculty of Medicine</a></h3>\n",
      "<h3><a href=\"http://aviation.kmitl.ac.th\">International Academy of Aviation Industry</a></h3>\n",
      "<h3><a href=\"http://www.kmids.ac.th/en/\">King Mongkut's International Demonstration School</a></h3>\n"
     ]
    }
   ],
   "source": [
    "import bs4 \n",
    "soup = bs4.BeautifulSoup(page.content, 'html.parser')\n",
    "\n",
    "for match in soup.find_all(\"h3\"):\n",
    "    text = match\n",
    "    print(text)"
   ]
  },
  {
   "cell_type": "markdown",
   "metadata": {},
   "source": [
    "## Working with APIs"
   ]
  },
  {
   "cell_type": "markdown",
   "metadata": {},
   "source": [
    "### Example - Wikipedia"
   ]
  },
  {
   "cell_type": "markdown",
   "metadata": {},
   "source": [
    "As a simple example of using an Online API, we will retrieve JSON data from the Wikipedia web API. The Wikipedia page for 'KMITL' is [here](https://en.wikipedia.org/wiki/King_Mongkut%27s_Institute_of_Technology_Ladkrabang). We can retrieve this data in a cleaner JSON format from the Wikipedia API endpoint (https://en.wikipedia.org/w/api.php)."
   ]
  },
  {
   "cell_type": "code",
   "execution_count": 38,
   "metadata": {},
   "outputs": [
    {
     "name": "stdout",
     "output_type": "stream",
     "text": [
      "https://en.wikipedia.org/w/api.php?format=json&action=query&prop=extracts&exintro=true&titles=King_Mongkut%27s_Institute_of_Technology_Ladkrabang\n"
     ]
    }
   ],
   "source": [
    "title = \"King_Mongkut%27s_Institute_of_Technology_Ladkrabang\"\n",
    "url = \"https://en.wikipedia.org/w/api.php?format=json&action=query&prop=extracts&exintro=true&titles=\" + title\n",
    "print(url)"
   ]
  },
  {
   "cell_type": "code",
   "execution_count": 39,
   "metadata": {},
   "outputs": [],
   "source": [
    "response = urllib.request.urlopen(url)\n",
    "raw_json = response.read().decode(\"utf-8\")"
   ]
  },
  {
   "cell_type": "markdown",
   "metadata": {},
   "source": [
    "Once we have downloaded the JSON data into a string, we parse it using the *loads()* function, which will convert it into an actual Python dictionary."
   ]
  },
  {
   "cell_type": "code",
   "execution_count": 40,
   "metadata": {},
   "outputs": [],
   "source": [
    "import json"
   ]
  },
  {
   "cell_type": "code",
   "execution_count": 41,
   "metadata": {},
   "outputs": [
    {
     "data": {
      "text/plain": [
       "{'batchcomplete': '',\n",
       " 'warnings': {'extracts': {'*': 'HTML may be malformed and/or unbalanced and may omit inline images. Use at your own risk. Known problems are listed at https://www.mediawiki.org/wiki/Extension:TextExtracts#Caveats.'}},\n",
       " 'query': {'normalized': [{'from': \"King_Mongkut's_Institute_of_Technology_Ladkrabang\",\n",
       "    'to': \"King Mongkut's Institute of Technology Ladkrabang\"}],\n",
       "  'pages': {'1232312': {'pageid': 1232312,\n",
       "    'ns': 0,\n",
       "    'title': \"King Mongkut's Institute of Technology Ladkrabang\",\n",
       "    'extract': \"<p><b>King Mongkut's Institute of Technology Ladkrabang</b> (<b>KMITL</b> or <b>KMIT Ladkrabang</b> for short) is a research and educational institution in Thailand. It is in the city of It is approximately 30 km east of the center of Bangkok in Lat Krabang District, Bangkok, Thailand, and has seven faculties: engineering, architecture, agricultural technology, science, industrial education, agricultural industry, information technology, and liberal arts.\\n</p>\\n\\n\\n\"}}}}"
      ]
     },
     "execution_count": 41,
     "metadata": {},
     "output_type": "execute_result"
    }
   ],
   "source": [
    "data = json.loads(raw_json)\n",
    "data"
   ]
  },
  {
   "cell_type": "markdown",
   "metadata": {},
   "source": [
    "The response still needs to be inspected. Note that the results we want are are in *data[\"query\"][\"pages\"]*:"
   ]
  },
  {
   "cell_type": "code",
   "execution_count": 42,
   "metadata": {},
   "outputs": [
    {
     "name": "stdout",
     "output_type": "stream",
     "text": [
      "{'1232312': {'pageid': 1232312, 'ns': 0, 'title': \"King Mongkut's Institute of Technology Ladkrabang\", 'extract': \"<p><b>King Mongkut's Institute of Technology Ladkrabang</b> (<b>KMITL</b> or <b>KMIT Ladkrabang</b> for short) is a research and educational institution in Thailand. It is in the city of It is approximately 30 km east of the center of Bangkok in Lat Krabang District, Bangkok, Thailand, and has seven faculties: engineering, architecture, agricultural technology, science, industrial education, agricultural industry, information technology, and liberal arts.\\n</p>\\n\\n\\n\"}}\n"
     ]
    }
   ],
   "source": [
    "print(data[\"query\"][\"pages\"])"
   ]
  },
  {
   "cell_type": "code",
   "execution_count": 43,
   "metadata": {},
   "outputs": [
    {
     "name": "stdout",
     "output_type": "stream",
     "text": [
      "King Mongkut's Institute of Technology Ladkrabang\n",
      "<p><b>King Mongkut's Institute of Technology Ladkrabang</b> (<b>KMITL</b> or <b>KMIT Ladkrabang</b> for short) is a research and educational institution in Thailand. It is in the city of It is approximately 30 km east of the center of Bangkok in Lat Krabang District, Bangkok, Thailand, and has seven faculties: engineering, architecture, agricultural technology, science, industrial education, agricultural industry, information technology, and liberal arts.\n",
      "</p>\n",
      "\n",
      "\n",
      "\n"
     ]
    }
   ],
   "source": [
    "result = data[\"query\"][\"pages\"][\"1232312\"]\n",
    "print(result[\"title\"])\n",
    "print(result[\"extract\"])"
   ]
  },
  {
   "cell_type": "markdown",
   "metadata": {},
   "source": [
    "### Example - Currency Exchange Rates"
   ]
  },
  {
   "cell_type": "markdown",
   "metadata": {},
   "source": [
    "In the next example, we will use the *Fixer.io* API to get currency exchange rate information: http://fixer.io\n",
    "\n",
    "For API documentation: https://fixer.io/documentation"
   ]
  },
  {
   "cell_type": "markdown",
   "metadata": {},
   "source": [
    "To retrieve all rates in EUROs, we retrieve the following:"
   ]
  },
  {
   "cell_type": "code",
   "execution_count": 44,
   "metadata": {},
   "outputs": [],
   "source": [
    "ACCESS_KEY = \"0c9904dea3d2c46b78686bc16bbba722\""
   ]
  },
  {
   "cell_type": "code",
   "execution_count": 45,
   "metadata": {},
   "outputs": [
    {
     "name": "stdout",
     "output_type": "stream",
     "text": [
      "{\"success\":true,\"timestamp\":1573386246,\"base\":\"EUR\",\"date\":\"2019-11-10\",\"rates\":{\"AED\":4.047045,\"AFN\":86.223727,\"ALL\":123.086065,\"AMD\":525.791674,\"ANG\":1.911029,\"AOA\":508.048637,\"ARS\":65.568799,\"AUD\":1.606612,\"AWG\":1.983411,\"AZN\":1.877596,\"BAM\":1.953322,\"BBD\":2.223994,\"BDT\":93.344588,\"BGN\":1.955838,\"BHD\":0.415387,\"BIF\":2061.645515,\"BMD\":1.101895,\"BND\":1.497187,\"BOB\":7.61675,\"BRL\":4.587744,\"BSD\":1.101461,\"BTC\":0.000124,\"BTN\":78.554208,\"BWP\":12.011802,\"BYN\":2.249481,\"BYR\":21597.141684,\"BZD\":2.220199,\"CAD\":1.457532,\"CDF\":1834.655547,\"CHF\":1.098445,\"CLF\":0.02991,\"CLP\":825.319741,\"CNY\":7.708902,\"COP\":3679.227351,\"CRC\":644.667506,\"CUC\":1.101895,\"CUP\":29.200217,\"CVE\":110.524361,\"CZK\":25.484522,\"DJF\":195.82921,\"DKK\":7.472556,\"DOP\":58.422905,\"DZD\":132.372794,\"EGP\":17.796,\"ERN\":16.528819,\"ETB\":32.950931,\"EUR\":1,\"FJD\":2.406583,\"FKP\":0.895709,\"GBP\":0.86254,\"GEL\":3.26204,\"GGP\":0.8625,\"GHS\":6.088014,\"GIP\":0.895709,\"GMD\":56.439491,\"GNF\":10181.510043,\"GTQ\":8.481216,\"GYD\":230.441976,\"HKD\":8.625087,\"HNL\":27.228253,\"HRK\":7.431515,\"HTG\":107.402641,\"HUF\":333.522001,\"IDR\":15446.999678,\"ILS\":3.850176,\"IMP\":0.8625,\"INR\":78.650002,\"IQD\":1311.255031,\"IRR\":46395.288685,\"ISK\":137.693223,\"JEP\":0.8625,\"JMD\":154.966588,\"JOD\":0.781287,\"JPY\":120.385376,\"KES\":112.886409,\"KGS\":76.935634,\"KHR\":4480.305391,\"KMF\":492.492386,\"KPW\":991.406771,\"KRW\":1276.832254,\"KWD\":0.33476,\"KYD\":0.917913,\"KZT\":428.200116,\"LAK\":9762.789942,\"LBP\":1667.45515,\"LKR\":198.898976,\"LRD\":232.913095,\"LSL\":16.330504,\"LTL\":3.25361,\"LVL\":0.666526,\"LYD\":1.546802,\"MAD\":10.660877,\"MDL\":19.193091,\"MGA\":4073.706138,\"MKD\":61.568901,\"MMK\":1671.292169,\"MNT\":2983.380669,\"MOP\":8.880867,\"MRO\":393.37689,\"MUR\":40.080724,\"MVR\":17.024694,\"MWK\":807.142195,\"MXN\":21.05209,\"MYR\":4.554175,\"MZN\":69.502069,\"NAD\":16.330499,\"NGN\":398.886363,\"NIO\":37.277522,\"NOK\":10.061297,\"NPR\":125.671652,\"NZD\":1.736677,\"OMR\":0.424237,\"PAB\":1.101461,\"PEN\":3.702781,\"PGK\":3.724818,\"PHP\":55.712223,\"PKR\":171.895994,\"PLN\":4.265109,\"PYG\":7101.116499,\"QAR\":4.012042,\"RON\":4.763166,\"RSD\":117.473436,\"RUB\":70.277875,\"RWF\":1026.415178,\"SAR\":4.132369,\"SBD\":9.110459,\"SCR\":15.09652,\"SDG\":49.683347,\"SEK\":10.688878,\"SGD\":1.497861,\"SHP\":1.455497,\"SLL\":10649.815393,\"SOS\":640.201359,\"SRD\":8.217975,\"STD\":23757.72635,\"SVC\":9.637405,\"SYP\":567.476289,\"SZL\":16.330491,\"THB\":33.445129,\"TJS\":10.678886,\"TMT\":3.856632,\"TND\":3.145363,\"TOP\":2.551934,\"TRY\":6.354412,\"TTD\":7.463445,\"TWD\":33.493242,\"TZS\":2538.880238,\"UAH\":26.995733,\"UGX\":4072.078371,\"USD\":1.101895,\"UYU\":41.277617,\"UZS\":10430.538286,\"VEF\":11.00518,\"VND\":25573.329734,\"VUV\":126.717923,\"WST\":2.991002,\"XAF\":655.032607,\"XAG\":0.065579,\"XAU\":0.000756,\"XCD\":2.977927,\"XDR\":0.802265,\"XOF\":654.525987,\"XPF\":119.693384,\"YER\":275.85981,\"ZAR\":16.37741,\"ZMK\":9918.381088,\"ZMW\":15.018374,\"ZWL\":354.810186}}\n"
     ]
    }
   ],
   "source": [
    "url = \"http://data.fixer.io/api/latest?access_key=\" + ACCESS_KEY\n",
    "response = urllib.request.urlopen(url)\n",
    "raw_json = response.read().decode(\"utf-8\")\n",
    "print(raw_json)"
   ]
  },
  {
   "cell_type": "markdown",
   "metadata": {},
   "source": [
    "Parse the JSON data"
   ]
  },
  {
   "cell_type": "code",
   "execution_count": 46,
   "metadata": {},
   "outputs": [
    {
     "data": {
      "text/plain": [
       "{'success': True,\n",
       " 'timestamp': 1573386246,\n",
       " 'base': 'EUR',\n",
       " 'date': '2019-11-10',\n",
       " 'rates': {'AED': 4.047045,\n",
       "  'AFN': 86.223727,\n",
       "  'ALL': 123.086065,\n",
       "  'AMD': 525.791674,\n",
       "  'ANG': 1.911029,\n",
       "  'AOA': 508.048637,\n",
       "  'ARS': 65.568799,\n",
       "  'AUD': 1.606612,\n",
       "  'AWG': 1.983411,\n",
       "  'AZN': 1.877596,\n",
       "  'BAM': 1.953322,\n",
       "  'BBD': 2.223994,\n",
       "  'BDT': 93.344588,\n",
       "  'BGN': 1.955838,\n",
       "  'BHD': 0.415387,\n",
       "  'BIF': 2061.645515,\n",
       "  'BMD': 1.101895,\n",
       "  'BND': 1.497187,\n",
       "  'BOB': 7.61675,\n",
       "  'BRL': 4.587744,\n",
       "  'BSD': 1.101461,\n",
       "  'BTC': 0.000124,\n",
       "  'BTN': 78.554208,\n",
       "  'BWP': 12.011802,\n",
       "  'BYN': 2.249481,\n",
       "  'BYR': 21597.141684,\n",
       "  'BZD': 2.220199,\n",
       "  'CAD': 1.457532,\n",
       "  'CDF': 1834.655547,\n",
       "  'CHF': 1.098445,\n",
       "  'CLF': 0.02991,\n",
       "  'CLP': 825.319741,\n",
       "  'CNY': 7.708902,\n",
       "  'COP': 3679.227351,\n",
       "  'CRC': 644.667506,\n",
       "  'CUC': 1.101895,\n",
       "  'CUP': 29.200217,\n",
       "  'CVE': 110.524361,\n",
       "  'CZK': 25.484522,\n",
       "  'DJF': 195.82921,\n",
       "  'DKK': 7.472556,\n",
       "  'DOP': 58.422905,\n",
       "  'DZD': 132.372794,\n",
       "  'EGP': 17.796,\n",
       "  'ERN': 16.528819,\n",
       "  'ETB': 32.950931,\n",
       "  'EUR': 1,\n",
       "  'FJD': 2.406583,\n",
       "  'FKP': 0.895709,\n",
       "  'GBP': 0.86254,\n",
       "  'GEL': 3.26204,\n",
       "  'GGP': 0.8625,\n",
       "  'GHS': 6.088014,\n",
       "  'GIP': 0.895709,\n",
       "  'GMD': 56.439491,\n",
       "  'GNF': 10181.510043,\n",
       "  'GTQ': 8.481216,\n",
       "  'GYD': 230.441976,\n",
       "  'HKD': 8.625087,\n",
       "  'HNL': 27.228253,\n",
       "  'HRK': 7.431515,\n",
       "  'HTG': 107.402641,\n",
       "  'HUF': 333.522001,\n",
       "  'IDR': 15446.999678,\n",
       "  'ILS': 3.850176,\n",
       "  'IMP': 0.8625,\n",
       "  'INR': 78.650002,\n",
       "  'IQD': 1311.255031,\n",
       "  'IRR': 46395.288685,\n",
       "  'ISK': 137.693223,\n",
       "  'JEP': 0.8625,\n",
       "  'JMD': 154.966588,\n",
       "  'JOD': 0.781287,\n",
       "  'JPY': 120.385376,\n",
       "  'KES': 112.886409,\n",
       "  'KGS': 76.935634,\n",
       "  'KHR': 4480.305391,\n",
       "  'KMF': 492.492386,\n",
       "  'KPW': 991.406771,\n",
       "  'KRW': 1276.832254,\n",
       "  'KWD': 0.33476,\n",
       "  'KYD': 0.917913,\n",
       "  'KZT': 428.200116,\n",
       "  'LAK': 9762.789942,\n",
       "  'LBP': 1667.45515,\n",
       "  'LKR': 198.898976,\n",
       "  'LRD': 232.913095,\n",
       "  'LSL': 16.330504,\n",
       "  'LTL': 3.25361,\n",
       "  'LVL': 0.666526,\n",
       "  'LYD': 1.546802,\n",
       "  'MAD': 10.660877,\n",
       "  'MDL': 19.193091,\n",
       "  'MGA': 4073.706138,\n",
       "  'MKD': 61.568901,\n",
       "  'MMK': 1671.292169,\n",
       "  'MNT': 2983.380669,\n",
       "  'MOP': 8.880867,\n",
       "  'MRO': 393.37689,\n",
       "  'MUR': 40.080724,\n",
       "  'MVR': 17.024694,\n",
       "  'MWK': 807.142195,\n",
       "  'MXN': 21.05209,\n",
       "  'MYR': 4.554175,\n",
       "  'MZN': 69.502069,\n",
       "  'NAD': 16.330499,\n",
       "  'NGN': 398.886363,\n",
       "  'NIO': 37.277522,\n",
       "  'NOK': 10.061297,\n",
       "  'NPR': 125.671652,\n",
       "  'NZD': 1.736677,\n",
       "  'OMR': 0.424237,\n",
       "  'PAB': 1.101461,\n",
       "  'PEN': 3.702781,\n",
       "  'PGK': 3.724818,\n",
       "  'PHP': 55.712223,\n",
       "  'PKR': 171.895994,\n",
       "  'PLN': 4.265109,\n",
       "  'PYG': 7101.116499,\n",
       "  'QAR': 4.012042,\n",
       "  'RON': 4.763166,\n",
       "  'RSD': 117.473436,\n",
       "  'RUB': 70.277875,\n",
       "  'RWF': 1026.415178,\n",
       "  'SAR': 4.132369,\n",
       "  'SBD': 9.110459,\n",
       "  'SCR': 15.09652,\n",
       "  'SDG': 49.683347,\n",
       "  'SEK': 10.688878,\n",
       "  'SGD': 1.497861,\n",
       "  'SHP': 1.455497,\n",
       "  'SLL': 10649.815393,\n",
       "  'SOS': 640.201359,\n",
       "  'SRD': 8.217975,\n",
       "  'STD': 23757.72635,\n",
       "  'SVC': 9.637405,\n",
       "  'SYP': 567.476289,\n",
       "  'SZL': 16.330491,\n",
       "  'THB': 33.445129,\n",
       "  'TJS': 10.678886,\n",
       "  'TMT': 3.856632,\n",
       "  'TND': 3.145363,\n",
       "  'TOP': 2.551934,\n",
       "  'TRY': 6.354412,\n",
       "  'TTD': 7.463445,\n",
       "  'TWD': 33.493242,\n",
       "  'TZS': 2538.880238,\n",
       "  'UAH': 26.995733,\n",
       "  'UGX': 4072.078371,\n",
       "  'USD': 1.101895,\n",
       "  'UYU': 41.277617,\n",
       "  'UZS': 10430.538286,\n",
       "  'VEF': 11.00518,\n",
       "  'VND': 25573.329734,\n",
       "  'VUV': 126.717923,\n",
       "  'WST': 2.991002,\n",
       "  'XAF': 655.032607,\n",
       "  'XAG': 0.065579,\n",
       "  'XAU': 0.000756,\n",
       "  'XCD': 2.977927,\n",
       "  'XDR': 0.802265,\n",
       "  'XOF': 654.525987,\n",
       "  'XPF': 119.693384,\n",
       "  'YER': 275.85981,\n",
       "  'ZAR': 16.37741,\n",
       "  'ZMK': 9918.381088,\n",
       "  'ZMW': 15.018374,\n",
       "  'ZWL': 354.810186}}"
      ]
     },
     "execution_count": 46,
     "metadata": {},
     "output_type": "execute_result"
    }
   ],
   "source": [
    "data = json.loads(raw_json)\n",
    "# List all the rates\n",
    "data"
   ]
  },
  {
   "cell_type": "code",
   "execution_count": 47,
   "metadata": {},
   "outputs": [
    {
     "data": {
      "text/plain": [
       "1.098445"
      ]
     },
     "execution_count": 47,
     "metadata": {},
     "output_type": "execute_result"
    }
   ],
   "source": [
    "# Get a specific rate\n",
    "data[\"rates\"][\"CHF\"]"
   ]
  },
  {
   "cell_type": "markdown",
   "metadata": {},
   "source": [
    "We can change the URL to get rates for a different currency, such as US Dollars (USD):"
   ]
  },
  {
   "cell_type": "code",
   "execution_count": 48,
   "metadata": {},
   "outputs": [
    {
     "name": "stdout",
     "output_type": "stream",
     "text": [
      "http://data.fixer.io/api/latest?access_key=0c9904dea3d2c46b78686bc16bbba722&symbols=USD\n"
     ]
    },
    {
     "data": {
      "text/plain": [
       "{'USD': 1.101895}"
      ]
     },
     "execution_count": 48,
     "metadata": {},
     "output_type": "execute_result"
    }
   ],
   "source": [
    "url = \"http://data.fixer.io/api/latest?access_key=\" + ACCESS_KEY + \"&symbols=USD\"\n",
    "print(url)\n",
    "# Retrieve the JSON\n",
    "response = urllib.request.urlopen(url)\n",
    "raw_json = response.read().decode(\"utf-8\")\n",
    "# Parse the JSON\n",
    "data = json.loads(raw_json)\n",
    "# Display the rates data for US dollars\n",
    "data[\"rates\"]"
   ]
  },
  {
   "cell_type": "code",
   "execution_count": 49,
   "metadata": {},
   "outputs": [
    {
     "data": {
      "text/plain": [
       "{'success': True,\n",
       " 'timestamp': 1573386246,\n",
       " 'base': 'EUR',\n",
       " 'date': '2019-11-10',\n",
       " 'rates': {'USD': 1.101895}}"
      ]
     },
     "execution_count": 49,
     "metadata": {},
     "output_type": "execute_result"
    }
   ],
   "source": [
    "data"
   ]
  },
  {
   "cell_type": "code",
   "execution_count": 50,
   "metadata": {},
   "outputs": [
    {
     "data": {
      "text/html": [
       "<div>\n",
       "<style scoped>\n",
       "    .dataframe tbody tr th:only-of-type {\n",
       "        vertical-align: middle;\n",
       "    }\n",
       "\n",
       "    .dataframe tbody tr th {\n",
       "        vertical-align: top;\n",
       "    }\n",
       "\n",
       "    .dataframe thead th {\n",
       "        text-align: right;\n",
       "    }\n",
       "</style>\n",
       "<table border=\"1\" class=\"dataframe\">\n",
       "  <thead>\n",
       "    <tr style=\"text-align: right;\">\n",
       "      <th></th>\n",
       "      <th>base</th>\n",
       "      <th>date</th>\n",
       "      <th>rates.USD</th>\n",
       "      <th>success</th>\n",
       "      <th>timestamp</th>\n",
       "    </tr>\n",
       "  </thead>\n",
       "  <tbody>\n",
       "    <tr>\n",
       "      <th>0</th>\n",
       "      <td>EUR</td>\n",
       "      <td>2019-11-10</td>\n",
       "      <td>1.101895</td>\n",
       "      <td>True</td>\n",
       "      <td>1573386246</td>\n",
       "    </tr>\n",
       "  </tbody>\n",
       "</table>\n",
       "</div>"
      ],
      "text/plain": [
       "  base        date  rates.USD  success   timestamp\n",
       "0  EUR  2019-11-10   1.101895     True  1573386246"
      ]
     },
     "execution_count": 50,
     "metadata": {},
     "output_type": "execute_result"
    }
   ],
   "source": [
    "df = json_normalize(data)\n",
    "df"
   ]
  }
 ],
 "metadata": {
  "anaconda-cloud": {},
  "kernelspec": {
   "display_name": "Python 3",
   "language": "python",
   "name": "python3"
  },
  "language_info": {
   "codemirror_mode": {
    "name": "ipython",
    "version": 3
   },
   "file_extension": ".py",
   "mimetype": "text/x-python",
   "name": "python",
   "nbconvert_exporter": "python",
   "pygments_lexer": "ipython3",
   "version": "3.7.3"
  }
 },
 "nbformat": 4,
 "nbformat_minor": 1
}
