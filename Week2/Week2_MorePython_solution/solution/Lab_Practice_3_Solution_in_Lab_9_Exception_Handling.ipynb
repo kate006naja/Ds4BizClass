{
 "cells": [
  {
   "cell_type": "markdown",
   "metadata": {},
   "source": [
    "# Lab Practice 3 - Solutions in Lab 9 Exception Handling \n",
    "\n",
    "### 1. Solution 1, using *print* function without newline"
   ]
  },
  {
   "cell_type": "code",
   "execution_count": 9,
   "metadata": {},
   "outputs": [
    {
     "name": "stdout",
     "output_type": "stream",
     "text": [
      "2.84 3.57 1.57 2.41 2.47 3.02 \n"
     ]
    }
   ],
   "source": [
    "try:\n",
    "    fin = open(\"data/scores.csv\",\"r\")\n",
    "    for line in fin.readlines():\n",
    "        # remove the newline character from the end\n",
    "        line = line.strip()\n",
    "        \n",
    "        # split the line based on the comma separator\n",
    "        parts = line.split(\",\")\n",
    "        \n",
    "        # convert the rest to integers from strings\n",
    "        values = []\n",
    "        for str_value in parts:\n",
    "            values.append( float(str_value) )\n",
    "            \n",
    "        # display the total for the value on each line without newline\n",
    "        print( \"%.2f \" % (sum(values)), end = '' )\n",
    "        \n",
    "    # finished, so close the file\n",
    "    fin.close()\n",
    "    \n",
    "    print(\"\")\n",
    "except FileNotFoundError:\n",
    "    print(\"Warning: File not found\")  "
   ]
  },
  {
   "cell_type": "markdown",
   "metadata": {
    "collapsed": true
   },
   "source": [
    "### 2. Solution 2, using string concatenation"
   ]
  },
  {
   "cell_type": "code",
   "execution_count": 9,
   "metadata": {},
   "outputs": [
    {
     "name": "stdout",
     "output_type": "stream",
     "text": [
      "2.84 3.57 1.57 2.41 2.47 3.02 \n"
     ]
    }
   ],
   "source": [
    "try:\n",
    "    fin = open(\"data/scores.csv\",\"r\")\n",
    "    # initilize the output variable for collecting the string \n",
    "    output = \"\"\n",
    "    \n",
    "    for line in fin.readlines():\n",
    "        # remove the newline character from the end\n",
    "        line = line.strip()\n",
    "        \n",
    "        # split the line based on the comma separator\n",
    "        parts = line.split(\",\")\n",
    "        \n",
    "        # convert the rest to integers from strings\n",
    "        values = []\n",
    "        for str_value in parts:\n",
    "            values.append( float(str_value) )\n",
    "            \n",
    "        # concatenate strings of the totol for the value on each line\n",
    "        # สิ่งที่ทำคือประมาณว่า เอา string มาต่อกันเลยอะ\n",
    "        # เพราะ\n",
    "        output = output + \"%.2f \" % (sum(values))\n",
    "        \n",
    "    # finished, so close the file\n",
    "    fin.close()\n",
    "    print(output)\n",
    "except FileNotFoundError:\n",
    "    print(\"Warning: File not found\")  "
   ]
  },
  {
   "cell_type": "code",
   "execution_count": null,
   "metadata": {},
   "outputs": [],
   "source": []
  }
 ],
 "metadata": {
  "kernelspec": {
   "display_name": "Python 3",
   "language": "python",
   "name": "python3"
  },
  "language_info": {
   "codemirror_mode": {
    "name": "ipython",
    "version": 3
   },
   "file_extension": ".py",
   "mimetype": "text/x-python",
   "name": "python",
   "nbconvert_exporter": "python",
   "pygments_lexer": "ipython3",
   "version": "3.7.3"
  }
 },
 "nbformat": 4,
 "nbformat_minor": 2
}
