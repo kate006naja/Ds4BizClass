{
 "cells": [
  {
   "cell_type": "markdown",
   "metadata": {},
   "source": [
    "# Text File Input and Output\n",
    "\n",
    "Term 1 2019 - Instructor: Teerapong Leelanupab\n",
    "\n",
    "Teaching Assistant: Suttida Satjasunsern\n",
    "\n",
    "***"
   ]
  },
  {
   "cell_type": "markdown",
   "metadata": {},
   "source": [
    "### 1. Writing Text Files"
   ]
  },
  {
   "cell_type": "markdown",
   "metadata": {},
   "source": [
    "Files are special types of variables in Python. We can open a file for reading, writing or appending using the built-in *open()* function. The first parameter is the location of the file and the second parameter is the action we want to take: \n",
    "- \"w\" = write\n",
    "- \"r\" = read\n",
    "- \"a\" = append."
   ]
  },
  {
   "cell_type": "markdown",
   "metadata": {},
   "source": [
    "So to open a new file for writing, we call the *open()* function, supply a path for the file and specify the \"w\" action to write.  Note: if the file already exists, it will be completely overwritten!"
   ]
  },
  {
   "cell_type": "code",
   "execution_count": 1,
   "metadata": {},
   "outputs": [
    {
     "data": {
      "text/plain": [
       "<_io.TextIOWrapper name='data.txt' mode='w' encoding='cp1252'>"
      ]
     },
     "execution_count": 1,
     "metadata": {},
     "output_type": "execute_result"
    }
   ],
   "source": [
    "fout = open(\"data.txt\",\"w\")\n",
    "fout"
   ]
  },
  {
   "cell_type": "markdown",
   "metadata": {},
   "source": [
    "Since we just specified \"data.txt\" rather than a complete path, the file will be written to the same directory as our IPython Notebook."
   ]
  },
  {
   "cell_type": "markdown",
   "metadata": {},
   "source": [
    "After opening a file to write, we actually write data using the *write()* function with string formatting. Each call will append more text to the file. Note: new line characters are not automatically added."
   ]
  },
  {
   "cell_type": "code",
   "execution_count": 3,
   "metadata": {},
   "outputs": [
    {
     "data": {
      "text/plain": [
       "<_io.TextIOWrapper name='data.txt' mode='w' encoding='cp1252'>"
      ]
     },
     "execution_count": 3,
     "metadata": {},
     "output_type": "execute_result"
    }
   ],
   "source": [
    "for i in range(1,6):\n",
    "    fout.write( \"Current value of i is %d\\n\" % i )  # note, we add a newline with \\n at the end of each line"
   ]
  },
  {
   "cell_type": "markdown",
   "metadata": {},
   "source": [
    "When we are finished, we need to close the file."
   ]
  },
  {
   "cell_type": "code",
   "execution_count": 4,
   "metadata": {},
   "outputs": [
    {
     "name": "stdout",
     "output_type": "stream",
     "text": [
      "<_io.TextIOWrapper name='data.txt' mode='w' encoding='cp1252'>\n"
     ]
    }
   ],
   "source": [
    "fout.close()\n",
    "print(fout)"
   ]
  },
  {
   "cell_type": "markdown",
   "metadata": {},
   "source": [
    "Once a file is closed, we cannot write any more data to it. Trying to do so will give an error message."
   ]
  },
  {
   "cell_type": "code",
   "execution_count": 5,
   "metadata": {},
   "outputs": [
    {
     "ename": "ValueError",
     "evalue": "I/O operation on closed file.",
     "output_type": "error",
     "traceback": [
      "\u001b[1;31m---------------------------------------------------------------------------\u001b[0m",
      "\u001b[1;31mValueError\u001b[0m                                Traceback (most recent call last)",
      "\u001b[1;32m<ipython-input-5-a2aeb4271b76>\u001b[0m in \u001b[0;36m<module>\u001b[1;34m\u001b[0m\n\u001b[1;32m----> 1\u001b[1;33m \u001b[0mfout\u001b[0m\u001b[1;33m.\u001b[0m\u001b[0mwrite\u001b[0m\u001b[1;33m(\u001b[0m\u001b[1;34m\"More data!\"\u001b[0m\u001b[1;33m)\u001b[0m\u001b[1;33m\u001b[0m\u001b[1;33m\u001b[0m\u001b[0m\n\u001b[0m",
      "\u001b[1;31mValueError\u001b[0m: I/O operation on closed file."
     ]
    }
   ],
   "source": [
    "fout.write(\"More data!\")"
   ]
  },
  {
   "cell_type": "markdown",
   "metadata": {},
   "source": [
    "***\n",
    "### 2. Reading Text Files"
   ]
  },
  {
   "cell_type": "markdown",
   "metadata": {},
   "source": [
    "To open a new file for reading, we use the *open()* function again. Note: if the file does not exist, we will get an error message."
   ]
  },
  {
   "cell_type": "code",
   "execution_count": 31,
   "metadata": {},
   "outputs": [],
   "source": [
    "fin = open(\"data.txt\",\"r\")  # action \"r\" means open file to read"
   ]
  },
  {
   "cell_type": "markdown",
   "metadata": {},
   "source": [
    "After opening a file to read, you can use several functions to access the data. The function *read()* gets the full contents of the file, *readline()* gets a full line of text, and *readlines()* loads all of the text from the file into a list with one value per line."
   ]
  },
  {
   "cell_type": "code",
   "execution_count": 32,
   "metadata": {
    "scrolled": false
   },
   "outputs": [
    {
     "name": "stdout",
     "output_type": "stream",
     "text": [
      "Current value of i is 1\n",
      "Current value of i is 2\n",
      "Current value of i is 3\n",
      "Current value of i is 4\n",
      "Current value of i is 5\n",
      "Current value of i is 1\n",
      "Current value of i is 2\n",
      "Current value of i is 3\n",
      "Current value of i is 4\n",
      "Current value of i is 5\n"
     ]
    }
   ],
   "source": [
    "lines = fin.readlines()\n",
    "for l in lines:\n",
    "    print( l.strip() )  # note that we usually need to remove the newline characters from the end of strings"
   ]
  },
  {
   "cell_type": "code",
   "execution_count": 44,
   "metadata": {},
   "outputs": [
    {
     "ename": "AttributeError",
     "evalue": "'list' object has no attribute 'strip'",
     "output_type": "error",
     "traceback": [
      "\u001b[1;31m---------------------------------------------------------------------------\u001b[0m",
      "\u001b[1;31mAttributeError\u001b[0m                            Traceback (most recent call last)",
      "\u001b[1;32m<ipython-input-44-3f78e83ad3f4>\u001b[0m in \u001b[0;36m<module>\u001b[1;34m\u001b[0m\n\u001b[1;32m----> 1\u001b[1;33m \u001b[0mlines\u001b[0m\u001b[1;33m.\u001b[0m\u001b[0mstrip\u001b[0m\u001b[1;33m(\u001b[0m\u001b[1;33m)\u001b[0m\u001b[1;33m\u001b[0m\u001b[1;33m\u001b[0m\u001b[0m\n\u001b[0m",
      "\u001b[1;31mAttributeError\u001b[0m: 'list' object has no attribute 'strip'"
     ]
    }
   ],
   "source": [
    "lines.strip()"
   ]
  },
  {
   "cell_type": "markdown",
   "metadata": {},
   "source": [
    "Again we close the file when we are finished - this means no more read functions can be called on the file."
   ]
  },
  {
   "cell_type": "code",
   "execution_count": 40,
   "metadata": {},
   "outputs": [],
   "source": [
    "fin.close()"
   ]
  },
  {
   "cell_type": "code",
   "execution_count": 41,
   "metadata": {},
   "outputs": [
    {
     "data": {
      "text/plain": [
       "[(17211426, 'Stephanie Gale'),\n",
       " (16212133, 'Jill Doyle'),\n",
       " (13388136, 'Pat Gilbert'),\n",
       " (17211824, 'Daryl Bishop'),\n",
       " (16216364, 'Carlos Alvarado'),\n",
       " (17211833, 'Alison Rogers'),\n",
       " (17212834, 'Neil Smith'),\n",
       " (13312141, 'Sandra Wright')]"
      ]
     },
     "execution_count": 41,
     "metadata": {},
     "output_type": "execute_result"
    }
   ],
   "source": [
    "#test\n",
    "step = [(17211426, \"Stephanie Gale\"), (16212133,\"Jill Doyle\"), (13388136,\"Pat Gilbert\"), (17211824,\"Daryl Bishop\"), (16216364,\"Carlos Alvarado\"), (17211833,\"Alison Rogers\") ,(17212834,\"Neil Smith\"),\n",
    "(13312141,\"Sandra Wright\")]\n",
    "step"
   ]
  },
  {
   "cell_type": "code",
   "execution_count": 43,
   "metadata": {},
   "outputs": [
    {
     "ename": "AttributeError",
     "evalue": "'tuple' object has no attribute 'strip'",
     "output_type": "error",
     "traceback": [
      "\u001b[1;31m---------------------------------------------------------------------------\u001b[0m",
      "\u001b[1;31mAttributeError\u001b[0m                            Traceback (most recent call last)",
      "\u001b[1;32m<ipython-input-43-9fef170b8ec1>\u001b[0m in \u001b[0;36m<module>\u001b[1;34m\u001b[0m\n\u001b[0;32m      1\u001b[0m \u001b[1;32mfor\u001b[0m \u001b[0mi\u001b[0m \u001b[1;32min\u001b[0m \u001b[0mstep\u001b[0m\u001b[1;33m:\u001b[0m\u001b[1;33m\u001b[0m\u001b[1;33m\u001b[0m\u001b[0m\n\u001b[1;32m----> 2\u001b[1;33m     \u001b[0mi\u001b[0m \u001b[1;33m=\u001b[0m \u001b[0mi\u001b[0m\u001b[1;33m.\u001b[0m\u001b[0mstrip\u001b[0m\u001b[1;33m(\u001b[0m\u001b[1;33m)\u001b[0m\u001b[1;33m\u001b[0m\u001b[1;33m\u001b[0m\u001b[0m\n\u001b[0m",
      "\u001b[1;31mAttributeError\u001b[0m: 'tuple' object has no attribute 'strip'"
     ]
    }
   ],
   "source": [
    "for i in step:\n",
    "    i = i.strip()"
   ]
  },
  {
   "cell_type": "markdown",
   "metadata": {},
   "source": [
    "***\n",
    "### 3. Comma-Separated Files"
   ]
  },
  {
   "cell_type": "markdown",
   "metadata": {},
   "source": [
    "Frequently, simple datasets are stored as *comma-separated value* (CSV) files. In a CSV file, tabular data is stored as plain text. Each line of the file is a record, and each record consists of one or more fields, separated by commas."
   ]
  },
  {
   "cell_type": "markdown",
   "metadata": {},
   "source": [
    "We can manually create a CSV file using the open() and write() functions. "
   ]
  },
  {
   "cell_type": "code",
   "execution_count": 4,
   "metadata": {},
   "outputs": [
    {
     "name": "stdout",
     "output_type": "stream",
     "text": [
      "<_io.TextIOWrapper name='simple.csv' mode='w' encoding='cp1252'>\n",
      "<_io.TextIOWrapper name='simple.csv' mode='w' encoding='cp1252'>\n",
      "<_io.TextIOWrapper name='simple.csv' mode='w' encoding='cp1252'>\n",
      "<_io.TextIOWrapper name='simple.csv' mode='w' encoding='cp1252'>\n",
      "<_io.TextIOWrapper name='simple.csv' mode='w' encoding='cp1252'>\n",
      "<_io.TextIOWrapper name='simple.csv' mode='w' encoding='cp1252'>\n",
      "<_io.TextIOWrapper name='simple.csv' mode='w' encoding='cp1252'>\n",
      "<_io.TextIOWrapper name='simple.csv' mode='w' encoding='cp1252'>\n",
      "<_io.TextIOWrapper name='simple.csv' mode='w' encoding='cp1252'>\n",
      "<_io.TextIOWrapper name='simple.csv' mode='w' encoding='cp1252'>\n"
     ]
    }
   ],
   "source": [
    "fout = open(\"simple.csv\",\"w\")\n",
    "# create the records\n",
    "for row in range(5):\n",
    "    # start the record with an identifier\n",
    "    fout.write(\"record_%d\" % (row+1) )\n",
    "    # create the fields for each record\n",
    "    for col in range(4):\n",
    "        value = (row+1)*(col+1)     # just create some dummy values\n",
    "        fout.write(\",%d\" % value )  # notice the comma separator\n",
    "    # move on to a new line in the file\n",
    "    fout.write(\"\\n\")\n",
    "# finished, so close the file\n",
    "fout.close()    "
   ]
  },
  {
   "cell_type": "markdown",
   "metadata": {},
   "source": [
    "We could just read back the entire file:"
   ]
  },
  {
   "cell_type": "code",
   "execution_count": 42,
   "metadata": {},
   "outputs": [
    {
     "name": "stdout",
     "output_type": "stream",
     "text": [
      "record_1,1,2,3,4\n",
      "record_2,2,4,6,8\n",
      "record_3,3,6,9,12\n",
      "record_4,4,8,12,16\n",
      "record_5,5,10,15,20\n",
      "\n"
     ]
    }
   ],
   "source": [
    "fin = open(\"simple.csv\",\"r\")\n",
    "print( fin.read() )\n",
    "fin.close()"
   ]
  },
  {
   "cell_type": "markdown",
   "metadata": {},
   "source": [
    "But more often, we will want to parse the data into numeric values, line by line:"
   ]
  },
  {
   "cell_type": "code",
   "execution_count": 9,
   "metadata": {},
   "outputs": [
    {
     "name": "stdout",
     "output_type": "stream",
     "text": [
      "record_1 [1, 2, 3, 4]\n",
      "record_2 [2, 4, 6, 8]\n",
      "record_3 [3, 6, 9, 12]\n",
      "record_4 [4, 8, 12, 16]\n",
      "record_5 [5, 10, 15, 20]\n"
     ]
    }
   ],
   "source": [
    "fin = open(\"simple.csv\",\"r\")\n",
    "# process the file line by line\n",
    "for line in fin.readlines():\n",
    "    # remove the newline character from the end\n",
    "    line = line.strip()\n",
    "    # split the line based on the comma separator\n",
    "    parts = line.split(\",\")\n",
    "    # extract the identifier as the first value in the list\n",
    "    record_id = parts[0]\n",
    "    # convert the rest to integers from strings\n",
    "    values = []b\n",
    "    for s in parts[1:]:\n",
    "        values.append( int(s) )\n",
    "    # display the record\n",
    "    print( record_id, values )\n",
    "# finished, so close the file\n",
    "fin.close()"
   ]
  },
  {
   "cell_type": "markdown",
   "metadata": {},
   "source": [
    "Later in the module we will look at more convenient ways for working with CSV data."
   ]
  },
  {
   "cell_type": "code",
   "execution_count": null,
   "metadata": {},
   "outputs": [],
   "source": []
  }
 ],
 "metadata": {
  "kernelspec": {
   "display_name": "Python 3",
   "language": "python",
   "name": "python3"
  },
  "language_info": {
   "codemirror_mode": {
    "name": "ipython",
    "version": 3
   },
   "file_extension": ".py",
   "mimetype": "text/x-python",
   "name": "python",
   "nbconvert_exporter": "python",
   "pygments_lexer": "ipython3",
   "version": "3.7.3"
  }
 },
 "nbformat": 4,
 "nbformat_minor": 1
}
