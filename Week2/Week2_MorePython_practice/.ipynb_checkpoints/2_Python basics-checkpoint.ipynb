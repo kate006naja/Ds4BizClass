{
 "cells": [
  {
   "cell_type": "markdown",
   "metadata": {},
   "source": [
    "# Python basics\n",
    "\n",
    "\n",
    "Term 1 2019 - Instructors: Teerapong Leelanupab\n",
    "\n",
    "Teaching Assistant: Suttida Satjasunsern\n",
    "\n",
    "***"
   ]
  },
  {
   "cell_type": "markdown",
   "metadata": {},
   "source": [
    "This notebook shows examples of Python code, including built-in functions, packages and programming structures useful for Data Science and Business Analytics. This should be review for you all!  At the bottom there are some pointers to a few resources."
   ]
  },
  {
   "cell_type": "markdown",
   "metadata": {},
   "source": [
    "## Python code\n",
    "\n",
    "***"
   ]
  },
  {
   "cell_type": "markdown",
   "metadata": {},
   "source": [
    "### 1. Variables, operations and data types\n",
    "\n",
    "**Variable**: A container in memory, which has a unique name or identifier, where you can store data.\n",
    "Start using the variable by assigning it a value, where the *=* symbol denotes *assignment*. The data can be of a variety of types: \n",
    "\n",
    "- Integer numbers\n",
    "- Floating (decimal numbers)\n",
    "- Strings\n",
    "\n",
    "Let's create three variables, one of each type, with 3 different names:"
   ]
  },
  {
   "cell_type": "code",
   "execution_count": null,
   "metadata": {},
   "outputs": [],
   "source": [
    "some_integer = 5\n",
    "some_float = 7.12\n",
    "some_string = \"Student\""
   ]
  },
  {
   "cell_type": "markdown",
   "metadata": {},
   "source": [
    "Python has a number of variable naming rules:\n",
    "* Can contain both letters and numbers, but must begin with a letter.\n",
    "* Can contain the underscore character. \n",
    "* Must not clash with reserved keywords.\n",
    "\n",
    "These can seen from the above examples."
   ]
  },
  {
   "cell_type": "markdown",
   "metadata": {},
   "source": [
    "We can print out the value in these variables using the *print* function - note the use of parentheses.\n",
    "Remember we need to run the previous cell first!"
   ]
  },
  {
   "cell_type": "code",
   "execution_count": null,
   "metadata": {},
   "outputs": [],
   "source": [
    "print (some_integer)\n",
    "print (some_float)\n",
    "print (some_string)"
   ]
  },
  {
   "cell_type": "markdown",
   "metadata": {},
   "source": [
    "Each variable also has a type, indicating the nature of the value that it stores."
   ]
  },
  {
   "cell_type": "code",
   "execution_count": null,
   "metadata": {},
   "outputs": [],
   "source": [
    "print(type (some_integer))\n",
    "print(type (some_float))\n",
    "print(type (some_string))"
   ]
  },
  {
   "cell_type": "code",
   "execution_count": null,
   "metadata": {},
   "outputs": [],
   "source": [
    "type(\"KMITL\")"
   ]
  },
  {
   "cell_type": "markdown",
   "metadata": {},
   "source": [
    "Numeric data can be *integers* (whole numbers) or *floats* (real values):"
   ]
  },
  {
   "cell_type": "code",
   "execution_count": null,
   "metadata": {},
   "outputs": [],
   "source": [
    "a = 3\n",
    "b = -125\n",
    "fx = 0.432\n",
    "fy = -24.23"
   ]
  },
  {
   "cell_type": "markdown",
   "metadata": {},
   "source": [
    "*Boolean* values can be indicated by *True* or *False* - case sensitive! Can alternatively we can use '1' and '0'"
   ]
  },
  {
   "cell_type": "code",
   "execution_count": null,
   "metadata": {},
   "outputs": [],
   "source": [
    "answer = True\n",
    "test_value = False"
   ]
  },
  {
   "cell_type": "markdown",
   "metadata": {},
   "source": [
    "A *string* value containing text is enclosed within either single quotes or double quotes - make sure you end with the same character: "
   ]
  },
  {
   "cell_type": "code",
   "execution_count": null,
   "metadata": {},
   "outputs": [],
   "source": [
    "some_text = \"hello world\"\n",
    "moredata = 'King Mongkut\\'s Institute of Technology Ladkrabang, Thailand'"
   ]
  },
  {
   "cell_type": "markdown",
   "metadata": {},
   "source": [
    "We also use a special value *None* to indicate a variable containing an empty or \"null\" value:"
   ]
  },
  {
   "cell_type": "code",
   "execution_count": null,
   "metadata": {},
   "outputs": [],
   "source": [
    "current_value = None"
   ]
  },
  {
   "cell_type": "markdown",
   "metadata": {},
   "source": [
    "***\n",
    "### 2. Operators and Expressions\n",
    "\n",
    "Python can be used as a simple calculator. It supports all basic mathematical operators, such as +, -, *, /\n",
    "\n",
    "We can use combinations of these operators and values to create *expressions*, which are the building blocks of Python code."
   ]
  },
  {
   "cell_type": "code",
   "execution_count": null,
   "metadata": {},
   "outputs": [],
   "source": [
    "a = 4 * 3 + 2\n",
    "a"
   ]
  },
  {
   "cell_type": "code",
   "execution_count": null,
   "metadata": {},
   "outputs": [],
   "source": [
    "b = a - 2\n",
    "b"
   ]
  },
  {
   "cell_type": "markdown",
   "metadata": {},
   "source": [
    "We can also use operators to perform assignment and an operation on the same variable. Note that these lines include *comments* - everything from # onwards is ignored."
   ]
  },
  {
   "cell_type": "code",
   "execution_count": null,
   "metadata": {},
   "outputs": [],
   "source": [
    "a += 2   # add 2 to the value currently in a and assign it back to a\n",
    "b -= 1   # subtract 1 from the value currently in b and assign it back to b"
   ]
  },
  {
   "cell_type": "markdown",
   "metadata": {},
   "source": [
    "Parentheses can be used to control the *order* in which operators are applied:"
   ]
  },
  {
   "cell_type": "code",
   "execution_count": null,
   "metadata": {},
   "outputs": [],
   "source": [
    "4 + 10 / 2  # Division will normally be applied first"
   ]
  },
  {
   "cell_type": "code",
   "execution_count": null,
   "metadata": {},
   "outputs": [],
   "source": [
    "(4 + 10)/2  # Use parenthesis to apply addition first, then division"
   ]
  },
  {
   "cell_type": "markdown",
   "metadata": {},
   "source": [
    "There are also other operators, such as %,// and ** (modulo, floor division and ‘to the power’)"
   ]
  },
  {
   "cell_type": "code",
   "execution_count": null,
   "metadata": {},
   "outputs": [],
   "source": [
    "3**2"
   ]
  },
  {
   "cell_type": "markdown",
   "metadata": {},
   "source": [
    "***\n",
    "\n",
    "### 3. Boolean Expressions\n",
    "\n",
    "Any value or variable in Python can be tested for a 'truth value'. These will yield a value of True or False, depending on what we are testing - e.g. equality, inequality, greater/less than"
   ]
  },
  {
   "cell_type": "code",
   "execution_count": null,
   "metadata": {},
   "outputs": [],
   "source": [
    "x = 75 # don't confuse assignment with equality!"
   ]
  },
  {
   "cell_type": "code",
   "execution_count": null,
   "metadata": {},
   "outputs": [],
   "source": [
    "x == 75 # test for equality"
   ]
  },
  {
   "cell_type": "code",
   "execution_count": null,
   "metadata": {},
   "outputs": [],
   "source": [
    "x == 100 # test for equality"
   ]
  },
  {
   "cell_type": "code",
   "execution_count": null,
   "metadata": {},
   "outputs": [],
   "source": [
    "x != 100 # test for inequality"
   ]
  },
  {
   "cell_type": "code",
   "execution_count": null,
   "metadata": {},
   "outputs": [],
   "source": [
    "x < 1000 # less than"
   ]
  },
  {
   "cell_type": "code",
   "execution_count": null,
   "metadata": {},
   "outputs": [],
   "source": [
    "x > 0 # greater than"
   ]
  },
  {
   "cell_type": "markdown",
   "metadata": {},
   "source": [
    "Python contains boolean operators to create more complex boolean expressions:\n",
    "* *not x*: returns True if x is True, False otherwise\n",
    "* *x and y*: if both x and y are True then return True, otherwise False\n",
    "* *x or y*: if either x or y are True then return True, otherwise False"
   ]
  },
  {
   "cell_type": "code",
   "execution_count": null,
   "metadata": {},
   "outputs": [],
   "source": [
    "True and True"
   ]
  },
  {
   "cell_type": "code",
   "execution_count": null,
   "metadata": {},
   "outputs": [],
   "source": [
    "True and False"
   ]
  },
  {
   "cell_type": "code",
   "execution_count": null,
   "metadata": {},
   "outputs": [],
   "source": [
    "True or False"
   ]
  },
  {
   "cell_type": "code",
   "execution_count": null,
   "metadata": {},
   "outputs": [],
   "source": [
    "not True"
   ]
  },
  {
   "cell_type": "code",
   "execution_count": null,
   "metadata": {},
   "outputs": [],
   "source": [
    "x > 0 and x < 100"
   ]
  },
  {
   "cell_type": "markdown",
   "metadata": {},
   "source": [
    "***\n",
    "### 4. Display Variables in Different Contexts and Combinations with Operators\n",
    "\n",
    "What if I want to print some text and then some numbers? One easy way to do this is to realize that printing will always **want** string data. \n",
    "\n",
    "If you have data that is not a string (like an integer or float), you can **convert** it to a string: "
   ]
  },
  {
   "cell_type": "code",
   "execution_count": null,
   "metadata": {},
   "outputs": [],
   "source": [
    "print (\"My integer is \" + str(some_integer) + \".\")\n",
    "print (\"My float converted into integer is \" + str( int(some_float) ) + \".\")"
   ]
  },
  {
   "cell_type": "markdown",
   "metadata": {},
   "source": [
    "What else can we do with our variables? We can do basic math: **operations**."
   ]
  },
  {
   "cell_type": "code",
   "execution_count": null,
   "metadata": {},
   "outputs": [],
   "source": [
    "print (\"sum \" + str( some_integer + some_float ))\n",
    "print (\"multiplication \" + str ( some_integer * some_float ))\n",
    "print (\"quotient \" + str( some_integer / some_float ))\n",
    "print (\"power \" + str( 10**some_integer ))"
   ]
  },
  {
   "cell_type": "markdown",
   "metadata": {},
   "source": [
    "We can store this as a new variable and print it:"
   ]
  },
  {
   "cell_type": "code",
   "execution_count": null,
   "metadata": {},
   "outputs": [],
   "source": [
    "my_sum = some_integer + some_float\n",
    "print (\"Sum variable: \" + str( my_sum ))"
   ]
  },
  {
   "cell_type": "markdown",
   "metadata": {},
   "source": [
    "***\n",
    "\n",
    "### 5. Data Strcutures\n",
    "\n",
    "There are also other **data structures**:\n",
    "\n",
    "- **Lists** (sometimes refered to as \"arrays\", but look up the difference). Although lists are similar to NumPy arrays, they do not have the specialized properties and tools that make arrays so powerful for scientific computing. You will see NumPy arrays later in subsequent lectures in this course.\n",
    "- **Dictionaries** (sometimes refered to as \"associative arrays\" or \"HashMap\" in Java). Dictionaries are an important part of core Python. Like lists, but the elements of dictionaries are accessed by “keys”, which can be either strings or (arbitrary) integers (in no particular order). \n",
    "- **Sets**. (sometimes refered to as \"HashSet\" in Java) A set is an unordered and unindexed collection of of unique elements. In Python sets are written with curly brackets or set() constructor.\n"
   ]
  },
  {
   "cell_type": "code",
   "execution_count": null,
   "metadata": {},
   "outputs": [],
   "source": [
    "some_list = [0,0,1,2,3,3,4.5,7.6]  \n",
    "some_dictionary = {'student1': '(929)-000-0000', 'student2': '(917)-000-0000', 'student3': '(470)-000-0000'}\n",
    "some_set = set( [1,2,4,4,5,5] ) # like \"some_set = {1,2,4,4,5,5}\"\"\n",
    "\n",
    "print (\"This is a list:  \" + str(some_list))\n",
    "print (\"This is a dictionary:  \" + str( some_dictionary ))\n",
    "print (\"This is a set:  \" + str( some_set ))"
   ]
  },
  {
   "cell_type": "markdown",
   "metadata": {},
   "source": [
    "How can we use  **individual** elements? \n",
    "\n",
    "In Python (and generally by computer science convention), we count elements of a _list_ starting from zero! To get the first item we should look in the 0th space:\n"
   ]
  },
  {
   "cell_type": "code",
   "execution_count": null,
   "metadata": {},
   "outputs": [],
   "source": [
    "print (some_list[0])"
   ]
  },
  {
   "cell_type": "markdown",
   "metadata": {},
   "source": [
    "Adding things to the end of the list is \"appending\" them:"
   ]
  },
  {
   "cell_type": "code",
   "execution_count": null,
   "metadata": {},
   "outputs": [],
   "source": [
    "some_list.append(500)\n",
    "print (some_list)"
   ]
  },
  {
   "cell_type": "markdown",
   "metadata": {},
   "source": [
    "How can we retrieve an element (**VALUE**) of a _dictionary_ ?  Use its **\"KEY\"** !! "
   ]
  },
  {
   "cell_type": "code",
   "execution_count": null,
   "metadata": {},
   "outputs": [],
   "source": [
    "print (some_dictionary['student1'])"
   ]
  },
  {
   "cell_type": "markdown",
   "metadata": {},
   "source": [
    "***\n",
    "\n",
    "### 6. Formatting Outputs\n",
    "\n",
    "There are various ways of creating outputs formatted as desired by using *print* function with the placeholder `%`.\n",
    "\n",
    "For more customizable string creation and printing, python also includes rich formatting capability that may be familiar to developers of other high-level programming language. Some examples are below. In a nutshell, one adds placeholders to the string being constructed. These placeholders always start with a `%` followed by some additional information that determines how the data will be formatted. After the string, another `%` is used, followed by the acutal data that is to be inserted in the prior placeholders. The full capabilities of python string formatting are beyond the scope of this primer, for more info, please consult the [offical documentation](https://docs.python.org/2/library/stdtypes.html#string-formatting) or [outputs with print](https://www.python-course.eu/python3_formatted_output.php)."
   ]
  },
  {
   "cell_type": "code",
   "execution_count": null,
   "metadata": {},
   "outputs": [],
   "source": [
    "print (\"generic %s formatting, equivalent to the str() functionality seen earlier\" % \"STRING\")\n",
    "print (\"an example with zero padding an integer %03d and multiple %s\" % (5, \"PLACEHOLDERS\"))\n",
    "print (\"often one wants to truncate the precision when displaying floats %.3f\" % 3.1415926536)"
   ]
  },
  {
   "cell_type": "markdown",
   "metadata": {},
   "source": [
    "***\n",
    "\n",
    "### 7. Create functions"
   ]
  },
  {
   "cell_type": "markdown",
   "metadata": {},
   "source": [
    "Functions allow us to execute predefined operations and to define our own operations that will be available later.  They encapsulate procedures. If we know we are likely to execute some operation many times, we may want to save time, to avoid repeated code, and often to clarify what we are doing.  To do this, we would define a function.  \n",
    "\n",
    "(*If you haven't thought this through before, consider the drawback of repeated code: what if later you realize that you need to fix something in that code block.  You'd have to go through and fix it everywhere.*) \n",
    "\n",
    "For example, consider having to calculate the area of a circle."
   ]
  },
  {
   "cell_type": "code",
   "execution_count": null,
   "metadata": {},
   "outputs": [],
   "source": [
    "def area_of_a_circle(radius):\n",
    "    area = 3.1416 * radius ** 2\n",
    "    return area"
   ]
  },
  {
   "cell_type": "code",
   "execution_count": null,
   "metadata": {},
   "outputs": [],
   "source": [
    "circle_area = area_of_a_circle(5)\n",
    "print (\"Area of a circle with radius 5 is: \" + str( circle_area))"
   ]
  },
  {
   "cell_type": "markdown",
   "metadata": {},
   "source": [
    "Can you see what is going on here? My function that I helpfully named `\"area_of_a_circle\"` takes one **argument** that we will call radius. It then uses this radius to get the area and then *returns* it. Now, whenever I want to get the area of some circle, I simply call `area_of_a_circle()` and place the radius in the middle of the parentheses."
   ]
  },
  {
   "cell_type": "markdown",
   "metadata": {},
   "source": [
    "***\n",
    "\n",
    "### 8. Loops / iterations"
   ]
  },
  {
   "cell_type": "markdown",
   "metadata": {},
   "source": [
    "For data analysis we do a lot of repetitive things. This doesn't mean we need to do a ton of copy and pasting, though. We can use **loops** to make this easy. As a very simple example, what if we wanted to square each number from 1 to 5?"
   ]
  },
  {
   "cell_type": "code",
   "execution_count": null,
   "metadata": {},
   "outputs": [],
   "source": [
    "for number in [1, 2, 3, 4, 5]:\n",
    "    print (number * number)"
   ]
  },
  {
   "cell_type": "markdown",
   "metadata": {},
   "source": [
    "Let's use the function we did before. Remember this is a function that can only be used in **this notebook** \n",
    "\n",
    "( unless we write a **\"script\"** file, but we'll see that later... ):"
   ]
  },
  {
   "cell_type": "code",
   "execution_count": null,
   "metadata": {},
   "outputs": [],
   "source": [
    "for number in [1, 2, 3, 4, 5]:\n",
    "    print (\"Area of circle with radius \" + str(number) + \" is: \" + str( area_of_a_circle(number) ))"
   ]
  },
  {
   "cell_type": "markdown",
   "metadata": {},
   "source": [
    "***\n",
    "\n",
    "### 9. Conditionals and comparisons"
   ]
  },
  {
   "cell_type": "markdown",
   "metadata": {},
   "source": [
    "Sometimes we need to check something before deciding what to do next. For example,"
   ]
  },
  {
   "cell_type": "code",
   "execution_count": null,
   "metadata": {},
   "outputs": [],
   "source": [
    "def is_best_prof(name):\n",
    "    if name == \"Teerapong\":\n",
    "        return True\n",
    "    else:\n",
    "        return False"
   ]
  },
  {
   "cell_type": "code",
   "execution_count": null,
   "metadata": {},
   "outputs": [],
   "source": [
    "print (is_best_prof(\"Teerapong\"))"
   ]
  },
  {
   "cell_type": "code",
   "execution_count": null,
   "metadata": {},
   "outputs": [],
   "source": [
    "print (is_best_prof(\"Thanos\"))"
   ]
  },
  {
   "cell_type": "code",
   "execution_count": null,
   "metadata": {},
   "outputs": [],
   "source": [
    "my_prof = \"Teerapong\"\n",
    "if is_best_prof(my_prof):\n",
    "    print(\"You're going to have a great semester!\")\n",
    "else:\n",
    "    print(\"Well, make the best of it!\")"
   ]
  },
  {
   "cell_type": "markdown",
   "metadata": {},
   "source": [
    "You see in that last one how we have a conditional in the cell, and then call a function that has a conditional inside it?  \n",
    "\n",
    "Let's put a whole bunch of these things together:"
   ]
  },
  {
   "cell_type": "code",
   "execution_count": null,
   "metadata": {},
   "outputs": [],
   "source": [
    "my_profs = [\"Thanos\", \"Kaido\", \"Bigmom\", \"BlackBeard\", \"Teerapong\"]\n",
    "one_best = False\n",
    "for prof in my_profs:\n",
    "    if is_best_prof(prof):\n",
    "        one_best = True\n",
    "if one_best:\n",
    "    print(\"You're going to have a great semester!\")\n",
    "else:\n",
    "    print(\"Well, make the best of it!\")"
   ]
  },
  {
   "cell_type": "markdown",
   "metadata": {},
   "source": [
    "As we can see here, we made **comparison** of names with the \"equal\" operation  (==).  Remember ... it's == not just = !\n",
    "\n",
    "Other comparisons:\n",
    "\n",
    "- strictly less than  < \n",
    "- less than or equal  <=\n",
    "- strictly greater than  >\n",
    "- greater than or equal  >=\n",
    "- not equal  !=\n",
    "- object identity  \"is\"\n",
    "- negated object identity \"is not\"\n",
    "\n",
    "What if we want to compare more than one element? \n",
    "We should include logical operations such as:\n",
    "\n",
    "- \"and\", also known as \"&&\" \n",
    "- \"or\", also known as \"||\"\n",
    "\n",
    "Let's see if you can guess my age with this function!!\n"
   ]
  },
  {
   "cell_type": "code",
   "execution_count": null,
   "metadata": {},
   "outputs": [],
   "source": [
    "def is_my_age(age_argument):\n",
    "    if age_argument < 20:\n",
    "        return \"Of course not!\"\n",
    "    elif (age_argument >= 20) & (age_argument <= 40):\n",
    "        return \"Maybe..\"\n",
    "    elif age_argument > 40:\n",
    "        return \"Don't even think about it!\""
   ]
  },
  {
   "cell_type": "code",
   "execution_count": null,
   "metadata": {},
   "outputs": [],
   "source": [
    "print (is_my_age(10))"
   ]
  },
  {
   "cell_type": "code",
   "execution_count": null,
   "metadata": {},
   "outputs": [],
   "source": [
    "print (is_my_age(23))"
   ]
  },
  {
   "cell_type": "code",
   "execution_count": null,
   "metadata": {},
   "outputs": [],
   "source": [
    "print (is_my_age(80))"
   ]
  },
  {
   "cell_type": "markdown",
   "metadata": {},
   "source": [
    "## Help, help, and more help!"
   ]
  },
  {
   "cell_type": "markdown",
   "metadata": {},
   "source": [
    "- [Codecademy's Python Course](https://www.codecademy.com/learn/learn-python-3). Working though this class will give you a _great_ foundation for Python.\n",
    "- [Diving into Python](http://diveinto.org/python3/) online book. Working your way from chapter 1 through chapter 5 would put you in a very nice place!\n",
    "- [Python for Data Analysis](https://www.amazon.com/Python-Data-Analysis-Wrangling-IPython-ebook/dp/B009NLMB8Q/ref=mt_kindle?_encoding=UTF8&me=) was the book that Prof. Foster suggested to prior iterations of this course. You can take a look at the chapters: Preliminaries, Introductory Examples (e.g. \"Counting Time Zones with pandas”), IPython (page 46 to 62) and specially, Pandas--one of the main Python packages for data analysis.  We will work with Pandas in class.\n",
    "- [Pandas Cookbook](https://www.amazon.com/Pandas-Cookbook-Scientific-Computing-Visualization/dp/1784393878) is another great resource to learn Pandas. It has lots of practice problems with detailed solutions in IPython notebooks.\n",
    "\n",
    "\n",
    "If you are ever stuck just remember: it is normal. This is actually how professional programmers work every day. Google is your best friend. `stackoverflow`, a popular programming question and answer site, has an extremely rich repository of solutions to problems that people have encountered, and many capable participants provide answers to those mysterious and rare problems that have not been addressed before. Just remember to look thoroughly before you ask! \n",
    "\n",
    "Finally, programming is a creative process- it can't be brute forced. It's natural to get stuck or frustrated from time to time, even with the incredible resources that are now available. Imagine an author trying to find the perfect paragraph to describe a character. In these situations, I like to go for a walk, listen to some music, or get some exercise. Anything to clear my head. From experience, many seemingly hard programming problems have become solvable only after introducing some fresh perspective, and being stuck while beating your head on the keyboard just isn't fun. "
   ]
  }
 ],
 "metadata": {
  "kernelspec": {
   "display_name": "Python 3",
   "language": "python",
   "name": "python3"
  },
  "language_info": {
   "codemirror_mode": {
    "name": "ipython",
    "version": 3
   },
   "file_extension": ".py",
   "mimetype": "text/x-python",
   "name": "python",
   "nbconvert_exporter": "python",
   "pygments_lexer": "ipython3",
   "version": "3.6.8"
  }
 },
 "nbformat": 4,
 "nbformat_minor": 1
}
